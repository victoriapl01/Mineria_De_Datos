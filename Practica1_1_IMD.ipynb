{
  "nbformat": 4,
  "nbformat_minor": 0,
  "metadata": {
    "colab": {
      "provenance": []
    },
    "kernelspec": {
      "name": "python3",
      "display_name": "Python 3"
    },
    "language_info": {
      "name": "python"
    }
  },
  "cells": [
    {
      "cell_type": "code",
      "execution_count": 1,
      "metadata": {
        "id": "ftoLybuWn20j"
      },
      "outputs": [],
      "source": [
        "import pandas as pd\n",
        "import numpy as np\n",
        "#Método de clasificación KNN (vecino más cercano)\n",
        "from sklearn.neighbors import KNeighborsClassifier\n",
        "#Método de clasifiación DecisionTree (árbol de decision)\n",
        "from sklearn.tree import DecisionTreeClassifier\n",
        "#Uso de gráficas y representación de datos\n",
        "import matplotlib.pyplot as plt\n"
      ]
    },
    {
      "cell_type": "code",
      "source": [
        "#Lectura de Dataset haciendo uso de URL de github y el nombre de las columnas\n",
        "def readDataset(file,columns):\n",
        "  dataset=pd.read_csv(file, header=None, names=columns)\n",
        "  return dataset"
      ],
      "metadata": {
        "id": "Ydir4adS10VG"
      },
      "execution_count": 2,
      "outputs": []
    },
    {
      "cell_type": "code",
      "source": [
        "from sklearn.model_selection import train_test_split\n",
        "#Metrics like accuracy_score or confusion matrix\n",
        "from sklearn import metrics\n",
        "from sklearn.preprocessing import StandardScaler\n",
        "from sklearn.decomposition import PCA\n",
        "from sklearn.impute import SimpleImputer\n",
        "from sklearn.experimental import enable_iterative_imputer\n",
        "from sklearn.impute import IterativeImputer"
      ],
      "metadata": {
        "id": "2guTZS0Q_0lq"
      },
      "execution_count": 3,
      "outputs": []
    },
    {
      "cell_type": "code",
      "source": [
        "#Modelos a utilizar en esta práctica\n",
        "tree=DecisionTreeClassifier()\n",
        "knn=KNeighborsClassifier(n_neighbors=5)"
      ],
      "metadata": {
        "id": "sAU8i58Wi356"
      },
      "execution_count": 4,
      "outputs": []
    },
    {
      "cell_type": "code",
      "source": [
        "#Compute accuracy of model\n",
        "def accuracyDataset(features, label, model): \n",
        "  accuracy=0\n",
        "  #Split into random train and test subsets\n",
        "  X_train, X_test, y_train, y_test = train_test_split(features, label, test_size=0.2, random_state=1)\n",
        "  #Entrenamiento de datos de entrenamiento\n",
        "  model.fit(X_train,y_train)\n",
        "  #Predice salidas de los datos test\n",
        "  y_pred = model.predict(X_test)\n",
        "  #Calcula precisión del modelo\n",
        "  accuracy = metrics.accuracy_score(y_test, y_pred)\n",
        "  return accuracy"
      ],
      "metadata": {
        "id": "9c3oRycJBUHI"
      },
      "execution_count": 5,
      "outputs": []
    },
    {
      "cell_type": "code",
      "source": [
        "def accuracyStandarizeDataset(dataset,features,label,model,n):\n",
        "     precision =0\n",
        "     #Split into random train and test subsets\n",
        "     X_train, X_test, y_train, y_test = train_test_split(features, label, test_size=0.2, random_state=1)\n",
        "     # Standardize the data\n",
        "     scaler = StandardScaler()\n",
        "     scaler.fit(X_train)\n",
        "     X_train = scaler.transform(X_train)\n",
        "     X_test = scaler.transform(X_test)\n",
        "     # Aplicamos PCA de n dimensiones\n",
        "     pca=PCA(n_components=n)\n",
        "     pca.fit(X_train)\n",
        "     # Fit and transform data 2D\n",
        "     X_train = pca.fit_transform(X_train)\n",
        "     X_test = pca.transform(X_test)\n",
        "     #Volvemos a realizar la función de accuracyDataset\n",
        "     # Entrenamos el modelo\n",
        "     model.fit(X_train,y_train)\n",
        "     # Predicciones del modelo\n",
        "     y_pred = model.predict(X_test)\n",
        "     # Calculamos la precision del modelo\n",
        "     precision = metrics.accuracy_score(y_test,y_pred)\n",
        "     return precision"
      ],
      "metadata": {
        "id": "NX0KQlLwRyNS"
      },
      "execution_count": 6,
      "outputs": []
    },
    {
      "cell_type": "code",
      "source": [
        "def accuracyGraphic(datasets, first_accuracy, second_accuracy, first_model, second_model):\n",
        "  plt.plot(datasets, first_accuracy, label=first_model+'_accuracy')\n",
        "  plt.plot(datasets, second_accuracy, label=second_model+'_accuracy')\n",
        "  plt.xlabel('Datasets')\n",
        "  plt.ylabel('Accuracy')\n",
        "  plt.title(first_model+'vs'+second_model)\n",
        "  plt.legend()\n",
        "  plt.show()"
      ],
      "metadata": {
        "id": "Lgsr6f2WUKeN"
      },
      "execution_count": 9,
      "outputs": []
    },
    {
      "cell_type": "code",
      "source": [
        "def errorGraphic(datasets, first_error, second_error, first_model, second_model):\n",
        "  plt.plot(datasets, first_error, label=first_model+'_error')\n",
        "  plt.plot(datasets, second_error, label=second_model+'_error')\n",
        "  plt.xlabel('Datasets')\n",
        "  plt.ylabel('Error')\n",
        "  plt.title(first_model+'vs'+second_model)\n",
        "  plt.legend()\n",
        "  plt.show()"
      ],
      "metadata": {
        "id": "RQuBQlECVRt7"
      },
      "execution_count": 10,
      "outputs": []
    },
    {
      "cell_type": "code",
      "source": [
        "from sklearn.metrics import confusion_matrix\n",
        "def confusionMatrix(model, features, label):\n",
        "  X_train, X_test, y_train, y_test = train_test_split(features, label, test_size=0.2, random_state=1)\n",
        "  model.fit(X_train,y_train)\n",
        "  y_pred = model.predict(X_test)\n",
        "  print(confusion_matrix(y_test,y_pred))"
      ],
      "metadata": {
        "id": "5FDPrF2VVp_r"
      },
      "execution_count": 11,
      "outputs": []
    },
    {
      "cell_type": "markdown",
      "source": [
        "### **1. Obtenga 5 ejemplos de ficheros de datos en formato CSV, ARFF u otro cualquiera de Weka datasets, UCI MLR**\n"
      ],
      "metadata": {
        "id": "UhLkgUmGdoJm"
      }
    },
    {
      "cell_type": "markdown",
      "source": [
        "**Dataset Iris:** conjunto de datos que contiene tres clases de 50 instancias cada una, donde cada clase se refiere a un tipo de planta de iris. Una clase es linealmente separable de las otras 2, pero las dos últimas no son linealmente separables entre sí"
      ],
      "metadata": {
        "id": "0m5xtzVieTv6"
      }
    },
    {
      "cell_type": "code",
      "source": [
        "#Iris Data set\n",
        "columnas=['sepal length (cm)', 'sepal width (cm)', 'petal length (cm)', 'petal width (cm)', 'class']\n",
        "iris_features=['sepal length (cm)', 'sepal width (cm)', 'petal length (cm)', 'petal width (cm)']\n",
        "iris= readDataset('https://raw.githubusercontent.com/victoriapl01/Mineria_De_Datos/main/Datasets/iris.data', columnas)\n",
        "iris_X= iris[iris_features]\n",
        "iris_y= iris['class']\n",
        "iris.head()"
      ],
      "metadata": {
        "colab": {
          "base_uri": "https://localhost:8080/",
          "height": 206
        },
        "id": "c2La3nCP5jmX",
        "outputId": "aec77865-f90a-4802-d9bb-0717bb59cc91"
      },
      "execution_count": 12,
      "outputs": [
        {
          "output_type": "execute_result",
          "data": {
            "text/plain": [
              "   sepal length (cm)  sepal width (cm)  petal length (cm)  petal width (cm)  \\\n",
              "0                5.1               3.5                1.4               0.2   \n",
              "1                4.9               3.0                1.4               0.2   \n",
              "2                4.7               3.2                1.3               0.2   \n",
              "3                4.6               3.1                1.5               0.2   \n",
              "4                5.0               3.6                1.4               0.2   \n",
              "\n",
              "         class  \n",
              "0  Iris-setosa  \n",
              "1  Iris-setosa  \n",
              "2  Iris-setosa  \n",
              "3  Iris-setosa  \n",
              "4  Iris-setosa  "
            ],
            "text/html": [
              "\n",
              "  <div id=\"df-c9da9ad3-5968-466b-94a1-fc85e407f176\">\n",
              "    <div class=\"colab-df-container\">\n",
              "      <div>\n",
              "<style scoped>\n",
              "    .dataframe tbody tr th:only-of-type {\n",
              "        vertical-align: middle;\n",
              "    }\n",
              "\n",
              "    .dataframe tbody tr th {\n",
              "        vertical-align: top;\n",
              "    }\n",
              "\n",
              "    .dataframe thead th {\n",
              "        text-align: right;\n",
              "    }\n",
              "</style>\n",
              "<table border=\"1\" class=\"dataframe\">\n",
              "  <thead>\n",
              "    <tr style=\"text-align: right;\">\n",
              "      <th></th>\n",
              "      <th>sepal length (cm)</th>\n",
              "      <th>sepal width (cm)</th>\n",
              "      <th>petal length (cm)</th>\n",
              "      <th>petal width (cm)</th>\n",
              "      <th>class</th>\n",
              "    </tr>\n",
              "  </thead>\n",
              "  <tbody>\n",
              "    <tr>\n",
              "      <th>0</th>\n",
              "      <td>5.1</td>\n",
              "      <td>3.5</td>\n",
              "      <td>1.4</td>\n",
              "      <td>0.2</td>\n",
              "      <td>Iris-setosa</td>\n",
              "    </tr>\n",
              "    <tr>\n",
              "      <th>1</th>\n",
              "      <td>4.9</td>\n",
              "      <td>3.0</td>\n",
              "      <td>1.4</td>\n",
              "      <td>0.2</td>\n",
              "      <td>Iris-setosa</td>\n",
              "    </tr>\n",
              "    <tr>\n",
              "      <th>2</th>\n",
              "      <td>4.7</td>\n",
              "      <td>3.2</td>\n",
              "      <td>1.3</td>\n",
              "      <td>0.2</td>\n",
              "      <td>Iris-setosa</td>\n",
              "    </tr>\n",
              "    <tr>\n",
              "      <th>3</th>\n",
              "      <td>4.6</td>\n",
              "      <td>3.1</td>\n",
              "      <td>1.5</td>\n",
              "      <td>0.2</td>\n",
              "      <td>Iris-setosa</td>\n",
              "    </tr>\n",
              "    <tr>\n",
              "      <th>4</th>\n",
              "      <td>5.0</td>\n",
              "      <td>3.6</td>\n",
              "      <td>1.4</td>\n",
              "      <td>0.2</td>\n",
              "      <td>Iris-setosa</td>\n",
              "    </tr>\n",
              "  </tbody>\n",
              "</table>\n",
              "</div>\n",
              "      <button class=\"colab-df-convert\" onclick=\"convertToInteractive('df-c9da9ad3-5968-466b-94a1-fc85e407f176')\"\n",
              "              title=\"Convert this dataframe to an interactive table.\"\n",
              "              style=\"display:none;\">\n",
              "        \n",
              "  <svg xmlns=\"http://www.w3.org/2000/svg\" height=\"24px\"viewBox=\"0 0 24 24\"\n",
              "       width=\"24px\">\n",
              "    <path d=\"M0 0h24v24H0V0z\" fill=\"none\"/>\n",
              "    <path d=\"M18.56 5.44l.94 2.06.94-2.06 2.06-.94-2.06-.94-.94-2.06-.94 2.06-2.06.94zm-11 1L8.5 8.5l.94-2.06 2.06-.94-2.06-.94L8.5 2.5l-.94 2.06-2.06.94zm10 10l.94 2.06.94-2.06 2.06-.94-2.06-.94-.94-2.06-.94 2.06-2.06.94z\"/><path d=\"M17.41 7.96l-1.37-1.37c-.4-.4-.92-.59-1.43-.59-.52 0-1.04.2-1.43.59L10.3 9.45l-7.72 7.72c-.78.78-.78 2.05 0 2.83L4 21.41c.39.39.9.59 1.41.59.51 0 1.02-.2 1.41-.59l7.78-7.78 2.81-2.81c.8-.78.8-2.07 0-2.86zM5.41 20L4 18.59l7.72-7.72 1.47 1.35L5.41 20z\"/>\n",
              "  </svg>\n",
              "      </button>\n",
              "      \n",
              "  <style>\n",
              "    .colab-df-container {\n",
              "      display:flex;\n",
              "      flex-wrap:wrap;\n",
              "      gap: 12px;\n",
              "    }\n",
              "\n",
              "    .colab-df-convert {\n",
              "      background-color: #E8F0FE;\n",
              "      border: none;\n",
              "      border-radius: 50%;\n",
              "      cursor: pointer;\n",
              "      display: none;\n",
              "      fill: #1967D2;\n",
              "      height: 32px;\n",
              "      padding: 0 0 0 0;\n",
              "      width: 32px;\n",
              "    }\n",
              "\n",
              "    .colab-df-convert:hover {\n",
              "      background-color: #E2EBFA;\n",
              "      box-shadow: 0px 1px 2px rgba(60, 64, 67, 0.3), 0px 1px 3px 1px rgba(60, 64, 67, 0.15);\n",
              "      fill: #174EA6;\n",
              "    }\n",
              "\n",
              "    [theme=dark] .colab-df-convert {\n",
              "      background-color: #3B4455;\n",
              "      fill: #D2E3FC;\n",
              "    }\n",
              "\n",
              "    [theme=dark] .colab-df-convert:hover {\n",
              "      background-color: #434B5C;\n",
              "      box-shadow: 0px 1px 3px 1px rgba(0, 0, 0, 0.15);\n",
              "      filter: drop-shadow(0px 1px 2px rgba(0, 0, 0, 0.3));\n",
              "      fill: #FFFFFF;\n",
              "    }\n",
              "  </style>\n",
              "\n",
              "      <script>\n",
              "        const buttonEl =\n",
              "          document.querySelector('#df-c9da9ad3-5968-466b-94a1-fc85e407f176 button.colab-df-convert');\n",
              "        buttonEl.style.display =\n",
              "          google.colab.kernel.accessAllowed ? 'block' : 'none';\n",
              "\n",
              "        async function convertToInteractive(key) {\n",
              "          const element = document.querySelector('#df-c9da9ad3-5968-466b-94a1-fc85e407f176');\n",
              "          const dataTable =\n",
              "            await google.colab.kernel.invokeFunction('convertToInteractive',\n",
              "                                                     [key], {});\n",
              "          if (!dataTable) return;\n",
              "\n",
              "          const docLinkHtml = 'Like what you see? Visit the ' +\n",
              "            '<a target=\"_blank\" href=https://colab.research.google.com/notebooks/data_table.ipynb>data table notebook</a>'\n",
              "            + ' to learn more about interactive tables.';\n",
              "          element.innerHTML = '';\n",
              "          dataTable['output_type'] = 'display_data';\n",
              "          await google.colab.output.renderOutput(dataTable, element);\n",
              "          const docLink = document.createElement('div');\n",
              "          docLink.innerHTML = docLinkHtml;\n",
              "          element.appendChild(docLink);\n",
              "        }\n",
              "      </script>\n",
              "    </div>\n",
              "  </div>\n",
              "  "
            ]
          },
          "metadata": {},
          "execution_count": 12
        }
      ]
    },
    {
      "cell_type": "markdown",
      "source": [
        "**Dataset Car**"
      ],
      "metadata": {
        "id": "cujxJ86mewoa"
      }
    },
    {
      "cell_type": "code",
      "source": [
        "#Car Evaluation Data set\n",
        "columnas=['buying','maint','doors', 'persons', 'lug_boot','safety','class']\n",
        "car_features=['buying','maint','doors', 'persons', 'lug_boot','safety']\n",
        "car= readDataset('https://raw.githubusercontent.com/victoriapl01/Mineria_De_Datos/main/Datasets/car.data',columnas)\n",
        "car['buying']=car['buying'].map({'vhigh':4, 'high':3, 'med':2, 'low':1})\n",
        "car['maint']=car['maint'].map({'vhigh':4, 'high':3, 'med':2, 'low':1})\n",
        "car['lug_boot']=car['lug_boot'].map({'small':1, 'med':2, 'big':3})\n",
        "car['safety']=car['safety'].map({'low':1, 'med':2, 'high':3})\n",
        "car['doors']=car['doors'].map({'1':1, '2':2,'3':3,'4':4,'5more':7}) #Esto hará que 7 signifique más de 5 puertas o personas\n",
        "car['persons']=car['persons'].map({'1':1, '2':2,'3':3,'4':4,'more':7})\n",
        "car_X=car[car_features]\n",
        "car_y=car['class']\n",
        "car"
      ],
      "metadata": {
        "colab": {
          "base_uri": "https://localhost:8080/",
          "height": 424
        },
        "id": "fR50S_dn49jW",
        "outputId": "a34a3af2-2035-448e-b49b-fa86bfb4fbb6"
      },
      "execution_count": 13,
      "outputs": [
        {
          "output_type": "execute_result",
          "data": {
            "text/plain": [
              "      buying  maint  doors  persons  lug_boot  safety  class\n",
              "0          4      4      2        2         1       1  unacc\n",
              "1          4      4      2        2         1       2  unacc\n",
              "2          4      4      2        2         1       3  unacc\n",
              "3          4      4      2        2         2       1  unacc\n",
              "4          4      4      2        2         2       2  unacc\n",
              "...      ...    ...    ...      ...       ...     ...    ...\n",
              "1723       1      1      7        7         2       2   good\n",
              "1724       1      1      7        7         2       3  vgood\n",
              "1725       1      1      7        7         3       1  unacc\n",
              "1726       1      1      7        7         3       2   good\n",
              "1727       1      1      7        7         3       3  vgood\n",
              "\n",
              "[1728 rows x 7 columns]"
            ],
            "text/html": [
              "\n",
              "  <div id=\"df-e152080b-5b10-4b20-aec0-6c4cc05aaa15\">\n",
              "    <div class=\"colab-df-container\">\n",
              "      <div>\n",
              "<style scoped>\n",
              "    .dataframe tbody tr th:only-of-type {\n",
              "        vertical-align: middle;\n",
              "    }\n",
              "\n",
              "    .dataframe tbody tr th {\n",
              "        vertical-align: top;\n",
              "    }\n",
              "\n",
              "    .dataframe thead th {\n",
              "        text-align: right;\n",
              "    }\n",
              "</style>\n",
              "<table border=\"1\" class=\"dataframe\">\n",
              "  <thead>\n",
              "    <tr style=\"text-align: right;\">\n",
              "      <th></th>\n",
              "      <th>buying</th>\n",
              "      <th>maint</th>\n",
              "      <th>doors</th>\n",
              "      <th>persons</th>\n",
              "      <th>lug_boot</th>\n",
              "      <th>safety</th>\n",
              "      <th>class</th>\n",
              "    </tr>\n",
              "  </thead>\n",
              "  <tbody>\n",
              "    <tr>\n",
              "      <th>0</th>\n",
              "      <td>4</td>\n",
              "      <td>4</td>\n",
              "      <td>2</td>\n",
              "      <td>2</td>\n",
              "      <td>1</td>\n",
              "      <td>1</td>\n",
              "      <td>unacc</td>\n",
              "    </tr>\n",
              "    <tr>\n",
              "      <th>1</th>\n",
              "      <td>4</td>\n",
              "      <td>4</td>\n",
              "      <td>2</td>\n",
              "      <td>2</td>\n",
              "      <td>1</td>\n",
              "      <td>2</td>\n",
              "      <td>unacc</td>\n",
              "    </tr>\n",
              "    <tr>\n",
              "      <th>2</th>\n",
              "      <td>4</td>\n",
              "      <td>4</td>\n",
              "      <td>2</td>\n",
              "      <td>2</td>\n",
              "      <td>1</td>\n",
              "      <td>3</td>\n",
              "      <td>unacc</td>\n",
              "    </tr>\n",
              "    <tr>\n",
              "      <th>3</th>\n",
              "      <td>4</td>\n",
              "      <td>4</td>\n",
              "      <td>2</td>\n",
              "      <td>2</td>\n",
              "      <td>2</td>\n",
              "      <td>1</td>\n",
              "      <td>unacc</td>\n",
              "    </tr>\n",
              "    <tr>\n",
              "      <th>4</th>\n",
              "      <td>4</td>\n",
              "      <td>4</td>\n",
              "      <td>2</td>\n",
              "      <td>2</td>\n",
              "      <td>2</td>\n",
              "      <td>2</td>\n",
              "      <td>unacc</td>\n",
              "    </tr>\n",
              "    <tr>\n",
              "      <th>...</th>\n",
              "      <td>...</td>\n",
              "      <td>...</td>\n",
              "      <td>...</td>\n",
              "      <td>...</td>\n",
              "      <td>...</td>\n",
              "      <td>...</td>\n",
              "      <td>...</td>\n",
              "    </tr>\n",
              "    <tr>\n",
              "      <th>1723</th>\n",
              "      <td>1</td>\n",
              "      <td>1</td>\n",
              "      <td>7</td>\n",
              "      <td>7</td>\n",
              "      <td>2</td>\n",
              "      <td>2</td>\n",
              "      <td>good</td>\n",
              "    </tr>\n",
              "    <tr>\n",
              "      <th>1724</th>\n",
              "      <td>1</td>\n",
              "      <td>1</td>\n",
              "      <td>7</td>\n",
              "      <td>7</td>\n",
              "      <td>2</td>\n",
              "      <td>3</td>\n",
              "      <td>vgood</td>\n",
              "    </tr>\n",
              "    <tr>\n",
              "      <th>1725</th>\n",
              "      <td>1</td>\n",
              "      <td>1</td>\n",
              "      <td>7</td>\n",
              "      <td>7</td>\n",
              "      <td>3</td>\n",
              "      <td>1</td>\n",
              "      <td>unacc</td>\n",
              "    </tr>\n",
              "    <tr>\n",
              "      <th>1726</th>\n",
              "      <td>1</td>\n",
              "      <td>1</td>\n",
              "      <td>7</td>\n",
              "      <td>7</td>\n",
              "      <td>3</td>\n",
              "      <td>2</td>\n",
              "      <td>good</td>\n",
              "    </tr>\n",
              "    <tr>\n",
              "      <th>1727</th>\n",
              "      <td>1</td>\n",
              "      <td>1</td>\n",
              "      <td>7</td>\n",
              "      <td>7</td>\n",
              "      <td>3</td>\n",
              "      <td>3</td>\n",
              "      <td>vgood</td>\n",
              "    </tr>\n",
              "  </tbody>\n",
              "</table>\n",
              "<p>1728 rows × 7 columns</p>\n",
              "</div>\n",
              "      <button class=\"colab-df-convert\" onclick=\"convertToInteractive('df-e152080b-5b10-4b20-aec0-6c4cc05aaa15')\"\n",
              "              title=\"Convert this dataframe to an interactive table.\"\n",
              "              style=\"display:none;\">\n",
              "        \n",
              "  <svg xmlns=\"http://www.w3.org/2000/svg\" height=\"24px\"viewBox=\"0 0 24 24\"\n",
              "       width=\"24px\">\n",
              "    <path d=\"M0 0h24v24H0V0z\" fill=\"none\"/>\n",
              "    <path d=\"M18.56 5.44l.94 2.06.94-2.06 2.06-.94-2.06-.94-.94-2.06-.94 2.06-2.06.94zm-11 1L8.5 8.5l.94-2.06 2.06-.94-2.06-.94L8.5 2.5l-.94 2.06-2.06.94zm10 10l.94 2.06.94-2.06 2.06-.94-2.06-.94-.94-2.06-.94 2.06-2.06.94z\"/><path d=\"M17.41 7.96l-1.37-1.37c-.4-.4-.92-.59-1.43-.59-.52 0-1.04.2-1.43.59L10.3 9.45l-7.72 7.72c-.78.78-.78 2.05 0 2.83L4 21.41c.39.39.9.59 1.41.59.51 0 1.02-.2 1.41-.59l7.78-7.78 2.81-2.81c.8-.78.8-2.07 0-2.86zM5.41 20L4 18.59l7.72-7.72 1.47 1.35L5.41 20z\"/>\n",
              "  </svg>\n",
              "      </button>\n",
              "      \n",
              "  <style>\n",
              "    .colab-df-container {\n",
              "      display:flex;\n",
              "      flex-wrap:wrap;\n",
              "      gap: 12px;\n",
              "    }\n",
              "\n",
              "    .colab-df-convert {\n",
              "      background-color: #E8F0FE;\n",
              "      border: none;\n",
              "      border-radius: 50%;\n",
              "      cursor: pointer;\n",
              "      display: none;\n",
              "      fill: #1967D2;\n",
              "      height: 32px;\n",
              "      padding: 0 0 0 0;\n",
              "      width: 32px;\n",
              "    }\n",
              "\n",
              "    .colab-df-convert:hover {\n",
              "      background-color: #E2EBFA;\n",
              "      box-shadow: 0px 1px 2px rgba(60, 64, 67, 0.3), 0px 1px 3px 1px rgba(60, 64, 67, 0.15);\n",
              "      fill: #174EA6;\n",
              "    }\n",
              "\n",
              "    [theme=dark] .colab-df-convert {\n",
              "      background-color: #3B4455;\n",
              "      fill: #D2E3FC;\n",
              "    }\n",
              "\n",
              "    [theme=dark] .colab-df-convert:hover {\n",
              "      background-color: #434B5C;\n",
              "      box-shadow: 0px 1px 3px 1px rgba(0, 0, 0, 0.15);\n",
              "      filter: drop-shadow(0px 1px 2px rgba(0, 0, 0, 0.3));\n",
              "      fill: #FFFFFF;\n",
              "    }\n",
              "  </style>\n",
              "\n",
              "      <script>\n",
              "        const buttonEl =\n",
              "          document.querySelector('#df-e152080b-5b10-4b20-aec0-6c4cc05aaa15 button.colab-df-convert');\n",
              "        buttonEl.style.display =\n",
              "          google.colab.kernel.accessAllowed ? 'block' : 'none';\n",
              "\n",
              "        async function convertToInteractive(key) {\n",
              "          const element = document.querySelector('#df-e152080b-5b10-4b20-aec0-6c4cc05aaa15');\n",
              "          const dataTable =\n",
              "            await google.colab.kernel.invokeFunction('convertToInteractive',\n",
              "                                                     [key], {});\n",
              "          if (!dataTable) return;\n",
              "\n",
              "          const docLinkHtml = 'Like what you see? Visit the ' +\n",
              "            '<a target=\"_blank\" href=https://colab.research.google.com/notebooks/data_table.ipynb>data table notebook</a>'\n",
              "            + ' to learn more about interactive tables.';\n",
              "          element.innerHTML = '';\n",
              "          dataTable['output_type'] = 'display_data';\n",
              "          await google.colab.output.renderOutput(dataTable, element);\n",
              "          const docLink = document.createElement('div');\n",
              "          docLink.innerHTML = docLinkHtml;\n",
              "          element.appendChild(docLink);\n",
              "        }\n",
              "      </script>\n",
              "    </div>\n",
              "  </div>\n",
              "  "
            ]
          },
          "metadata": {},
          "execution_count": 13
        }
      ]
    },
    {
      "cell_type": "markdown",
      "source": [
        "**Dataset Wine:** using chemical analysis determine the origin of wines"
      ],
      "metadata": {
        "id": "XPyv_PSofNmy"
      }
    },
    {
      "cell_type": "code",
      "source": [
        "#Wine Data Set\n",
        "columnas= ['class','alcohol', 'malic acid', 'ash', 'alcalinityOfAsh', 'Magnesium',' Total Phenols', 'Flavanoids', 'Nonflavanoid phenols', 'Proanthocyanins', 'Color Intensity', 'Hue', 'OD280',' Proline'] \n",
        "wine_features=['alcohol', 'malic acid', 'ash', 'alcalinityOfAsh', 'Magnesium',' Total Phenols', 'Flavanoids', 'Nonflavanoid phenols', 'Proanthocyanins', 'Color Intensity', 'Hue', 'OD280',' Proline'] \n",
        "wine=readDataset('https://raw.githubusercontent.com/victoriapl01/Mineria_De_Datos/main/Datasets/wine.data',columnas)\n",
        "wine_X=wine[wine_features]\n",
        "wine_y=wine['class']\n",
        "wine.head()"
      ],
      "metadata": {
        "colab": {
          "base_uri": "https://localhost:8080/",
          "height": 288
        },
        "id": "HRiw60tAyuiH",
        "outputId": "b98a4a06-ca83-4e68-81e6-a5405c31aa62"
      },
      "execution_count": 14,
      "outputs": [
        {
          "output_type": "execute_result",
          "data": {
            "text/plain": [
              "   class  alcohol  malic acid   ash  alcalinityOfAsh  Magnesium  \\\n",
              "0      1    14.23        1.71  2.43             15.6        127   \n",
              "1      1    13.20        1.78  2.14             11.2        100   \n",
              "2      1    13.16        2.36  2.67             18.6        101   \n",
              "3      1    14.37        1.95  2.50             16.8        113   \n",
              "4      1    13.24        2.59  2.87             21.0        118   \n",
              "\n",
              "    Total Phenols  Flavanoids  Nonflavanoid phenols  Proanthocyanins  \\\n",
              "0            2.80        3.06                  0.28             2.29   \n",
              "1            2.65        2.76                  0.26             1.28   \n",
              "2            2.80        3.24                  0.30             2.81   \n",
              "3            3.85        3.49                  0.24             2.18   \n",
              "4            2.80        2.69                  0.39             1.82   \n",
              "\n",
              "   Color Intensity   Hue  OD280   Proline  \n",
              "0             5.64  1.04   3.92      1065  \n",
              "1             4.38  1.05   3.40      1050  \n",
              "2             5.68  1.03   3.17      1185  \n",
              "3             7.80  0.86   3.45      1480  \n",
              "4             4.32  1.04   2.93       735  "
            ],
            "text/html": [
              "\n",
              "  <div id=\"df-878dd23d-0d4c-458f-9e01-1c5d96d220c1\">\n",
              "    <div class=\"colab-df-container\">\n",
              "      <div>\n",
              "<style scoped>\n",
              "    .dataframe tbody tr th:only-of-type {\n",
              "        vertical-align: middle;\n",
              "    }\n",
              "\n",
              "    .dataframe tbody tr th {\n",
              "        vertical-align: top;\n",
              "    }\n",
              "\n",
              "    .dataframe thead th {\n",
              "        text-align: right;\n",
              "    }\n",
              "</style>\n",
              "<table border=\"1\" class=\"dataframe\">\n",
              "  <thead>\n",
              "    <tr style=\"text-align: right;\">\n",
              "      <th></th>\n",
              "      <th>class</th>\n",
              "      <th>alcohol</th>\n",
              "      <th>malic acid</th>\n",
              "      <th>ash</th>\n",
              "      <th>alcalinityOfAsh</th>\n",
              "      <th>Magnesium</th>\n",
              "      <th>Total Phenols</th>\n",
              "      <th>Flavanoids</th>\n",
              "      <th>Nonflavanoid phenols</th>\n",
              "      <th>Proanthocyanins</th>\n",
              "      <th>Color Intensity</th>\n",
              "      <th>Hue</th>\n",
              "      <th>OD280</th>\n",
              "      <th>Proline</th>\n",
              "    </tr>\n",
              "  </thead>\n",
              "  <tbody>\n",
              "    <tr>\n",
              "      <th>0</th>\n",
              "      <td>1</td>\n",
              "      <td>14.23</td>\n",
              "      <td>1.71</td>\n",
              "      <td>2.43</td>\n",
              "      <td>15.6</td>\n",
              "      <td>127</td>\n",
              "      <td>2.80</td>\n",
              "      <td>3.06</td>\n",
              "      <td>0.28</td>\n",
              "      <td>2.29</td>\n",
              "      <td>5.64</td>\n",
              "      <td>1.04</td>\n",
              "      <td>3.92</td>\n",
              "      <td>1065</td>\n",
              "    </tr>\n",
              "    <tr>\n",
              "      <th>1</th>\n",
              "      <td>1</td>\n",
              "      <td>13.20</td>\n",
              "      <td>1.78</td>\n",
              "      <td>2.14</td>\n",
              "      <td>11.2</td>\n",
              "      <td>100</td>\n",
              "      <td>2.65</td>\n",
              "      <td>2.76</td>\n",
              "      <td>0.26</td>\n",
              "      <td>1.28</td>\n",
              "      <td>4.38</td>\n",
              "      <td>1.05</td>\n",
              "      <td>3.40</td>\n",
              "      <td>1050</td>\n",
              "    </tr>\n",
              "    <tr>\n",
              "      <th>2</th>\n",
              "      <td>1</td>\n",
              "      <td>13.16</td>\n",
              "      <td>2.36</td>\n",
              "      <td>2.67</td>\n",
              "      <td>18.6</td>\n",
              "      <td>101</td>\n",
              "      <td>2.80</td>\n",
              "      <td>3.24</td>\n",
              "      <td>0.30</td>\n",
              "      <td>2.81</td>\n",
              "      <td>5.68</td>\n",
              "      <td>1.03</td>\n",
              "      <td>3.17</td>\n",
              "      <td>1185</td>\n",
              "    </tr>\n",
              "    <tr>\n",
              "      <th>3</th>\n",
              "      <td>1</td>\n",
              "      <td>14.37</td>\n",
              "      <td>1.95</td>\n",
              "      <td>2.50</td>\n",
              "      <td>16.8</td>\n",
              "      <td>113</td>\n",
              "      <td>3.85</td>\n",
              "      <td>3.49</td>\n",
              "      <td>0.24</td>\n",
              "      <td>2.18</td>\n",
              "      <td>7.80</td>\n",
              "      <td>0.86</td>\n",
              "      <td>3.45</td>\n",
              "      <td>1480</td>\n",
              "    </tr>\n",
              "    <tr>\n",
              "      <th>4</th>\n",
              "      <td>1</td>\n",
              "      <td>13.24</td>\n",
              "      <td>2.59</td>\n",
              "      <td>2.87</td>\n",
              "      <td>21.0</td>\n",
              "      <td>118</td>\n",
              "      <td>2.80</td>\n",
              "      <td>2.69</td>\n",
              "      <td>0.39</td>\n",
              "      <td>1.82</td>\n",
              "      <td>4.32</td>\n",
              "      <td>1.04</td>\n",
              "      <td>2.93</td>\n",
              "      <td>735</td>\n",
              "    </tr>\n",
              "  </tbody>\n",
              "</table>\n",
              "</div>\n",
              "      <button class=\"colab-df-convert\" onclick=\"convertToInteractive('df-878dd23d-0d4c-458f-9e01-1c5d96d220c1')\"\n",
              "              title=\"Convert this dataframe to an interactive table.\"\n",
              "              style=\"display:none;\">\n",
              "        \n",
              "  <svg xmlns=\"http://www.w3.org/2000/svg\" height=\"24px\"viewBox=\"0 0 24 24\"\n",
              "       width=\"24px\">\n",
              "    <path d=\"M0 0h24v24H0V0z\" fill=\"none\"/>\n",
              "    <path d=\"M18.56 5.44l.94 2.06.94-2.06 2.06-.94-2.06-.94-.94-2.06-.94 2.06-2.06.94zm-11 1L8.5 8.5l.94-2.06 2.06-.94-2.06-.94L8.5 2.5l-.94 2.06-2.06.94zm10 10l.94 2.06.94-2.06 2.06-.94-2.06-.94-.94-2.06-.94 2.06-2.06.94z\"/><path d=\"M17.41 7.96l-1.37-1.37c-.4-.4-.92-.59-1.43-.59-.52 0-1.04.2-1.43.59L10.3 9.45l-7.72 7.72c-.78.78-.78 2.05 0 2.83L4 21.41c.39.39.9.59 1.41.59.51 0 1.02-.2 1.41-.59l7.78-7.78 2.81-2.81c.8-.78.8-2.07 0-2.86zM5.41 20L4 18.59l7.72-7.72 1.47 1.35L5.41 20z\"/>\n",
              "  </svg>\n",
              "      </button>\n",
              "      \n",
              "  <style>\n",
              "    .colab-df-container {\n",
              "      display:flex;\n",
              "      flex-wrap:wrap;\n",
              "      gap: 12px;\n",
              "    }\n",
              "\n",
              "    .colab-df-convert {\n",
              "      background-color: #E8F0FE;\n",
              "      border: none;\n",
              "      border-radius: 50%;\n",
              "      cursor: pointer;\n",
              "      display: none;\n",
              "      fill: #1967D2;\n",
              "      height: 32px;\n",
              "      padding: 0 0 0 0;\n",
              "      width: 32px;\n",
              "    }\n",
              "\n",
              "    .colab-df-convert:hover {\n",
              "      background-color: #E2EBFA;\n",
              "      box-shadow: 0px 1px 2px rgba(60, 64, 67, 0.3), 0px 1px 3px 1px rgba(60, 64, 67, 0.15);\n",
              "      fill: #174EA6;\n",
              "    }\n",
              "\n",
              "    [theme=dark] .colab-df-convert {\n",
              "      background-color: #3B4455;\n",
              "      fill: #D2E3FC;\n",
              "    }\n",
              "\n",
              "    [theme=dark] .colab-df-convert:hover {\n",
              "      background-color: #434B5C;\n",
              "      box-shadow: 0px 1px 3px 1px rgba(0, 0, 0, 0.15);\n",
              "      filter: drop-shadow(0px 1px 2px rgba(0, 0, 0, 0.3));\n",
              "      fill: #FFFFFF;\n",
              "    }\n",
              "  </style>\n",
              "\n",
              "      <script>\n",
              "        const buttonEl =\n",
              "          document.querySelector('#df-878dd23d-0d4c-458f-9e01-1c5d96d220c1 button.colab-df-convert');\n",
              "        buttonEl.style.display =\n",
              "          google.colab.kernel.accessAllowed ? 'block' : 'none';\n",
              "\n",
              "        async function convertToInteractive(key) {\n",
              "          const element = document.querySelector('#df-878dd23d-0d4c-458f-9e01-1c5d96d220c1');\n",
              "          const dataTable =\n",
              "            await google.colab.kernel.invokeFunction('convertToInteractive',\n",
              "                                                     [key], {});\n",
              "          if (!dataTable) return;\n",
              "\n",
              "          const docLinkHtml = 'Like what you see? Visit the ' +\n",
              "            '<a target=\"_blank\" href=https://colab.research.google.com/notebooks/data_table.ipynb>data table notebook</a>'\n",
              "            + ' to learn more about interactive tables.';\n",
              "          element.innerHTML = '';\n",
              "          dataTable['output_type'] = 'display_data';\n",
              "          await google.colab.output.renderOutput(dataTable, element);\n",
              "          const docLink = document.createElement('div');\n",
              "          docLink.innerHTML = docLinkHtml;\n",
              "          element.appendChild(docLink);\n",
              "        }\n",
              "      </script>\n",
              "    </div>\n",
              "  </div>\n",
              "  "
            ]
          },
          "metadata": {},
          "execution_count": 14
        }
      ]
    },
    {
      "cell_type": "markdown",
      "source": [
        "**Dataset diabetes:**"
      ],
      "metadata": {
        "id": "LC0TsIj0fgBs"
      }
    },
    {
      "cell_type": "code",
      "source": [
        "#Diabetes Data Set\n",
        "columnas=['Times Pregnant','Glucose tolerance','Blood pressure','Triceps skin fold','Insulin','Body mass','Diabetes pedigree', 'Age','Class']\n",
        "diabetes_features=['Times Pregnant','Glucose tolerance','Blood pressure','Triceps skin fold','Insulin','Body mass','Diabetes pedigree', 'Age']\n",
        "diabetes=readDataset('https://raw.githubusercontent.com/victoriapl01/Mineria_De_Datos/main/Datasets/diabetes.data',columnas)\n",
        "diabetes_X=diabetes[diabetes_features]\n",
        "diabetes_y=diabetes['Class']\n",
        "diabetes.head()\n"
      ],
      "metadata": {
        "colab": {
          "base_uri": "https://localhost:8080/",
          "height": 250
        },
        "id": "qCYjyo_166N0",
        "outputId": "bc6912f9-44cc-4f66-f8f7-f889afbf8a7d"
      },
      "execution_count": 15,
      "outputs": [
        {
          "output_type": "execute_result",
          "data": {
            "text/plain": [
              "   Times Pregnant  Glucose tolerance  Blood pressure  Triceps skin fold  \\\n",
              "0               6                148              72                 35   \n",
              "1               1                 85              66                 29   \n",
              "2               8                183              64                  0   \n",
              "3               1                 89              66                 23   \n",
              "4               0                137              40                 35   \n",
              "\n",
              "   Insulin  Body mass  Diabetes pedigree  Age            Class  \n",
              "0        0       33.6              0.627   50  tested_positive  \n",
              "1        0       26.6              0.351   31  tested_negative  \n",
              "2        0       23.3              0.672   32  tested_positive  \n",
              "3       94       28.1              0.167   21  tested_negative  \n",
              "4      168       43.1              2.288   33  tested_positive  "
            ],
            "text/html": [
              "\n",
              "  <div id=\"df-8285e463-14ca-4ee2-90ba-a782a2cfccd2\">\n",
              "    <div class=\"colab-df-container\">\n",
              "      <div>\n",
              "<style scoped>\n",
              "    .dataframe tbody tr th:only-of-type {\n",
              "        vertical-align: middle;\n",
              "    }\n",
              "\n",
              "    .dataframe tbody tr th {\n",
              "        vertical-align: top;\n",
              "    }\n",
              "\n",
              "    .dataframe thead th {\n",
              "        text-align: right;\n",
              "    }\n",
              "</style>\n",
              "<table border=\"1\" class=\"dataframe\">\n",
              "  <thead>\n",
              "    <tr style=\"text-align: right;\">\n",
              "      <th></th>\n",
              "      <th>Times Pregnant</th>\n",
              "      <th>Glucose tolerance</th>\n",
              "      <th>Blood pressure</th>\n",
              "      <th>Triceps skin fold</th>\n",
              "      <th>Insulin</th>\n",
              "      <th>Body mass</th>\n",
              "      <th>Diabetes pedigree</th>\n",
              "      <th>Age</th>\n",
              "      <th>Class</th>\n",
              "    </tr>\n",
              "  </thead>\n",
              "  <tbody>\n",
              "    <tr>\n",
              "      <th>0</th>\n",
              "      <td>6</td>\n",
              "      <td>148</td>\n",
              "      <td>72</td>\n",
              "      <td>35</td>\n",
              "      <td>0</td>\n",
              "      <td>33.6</td>\n",
              "      <td>0.627</td>\n",
              "      <td>50</td>\n",
              "      <td>tested_positive</td>\n",
              "    </tr>\n",
              "    <tr>\n",
              "      <th>1</th>\n",
              "      <td>1</td>\n",
              "      <td>85</td>\n",
              "      <td>66</td>\n",
              "      <td>29</td>\n",
              "      <td>0</td>\n",
              "      <td>26.6</td>\n",
              "      <td>0.351</td>\n",
              "      <td>31</td>\n",
              "      <td>tested_negative</td>\n",
              "    </tr>\n",
              "    <tr>\n",
              "      <th>2</th>\n",
              "      <td>8</td>\n",
              "      <td>183</td>\n",
              "      <td>64</td>\n",
              "      <td>0</td>\n",
              "      <td>0</td>\n",
              "      <td>23.3</td>\n",
              "      <td>0.672</td>\n",
              "      <td>32</td>\n",
              "      <td>tested_positive</td>\n",
              "    </tr>\n",
              "    <tr>\n",
              "      <th>3</th>\n",
              "      <td>1</td>\n",
              "      <td>89</td>\n",
              "      <td>66</td>\n",
              "      <td>23</td>\n",
              "      <td>94</td>\n",
              "      <td>28.1</td>\n",
              "      <td>0.167</td>\n",
              "      <td>21</td>\n",
              "      <td>tested_negative</td>\n",
              "    </tr>\n",
              "    <tr>\n",
              "      <th>4</th>\n",
              "      <td>0</td>\n",
              "      <td>137</td>\n",
              "      <td>40</td>\n",
              "      <td>35</td>\n",
              "      <td>168</td>\n",
              "      <td>43.1</td>\n",
              "      <td>2.288</td>\n",
              "      <td>33</td>\n",
              "      <td>tested_positive</td>\n",
              "    </tr>\n",
              "  </tbody>\n",
              "</table>\n",
              "</div>\n",
              "      <button class=\"colab-df-convert\" onclick=\"convertToInteractive('df-8285e463-14ca-4ee2-90ba-a782a2cfccd2')\"\n",
              "              title=\"Convert this dataframe to an interactive table.\"\n",
              "              style=\"display:none;\">\n",
              "        \n",
              "  <svg xmlns=\"http://www.w3.org/2000/svg\" height=\"24px\"viewBox=\"0 0 24 24\"\n",
              "       width=\"24px\">\n",
              "    <path d=\"M0 0h24v24H0V0z\" fill=\"none\"/>\n",
              "    <path d=\"M18.56 5.44l.94 2.06.94-2.06 2.06-.94-2.06-.94-.94-2.06-.94 2.06-2.06.94zm-11 1L8.5 8.5l.94-2.06 2.06-.94-2.06-.94L8.5 2.5l-.94 2.06-2.06.94zm10 10l.94 2.06.94-2.06 2.06-.94-2.06-.94-.94-2.06-.94 2.06-2.06.94z\"/><path d=\"M17.41 7.96l-1.37-1.37c-.4-.4-.92-.59-1.43-.59-.52 0-1.04.2-1.43.59L10.3 9.45l-7.72 7.72c-.78.78-.78 2.05 0 2.83L4 21.41c.39.39.9.59 1.41.59.51 0 1.02-.2 1.41-.59l7.78-7.78 2.81-2.81c.8-.78.8-2.07 0-2.86zM5.41 20L4 18.59l7.72-7.72 1.47 1.35L5.41 20z\"/>\n",
              "  </svg>\n",
              "      </button>\n",
              "      \n",
              "  <style>\n",
              "    .colab-df-container {\n",
              "      display:flex;\n",
              "      flex-wrap:wrap;\n",
              "      gap: 12px;\n",
              "    }\n",
              "\n",
              "    .colab-df-convert {\n",
              "      background-color: #E8F0FE;\n",
              "      border: none;\n",
              "      border-radius: 50%;\n",
              "      cursor: pointer;\n",
              "      display: none;\n",
              "      fill: #1967D2;\n",
              "      height: 32px;\n",
              "      padding: 0 0 0 0;\n",
              "      width: 32px;\n",
              "    }\n",
              "\n",
              "    .colab-df-convert:hover {\n",
              "      background-color: #E2EBFA;\n",
              "      box-shadow: 0px 1px 2px rgba(60, 64, 67, 0.3), 0px 1px 3px 1px rgba(60, 64, 67, 0.15);\n",
              "      fill: #174EA6;\n",
              "    }\n",
              "\n",
              "    [theme=dark] .colab-df-convert {\n",
              "      background-color: #3B4455;\n",
              "      fill: #D2E3FC;\n",
              "    }\n",
              "\n",
              "    [theme=dark] .colab-df-convert:hover {\n",
              "      background-color: #434B5C;\n",
              "      box-shadow: 0px 1px 3px 1px rgba(0, 0, 0, 0.15);\n",
              "      filter: drop-shadow(0px 1px 2px rgba(0, 0, 0, 0.3));\n",
              "      fill: #FFFFFF;\n",
              "    }\n",
              "  </style>\n",
              "\n",
              "      <script>\n",
              "        const buttonEl =\n",
              "          document.querySelector('#df-8285e463-14ca-4ee2-90ba-a782a2cfccd2 button.colab-df-convert');\n",
              "        buttonEl.style.display =\n",
              "          google.colab.kernel.accessAllowed ? 'block' : 'none';\n",
              "\n",
              "        async function convertToInteractive(key) {\n",
              "          const element = document.querySelector('#df-8285e463-14ca-4ee2-90ba-a782a2cfccd2');\n",
              "          const dataTable =\n",
              "            await google.colab.kernel.invokeFunction('convertToInteractive',\n",
              "                                                     [key], {});\n",
              "          if (!dataTable) return;\n",
              "\n",
              "          const docLinkHtml = 'Like what you see? Visit the ' +\n",
              "            '<a target=\"_blank\" href=https://colab.research.google.com/notebooks/data_table.ipynb>data table notebook</a>'\n",
              "            + ' to learn more about interactive tables.';\n",
              "          element.innerHTML = '';\n",
              "          dataTable['output_type'] = 'display_data';\n",
              "          await google.colab.output.renderOutput(dataTable, element);\n",
              "          const docLink = document.createElement('div');\n",
              "          docLink.innerHTML = docLinkHtml;\n",
              "          element.appendChild(docLink);\n",
              "        }\n",
              "      </script>\n",
              "    </div>\n",
              "  </div>\n",
              "  "
            ]
          },
          "metadata": {},
          "execution_count": 15
        }
      ]
    },
    {
      "cell_type": "markdown",
      "source": [
        "**Dataset glass:**"
      ],
      "metadata": {
        "id": "4TjX_kKJfrUi"
      }
    },
    {
      "cell_type": "code",
      "source": [
        "#Glass Data set\n",
        "columnas=['RI','Na', 'Mg', 'Al', 'Si','K', 'Ca', 'Ba', 'Fe', 'Type']\n",
        "glass_features=['RI','Na', 'Mg', 'Al', 'Si','K', 'Ca', 'Ba', 'Fe']\n",
        "glass=readDataset('https://raw.githubusercontent.com/victoriapl01/Mineria_De_Datos/main/Datasets/glass.data',columnas)\n",
        "glass_X=glass[glass_features]\n",
        "glass_y=glass['Type']\n",
        "glass.head()"
      ],
      "metadata": {
        "colab": {
          "base_uri": "https://localhost:8080/",
          "height": 206
        },
        "id": "kIuwDsogYjXM",
        "outputId": "19c6a7bb-d386-4b31-a7c3-bd2010d09aee"
      },
      "execution_count": 16,
      "outputs": [
        {
          "output_type": "execute_result",
          "data": {
            "text/plain": [
              "        RI     Na    Mg    Al     Si     K     Ca   Ba    Fe  \\\n",
              "0  1.51793  12.79  3.50  1.12  73.03  0.64   8.77  0.0  0.00   \n",
              "1  1.51643  12.16  3.52  1.35  72.89  0.57   8.53  0.0  0.00   \n",
              "2  1.51793  13.21  3.48  1.41  72.64  0.59   8.43  0.0  0.00   \n",
              "3  1.51299  14.40  1.74  1.54  74.55  0.00   7.59  0.0  0.00   \n",
              "4  1.53393  12.30  0.00  1.00  70.16  0.12  16.19  0.0  0.24   \n",
              "\n",
              "                     Type  \n",
              "0      'build wind float'  \n",
              "1      'vehic wind float'  \n",
              "2      'build wind float'  \n",
              "3               tableware  \n",
              "4  'build wind non-float'  "
            ],
            "text/html": [
              "\n",
              "  <div id=\"df-b66a7136-555b-4d33-9e43-dde5c58b1a9f\">\n",
              "    <div class=\"colab-df-container\">\n",
              "      <div>\n",
              "<style scoped>\n",
              "    .dataframe tbody tr th:only-of-type {\n",
              "        vertical-align: middle;\n",
              "    }\n",
              "\n",
              "    .dataframe tbody tr th {\n",
              "        vertical-align: top;\n",
              "    }\n",
              "\n",
              "    .dataframe thead th {\n",
              "        text-align: right;\n",
              "    }\n",
              "</style>\n",
              "<table border=\"1\" class=\"dataframe\">\n",
              "  <thead>\n",
              "    <tr style=\"text-align: right;\">\n",
              "      <th></th>\n",
              "      <th>RI</th>\n",
              "      <th>Na</th>\n",
              "      <th>Mg</th>\n",
              "      <th>Al</th>\n",
              "      <th>Si</th>\n",
              "      <th>K</th>\n",
              "      <th>Ca</th>\n",
              "      <th>Ba</th>\n",
              "      <th>Fe</th>\n",
              "      <th>Type</th>\n",
              "    </tr>\n",
              "  </thead>\n",
              "  <tbody>\n",
              "    <tr>\n",
              "      <th>0</th>\n",
              "      <td>1.51793</td>\n",
              "      <td>12.79</td>\n",
              "      <td>3.50</td>\n",
              "      <td>1.12</td>\n",
              "      <td>73.03</td>\n",
              "      <td>0.64</td>\n",
              "      <td>8.77</td>\n",
              "      <td>0.0</td>\n",
              "      <td>0.00</td>\n",
              "      <td>'build wind float'</td>\n",
              "    </tr>\n",
              "    <tr>\n",
              "      <th>1</th>\n",
              "      <td>1.51643</td>\n",
              "      <td>12.16</td>\n",
              "      <td>3.52</td>\n",
              "      <td>1.35</td>\n",
              "      <td>72.89</td>\n",
              "      <td>0.57</td>\n",
              "      <td>8.53</td>\n",
              "      <td>0.0</td>\n",
              "      <td>0.00</td>\n",
              "      <td>'vehic wind float'</td>\n",
              "    </tr>\n",
              "    <tr>\n",
              "      <th>2</th>\n",
              "      <td>1.51793</td>\n",
              "      <td>13.21</td>\n",
              "      <td>3.48</td>\n",
              "      <td>1.41</td>\n",
              "      <td>72.64</td>\n",
              "      <td>0.59</td>\n",
              "      <td>8.43</td>\n",
              "      <td>0.0</td>\n",
              "      <td>0.00</td>\n",
              "      <td>'build wind float'</td>\n",
              "    </tr>\n",
              "    <tr>\n",
              "      <th>3</th>\n",
              "      <td>1.51299</td>\n",
              "      <td>14.40</td>\n",
              "      <td>1.74</td>\n",
              "      <td>1.54</td>\n",
              "      <td>74.55</td>\n",
              "      <td>0.00</td>\n",
              "      <td>7.59</td>\n",
              "      <td>0.0</td>\n",
              "      <td>0.00</td>\n",
              "      <td>tableware</td>\n",
              "    </tr>\n",
              "    <tr>\n",
              "      <th>4</th>\n",
              "      <td>1.53393</td>\n",
              "      <td>12.30</td>\n",
              "      <td>0.00</td>\n",
              "      <td>1.00</td>\n",
              "      <td>70.16</td>\n",
              "      <td>0.12</td>\n",
              "      <td>16.19</td>\n",
              "      <td>0.0</td>\n",
              "      <td>0.24</td>\n",
              "      <td>'build wind non-float'</td>\n",
              "    </tr>\n",
              "  </tbody>\n",
              "</table>\n",
              "</div>\n",
              "      <button class=\"colab-df-convert\" onclick=\"convertToInteractive('df-b66a7136-555b-4d33-9e43-dde5c58b1a9f')\"\n",
              "              title=\"Convert this dataframe to an interactive table.\"\n",
              "              style=\"display:none;\">\n",
              "        \n",
              "  <svg xmlns=\"http://www.w3.org/2000/svg\" height=\"24px\"viewBox=\"0 0 24 24\"\n",
              "       width=\"24px\">\n",
              "    <path d=\"M0 0h24v24H0V0z\" fill=\"none\"/>\n",
              "    <path d=\"M18.56 5.44l.94 2.06.94-2.06 2.06-.94-2.06-.94-.94-2.06-.94 2.06-2.06.94zm-11 1L8.5 8.5l.94-2.06 2.06-.94-2.06-.94L8.5 2.5l-.94 2.06-2.06.94zm10 10l.94 2.06.94-2.06 2.06-.94-2.06-.94-.94-2.06-.94 2.06-2.06.94z\"/><path d=\"M17.41 7.96l-1.37-1.37c-.4-.4-.92-.59-1.43-.59-.52 0-1.04.2-1.43.59L10.3 9.45l-7.72 7.72c-.78.78-.78 2.05 0 2.83L4 21.41c.39.39.9.59 1.41.59.51 0 1.02-.2 1.41-.59l7.78-7.78 2.81-2.81c.8-.78.8-2.07 0-2.86zM5.41 20L4 18.59l7.72-7.72 1.47 1.35L5.41 20z\"/>\n",
              "  </svg>\n",
              "      </button>\n",
              "      \n",
              "  <style>\n",
              "    .colab-df-container {\n",
              "      display:flex;\n",
              "      flex-wrap:wrap;\n",
              "      gap: 12px;\n",
              "    }\n",
              "\n",
              "    .colab-df-convert {\n",
              "      background-color: #E8F0FE;\n",
              "      border: none;\n",
              "      border-radius: 50%;\n",
              "      cursor: pointer;\n",
              "      display: none;\n",
              "      fill: #1967D2;\n",
              "      height: 32px;\n",
              "      padding: 0 0 0 0;\n",
              "      width: 32px;\n",
              "    }\n",
              "\n",
              "    .colab-df-convert:hover {\n",
              "      background-color: #E2EBFA;\n",
              "      box-shadow: 0px 1px 2px rgba(60, 64, 67, 0.3), 0px 1px 3px 1px rgba(60, 64, 67, 0.15);\n",
              "      fill: #174EA6;\n",
              "    }\n",
              "\n",
              "    [theme=dark] .colab-df-convert {\n",
              "      background-color: #3B4455;\n",
              "      fill: #D2E3FC;\n",
              "    }\n",
              "\n",
              "    [theme=dark] .colab-df-convert:hover {\n",
              "      background-color: #434B5C;\n",
              "      box-shadow: 0px 1px 3px 1px rgba(0, 0, 0, 0.15);\n",
              "      filter: drop-shadow(0px 1px 2px rgba(0, 0, 0, 0.3));\n",
              "      fill: #FFFFFF;\n",
              "    }\n",
              "  </style>\n",
              "\n",
              "      <script>\n",
              "        const buttonEl =\n",
              "          document.querySelector('#df-b66a7136-555b-4d33-9e43-dde5c58b1a9f button.colab-df-convert');\n",
              "        buttonEl.style.display =\n",
              "          google.colab.kernel.accessAllowed ? 'block' : 'none';\n",
              "\n",
              "        async function convertToInteractive(key) {\n",
              "          const element = document.querySelector('#df-b66a7136-555b-4d33-9e43-dde5c58b1a9f');\n",
              "          const dataTable =\n",
              "            await google.colab.kernel.invokeFunction('convertToInteractive',\n",
              "                                                     [key], {});\n",
              "          if (!dataTable) return;\n",
              "\n",
              "          const docLinkHtml = 'Like what you see? Visit the ' +\n",
              "            '<a target=\"_blank\" href=https://colab.research.google.com/notebooks/data_table.ipynb>data table notebook</a>'\n",
              "            + ' to learn more about interactive tables.';\n",
              "          element.innerHTML = '';\n",
              "          dataTable['output_type'] = 'display_data';\n",
              "          await google.colab.output.renderOutput(dataTable, element);\n",
              "          const docLink = document.createElement('div');\n",
              "          docLink.innerHTML = docLinkHtml;\n",
              "          element.appendChild(docLink);\n",
              "        }\n",
              "      </script>\n",
              "    </div>\n",
              "  </div>\n",
              "  "
            ]
          },
          "metadata": {},
          "execution_count": 16
        }
      ]
    },
    {
      "cell_type": "markdown",
      "source": [
        "**Dataset Breast Cancer Wisconsin**"
      ],
      "metadata": {
        "id": "3_VtNFzHksGo"
      }
    },
    {
      "cell_type": "code",
      "source": [
        "#Breast Cancer Wisconsin (Diagnostic) Data set\n",
        "columnas=['id', 'Clump Thickness', 'Cell Size', 'Cell Shape', 'Marginal Adhesion', 'Epithelial Cell Size', 'Bare Nuclei', 'Bland Chromatin', 'Normal Nucleoli', 'Mitoses', 'Class']\n",
        "cancer_features=['id', 'Clump Thickness', 'Cell Size', 'Cell Shape', 'Marginal Adhesion', 'Epithelial Cell Size', 'Bare Nuclei', 'Bland Chromatin', 'Normal Nucleoli', 'Mitoses']\n",
        "cancer=readDataset('https://raw.githubusercontent.com/victoriapl01/Mineria_De_Datos/main/Datasets/breast-cancer-wisconsin.data', columnas)\n",
        "cancer_X=cancer[cancer_features]\n",
        "cancer_y= cancer['Class']\n",
        "cancer.head()"
      ],
      "metadata": {
        "colab": {
          "base_uri": "https://localhost:8080/",
          "height": 268
        },
        "id": "5wklXBKZkp2p",
        "outputId": "67e1d89b-e504-49c3-d86d-43c5e65732bc"
      },
      "execution_count": 17,
      "outputs": [
        {
          "output_type": "execute_result",
          "data": {
            "text/plain": [
              "        id  Clump Thickness  Cell Size  Cell Shape  Marginal Adhesion  \\\n",
              "0  1000025                5          1           1                  1   \n",
              "1  1002945                5          4           4                  5   \n",
              "2  1015425                3          1           1                  1   \n",
              "3  1016277                6          8           8                  1   \n",
              "4  1017023                4          1           1                  3   \n",
              "\n",
              "   Epithelial Cell Size  Bare Nuclei  Bland Chromatin  Normal Nucleoli  \\\n",
              "0                     2            1                3                1   \n",
              "1                     7           10                3                2   \n",
              "2                     2            2                3                1   \n",
              "3                     3            4                3                7   \n",
              "4                     2            1                3                1   \n",
              "\n",
              "   Mitoses  Class  \n",
              "0        1      2  \n",
              "1        1      2  \n",
              "2        1      2  \n",
              "3        1      2  \n",
              "4        1      2  "
            ],
            "text/html": [
              "\n",
              "  <div id=\"df-90dae4bb-3961-434e-ba24-cb3c8e73d8b5\">\n",
              "    <div class=\"colab-df-container\">\n",
              "      <div>\n",
              "<style scoped>\n",
              "    .dataframe tbody tr th:only-of-type {\n",
              "        vertical-align: middle;\n",
              "    }\n",
              "\n",
              "    .dataframe tbody tr th {\n",
              "        vertical-align: top;\n",
              "    }\n",
              "\n",
              "    .dataframe thead th {\n",
              "        text-align: right;\n",
              "    }\n",
              "</style>\n",
              "<table border=\"1\" class=\"dataframe\">\n",
              "  <thead>\n",
              "    <tr style=\"text-align: right;\">\n",
              "      <th></th>\n",
              "      <th>id</th>\n",
              "      <th>Clump Thickness</th>\n",
              "      <th>Cell Size</th>\n",
              "      <th>Cell Shape</th>\n",
              "      <th>Marginal Adhesion</th>\n",
              "      <th>Epithelial Cell Size</th>\n",
              "      <th>Bare Nuclei</th>\n",
              "      <th>Bland Chromatin</th>\n",
              "      <th>Normal Nucleoli</th>\n",
              "      <th>Mitoses</th>\n",
              "      <th>Class</th>\n",
              "    </tr>\n",
              "  </thead>\n",
              "  <tbody>\n",
              "    <tr>\n",
              "      <th>0</th>\n",
              "      <td>1000025</td>\n",
              "      <td>5</td>\n",
              "      <td>1</td>\n",
              "      <td>1</td>\n",
              "      <td>1</td>\n",
              "      <td>2</td>\n",
              "      <td>1</td>\n",
              "      <td>3</td>\n",
              "      <td>1</td>\n",
              "      <td>1</td>\n",
              "      <td>2</td>\n",
              "    </tr>\n",
              "    <tr>\n",
              "      <th>1</th>\n",
              "      <td>1002945</td>\n",
              "      <td>5</td>\n",
              "      <td>4</td>\n",
              "      <td>4</td>\n",
              "      <td>5</td>\n",
              "      <td>7</td>\n",
              "      <td>10</td>\n",
              "      <td>3</td>\n",
              "      <td>2</td>\n",
              "      <td>1</td>\n",
              "      <td>2</td>\n",
              "    </tr>\n",
              "    <tr>\n",
              "      <th>2</th>\n",
              "      <td>1015425</td>\n",
              "      <td>3</td>\n",
              "      <td>1</td>\n",
              "      <td>1</td>\n",
              "      <td>1</td>\n",
              "      <td>2</td>\n",
              "      <td>2</td>\n",
              "      <td>3</td>\n",
              "      <td>1</td>\n",
              "      <td>1</td>\n",
              "      <td>2</td>\n",
              "    </tr>\n",
              "    <tr>\n",
              "      <th>3</th>\n",
              "      <td>1016277</td>\n",
              "      <td>6</td>\n",
              "      <td>8</td>\n",
              "      <td>8</td>\n",
              "      <td>1</td>\n",
              "      <td>3</td>\n",
              "      <td>4</td>\n",
              "      <td>3</td>\n",
              "      <td>7</td>\n",
              "      <td>1</td>\n",
              "      <td>2</td>\n",
              "    </tr>\n",
              "    <tr>\n",
              "      <th>4</th>\n",
              "      <td>1017023</td>\n",
              "      <td>4</td>\n",
              "      <td>1</td>\n",
              "      <td>1</td>\n",
              "      <td>3</td>\n",
              "      <td>2</td>\n",
              "      <td>1</td>\n",
              "      <td>3</td>\n",
              "      <td>1</td>\n",
              "      <td>1</td>\n",
              "      <td>2</td>\n",
              "    </tr>\n",
              "  </tbody>\n",
              "</table>\n",
              "</div>\n",
              "      <button class=\"colab-df-convert\" onclick=\"convertToInteractive('df-90dae4bb-3961-434e-ba24-cb3c8e73d8b5')\"\n",
              "              title=\"Convert this dataframe to an interactive table.\"\n",
              "              style=\"display:none;\">\n",
              "        \n",
              "  <svg xmlns=\"http://www.w3.org/2000/svg\" height=\"24px\"viewBox=\"0 0 24 24\"\n",
              "       width=\"24px\">\n",
              "    <path d=\"M0 0h24v24H0V0z\" fill=\"none\"/>\n",
              "    <path d=\"M18.56 5.44l.94 2.06.94-2.06 2.06-.94-2.06-.94-.94-2.06-.94 2.06-2.06.94zm-11 1L8.5 8.5l.94-2.06 2.06-.94-2.06-.94L8.5 2.5l-.94 2.06-2.06.94zm10 10l.94 2.06.94-2.06 2.06-.94-2.06-.94-.94-2.06-.94 2.06-2.06.94z\"/><path d=\"M17.41 7.96l-1.37-1.37c-.4-.4-.92-.59-1.43-.59-.52 0-1.04.2-1.43.59L10.3 9.45l-7.72 7.72c-.78.78-.78 2.05 0 2.83L4 21.41c.39.39.9.59 1.41.59.51 0 1.02-.2 1.41-.59l7.78-7.78 2.81-2.81c.8-.78.8-2.07 0-2.86zM5.41 20L4 18.59l7.72-7.72 1.47 1.35L5.41 20z\"/>\n",
              "  </svg>\n",
              "      </button>\n",
              "      \n",
              "  <style>\n",
              "    .colab-df-container {\n",
              "      display:flex;\n",
              "      flex-wrap:wrap;\n",
              "      gap: 12px;\n",
              "    }\n",
              "\n",
              "    .colab-df-convert {\n",
              "      background-color: #E8F0FE;\n",
              "      border: none;\n",
              "      border-radius: 50%;\n",
              "      cursor: pointer;\n",
              "      display: none;\n",
              "      fill: #1967D2;\n",
              "      height: 32px;\n",
              "      padding: 0 0 0 0;\n",
              "      width: 32px;\n",
              "    }\n",
              "\n",
              "    .colab-df-convert:hover {\n",
              "      background-color: #E2EBFA;\n",
              "      box-shadow: 0px 1px 2px rgba(60, 64, 67, 0.3), 0px 1px 3px 1px rgba(60, 64, 67, 0.15);\n",
              "      fill: #174EA6;\n",
              "    }\n",
              "\n",
              "    [theme=dark] .colab-df-convert {\n",
              "      background-color: #3B4455;\n",
              "      fill: #D2E3FC;\n",
              "    }\n",
              "\n",
              "    [theme=dark] .colab-df-convert:hover {\n",
              "      background-color: #434B5C;\n",
              "      box-shadow: 0px 1px 3px 1px rgba(0, 0, 0, 0.15);\n",
              "      filter: drop-shadow(0px 1px 2px rgba(0, 0, 0, 0.3));\n",
              "      fill: #FFFFFF;\n",
              "    }\n",
              "  </style>\n",
              "\n",
              "      <script>\n",
              "        const buttonEl =\n",
              "          document.querySelector('#df-90dae4bb-3961-434e-ba24-cb3c8e73d8b5 button.colab-df-convert');\n",
              "        buttonEl.style.display =\n",
              "          google.colab.kernel.accessAllowed ? 'block' : 'none';\n",
              "\n",
              "        async function convertToInteractive(key) {\n",
              "          const element = document.querySelector('#df-90dae4bb-3961-434e-ba24-cb3c8e73d8b5');\n",
              "          const dataTable =\n",
              "            await google.colab.kernel.invokeFunction('convertToInteractive',\n",
              "                                                     [key], {});\n",
              "          if (!dataTable) return;\n",
              "\n",
              "          const docLinkHtml = 'Like what you see? Visit the ' +\n",
              "            '<a target=\"_blank\" href=https://colab.research.google.com/notebooks/data_table.ipynb>data table notebook</a>'\n",
              "            + ' to learn more about interactive tables.';\n",
              "          element.innerHTML = '';\n",
              "          dataTable['output_type'] = 'display_data';\n",
              "          await google.colab.output.renderOutput(dataTable, element);\n",
              "          const docLink = document.createElement('div');\n",
              "          docLink.innerHTML = docLinkHtml;\n",
              "          element.appendChild(docLink);\n",
              "        }\n",
              "      </script>\n",
              "    </div>\n",
              "  </div>\n",
              "  "
            ]
          },
          "metadata": {},
          "execution_count": 17
        }
      ]
    },
    {
      "cell_type": "markdown",
      "source": [
        "###**2. Evalúe el árbol de decisión y el vecino más cercano sobre los datos originales**###"
      ],
      "metadata": {
        "id": "UEiygfWXf6Oq"
      }
    },
    {
      "cell_type": "markdown",
      "source": [
        "Para evaluar los distintos modelos, vamos a hacer uso de la métrica de precisión (accuracy), para ello entrenaremos los modelos con los diferentes datasets para posteriormente calcular la precisión de cada modelo en cada uno de los datasets. \n"
      ],
      "metadata": {
        "id": "SK0PMcwDgtbq"
      }
    },
    {
      "cell_type": "code",
      "source": [
        "accuracy=[]\n",
        "accuracy_tree=[]\n",
        "accuracy_knn=[]"
      ],
      "metadata": {
        "id": "5-A1LlbfgGfT"
      },
      "execution_count": 18,
      "outputs": []
    },
    {
      "cell_type": "code",
      "source": [
        "#Dataset iris\n",
        "accuracy.append('iris')\n",
        "accuracy_tree.append(accuracyDataset(iris_X,iris_y,tree))\n",
        "accuracy_knn.append(accuracyDataset(iris_X, iris_y, knn))"
      ],
      "metadata": {
        "id": "u7fWMJFNh0AX"
      },
      "execution_count": 19,
      "outputs": []
    },
    {
      "cell_type": "code",
      "source": [
        "#Dataset car\n",
        "accuracy.append('car')\n",
        "accuracy_tree.append(accuracyDataset(car_X,car_y,tree))\n",
        "accuracy_knn.append(accuracyDataset( car_X, car_y, knn))"
      ],
      "metadata": {
        "id": "naMuMKhStvg7"
      },
      "execution_count": 21,
      "outputs": []
    },
    {
      "cell_type": "code",
      "source": [
        "#Dataset wine\n",
        "accuracy.append('wine')\n",
        "accuracy_tree.append(accuracyDataset(wine_X, wine_y, tree))\n",
        "accuracy_knn.append(accuracyDataset(wine_X, wine_y, knn))"
      ],
      "metadata": {
        "id": "w4Hj91stjqMY"
      },
      "execution_count": 22,
      "outputs": []
    },
    {
      "cell_type": "code",
      "source": [
        "#Dataset diabetes\n",
        "accuracy.append('diabetes')\n",
        "accuracy_tree.append(accuracyDataset(diabetes_X, diabetes_y, tree))\n",
        "accuracy_knn.append(accuracyDataset(diabetes_X, diabetes_y, knn))"
      ],
      "metadata": {
        "id": "Aagptqi3j7q2"
      },
      "execution_count": 23,
      "outputs": []
    },
    {
      "cell_type": "code",
      "source": [
        "#Dataset glass\n",
        "accuracy.append('glass')\n",
        "accuracy_tree.append(accuracyDataset(glass_X, glass_y, tree))\n",
        "accuracy_knn.append(accuracyDataset(glass_X, glass_y, knn))"
      ],
      "metadata": {
        "id": "GPrsMAU5mR5q"
      },
      "execution_count": 24,
      "outputs": []
    },
    {
      "cell_type": "code",
      "source": [
        "#Dataset cancer\n",
        "accuracy.append('cancer')\n",
        "accuracy_tree.append(accuracyDataset(cancer_X,cancer_y,tree))\n",
        "accuracy_knn.append(accuracyDataset(cancer_X,cancer_y,knn))"
      ],
      "metadata": {
        "id": "80PtptJXkHbo"
      },
      "execution_count": 25,
      "outputs": []
    },
    {
      "cell_type": "code",
      "source": [
        "accuracyGraphic(accuracy, accuracy_tree, accuracy_knn, \"Arbol de Decisión \", \" KNN\")"
      ],
      "metadata": {
        "colab": {
          "base_uri": "https://localhost:8080/",
          "height": 295
        },
        "id": "R_JXpyBopcoH",
        "outputId": "bf46c3a7-9663-4d55-fd3a-a869ff6354fd"
      },
      "execution_count": 26,
      "outputs": [
        {
          "output_type": "display_data",
          "data": {
            "text/plain": [
              "<Figure size 432x288 with 1 Axes>"
            ],
            "image/png": "[encoded data removed]"
          },
          "metadata": {
            "needs_background": "light"
          }
        }
      ]
    },
    {
      "cell_type": "code",
      "source": [
        "print('Iris Dataset')\n",
        "confusionMatrix(tree,iris_X,iris_y)\n",
        "print(' ')\n",
        "confusionMatrix(knn,iris_X,iris_y)"
      ],
      "metadata": {
        "id": "KEUnEbfK1NuY",
        "colab": {
          "base_uri": "https://localhost:8080/"
        },
        "outputId": "133eafa2-4e7e-46ff-c6a4-0ad3e925857e"
      },
      "execution_count": 27,
      "outputs": [
        {
          "output_type": "stream",
          "name": "stdout",
          "text": [
            "Iris Dataset\n",
            "[[11  0  0]\n",
            " [ 0 12  1]\n",
            " [ 0  0  6]]\n",
            " \n",
            "[[11  0  0]\n",
            " [ 0 13  0]\n",
            " [ 0  0  6]]\n"
          ]
        }
      ]
    },
    {
      "cell_type": "code",
      "source": [
        "print('Car Dataset')\n",
        "confusionMatrix(tree, car_X, car_y)\n",
        "print(' ')\n",
        "confusionMatrix(knn, car_X, car_y)"
      ],
      "metadata": {
        "colab": {
          "base_uri": "https://localhost:8080/"
        },
        "id": "zNrIi5LR1PQe",
        "outputId": "6ae015bb-cef8-48c0-a9f7-106a53fb7ad9"
      },
      "execution_count": 28,
      "outputs": [
        {
          "output_type": "stream",
          "name": "stdout",
          "text": [
            "Car Dataset\n",
            "[[ 57   0   1   1]\n",
            " [  0  13   1   0]\n",
            " [  4   0 256   0]\n",
            " [  0   1   0  12]]\n",
            " \n",
            "[[ 53   0   6   0]\n",
            " [ 10   4   0   0]\n",
            " [  4   0 256   0]\n",
            " [  4   2   0   7]]\n"
          ]
        }
      ]
    },
    {
      "cell_type": "code",
      "source": [
        "print('Wine Dataset')\n",
        "confusionMatrix(tree,wine_X,wine_y)\n",
        "print(' ')\n",
        "confusionMatrix(knn,wine_X,wine_y)"
      ],
      "metadata": {
        "colab": {
          "base_uri": "https://localhost:8080/"
        },
        "id": "_6rV5cqd1Wf5",
        "outputId": "2f547147-48c6-4397-95a3-6ca20289be88"
      },
      "execution_count": 29,
      "outputs": [
        {
          "output_type": "stream",
          "name": "stdout",
          "text": [
            "Wine Dataset\n",
            "[[13  1  0]\n",
            " [ 1 12  0]\n",
            " [ 0  1  8]]\n",
            " \n",
            "[[12  0  2]\n",
            " [ 1  9  3]\n",
            " [ 0  7  2]]\n"
          ]
        }
      ]
    },
    {
      "cell_type": "code",
      "source": [
        "print('Diabetes Dataset')\n",
        "confusionMatrix(tree,diabetes_X,diabetes_y)\n",
        "print(' ')\n",
        "confusionMatrix(knn,diabetes_X,diabetes_y)"
      ],
      "metadata": {
        "colab": {
          "base_uri": "https://localhost:8080/"
        },
        "id": "HQNQXWJT1YCK",
        "outputId": "db23329a-f2f8-405d-fd9e-31bf5063403e"
      },
      "execution_count": 30,
      "outputs": [
        {
          "output_type": "stream",
          "name": "stdout",
          "text": [
            "Diabetes Dataset\n",
            "[[77 22]\n",
            " [26 29]]\n",
            " \n",
            "[[82 17]\n",
            " [24 31]]\n"
          ]
        }
      ]
    },
    {
      "cell_type": "code",
      "source": [
        "print('Cancer Dataset')\n",
        "confusionMatrix(tree,cancer_X,cancer_y)\n",
        "print(' ')\n",
        "confusionMatrix(knn,cancer_X,cancer_y)"
      ],
      "metadata": {
        "colab": {
          "base_uri": "https://localhost:8080/"
        },
        "id": "4ddnLrN81ZWN",
        "outputId": "8bba4349-a2a1-467d-931c-59de78ecb60e"
      },
      "execution_count": 31,
      "outputs": [
        {
          "output_type": "stream",
          "name": "stdout",
          "text": [
            "Cancer Dataset\n",
            "[[88  2]\n",
            " [ 6 41]]\n",
            " \n",
            "[[71 19]\n",
            " [37 10]]\n"
          ]
        }
      ]
    },
    {
      "cell_type": "code",
      "source": [
        "print('Glass dataset')\n",
        "confusionMatrix(tree,glass_X,glass_y)\n",
        "print(' ')\n",
        "confusionMatrix(knn,glass_X,glass_y)\n"
      ],
      "metadata": {
        "colab": {
          "base_uri": "https://localhost:8080/"
        },
        "id": "ZxQHtxrO1ajV",
        "outputId": "b0deed1c-628d-4833-812e-09ceedcf4a53"
      },
      "execution_count": 32,
      "outputs": [
        {
          "output_type": "stream",
          "name": "stdout",
          "text": [
            "Glass dataset\n",
            "[[ 5  2  3  0  0  0]\n",
            " [ 6 14  0  0  1  1]\n",
            " [ 1  1  1  0  0  0]\n",
            " [ 0  0  0  2  0  0]\n",
            " [ 0  0  0  0  4  1]\n",
            " [ 1  0  0  0  0  0]]\n",
            " \n",
            "[[ 8  1  1  0  0  0]\n",
            " [ 6 15  0  1  0  0]\n",
            " [ 2  0  1  0  0  0]\n",
            " [ 0  0  0  2  0  0]\n",
            " [ 0  0  0  0  5  0]\n",
            " [ 0  0  0  0  0  1]]\n"
          ]
        }
      ]
    },
    {
      "cell_type": "markdown",
      "source": [
        "###**3. Estudie el efecto de la normalización (reescalar en el intervalo[0,1] y la estandarización((μ = 0, σ = 1) sobre el error de clasifiación usando el árbol de decisión y el vecino más cercano. Comente los resultados**###\n"
      ],
      "metadata": {
        "id": "J_PooSni1gZw"
      }
    },
    {
      "cell_type": "markdown",
      "source": [
        "NORMALIZACIÓN [0,1]"
      ],
      "metadata": {
        "id": "SGZJcegO8Vr1"
      }
    },
    {
      "cell_type": "code",
      "source": [
        "from sklearn import preprocessing\n",
        "error=[]\n",
        "error_tree=[] \n",
        "error_knn=[]"
      ],
      "metadata": {
        "id": "XUWYQIwjrv5t"
      },
      "execution_count": 33,
      "outputs": []
    },
    {
      "cell_type": "code",
      "source": [
        "#Dataset Iris\n",
        "error.append('iris')\n",
        "iris_XN = preprocessing.normalize(iris_X)\n",
        "error_tree.append(1-accuracyDataset(iris_XN,iris_y,tree))\n",
        "error_knn.append(1-accuracyDataset(iris_XN, iris_y, knn))"
      ],
      "metadata": {
        "id": "0g5SY8aI5jhm"
      },
      "execution_count": 34,
      "outputs": []
    },
    {
      "cell_type": "code",
      "source": [
        "#Dataset Car\n",
        "error.append('car')\n",
        "car_XN = preprocessing.normalize(car_X)\n",
        "error_tree.append(1-accuracyDataset(car_XN,car_y,tree))\n",
        "error_knn.append(1-accuracyDataset(car_XN,car_y,knn))"
      ],
      "metadata": {
        "id": "zgd_RM1R6Baf"
      },
      "execution_count": 35,
      "outputs": []
    },
    {
      "cell_type": "code",
      "source": [
        "#Dataset wine\n",
        "error.append('wine')\n",
        "wine_XN = preprocessing.normalize(wine_X)\n",
        "error_tree.append(1-accuracyDataset(wine_XN,wine_y,tree))\n",
        "error_knn.append(1-accuracyDataset(wine_XN,wine_y,knn))"
      ],
      "metadata": {
        "id": "_lkiyxep7DlG"
      },
      "execution_count": 36,
      "outputs": []
    },
    {
      "cell_type": "code",
      "source": [
        "#Dataset diabetes\n",
        "error.append('diabetes')\n",
        "diabetes_XN = preprocessing.normalize(diabetes_X)\n",
        "error_tree.append(1-accuracyDataset(diabetes_XN,diabetes_y,tree))\n",
        "error_knn.append(1-accuracyDataset(diabetes_XN,diabetes_y,knn))"
      ],
      "metadata": {
        "id": "n4vJFgF67R49"
      },
      "execution_count": 37,
      "outputs": []
    },
    {
      "cell_type": "code",
      "source": [
        "#Dataset glass\n",
        "error.append('glass')\n",
        "glass_XN = preprocessing.normalize(glass_X)\n",
        "error_tree.append(1-accuracyDataset(glass_XN,glass_y,tree))\n",
        "error_knn.append(1-accuracyDataset(glass_XN,glass_y,knn))"
      ],
      "metadata": {
        "id": "KGXQXaHl7WII"
      },
      "execution_count": 38,
      "outputs": []
    },
    {
      "cell_type": "code",
      "source": [
        "#Dataset cancer\n",
        "error.append('cancer')\n",
        "cancer_XN = preprocessing.normalize(cancer_X)\n",
        "error_tree.append(1-accuracyDataset(cancer_XN,cancer_y,tree))\n",
        "error_knn.append(1-accuracyDataset(cancer_XN,cancer_y,knn))"
      ],
      "metadata": {
        "id": "_fxHMKlz7YNK"
      },
      "execution_count": 39,
      "outputs": []
    },
    {
      "cell_type": "code",
      "source": [
        "accuracyGraphic(error, error_tree, error_knn, \"Arbol de Decisión \", \" KNN\")"
      ],
      "metadata": {
        "colab": {
          "base_uri": "https://localhost:8080/",
          "height": 295
        },
        "id": "JLfrgryS8CZw",
        "outputId": "d8f4c256-7e7f-43d5-e484-693b218fe948"
      },
      "execution_count": 40,
      "outputs": [
        {
          "output_type": "display_data",
          "data": {
            "text/plain": [
              "<Figure size 432x288 with 1 Axes>"
            ],
            "image/png": "[encoded data removed]"
          },
          "metadata": {
            "needs_background": "light"
          }
        }
      ]
    },
    {
      "cell_type": "markdown",
      "source": [
        "###**4. Estudie el efecto del análisis en componentes principales sobre el árbol de decisión y el vecino más cercano. Comente lo resultados. Estudie el efecto según el número de componentes retenidas.**###"
      ],
      "metadata": {
        "id": "5ZUEHjqiB4Wl"
      }
    },
    {
      "cell_type": "code",
      "source": [
        "from sklearn.model_selection import GridSearchCV\n",
        "def comp_principalesKNN (data_X, data_y):\n",
        "  accuracy_knn=[]\n",
        "  knn=KNeighborsClassifier(n_neighbors=5)\n",
        "  accuracy_knn.append(accuracyDataset( data_X, data_y, knn))\n",
        "  k_range = list(range(1, 51))\n",
        "  param_grid = dict(n_neighbors=k_range)\n",
        "    \n",
        "  # defining parameter range\n",
        "  grid = GridSearchCV(knn, param_grid, cv=10, scoring='accuracy', return_train_score=False,verbose=1)\n",
        "    \n",
        "  # fitting the model for grid search\n",
        "  grid_search=grid.fit(data_X, data_y)\n",
        "  print ('Mejor componente principal',grid_search.best_params_)\n",
        "  knn= KNeighborsClassifier(n_neighbors=grid_search.best_params_['n_neighbors'])\n",
        "  accuracy_knn.append(accuracyDataset( data_X, data_y, knn))\n",
        "\n",
        "  return accuracy_knn"
      ],
      "metadata": {
        "id": "a3PhP-8oJmJa"
      },
      "execution_count": 41,
      "outputs": []
    },
    {
      "cell_type": "code",
      "source": [
        "iris_accuracyKNN=comp_principalesKNN(iris_X, iris_y)\n",
        "iris_accuracyKNN"
      ],
      "metadata": {
        "colab": {
          "base_uri": "https://localhost:8080/"
        },
        "id": "Qg63fpbGKArE",
        "outputId": "d082cf0c-2e99-4cff-cc23-88d5d13b5d2b"
      },
      "execution_count": 42,
      "outputs": [
        {
          "output_type": "stream",
          "name": "stdout",
          "text": [
            "Fitting 10 folds for each of 50 candidates, totalling 500 fits\n",
            "Mejor componente principal {'n_neighbors': 13}\n"
          ]
        },
        {
          "output_type": "execute_result",
          "data": {
            "text/plain": [
              "[1.0, 0.9666666666666667]"
            ]
          },
          "metadata": {},
          "execution_count": 42
        }
      ]
    },
    {
      "cell_type": "code",
      "source": [
        "car_accuracyKNN=comp_principalesKNN(car_X, car_y)\n",
        "car_accuracyKNN"
      ],
      "metadata": {
        "colab": {
          "base_uri": "https://localhost:8080/"
        },
        "id": "URp61oy3K6vx",
        "outputId": "c357bea6-4e6c-4e65-fd2e-555a81cff081"
      },
      "execution_count": 43,
      "outputs": [
        {
          "output_type": "stream",
          "name": "stdout",
          "text": [
            "Fitting 10 folds for each of 50 candidates, totalling 500 fits\n",
            "Mejor componente principal {'n_neighbors': 9}\n"
          ]
        },
        {
          "output_type": "execute_result",
          "data": {
            "text/plain": [
              "[0.9248554913294798, 0.9248554913294798]"
            ]
          },
          "metadata": {},
          "execution_count": 43
        }
      ]
    },
    {
      "cell_type": "code",
      "source": [
        "wine_accuracyKNN=comp_principalesKNN(wine_X,wine_y)\n",
        "wine_accuracyKNN"
      ],
      "metadata": {
        "colab": {
          "base_uri": "https://localhost:8080/"
        },
        "id": "Qo_OxyNnRVAa",
        "outputId": "ceefad85-6b35-4a1d-c5c3-5c87f0043d9d"
      },
      "execution_count": 44,
      "outputs": [
        {
          "output_type": "stream",
          "name": "stdout",
          "text": [
            "Fitting 10 folds for each of 50 candidates, totalling 500 fits\n",
            "Mejor componente principal {'n_neighbors': 1}\n"
          ]
        },
        {
          "output_type": "execute_result",
          "data": {
            "text/plain": [
              "[0.6388888888888888, 0.75]"
            ]
          },
          "metadata": {},
          "execution_count": 44
        }
      ]
    },
    {
      "cell_type": "code",
      "source": [
        "diabetes_accuracyKNN=comp_principalesKNN(diabetes_X,diabetes_y)\n",
        "diabetes_accuracyKNN"
      ],
      "metadata": {
        "colab": {
          "base_uri": "https://localhost:8080/"
        },
        "id": "T3gyoRwDRdAU",
        "outputId": "4be83e44-bc7d-4bf9-b9ef-af5be54a10a5"
      },
      "execution_count": 45,
      "outputs": [
        {
          "output_type": "stream",
          "name": "stdout",
          "text": [
            "Fitting 10 folds for each of 50 candidates, totalling 500 fits\n",
            "Mejor componente principal {'n_neighbors': 17}\n"
          ]
        },
        {
          "output_type": "execute_result",
          "data": {
            "text/plain": [
              "[0.7337662337662337, 0.7857142857142857]"
            ]
          },
          "metadata": {},
          "execution_count": 45
        }
      ]
    },
    {
      "cell_type": "code",
      "source": [
        "glass_accuracyKNN=comp_principalesKNN(glass_X,glass_y)\n",
        "glass_accuracyKNN"
      ],
      "metadata": {
        "colab": {
          "base_uri": "https://localhost:8080/"
        },
        "id": "bpaVHgJwRg-Q",
        "outputId": "cb8fa20a-1e0c-4e8f-f846-df8b2ce33d0c"
      },
      "execution_count": 46,
      "outputs": [
        {
          "output_type": "stream",
          "name": "stdout",
          "text": [
            "Fitting 10 folds for each of 50 candidates, totalling 500 fits\n"
          ]
        },
        {
          "output_type": "stream",
          "name": "stderr",
          "text": [
            "/usr/local/lib/python3.8/dist-packages/sklearn/model_selection/_split.py:676: UserWarning: The least populated class in y has only 9 members, which is less than n_splits=10.\n",
            "  warnings.warn(\n"
          ]
        },
        {
          "output_type": "stream",
          "name": "stdout",
          "text": [
            "Mejor componente principal {'n_neighbors': 1}\n"
          ]
        },
        {
          "output_type": "execute_result",
          "data": {
            "text/plain": [
              "[0.7441860465116279, 0.813953488372093]"
            ]
          },
          "metadata": {},
          "execution_count": 46
        }
      ]
    },
    {
      "cell_type": "code",
      "source": [
        "cancer_accuracyKNN=comp_principalesKNN(cancer_X,cancer_y)\n",
        "cancer_accuracyKNN"
      ],
      "metadata": {
        "colab": {
          "base_uri": "https://localhost:8080/"
        },
        "id": "ZKFCOQU0Rhir",
        "outputId": "6a3a3c86-419b-4065-b2f2-e5290f6370fd"
      },
      "execution_count": 47,
      "outputs": [
        {
          "output_type": "stream",
          "name": "stdout",
          "text": [
            "Fitting 10 folds for each of 50 candidates, totalling 500 fits\n",
            "Mejor componente principal {'n_neighbors': 46}\n"
          ]
        },
        {
          "output_type": "execute_result",
          "data": {
            "text/plain": [
              "[0.5912408759124088, 0.6788321167883211]"
            ]
          },
          "metadata": {},
          "execution_count": 47
        }
      ]
    },
    {
      "cell_type": "code",
      "source": [
        "def comp_principalesDTree(data_X, data_y):\n",
        "  accuracy_DTree=[]\n",
        "  param_dict = {\n",
        "  \"criterion\":['gini','entropy'],\n",
        "  \"max_depth\":range(1,10),\n",
        "  \"min_samples_split\":range(2,10),\n",
        "  \"min_samples_leaf\":range(1,5)\n",
        "  }\n",
        "  tree_clas = DecisionTreeClassifier()\n",
        "  accuracy_DTree.append(accuracyDataset(data_X,data_y, tree_clas))\n",
        "  grid = GridSearchCV(estimator=tree_clas, param_grid=param_dict, cv=5, verbose=True)\n",
        "  grid_search= grid.fit(data_X, data_y)\n",
        "  print('Mejores componentes principales: ', grid_search.best_params_)\n",
        "\n",
        "  tree=DecisionTreeClassifier(criterion=grid_search.best_params_['criterion'], max_depth=grid_search.best_params_['max_depth'], \n",
        "                              min_samples_leaf=grid_search.best_params_['min_samples_leaf'], min_samples_split=grid_search.best_params_['min_samples_split'])\n",
        "  accuracy_DTree.append(accuracyDataset(data_X,data_y, tree))\n",
        "  return accuracy_DTree"
      ],
      "metadata": {
        "id": "4w0tDyPnE8QS"
      },
      "execution_count": 48,
      "outputs": []
    },
    {
      "cell_type": "code",
      "source": [
        "iris_accuracyDTree=comp_principalesDTree(iris_X,iris_y)\n",
        "iris_accuracyDTree"
      ],
      "metadata": {
        "colab": {
          "base_uri": "https://localhost:8080/"
        },
        "id": "-W0fiAbVNrLa",
        "outputId": "f211e18c-6024-44aa-8954-e30a071453e4"
      },
      "execution_count": 49,
      "outputs": [
        {
          "output_type": "stream",
          "name": "stdout",
          "text": [
            "Fitting 5 folds for each of 576 candidates, totalling 2880 fits\n",
            "Mejores componentes principales:  {'criterion': 'gini', 'max_depth': 3, 'min_samples_leaf': 1, 'min_samples_split': 2}\n"
          ]
        },
        {
          "output_type": "execute_result",
          "data": {
            "text/plain": [
              "[0.9666666666666667, 0.9666666666666667]"
            ]
          },
          "metadata": {},
          "execution_count": 49
        }
      ]
    },
    {
      "cell_type": "code",
      "source": [
        "car_accuracyDTree=comp_principalesDTree(car_X, car_y)\n",
        "car_accuracyDTree"
      ],
      "metadata": {
        "colab": {
          "base_uri": "https://localhost:8080/"
        },
        "id": "e-GY51gaSH6D",
        "outputId": "a95de3d3-cdf8-47ca-f020-c2c458f6dac9"
      },
      "execution_count": 50,
      "outputs": [
        {
          "output_type": "stream",
          "name": "stdout",
          "text": [
            "Fitting 5 folds for each of 576 candidates, totalling 2880 fits\n",
            "Mejores componentes principales:  {'criterion': 'entropy', 'max_depth': 8, 'min_samples_leaf': 1, 'min_samples_split': 4}\n"
          ]
        },
        {
          "output_type": "execute_result",
          "data": {
            "text/plain": [
              "[0.976878612716763, 0.9566473988439307]"
            ]
          },
          "metadata": {},
          "execution_count": 50
        }
      ]
    },
    {
      "cell_type": "code",
      "source": [
        "wine_accuracyDTree=comp_principalesDTree(wine_X,wine_y)\n",
        "wine_accuracyDTree"
      ],
      "metadata": {
        "colab": {
          "base_uri": "https://localhost:8080/"
        },
        "outputId": "5520b424-7604-4d33-a027-a7dd6888f4eb",
        "id": "5ZMdTrs6SVKF"
      },
      "execution_count": 51,
      "outputs": [
        {
          "output_type": "stream",
          "name": "stdout",
          "text": [
            "Fitting 5 folds for each of 576 candidates, totalling 2880 fits\n",
            "Mejores componentes principales:  {'criterion': 'entropy', 'max_depth': 3, 'min_samples_leaf': 3, 'min_samples_split': 2}\n"
          ]
        },
        {
          "output_type": "execute_result",
          "data": {
            "text/plain": [
              "[0.8888888888888888, 0.9444444444444444]"
            ]
          },
          "metadata": {},
          "execution_count": 51
        }
      ]
    },
    {
      "cell_type": "code",
      "source": [
        "diabetes_accuracyDTree=comp_principalesDTree(diabetes_X,diabetes_y)\n",
        "diabetes_accuracyDTree"
      ],
      "metadata": {
        "colab": {
          "base_uri": "https://localhost:8080/"
        },
        "outputId": "53782db5-0fcd-4385-e1a8-834ed9209134",
        "id": "wt94MJJFSVKF"
      },
      "execution_count": 52,
      "outputs": [
        {
          "output_type": "stream",
          "name": "stdout",
          "text": [
            "Fitting 5 folds for each of 576 candidates, totalling 2880 fits\n",
            "Mejores componentes principales:  {'criterion': 'gini', 'max_depth': 5, 'min_samples_leaf': 1, 'min_samples_split': 5}\n"
          ]
        },
        {
          "output_type": "execute_result",
          "data": {
            "text/plain": [
              "[0.6818181818181818, 0.7402597402597403]"
            ]
          },
          "metadata": {},
          "execution_count": 52
        }
      ]
    },
    {
      "cell_type": "code",
      "source": [
        "glass_accuracyDTree=comp_principalesDTree(glass_X,glass_y)\n",
        "glass_accuracyDTree"
      ],
      "metadata": {
        "colab": {
          "base_uri": "https://localhost:8080/"
        },
        "outputId": "7a099bfd-02ce-417e-d444-bf1a41a54eb7",
        "id": "aM93LGDXSVKG"
      },
      "execution_count": 53,
      "outputs": [
        {
          "output_type": "stream",
          "name": "stdout",
          "text": [
            "Fitting 5 folds for each of 576 candidates, totalling 2880 fits\n",
            "Mejores componentes principales:  {'criterion': 'gini', 'max_depth': 8, 'min_samples_leaf': 3, 'min_samples_split': 2}\n"
          ]
        },
        {
          "output_type": "execute_result",
          "data": {
            "text/plain": [
              "[0.6744186046511628, 0.7209302325581395]"
            ]
          },
          "metadata": {},
          "execution_count": 53
        }
      ]
    },
    {
      "cell_type": "code",
      "source": [
        "cancer_accuracyDTree=comp_principalesDTree(cancer_X,cancer_y)\n",
        "cancer_accuracyDTree"
      ],
      "metadata": {
        "colab": {
          "base_uri": "https://localhost:8080/"
        },
        "outputId": "c6f598dc-2a09-44fd-f163-ddf3a9566d91",
        "id": "wgr8yq8gSVKG"
      },
      "execution_count": 54,
      "outputs": [
        {
          "output_type": "stream",
          "name": "stdout",
          "text": [
            "Fitting 5 folds for each of 576 candidates, totalling 2880 fits\n",
            "Mejores componentes principales:  {'criterion': 'gini', 'max_depth': 4, 'min_samples_leaf': 2, 'min_samples_split': 4}\n"
          ]
        },
        {
          "output_type": "execute_result",
          "data": {
            "text/plain": [
              "[0.9197080291970803, 0.9854014598540146]"
            ]
          },
          "metadata": {},
          "execution_count": 54
        }
      ]
    },
    {
      "cell_type": "markdown",
      "source": [
        "###**5. Estudie el efecto del muestreo aleatorio del 10% de las  instancias sin reemplazamiento  sobre el árbol de decisión y el vecino más cercano. Comente lo resultados. Compare los resultados con un muestreo del mismo porcentaje pero estratificado**###"
      ],
      "metadata": {
        "id": "GwsSnATvSu-J"
      }
    },
    {
      "cell_type": "code",
      "source": [
        "def muestreoAleatorio( features, label, model):\n",
        "  accuracy=0\n",
        "  X_train, X_test, y_train, y_test = train_test_split(features, label, test_size=0.1, random_state=1)\n",
        "  model.fit(X_train,y_train)\n",
        "  y_pred = model.predict(X_test)\n",
        "  accuracy=metrics.accuracy_score(y_test,y_pred)\n",
        "  return accuracy"
      ],
      "metadata": {
        "id": "NwOkWPQXS_0B"
      },
      "execution_count": 64,
      "outputs": []
    },
    {
      "cell_type": "code",
      "source": [
        "accuracy=[]\n",
        "accuracy_tree=[]\n",
        "accuracy_knn=[]"
      ],
      "metadata": {
        "id": "tTxGJWH8TdEd"
      },
      "execution_count": 65,
      "outputs": []
    },
    {
      "cell_type": "code",
      "source": [
        "#Dataset iris\n",
        "accuracy.append('iris')\n",
        "accuracy_tree.append(muestreoAleatorio(iris_X,iris_y,tree))\n",
        "accuracy_knn.append(muestreoAleatorio(iris_X, iris_y, knn))"
      ],
      "metadata": {
        "id": "FfHVaXyQTdEd"
      },
      "execution_count": 66,
      "outputs": []
    },
    {
      "cell_type": "code",
      "source": [
        "#Dataset car\n",
        "accuracy.append('car')\n",
        "accuracy_tree.append(muestreoAleatorio(car_X,car_y,tree))\n",
        "accuracy_knn.append(muestreoAleatorio( car_X, car_y, knn))"
      ],
      "metadata": {
        "id": "q_melP5wTdEd"
      },
      "execution_count": 67,
      "outputs": []
    },
    {
      "cell_type": "code",
      "source": [
        "#Dataset wine\n",
        "accuracy.append('wine')\n",
        "accuracy_tree.append(muestreoAleatorio(wine_X, wine_y, tree))\n",
        "accuracy_knn.append(muestreoAleatorio(wine_X, wine_y, knn))"
      ],
      "metadata": {
        "id": "LPG8yZSOTdEe"
      },
      "execution_count": 68,
      "outputs": []
    },
    {
      "cell_type": "code",
      "source": [
        "#Dataset diabetes\n",
        "accuracy.append('diabetes')\n",
        "accuracy_tree.append(muestreoAleatorio(diabetes_X, diabetes_y, tree))\n",
        "accuracy_knn.append(muestreoAleatorio(diabetes_X, diabetes_y, knn))"
      ],
      "metadata": {
        "id": "Fwx4INSJTdEe"
      },
      "execution_count": 69,
      "outputs": []
    },
    {
      "cell_type": "code",
      "source": [
        "#Dataset glass\n",
        "accuracy.append('glass')\n",
        "accuracy_tree.append(muestreoAleatorio(glass_X, glass_y, tree))\n",
        "accuracy_knn.append(muestreoAleatorio(glass_X, glass_y, knn))"
      ],
      "metadata": {
        "id": "fCZYdlh1TdEe"
      },
      "execution_count": 70,
      "outputs": []
    },
    {
      "cell_type": "code",
      "source": [
        "#Dataset cancer\n",
        "accuracy.append('cancer')\n",
        "accuracy_tree.append(muestreoAleatorio(cancer_X,cancer_y,tree))\n",
        "accuracy_knn.append(muestreoAleatorio(cancer_X,cancer_y,knn))"
      ],
      "metadata": {
        "id": "mBpjCWy1TdEe"
      },
      "execution_count": 71,
      "outputs": []
    },
    {
      "cell_type": "code",
      "source": [
        "accuracyGraphic(accuracy, accuracy_tree, accuracy_knn, \"Arbol de Decisión \", \" KNN\")"
      ],
      "metadata": {
        "colab": {
          "base_uri": "https://localhost:8080/",
          "height": 295
        },
        "outputId": "0cc9eda3-c3e7-439f-d9ce-da34a35c11fd",
        "id": "kjC-ACgYTdEe"
      },
      "execution_count": 72,
      "outputs": [
        {
          "output_type": "display_data",
          "data": {
            "text/plain": [
              "<Figure size 432x288 with 1 Axes>"
            ],
            "image/png": "[encoded data removed]"
          },
          "metadata": {
            "needs_background": "light"
          }
        }
      ]
    },
    {
      "cell_type": "code",
      "source": [
        "def muestreoEstratificado(features, label, model):\n",
        "  accuracy=0\n",
        "  X_train, X_test, y_train, y_test = train_test_split(features, label, test_size=0.1, random_state=1, stratify=label)\n",
        "  model.fit(X_train,y_train)\n",
        "  y_pred = model.predict(X_test)\n",
        "  accuracy=metrics.accuracy_score(y_test,y_pred)\n",
        "  return accuracy"
      ],
      "metadata": {
        "id": "CnCOpRFQTsVt"
      },
      "execution_count": 76,
      "outputs": []
    },
    {
      "cell_type": "code",
      "source": [
        "accuracy=[]\n",
        "accuracy_tree=[]\n",
        "accuracy_knn=[]"
      ],
      "metadata": {
        "id": "V42k2pTmUBSN"
      },
      "execution_count": 77,
      "outputs": []
    },
    {
      "cell_type": "code",
      "source": [
        "#Dataset iris\n",
        "accuracy.append('iris')\n",
        "accuracy_tree.append(muestreoEstratificado(iris_X,iris_y,tree))\n",
        "accuracy_knn.append(muestreoEstratificado(iris_X, iris_y, knn))"
      ],
      "metadata": {
        "id": "25HLLLRZUBSN"
      },
      "execution_count": 78,
      "outputs": []
    },
    {
      "cell_type": "code",
      "source": [
        "#Dataset car\n",
        "accuracy.append('car')\n",
        "accuracy_tree.append(muestreoEstratificado(car_X,car_y,tree))\n",
        "accuracy_knn.append(muestreoEstratificado( car_X, car_y, knn))"
      ],
      "metadata": {
        "id": "__Nk5WsCUBSN"
      },
      "execution_count": 79,
      "outputs": []
    },
    {
      "cell_type": "code",
      "source": [
        "#Dataset wine\n",
        "accuracy.append('wine')\n",
        "accuracy_tree.append(muestreoEstratificado(wine_X, wine_y, tree))\n",
        "accuracy_knn.append(muestreoEstratificado(wine_X, wine_y, knn))"
      ],
      "metadata": {
        "id": "1B6JSESEUBSN"
      },
      "execution_count": 80,
      "outputs": []
    },
    {
      "cell_type": "code",
      "source": [
        "#Dataset diabetes\n",
        "accuracy.append('diabetes')\n",
        "accuracy_tree.append(muestreoEstratificado(diabetes_X, diabetes_y, tree))\n",
        "accuracy_knn.append(muestreoEstratificado(diabetes_X, diabetes_y, knn))"
      ],
      "metadata": {
        "id": "ACtS_PWKUBSO"
      },
      "execution_count": 81,
      "outputs": []
    },
    {
      "cell_type": "code",
      "source": [
        "#Dataset glass\n",
        "accuracy.append('glass')\n",
        "accuracy_tree.append(muestreoEstratificado(glass_X, glass_y, tree))\n",
        "accuracy_knn.append(muestreoEstratificado(glass_X, glass_y, knn))"
      ],
      "metadata": {
        "id": "_fHi_fR0UBSO"
      },
      "execution_count": 82,
      "outputs": []
    },
    {
      "cell_type": "code",
      "source": [
        "#Dataset cancer\n",
        "accuracy.append('cancer')\n",
        "accuracy_tree.append(muestreoEstratificado(cancer_X,cancer_y,tree))\n",
        "accuracy_knn.append(muestreoEstratificado(cancer_X,cancer_y,knn))"
      ],
      "metadata": {
        "id": "N35orZA_UBSO"
      },
      "execution_count": 83,
      "outputs": []
    },
    {
      "cell_type": "code",
      "source": [
        "accuracyGraphic(accuracy, accuracy_tree, accuracy_knn, \"Arbol de Decisión \", \" KNN\")"
      ],
      "metadata": {
        "colab": {
          "base_uri": "https://localhost:8080/",
          "height": 295
        },
        "outputId": "65048e09-16c8-4fa5-8b3e-892e5b056eac",
        "id": "jLA9Ya9oUBSO"
      },
      "execution_count": 84,
      "outputs": [
        {
          "output_type": "display_data",
          "data": {
            "text/plain": [
              "<Figure size 432x288 with 1 Axes>"
            ],
            "image/png": "[encoded data removed]"
          },
          "metadata": {
            "needs_background": "light"
          }
        }
      ]
    },
    {
      "cell_type": "markdown",
      "source": [
        "###**6. Valores perdidos. Existen diferentes métodos para imputar valores perdidos en la biblioteca scikit learn (https://scikit-learn.org/stable/modules/impute.html ). Seleccione un conjunto de datos con valores perdidos y dos métodos de imputación. Estudie el efecto de los métodos de imputación sobre los dos clasificadores**###"
      ],
      "metadata": {
        "id": "aKkxouAPUtsy"
      }
    }
  ]
}