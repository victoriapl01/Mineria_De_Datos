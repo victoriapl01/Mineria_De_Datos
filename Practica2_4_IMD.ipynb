{
  "cells": [
    {
      "cell_type": "code",
      "execution_count": null,
      "metadata": {
        "id": "ftoLybuWn20j"
      },
      "outputs": [],
      "source": [
        "import pandas as pd\n",
        "import numpy as np"
      ]
    },
    {
      "cell_type": "code",
      "execution_count": null,
      "metadata": {
        "id": "Ydir4adS10VG"
      },
      "outputs": [],
      "source": [
        "#Lectura de Dataset haciendo uso de URL de github y el nombre de las columnas\n",
        "def readDataset(file,columns):\n",
        "  dataset=pd.read_csv(file, header=None, names=columns)\n",
        "  return dataset"
      ]
    },
    {
      "cell_type": "markdown",
      "metadata": {
        "id": "eaPQgM77IX4k"
      },
      "source": [
        "###**1. Seleccione un algoritmo clasificación de los disponibles en scikit que sea capaz de resolver problemas de más de dos clases y al menos 10 conjuntos de datos de más de 2 clases (puede reusar los de prácticas anteriores).**###"
      ]
    },
    {
      "cell_type": "code",
      "execution_count": null,
      "metadata": {
        "colab": {
          "base_uri": "https://localhost:8080/"
        },
        "id": "TD9MmUf0Hgcr",
        "outputId": "3fbcf12e-a3bc-44b4-9cc1-87479089e203"
      },
      "outputs": [
        {
          "output_type": "execute_result",
          "data": {
            "text/plain": [
              "array(['Iris-setosa', 'Iris-versicolor', 'Iris-virginica'], dtype=object)"
            ]
          },
          "metadata": {},
          "execution_count": 3
        }
      ],
      "source": [
        "#Iris Data set\n",
        "columnas=['sepal length (cm)', 'sepal width (cm)', 'petal length (cm)', 'petal width (cm)', 'class']\n",
        "iris_features=['sepal length (cm)', 'sepal width (cm)', 'petal length (cm)', 'petal width (cm)']\n",
        "iris= readDataset('https://raw.githubusercontent.com/victoriapl01/Mineria_De_Datos/main/Datasets/iris.data', columnas)\n",
        "iris_X= iris[iris_features]\n",
        "iris_y= iris['class']\n",
        "iris_y.unique()"
      ]
    },
    {
      "cell_type": "code",
      "execution_count": null,
      "metadata": {
        "colab": {
          "base_uri": "https://localhost:8080/"
        },
        "id": "lHdPNo7kI1Lz",
        "outputId": "be4e3846-7892-424d-c8b2-ffb72cefe2ab"
      },
      "outputs": [
        {
          "output_type": "execute_result",
          "data": {
            "text/plain": [
              "array(['unacc', 'acc', 'vgood', 'good'], dtype=object)"
            ]
          },
          "metadata": {},
          "execution_count": 4
        }
      ],
      "source": [
        "#Car Evaluation Data set\n",
        "columnas=['buying','maint','doors', 'persons', 'lug_boot','safety','class']\n",
        "car_features=['buying','maint','doors', 'persons', 'lug_boot','safety']\n",
        "car= readDataset('https://raw.githubusercontent.com/victoriapl01/Mineria_De_Datos/main/Datasets/car.data',columnas)\n",
        "car['buying']=car['buying'].map({'vhigh':4, 'high':3, 'med':2, 'low':1})\n",
        "car['maint']=car['maint'].map({'vhigh':4, 'high':3, 'med':2, 'low':1})\n",
        "car['lug_boot']=car['lug_boot'].map({'small':1, 'med':2, 'big':3})\n",
        "car['safety']=car['safety'].map({'low':1, 'med':2, 'high':3})\n",
        "car['doors']=car['doors'].map({'1':1, '2':2,'3':3,'4':4,'5more':7}) #Esto hará que 7 signifique más de 5 puertas o personas\n",
        "car['persons']=car['persons'].map({'1':1, '2':2,'3':3,'4':4,'more':7})\n",
        "car_X=car[car_features]\n",
        "car_y=car['class']\n",
        "car_y.unique()"
      ]
    },
    {
      "cell_type": "code",
      "execution_count": null,
      "metadata": {
        "colab": {
          "base_uri": "https://localhost:8080/"
        },
        "id": "WbujfPOqI4Sj",
        "outputId": "fec16221-07d6-4f72-93b2-e3330e1b6520"
      },
      "outputs": [
        {
          "output_type": "execute_result",
          "data": {
            "text/plain": [
              "array([1, 2, 3])"
            ]
          },
          "metadata": {},
          "execution_count": 5
        }
      ],
      "source": [
        "#Wine Data Set\n",
        "columnas= ['class','alcohol', 'malic acid', 'ash', 'alcalinityOfAsh', 'Magnesium',' Total Phenols', 'Flavanoids', 'Nonflavanoid phenols', 'Proanthocyanins', 'Color Intensity', 'Hue', 'OD280',' Proline'] \n",
        "wine_features=['alcohol', 'malic acid', 'ash', 'alcalinityOfAsh', 'Magnesium',' Total Phenols', 'Flavanoids', 'Nonflavanoid phenols', 'Proanthocyanins', 'Color Intensity', 'Hue', 'OD280',' Proline'] \n",
        "wine=readDataset('https://raw.githubusercontent.com/victoriapl01/Mineria_De_Datos/main/Datasets/wine.data',columnas)\n",
        "wine_X=wine[wine_features]\n",
        "wine_y=wine['class']\n",
        "wine_y.unique()"
      ]
    },
    {
      "cell_type": "code",
      "execution_count": null,
      "metadata": {
        "colab": {
          "base_uri": "https://localhost:8080/"
        },
        "id": "1eJu2R3cJAKp",
        "outputId": "9354d5d5-c3f6-45e6-81c2-a3cf73bbe81c"
      },
      "outputs": [
        {
          "output_type": "execute_result",
          "data": {
            "text/plain": [
              "array([\"'build wind float'\", \"'vehic wind float'\", 'tableware',\n",
              "       \"'build wind non-float'\", 'headlamps', 'containers'], dtype=object)"
            ]
          },
          "metadata": {},
          "execution_count": 6
        }
      ],
      "source": [
        "#Glass Data set\n",
        "columnas=['RI','Na', 'Mg', 'Al', 'Si','K', 'Ca', 'Ba', 'Fe', 'Type']\n",
        "glass_features=['RI','Na', 'Mg', 'Al', 'Si','K', 'Ca', 'Ba', 'Fe']\n",
        "glass=readDataset('https://raw.githubusercontent.com/victoriapl01/Mineria_De_Datos/main/Datasets/glass.data',columnas)\n",
        "glass_X=glass[glass_features]\n",
        "glass_y=glass['Type']\n",
        "glass_y.unique()"
      ]
    },
    {
      "cell_type": "code",
      "execution_count": null,
      "metadata": {
        "colab": {
          "base_uri": "https://localhost:8080/"
        },
        "id": "rk8yoMgpJBoj",
        "outputId": "27598ed1-471c-448f-bc88-73bdea31d6a6"
      },
      "outputs": [
        {
          "output_type": "execute_result",
          "data": {
            "text/plain": [
              "array(['cement', 'path', 'grass', 'window', 'foliage', 'brickface', 'sky'],\n",
              "      dtype=object)"
            ]
          },
          "metadata": {},
          "execution_count": 7
        }
      ],
      "source": [
        "#Segment_challeng\n",
        "columnas = ['region-centroid-col','region-centroid-row','region-pixel-count','short-line-density-5','short-line-density-2','vedge-mean','vegde-sd','hedge-mean','hedge-sd','intensity-mean','rawred-mean','rawblue-mean','rawgreen-mean','exred-mean','exblue-mean','exgreen-mean','value-mean','saturation-mean','hue-mean','class']\n",
        "segment_features = ['region-centroid-col','region-centroid-row','region-pixel-count','short-line-density-5','short-line-density-2','vedge-mean','vegde-sd','hedge-mean','hedge-sd','intensity-mean','rawred-mean','rawblue-mean','rawgreen-mean','exred-mean','exblue-mean','exgreen-mean','value-mean','saturation-mean','hue-mean']\n",
        "segment = readDataset('https://raw.githubusercontent.com/victoriapl01/Mineria_De_Datos/main/Datasets/segment_challeng.data',columnas)\n",
        "segment_X = segment[segment_features]\n",
        "segment_y = segment['class']\n",
        "segment_y.unique()"
      ]
    },
    {
      "cell_type": "code",
      "execution_count": null,
      "metadata": {
        "colab": {
          "base_uri": "https://localhost:8080/"
        },
        "id": "6NsSbIQv0c1m",
        "outputId": "5d5c6897-a36a-421d-8462-e22ee3005341"
      },
      "outputs": [
        {
          "output_type": "execute_result",
          "data": {
            "text/plain": [
              "array([15,  7,  9, 10,  8, 20, 16, 19, 14, 11, 12, 18, 13,  5,  4,  6, 21,\n",
              "       17, 22,  1,  3, 26, 23, 29,  2, 27, 25, 24])"
            ]
          },
          "metadata": {},
          "execution_count": 8
        }
      ],
      "source": [
        "#abalone Dataset\n",
        "columnas=['Sex','Lenght','Diameter','Height','Whole weight','Shucked weight','Viscera weight','Shell weight','Rings']\n",
        "abalone_features=['Sex','Lenght','Diameter','Height','Whole weight','Shucked weight','Viscera weight','Shell weight']\n",
        "abalone=readDataset('https://raw.githubusercontent.com/victoriapl01/Mineria_De_Datos/main/Datasets/abalone.data',columnas)\n",
        "abalone=abalone.dropna()\n",
        "abalone['Sex']=abalone['Sex'].map({'M':0, 'F':1, 'I':2})\n",
        "abalone_X = abalone[abalone_features]\n",
        "abalone_y = abalone['Rings']\n",
        "abalone_y.unique()"
      ]
    },
    {
      "cell_type": "code",
      "execution_count": null,
      "metadata": {
        "colab": {
          "base_uri": "https://localhost:8080/"
        },
        "id": "CACNa7IiM8NH",
        "outputId": "2846f454-9ac3-43a4-81d5-a4b3fabd7187"
      },
      "outputs": [
        {
          "output_type": "execute_result",
          "data": {
            "text/plain": [
              "array([ 1,  2,  3,  4,  5,  6,  7,  8,  9, 10, 11, 12, 13, 14, 15, 22, 23,\n",
              "       24, 25, 26, 27, 28, 29, 30, 31, 32, 33, 34, 35, 36])"
            ]
          },
          "metadata": {},
          "execution_count": 9
        }
      ],
      "source": [
        "#Leaf dataset\n",
        "leaf=pd.read_csv('https://raw.githubusercontent.com/victoriapl01/Mineria_De_Datos/main/Datasets/leaf.csv')\n",
        "leaf.columns=['class', 'Specimen Nº', 'Eccenticity', 'Aspect Ratio', 'Elongation', 'Solidity', 'Stochastic Convexity','Isoperimetric Factor','Maximal Indentation Depth', 'Lobedness','Intensity', 'Contrast','Smoothness','Thids moment','Uniformity','Entropy']\n",
        "leaf_X = leaf.drop(['class'],axis=1)\n",
        "leaf_y=leaf['class']\n",
        "leaf_y.unique()\n"
      ]
    },
    {
      "cell_type": "code",
      "execution_count": null,
      "metadata": {
        "colab": {
          "base_uri": "https://localhost:8080/",
          "height": 317
        },
        "id": "yegTYZmbxIDo",
        "outputId": "022fce5b-9278-48d9-b314-fb433b0f08cf"
      },
      "outputs": [
        {
          "output_type": "execute_result",
          "data": {
            "text/plain": [
              "   date  plant-stand  precip  temp  hail  corp-hist  area-damaged  severity  \\\n",
              "0     4            0       2     1     1          1             0         1   \n",
              "1     5            0       2     1     0          3             1         1   \n",
              "2     3            0       2     1     0          2             0         2   \n",
              "3     6            0       2     1     0          1             1         1   \n",
              "4     4            0       2     1     0          3             0         2   \n",
              "\n",
              "   seed-tmt  germination  ...  sclerotia  fruit-pods  fruit spots  seed  \\\n",
              "0         0            2  ...          0           0            4     0   \n",
              "1         1            2  ...          0           0            4     0   \n",
              "2         1            1  ...          0           0            4     0   \n",
              "3         0            0  ...          0           0            4     0   \n",
              "4         0            2  ...          0           0            4     0   \n",
              "\n",
              "   mold-growth  seed-discolor  seed-size  shriveling  roots  class  \n",
              "0            0              0          0           0      0     D1  \n",
              "1            0              0          0           0      0     D1  \n",
              "2            0              0          0           0      0     D1  \n",
              "3            0              0          0           0      0     D1  \n",
              "4            0              0          0           0      0     D1  \n",
              "\n",
              "[5 rows x 36 columns]"
            ],
            "text/html": [
              "\n",
              "  <div id=\"df-357ea134-d8d7-4ce1-afb6-822fbf9f0b86\">\n",
              "    <div class=\"colab-df-container\">\n",
              "      <div>\n",
              "<style scoped>\n",
              "    .dataframe tbody tr th:only-of-type {\n",
              "        vertical-align: middle;\n",
              "    }\n",
              "\n",
              "    .dataframe tbody tr th {\n",
              "        vertical-align: top;\n",
              "    }\n",
              "\n",
              "    .dataframe thead th {\n",
              "        text-align: right;\n",
              "    }\n",
              "</style>\n",
              "<table border=\"1\" class=\"dataframe\">\n",
              "  <thead>\n",
              "    <tr style=\"text-align: right;\">\n",
              "      <th></th>\n",
              "      <th>date</th>\n",
              "      <th>plant-stand</th>\n",
              "      <th>precip</th>\n",
              "      <th>temp</th>\n",
              "      <th>hail</th>\n",
              "      <th>corp-hist</th>\n",
              "      <th>area-damaged</th>\n",
              "      <th>severity</th>\n",
              "      <th>seed-tmt</th>\n",
              "      <th>germination</th>\n",
              "      <th>...</th>\n",
              "      <th>sclerotia</th>\n",
              "      <th>fruit-pods</th>\n",
              "      <th>fruit spots</th>\n",
              "      <th>seed</th>\n",
              "      <th>mold-growth</th>\n",
              "      <th>seed-discolor</th>\n",
              "      <th>seed-size</th>\n",
              "      <th>shriveling</th>\n",
              "      <th>roots</th>\n",
              "      <th>class</th>\n",
              "    </tr>\n",
              "  </thead>\n",
              "  <tbody>\n",
              "    <tr>\n",
              "      <th>0</th>\n",
              "      <td>4</td>\n",
              "      <td>0</td>\n",
              "      <td>2</td>\n",
              "      <td>1</td>\n",
              "      <td>1</td>\n",
              "      <td>1</td>\n",
              "      <td>0</td>\n",
              "      <td>1</td>\n",
              "      <td>0</td>\n",
              "      <td>2</td>\n",
              "      <td>...</td>\n",
              "      <td>0</td>\n",
              "      <td>0</td>\n",
              "      <td>4</td>\n",
              "      <td>0</td>\n",
              "      <td>0</td>\n",
              "      <td>0</td>\n",
              "      <td>0</td>\n",
              "      <td>0</td>\n",
              "      <td>0</td>\n",
              "      <td>D1</td>\n",
              "    </tr>\n",
              "    <tr>\n",
              "      <th>1</th>\n",
              "      <td>5</td>\n",
              "      <td>0</td>\n",
              "      <td>2</td>\n",
              "      <td>1</td>\n",
              "      <td>0</td>\n",
              "      <td>3</td>\n",
              "      <td>1</td>\n",
              "      <td>1</td>\n",
              "      <td>1</td>\n",
              "      <td>2</td>\n",
              "      <td>...</td>\n",
              "      <td>0</td>\n",
              "      <td>0</td>\n",
              "      <td>4</td>\n",
              "      <td>0</td>\n",
              "      <td>0</td>\n",
              "      <td>0</td>\n",
              "      <td>0</td>\n",
              "      <td>0</td>\n",
              "      <td>0</td>\n",
              "      <td>D1</td>\n",
              "    </tr>\n",
              "    <tr>\n",
              "      <th>2</th>\n",
              "      <td>3</td>\n",
              "      <td>0</td>\n",
              "      <td>2</td>\n",
              "      <td>1</td>\n",
              "      <td>0</td>\n",
              "      <td>2</td>\n",
              "      <td>0</td>\n",
              "      <td>2</td>\n",
              "      <td>1</td>\n",
              "      <td>1</td>\n",
              "      <td>...</td>\n",
              "      <td>0</td>\n",
              "      <td>0</td>\n",
              "      <td>4</td>\n",
              "      <td>0</td>\n",
              "      <td>0</td>\n",
              "      <td>0</td>\n",
              "      <td>0</td>\n",
              "      <td>0</td>\n",
              "      <td>0</td>\n",
              "      <td>D1</td>\n",
              "    </tr>\n",
              "    <tr>\n",
              "      <th>3</th>\n",
              "      <td>6</td>\n",
              "      <td>0</td>\n",
              "      <td>2</td>\n",
              "      <td>1</td>\n",
              "      <td>0</td>\n",
              "      <td>1</td>\n",
              "      <td>1</td>\n",
              "      <td>1</td>\n",
              "      <td>0</td>\n",
              "      <td>0</td>\n",
              "      <td>...</td>\n",
              "      <td>0</td>\n",
              "      <td>0</td>\n",
              "      <td>4</td>\n",
              "      <td>0</td>\n",
              "      <td>0</td>\n",
              "      <td>0</td>\n",
              "      <td>0</td>\n",
              "      <td>0</td>\n",
              "      <td>0</td>\n",
              "      <td>D1</td>\n",
              "    </tr>\n",
              "    <tr>\n",
              "      <th>4</th>\n",
              "      <td>4</td>\n",
              "      <td>0</td>\n",
              "      <td>2</td>\n",
              "      <td>1</td>\n",
              "      <td>0</td>\n",
              "      <td>3</td>\n",
              "      <td>0</td>\n",
              "      <td>2</td>\n",
              "      <td>0</td>\n",
              "      <td>2</td>\n",
              "      <td>...</td>\n",
              "      <td>0</td>\n",
              "      <td>0</td>\n",
              "      <td>4</td>\n",
              "      <td>0</td>\n",
              "      <td>0</td>\n",
              "      <td>0</td>\n",
              "      <td>0</td>\n",
              "      <td>0</td>\n",
              "      <td>0</td>\n",
              "      <td>D1</td>\n",
              "    </tr>\n",
              "  </tbody>\n",
              "</table>\n",
              "<p>5 rows × 36 columns</p>\n",
              "</div>\n",
              "      <button class=\"colab-df-convert\" onclick=\"convertToInteractive('df-357ea134-d8d7-4ce1-afb6-822fbf9f0b86')\"\n",
              "              title=\"Convert this dataframe to an interactive table.\"\n",
              "              style=\"display:none;\">\n",
              "        \n",
              "  <svg xmlns=\"http://www.w3.org/2000/svg\" height=\"24px\"viewBox=\"0 0 24 24\"\n",
              "       width=\"24px\">\n",
              "    <path d=\"M0 0h24v24H0V0z\" fill=\"none\"/>\n",
              "    <path d=\"M18.56 5.44l.94 2.06.94-2.06 2.06-.94-2.06-.94-.94-2.06-.94 2.06-2.06.94zm-11 1L8.5 8.5l.94-2.06 2.06-.94-2.06-.94L8.5 2.5l-.94 2.06-2.06.94zm10 10l.94 2.06.94-2.06 2.06-.94-2.06-.94-.94-2.06-.94 2.06-2.06.94z\"/><path d=\"M17.41 7.96l-1.37-1.37c-.4-.4-.92-.59-1.43-.59-.52 0-1.04.2-1.43.59L10.3 9.45l-7.72 7.72c-.78.78-.78 2.05 0 2.83L4 21.41c.39.39.9.59 1.41.59.51 0 1.02-.2 1.41-.59l7.78-7.78 2.81-2.81c.8-.78.8-2.07 0-2.86zM5.41 20L4 18.59l7.72-7.72 1.47 1.35L5.41 20z\"/>\n",
              "  </svg>\n",
              "      </button>\n",
              "      \n",
              "  <style>\n",
              "    .colab-df-container {\n",
              "      display:flex;\n",
              "      flex-wrap:wrap;\n",
              "      gap: 12px;\n",
              "    }\n",
              "\n",
              "    .colab-df-convert {\n",
              "      background-color: #E8F0FE;\n",
              "      border: none;\n",
              "      border-radius: 50%;\n",
              "      cursor: pointer;\n",
              "      display: none;\n",
              "      fill: #1967D2;\n",
              "      height: 32px;\n",
              "      padding: 0 0 0 0;\n",
              "      width: 32px;\n",
              "    }\n",
              "\n",
              "    .colab-df-convert:hover {\n",
              "      background-color: #E2EBFA;\n",
              "      box-shadow: 0px 1px 2px rgba(60, 64, 67, 0.3), 0px 1px 3px 1px rgba(60, 64, 67, 0.15);\n",
              "      fill: #174EA6;\n",
              "    }\n",
              "\n",
              "    [theme=dark] .colab-df-convert {\n",
              "      background-color: #3B4455;\n",
              "      fill: #D2E3FC;\n",
              "    }\n",
              "\n",
              "    [theme=dark] .colab-df-convert:hover {\n",
              "      background-color: #434B5C;\n",
              "      box-shadow: 0px 1px 3px 1px rgba(0, 0, 0, 0.15);\n",
              "      filter: drop-shadow(0px 1px 2px rgba(0, 0, 0, 0.3));\n",
              "      fill: #FFFFFF;\n",
              "    }\n",
              "  </style>\n",
              "\n",
              "      <script>\n",
              "        const buttonEl =\n",
              "          document.querySelector('#df-357ea134-d8d7-4ce1-afb6-822fbf9f0b86 button.colab-df-convert');\n",
              "        buttonEl.style.display =\n",
              "          google.colab.kernel.accessAllowed ? 'block' : 'none';\n",
              "\n",
              "        async function convertToInteractive(key) {\n",
              "          const element = document.querySelector('#df-357ea134-d8d7-4ce1-afb6-822fbf9f0b86');\n",
              "          const dataTable =\n",
              "            await google.colab.kernel.invokeFunction('convertToInteractive',\n",
              "                                                     [key], {});\n",
              "          if (!dataTable) return;\n",
              "\n",
              "          const docLinkHtml = 'Like what you see? Visit the ' +\n",
              "            '<a target=\"_blank\" href=https://colab.research.google.com/notebooks/data_table.ipynb>data table notebook</a>'\n",
              "            + ' to learn more about interactive tables.';\n",
              "          element.innerHTML = '';\n",
              "          dataTable['output_type'] = 'display_data';\n",
              "          await google.colab.output.renderOutput(dataTable, element);\n",
              "          const docLink = document.createElement('div');\n",
              "          docLink.innerHTML = docLinkHtml;\n",
              "          element.appendChild(docLink);\n",
              "        }\n",
              "      </script>\n",
              "    </div>\n",
              "  </div>\n",
              "  "
            ]
          },
          "metadata": {},
          "execution_count": 10
        }
      ],
      "source": [
        "#Soybean dataset\n",
        "columnas=['date', 'plant-stand','precip', 'temp','hail','corp-hist','area-damaged','severity','seed-tmt','germination','plan-growth','leaves','leafspots-halo','leafspots-marg','leafspot-size','leaf-shread','leaf-malf','leaf-mild','stem','lodging','stem-cankers','canker-lesion','fruiting-bodies','external decay','mycelium','int-discolor','sclerotia','fruit-pods','fruit spots','seed','mold-growth','seed-discolor','seed-size','shriveling','roots','class']\n",
        "soybean_features=['date', 'plant-stand','precip', 'temp','hail','corp-hist','area-damaged','severity','seed-tmt','germination','plan-growth','leaves','leafspots-halo','leafspots-marg','leafspot-size','leaf-shread','leaf-malf','leaf-mild','stem','lodging','stem-cankers','canker-lesion','fruiting-bodies','external decay','mycelium','int-discolor','sclerotia','fruit-pods','fruit spots','seed','mold-growth','seed-discolor','seed-size','shriveling','roots']\n",
        "soybean=readDataset('https://raw.githubusercontent.com/victoriapl01/Mineria_De_Datos/main/Datasets/soybean-small.data',columnas)\n",
        "soybean_X = soybean[soybean_features]\n",
        "soybean_y = soybean['class']\n",
        "soybean_y.unique()\n",
        "\n",
        "soybean.head()"
      ]
    },
    {
      "cell_type": "code",
      "execution_count": null,
      "metadata": {
        "colab": {
          "base_uri": "https://localhost:8080/"
        },
        "id": "8Y16JILLsoSd",
        "outputId": "41dd42c7-28a7-4175-bfe0-d65f35d6acc6"
      },
      "outputs": [
        {
          "output_type": "execute_result",
          "data": {
            "text/plain": [
              "array([1, 4, 2, 7, 6, 5, 3])"
            ]
          },
          "metadata": {},
          "execution_count": 11
        }
      ],
      "source": [
        "#Zoo dataset\n",
        "columnas=['name', 'hair', 'feathers', 'eggs', 'milk', 'airborne', 'aquatic', 'predator', 'toothed', 'backbone','breathes', 'venomous', 'fins','legs', 'tail', 'domestic','catsize','type']\n",
        "zoo_features=['hair', 'feathers', 'eggs', 'milk', 'airborne', 'aquatic', 'predator', 'toothed', 'backbone','breathes', 'venomous', 'legs', 'tail', 'domestic','catsize']\n",
        "zoo=readDataset('https://raw.githubusercontent.com/victoriapl01/Mineria_De_Datos/main/Datasets/zoo.data',columnas)\n",
        "zoo_X = zoo[zoo_features]\n",
        "zoo_y = zoo['type']\n",
        "zoo_y.unique()"
      ]
    },
    {
      "cell_type": "markdown",
      "metadata": {
        "id": "s05HfJui2h3q"
      },
      "source": [
        "###**2. Aplique el clasificador base a cada uno de los conjuntos y anote los resultados obtenidos.**###"
      ]
    },
    {
      "cell_type": "code",
      "execution_count": null,
      "metadata": {
        "id": "gD0LFCTC3QZg"
      },
      "outputs": [],
      "source": [
        "from sklearn.model_selection import GridSearchCV\n",
        "from sklearn.model_selection import train_test_split\n",
        "from sklearn  import metrics\n",
        "from sklearn import svm"
      ]
    },
    {
      "cell_type": "code",
      "execution_count": null,
      "metadata": {
        "id": "9c3oRycJBUHI"
      },
      "outputs": [],
      "source": [
        "#Compute accuracy of model\n",
        "def accuracyDataset(features, label): \n",
        "  accuracy=0\n",
        "  parameters = [ \n",
        "    {\"kernel\": [\"rbf\"], \"gamma\": [0.01, 0.1, 1.0], \"C\": [1, 10, 100, 1000]}, \n",
        "    {\"kernel\": [\"linear\"], \"C\": [1, 10, 100, 1000]}, ]\n",
        "  #Split into random train and test subsets\n",
        "  X_train, X_test, y_train, y_test = train_test_split(features, label, test_size=0.2, random_state=1)\n",
        "  model= GridSearchCV(svm.SVC(), parameters, cv=5)\n",
        "  #Entrenamiento de datos de entrenamiento\n",
        "  model.fit(X_train,y_train)\n",
        "  #Predice salidas de los datos test\n",
        "  y_pred = model.predict(X_test)\n",
        "  #Calcula precisión del modelo\n",
        "  accuracy = metrics.accuracy_score(y_test, y_pred)\n",
        "  return accuracy"
      ]
    },
    {
      "cell_type": "code",
      "execution_count": null,
      "metadata": {
        "id": "R__6njRU4dQz"
      },
      "outputs": [],
      "source": [
        "accuracy_score=[]"
      ]
    },
    {
      "cell_type": "code",
      "execution_count": null,
      "metadata": {
        "colab": {
          "base_uri": "https://localhost:8080/"
        },
        "id": "_Jw6cjAC5sM2",
        "outputId": "e0009bba-87da-46cb-d497-6c8aad1e4bee"
      },
      "outputs": [
        {
          "output_type": "execute_result",
          "data": {
            "text/plain": [
              "[1.0]"
            ]
          },
          "metadata": {},
          "execution_count": 15
        }
      ],
      "source": [
        "iris_accuracy=accuracyDataset(iris_X, iris_y)\n",
        "accuracy_score.append(iris_accuracy)\n",
        "accuracy_score"
      ]
    },
    {
      "cell_type": "code",
      "execution_count": null,
      "metadata": {
        "colab": {
          "base_uri": "https://localhost:8080/"
        },
        "id": "CKx5yYG05-qa",
        "outputId": "1b3b5f24-60c2-44d6-c22d-a9fe29a6b77f"
      },
      "outputs": [
        {
          "output_type": "execute_result",
          "data": {
            "text/plain": [
              "[1.0, 0.9739884393063584]"
            ]
          },
          "metadata": {},
          "execution_count": 16
        }
      ],
      "source": [
        "car_accuracy=accuracyDataset(car_X, car_y)\n",
        "accuracy_score.append(car_accuracy)\n",
        "accuracy_score"
      ]
    },
    {
      "cell_type": "code",
      "execution_count": null,
      "metadata": {
        "colab": {
          "base_uri": "https://localhost:8080/"
        },
        "id": "XOjyqWni6D_l",
        "outputId": "2dbccb4e-fa35-47a4-e2ca-5cc12aacb677"
      },
      "outputs": [
        {
          "output_type": "execute_result",
          "data": {
            "text/plain": [
              "[1.0, 0.9739884393063584, 0.9444444444444444]"
            ]
          },
          "metadata": {},
          "execution_count": 17
        }
      ],
      "source": [
        "wine_accuracy=accuracyDataset(wine_X, wine_y)\n",
        "accuracy_score.append(wine_accuracy)\n",
        "accuracy_score"
      ]
    },
    {
      "cell_type": "code",
      "execution_count": null,
      "metadata": {
        "colab": {
          "base_uri": "https://localhost:8080/"
        },
        "id": "s1E_qP6p6Hi1",
        "outputId": "aa75e4a9-e82b-4cc1-b5e8-f73bad2cb124"
      },
      "outputs": [
        {
          "output_type": "execute_result",
          "data": {
            "text/plain": [
              "[1.0, 0.9739884393063584, 0.9444444444444444, 0.7674418604651163]"
            ]
          },
          "metadata": {},
          "execution_count": 18
        }
      ],
      "source": [
        "glass_accuracy=accuracyDataset(glass_X, glass_y)\n",
        "accuracy_score.append(glass_accuracy)\n",
        "accuracy_score"
      ]
    },
    {
      "cell_type": "code",
      "execution_count": null,
      "metadata": {
        "colab": {
          "base_uri": "https://localhost:8080/"
        },
        "id": "6pqnmZPY6OE-",
        "outputId": "9ec60074-88fe-4a4e-f62a-3db4b2826de8"
      },
      "outputs": [
        {
          "output_type": "execute_result",
          "data": {
            "text/plain": [
              "[1.0,\n",
              " 0.9739884393063584,\n",
              " 0.9444444444444444,\n",
              " 0.7674418604651163,\n",
              " 0.9506172839506173]"
            ]
          },
          "metadata": {},
          "execution_count": 19
        }
      ],
      "source": [
        "segment_accuracy=accuracyDataset(segment_X, segment_y)\n",
        "accuracy_score.append(segment_accuracy)\n",
        "accuracy_score"
      ]
    },
    {
      "cell_type": "code",
      "execution_count": null,
      "metadata": {
        "colab": {
          "base_uri": "https://localhost:8080/"
        },
        "id": "guVlKOjn6Rvb",
        "outputId": "3a90b8a4-747a-4dbb-be92-9c631b1b87d1"
      },
      "outputs": [
        {
          "output_type": "stream",
          "name": "stderr",
          "text": [
            "/usr/local/lib/python3.8/dist-packages/sklearn/model_selection/_split.py:676: UserWarning: The least populated class in y has only 1 members, which is less than n_splits=5.\n",
            "  warnings.warn(\n"
          ]
        },
        {
          "output_type": "execute_result",
          "data": {
            "text/plain": [
              "[1.0,\n",
              " 0.9739884393063584,\n",
              " 0.9444444444444444,\n",
              " 0.7674418604651163,\n",
              " 0.9506172839506173,\n",
              " 0.27631578947368424]"
            ]
          },
          "metadata": {},
          "execution_count": 20
        }
      ],
      "source": [
        "abalone_accuracy=accuracyDataset(abalone_X, abalone_y)\n",
        "accuracy_score.append(abalone_accuracy)\n",
        "accuracy_score"
      ]
    },
    {
      "cell_type": "code",
      "execution_count": null,
      "metadata": {
        "colab": {
          "base_uri": "https://localhost:8080/"
        },
        "id": "aXg8bQU86ZNJ",
        "outputId": "58f716a8-c0ab-4d69-9ab7-057c9bcfbf14"
      },
      "outputs": [
        {
          "output_type": "execute_result",
          "data": {
            "text/plain": [
              "[1.0,\n",
              " 0.9739884393063584,\n",
              " 0.9444444444444444,\n",
              " 0.7674418604651163,\n",
              " 0.9506172839506173,\n",
              " 0.27631578947368424,\n",
              " 0.75]"
            ]
          },
          "metadata": {},
          "execution_count": 21
        }
      ],
      "source": [
        "leaf_accuracy=accuracyDataset(leaf_X, leaf_y)\n",
        "accuracy_score.append(leaf_accuracy)\n",
        "accuracy_score"
      ]
    },
    {
      "cell_type": "code",
      "execution_count": null,
      "metadata": {
        "colab": {
          "base_uri": "https://localhost:8080/"
        },
        "id": "Rg_vaO1D6gk7",
        "outputId": "8bdada5b-ea80-49d7-9e47-2fa425da9192"
      },
      "outputs": [
        {
          "output_type": "execute_result",
          "data": {
            "text/plain": [
              "[1.0,\n",
              " 0.9739884393063584,\n",
              " 0.9444444444444444,\n",
              " 0.7674418604651163,\n",
              " 0.9506172839506173,\n",
              " 0.27631578947368424,\n",
              " 0.75,\n",
              " 1.0]"
            ]
          },
          "metadata": {},
          "execution_count": 22
        }
      ],
      "source": [
        "soybean_accuracy=accuracyDataset(soybean_X, soybean_y)\n",
        "accuracy_score.append(soybean_accuracy)\n",
        "accuracy_score"
      ]
    },
    {
      "cell_type": "code",
      "execution_count": null,
      "metadata": {
        "colab": {
          "base_uri": "https://localhost:8080/"
        },
        "id": "jxKrD2t36l15",
        "outputId": "df9276f1-9960-40f5-e909-6bbb499f2854"
      },
      "outputs": [
        {
          "output_type": "stream",
          "name": "stderr",
          "text": [
            "/usr/local/lib/python3.8/dist-packages/sklearn/model_selection/_split.py:676: UserWarning: The least populated class in y has only 3 members, which is less than n_splits=5.\n",
            "  warnings.warn(\n"
          ]
        },
        {
          "output_type": "execute_result",
          "data": {
            "text/plain": [
              "[1.0,\n",
              " 0.9739884393063584,\n",
              " 0.9444444444444444,\n",
              " 0.7674418604651163,\n",
              " 0.9506172839506173,\n",
              " 0.27631578947368424,\n",
              " 0.75,\n",
              " 1.0,\n",
              " 0.9523809523809523]"
            ]
          },
          "metadata": {},
          "execution_count": 23
        }
      ],
      "source": [
        "zoo_accuracy=accuracyDataset(zoo_X, zoo_y)\n",
        "accuracy_score.append(zoo_accuracy)\n",
        "accuracy_score"
      ]
    },
    {
      "cell_type": "code",
      "execution_count": null,
      "metadata": {
        "id": "c9W_H-5e6qoH"
      },
      "outputs": [],
      "source": [
        "dataset=['iris','car','wine','glass','segment','abalone','leaf','soybean','zoo']"
      ]
    },
    {
      "cell_type": "code",
      "execution_count": null,
      "metadata": {
        "colab": {
          "base_uri": "https://localhost:8080/",
          "height": 279
        },
        "id": "C1iaKQtF7fhB",
        "outputId": "914f53c5-f3ea-40ad-859a-cd49845a8f74"
      },
      "outputs": [
        {
          "output_type": "display_data",
          "data": {
            "text/plain": [
              "<Figure size 432x288 with 1 Axes>"
            ],
            "image/png": "[encoded data removed]"
          },
          "metadata": {
            "needs_background": "light"
          }
        }
      ],
      "source": [
        "#Uso de gráficas y representación de datos\n",
        "import matplotlib.pyplot as plt\n",
        "plt.barh(dataset,accuracy_score)\n",
        "plt.xlabel('Accuracy')\n",
        "plt.ylabel('Datasets')\n",
        "plt.show()"
      ]
    },
    {
      "cell_type": "markdown",
      "metadata": {
        "id": "IiU5kxbm8Dpm"
      },
      "source": [
        "###**3. Aplique los métodos multiclase one-vs.-one (OVO), one-vs.all (OVA) y error correcting output codes (ECOC) a cada uno de los conjuntos de datos y anote los resultados obtenidos**###"
      ]
    },
    {
      "cell_type": "code",
      "execution_count": null,
      "metadata": {
        "id": "CV4YFf57-Otq"
      },
      "outputs": [],
      "source": [
        "from sklearn import datasets\n",
        "from sklearn.multiclass import OneVsOneClassifier\n",
        "from sklearn.multiclass import OneVsRestClassifier\n",
        "from sklearn.multiclass import OutputCodeClassifier\n",
        "from sklearn.svm import SVC"
      ]
    },
    {
      "cell_type": "code",
      "execution_count": null,
      "metadata": {
        "id": "Kgj4-7lcypIB"
      },
      "outputs": [],
      "source": [
        "#Compute accuracy of model\n",
        "def accuracyDataset(features, label): \n",
        "  accuracy=0\n",
        "  parameters = [ \n",
        "    {\"kernel\": [\"rbf\"], \"gamma\": [0.01, 0.1, 1.0], \"C\": [1, 10, 100, 1000]}, \n",
        "    {\"kernel\": [\"linear\"], \"C\": [1, 10, 100, 1000]}, ]\n",
        "  #Split into random train and test subsets\n",
        "  X_train, X_test, y_train, y_test = train_test_split(features, label, test_size=0.2, random_state=1)\n",
        "  model= GridSearchCV(svm.SVC(), parameters, cv=5)\n",
        "  #Entrenamiento de datos de entrenamiento\n",
        "  model.fit(X_train,y_train)\n",
        "  #Predice salidas de los datos test\n",
        "  y_pred = model.predict(X_test)\n",
        "  #Calcula precisión del modelo\n",
        "  accuracy = metrics.accuracy_score(y_test, y_pred)\n",
        "  return accuracy"
      ]
    },
    {
      "cell_type": "code",
      "execution_count": null,
      "metadata": {
        "id": "PTVOXuRb-vBo"
      },
      "outputs": [],
      "source": [
        "from sklearn.model_selection import GridSearchCV\n",
        "from sklearn.model_selection import train_test_split\n",
        "from sklearn  import metrics\n",
        "from sklearn import svm\n",
        "#Compute accuracy of model\n",
        "def accuracyDataset(features, label,model): \n",
        "  accuracy=0\n",
        "  parameters = [ \n",
        "    {\"kernel\": [\"rbf\"], \"gamma\": [0.01, 0.1, 1.0], \"C\": [1, 10, 100, 1000]}, \n",
        "    {\"kernel\": [\"linear\"], \"C\": [1, 10, 100, 1000]}, ]\n",
        "  #Split into random train and test subsets\n",
        "  X_train, X_test, y_train, y_test = train_test_split(features, label, test_size=0.2, random_state=1)\n",
        "  grid= GridSearchCV(svm.SVC(), parameters, cv=5)\n",
        "  grid.fit(X_train, y_train)\n",
        "\n",
        "\n",
        "  if model == 'ovo':\n",
        "    svc_ovo = SVC(kernel=grid.best_params_['kernel'], C=grid.best_params_['C'] ); \n",
        "    model = OneVsOneClassifier(svc_ovo)\n",
        "    model.fit(X_train, y_train)\n",
        "  elif model == 'ova':\n",
        "    svc_ova = SVC(kernel=grid.best_params_['kernel'], C=grid.best_params_['C'] ); \n",
        "    model = OneVsRestClassifier(svc_ova)\n",
        "    model.fit(X_train, y_train)\n",
        "  elif model == 'ecoc':\n",
        "    svc_ecoc = SVC(kernel=grid.best_params_['kernel'], C=grid.best_params_['C'] ); \n",
        "    model = OutputCodeClassifier(svc_ecoc)\n",
        "    model.fit(X_train, y_train)\n",
        "\n",
        "  #Calcula precisión del modelo\n",
        "  accuracy = model.score(X_test, y_test)\n",
        "  return accuracy"
      ]
    },
    {
      "cell_type": "markdown",
      "metadata": {
        "id": "lmXKT4n7-J36"
      },
      "source": [
        "**MÉTODO ONE VS ONE (OVO)**"
      ]
    },
    {
      "cell_type": "code",
      "execution_count": null,
      "metadata": {
        "id": "EtE34yG5-rjU"
      },
      "outputs": [],
      "source": [
        "accuracy_ovo = []"
      ]
    },
    {
      "cell_type": "code",
      "execution_count": null,
      "metadata": {
        "colab": {
          "base_uri": "https://localhost:8080/"
        },
        "id": "FzPQcCwnANvq",
        "outputId": "6047845d-889d-4b39-da98-62afb2920f86"
      },
      "outputs": [
        {
          "output_type": "execute_result",
          "data": {
            "text/plain": [
              "[1.0]"
            ]
          },
          "metadata": {},
          "execution_count": 30
        }
      ],
      "source": [
        "iris_ovo = accuracyDataset(iris_X, iris_y, 'ovo')\n",
        "accuracy_ovo.append(iris_ovo)\n",
        "accuracy_ovo"
      ]
    },
    {
      "cell_type": "code",
      "execution_count": null,
      "metadata": {
        "colab": {
          "base_uri": "https://localhost:8080/"
        },
        "id": "IPYRkE7nAZWE",
        "outputId": "cbe5d717-5738-459d-86bb-dcd79952e1e4"
      },
      "outputs": [
        {
          "output_type": "execute_result",
          "data": {
            "text/plain": [
              "[1.0, 0.9710982658959537]"
            ]
          },
          "metadata": {},
          "execution_count": 31
        }
      ],
      "source": [
        "car_ovo = accuracyDataset(car_X, car_y, 'ovo')\n",
        "accuracy_ovo.append(car_ovo)\n",
        "accuracy_ovo"
      ]
    },
    {
      "cell_type": "code",
      "execution_count": null,
      "metadata": {
        "colab": {
          "base_uri": "https://localhost:8080/"
        },
        "id": "53uRiZbrB4o4",
        "outputId": "2aa02db4-79df-4264-94b7-5b891b3ba087"
      },
      "outputs": [
        {
          "output_type": "execute_result",
          "data": {
            "text/plain": [
              "[1.0, 0.9710982658959537, 0.9444444444444444]"
            ]
          },
          "metadata": {},
          "execution_count": 32
        }
      ],
      "source": [
        "wine_ovo = accuracyDataset(wine_X, wine_y, 'ovo')\n",
        "accuracy_ovo.append(wine_ovo)\n",
        "accuracy_ovo"
      ]
    },
    {
      "cell_type": "code",
      "execution_count": null,
      "metadata": {
        "colab": {
          "base_uri": "https://localhost:8080/"
        },
        "id": "jfihhy24CCpd",
        "outputId": "aa055875-5da5-4696-f85a-b16995a024ba"
      },
      "outputs": [
        {
          "output_type": "execute_result",
          "data": {
            "text/plain": [
              "[1.0, 0.9710982658959537, 0.9444444444444444, 0.6046511627906976]"
            ]
          },
          "metadata": {},
          "execution_count": 33
        }
      ],
      "source": [
        "glass_ovo = accuracyDataset(glass_X, glass_y, 'ovo')\n",
        "accuracy_ovo.append(glass_ovo)\n",
        "accuracy_ovo"
      ]
    },
    {
      "cell_type": "code",
      "execution_count": null,
      "metadata": {
        "colab": {
          "base_uri": "https://localhost:8080/"
        },
        "id": "X-H62T_7CHkd",
        "outputId": "2472b203-fdb0-4fbf-df76-2b95d46c5d9a"
      },
      "outputs": [
        {
          "output_type": "execute_result",
          "data": {
            "text/plain": [
              "[1.0,\n",
              " 0.9710982658959537,\n",
              " 0.9444444444444444,\n",
              " 0.6046511627906976,\n",
              " 0.9506172839506173]"
            ]
          },
          "metadata": {},
          "execution_count": 34
        }
      ],
      "source": [
        "segment_ovo = accuracyDataset(segment_X, segment_y, 'ovo')\n",
        "accuracy_ovo.append(segment_ovo)\n",
        "accuracy_ovo"
      ]
    },
    {
      "cell_type": "code",
      "execution_count": null,
      "metadata": {
        "colab": {
          "base_uri": "https://localhost:8080/"
        },
        "id": "3WXlPzW3CNQs",
        "outputId": "c3faba01-e819-491b-ac8d-1914dbf223e1"
      },
      "outputs": [
        {
          "output_type": "stream",
          "name": "stderr",
          "text": [
            "/usr/local/lib/python3.8/dist-packages/sklearn/model_selection/_split.py:676: UserWarning: The least populated class in y has only 1 members, which is less than n_splits=5.\n",
            "  warnings.warn(\n"
          ]
        },
        {
          "output_type": "execute_result",
          "data": {
            "text/plain": [
              "[1.0,\n",
              " 0.9710982658959537,\n",
              " 0.9444444444444444,\n",
              " 0.6046511627906976,\n",
              " 0.9506172839506173,\n",
              " 0.2751196172248804]"
            ]
          },
          "metadata": {},
          "execution_count": 35
        }
      ],
      "source": [
        "abalone_ovo = accuracyDataset(abalone_X, abalone_y, 'ovo')\n",
        "accuracy_ovo.append(abalone_ovo)\n",
        "accuracy_ovo"
      ]
    },
    {
      "cell_type": "code",
      "execution_count": null,
      "metadata": {
        "colab": {
          "base_uri": "https://localhost:8080/"
        },
        "id": "J9DuXnx3CSWy",
        "outputId": "898cf783-e596-4691-fd38-d701d20c8772"
      },
      "outputs": [
        {
          "output_type": "execute_result",
          "data": {
            "text/plain": [
              "[1.0,\n",
              " 0.9710982658959537,\n",
              " 0.9444444444444444,\n",
              " 0.6046511627906976,\n",
              " 0.9506172839506173,\n",
              " 0.2751196172248804,\n",
              " 0.7058823529411765]"
            ]
          },
          "metadata": {},
          "execution_count": 36
        }
      ],
      "source": [
        "leaf_ovo = accuracyDataset(leaf_X, leaf_y, 'ovo')\n",
        "accuracy_ovo.append(leaf_ovo)\n",
        "accuracy_ovo"
      ]
    },
    {
      "cell_type": "code",
      "execution_count": null,
      "metadata": {
        "colab": {
          "base_uri": "https://localhost:8080/"
        },
        "id": "uwJnuqCzCaJc",
        "outputId": "09e64476-c01e-4c8e-e983-2d3ed0204809"
      },
      "outputs": [
        {
          "output_type": "execute_result",
          "data": {
            "text/plain": [
              "[1.0,\n",
              " 0.9710982658959537,\n",
              " 0.9444444444444444,\n",
              " 0.6046511627906976,\n",
              " 0.9506172839506173,\n",
              " 0.2751196172248804,\n",
              " 0.7058823529411765,\n",
              " 1.0]"
            ]
          },
          "metadata": {},
          "execution_count": 37
        }
      ],
      "source": [
        "soybean_ovo = accuracyDataset(soybean_X, soybean_y, 'ovo')\n",
        "accuracy_ovo.append(soybean_ovo)\n",
        "accuracy_ovo"
      ]
    },
    {
      "cell_type": "code",
      "execution_count": null,
      "metadata": {
        "colab": {
          "base_uri": "https://localhost:8080/"
        },
        "id": "r0jgAPysCfxY",
        "outputId": "8b50d2e1-aa61-4119-ea95-069f4b75193e"
      },
      "outputs": [
        {
          "output_type": "stream",
          "name": "stderr",
          "text": [
            "/usr/local/lib/python3.8/dist-packages/sklearn/model_selection/_split.py:676: UserWarning: The least populated class in y has only 3 members, which is less than n_splits=5.\n",
            "  warnings.warn(\n"
          ]
        },
        {
          "output_type": "execute_result",
          "data": {
            "text/plain": [
              "[1.0,\n",
              " 0.9710982658959537,\n",
              " 0.9444444444444444,\n",
              " 0.6046511627906976,\n",
              " 0.9506172839506173,\n",
              " 0.2751196172248804,\n",
              " 0.7058823529411765,\n",
              " 1.0,\n",
              " 0.9523809523809523]"
            ]
          },
          "metadata": {},
          "execution_count": 38
        }
      ],
      "source": [
        "zoo_ovo = accuracyDataset(zoo_X, zoo_y, 'ovo')\n",
        "accuracy_ovo.append(zoo_ovo)\n",
        "accuracy_ovo"
      ]
    },
    {
      "cell_type": "code",
      "execution_count": null,
      "metadata": {
        "colab": {
          "base_uri": "https://localhost:8080/",
          "height": 279
        },
        "id": "ZaW6sGx-fv5j",
        "outputId": "b2217323-3b3e-4aa9-8f59-ca83f0f5ecea"
      },
      "outputs": [
        {
          "output_type": "display_data",
          "data": {
            "text/plain": [
              "<Figure size 432x288 with 1 Axes>"
            ],
            "image/png": "[encoded data removed]"
          },
          "metadata": {
            "needs_background": "light"
          }
        }
      ],
      "source": [
        "datasets=['iris', 'car', 'wine','glass','segment', 'abalone', 'leaf','soybean','zoo']\n",
        "plt.barh(datasets,accuracy_score,  label='SVM Method', color='r', alpha=0.5)\n",
        "plt.barh(datasets, accuracy_ovo, label='SVM OVO Method', color='b', alpha=0.5)\n",
        "plt.xlabel(\"Score\")\n",
        "plt.ylabel(\"Datasets\")\n",
        "plt.legend()\n",
        "plt.show()"
      ]
    },
    {
      "cell_type": "markdown",
      "metadata": {
        "id": "PdkD9PztCM0L"
      },
      "source": [
        "**MÉTODO ONE VS ALL (OVA)**"
      ]
    },
    {
      "cell_type": "code",
      "execution_count": null,
      "metadata": {
        "id": "_cUuzDjuC2Ci"
      },
      "outputs": [],
      "source": [
        "accuracy_ova = []"
      ]
    },
    {
      "cell_type": "code",
      "execution_count": null,
      "metadata": {
        "colab": {
          "base_uri": "https://localhost:8080/"
        },
        "id": "D8ErHs_EC2Cn",
        "outputId": "616f2223-5efc-4bf8-ca67-cf40d17c7e2b"
      },
      "outputs": [
        {
          "output_type": "execute_result",
          "data": {
            "text/plain": [
              "[0.8666666666666667]"
            ]
          },
          "metadata": {},
          "execution_count": 41
        }
      ],
      "source": [
        "iris_ova = accuracyDataset(iris_X, iris_y, 'ova')\n",
        "accuracy_ova.append(iris_ova)\n",
        "accuracy_ova"
      ]
    },
    {
      "cell_type": "code",
      "execution_count": null,
      "metadata": {
        "colab": {
          "base_uri": "https://localhost:8080/"
        },
        "id": "-j7H-s4yC2Cn",
        "outputId": "9d48b8c9-24db-4a23-ae52-72632ec508d2"
      },
      "outputs": [
        {
          "output_type": "execute_result",
          "data": {
            "text/plain": [
              "[0.8666666666666667, 0.9739884393063584]"
            ]
          },
          "metadata": {},
          "execution_count": 42
        }
      ],
      "source": [
        "car_ova = accuracyDataset(car_X, car_y, 'ova')\n",
        "accuracy_ova.append(car_ova)\n",
        "accuracy_ova"
      ]
    },
    {
      "cell_type": "code",
      "execution_count": null,
      "metadata": {
        "colab": {
          "base_uri": "https://localhost:8080/"
        },
        "id": "XB0YstueC2Cn",
        "outputId": "6614f2d4-a985-41fd-b5a6-305bc5c12023"
      },
      "outputs": [
        {
          "output_type": "execute_result",
          "data": {
            "text/plain": [
              "[0.8666666666666667, 0.9739884393063584, 0.9444444444444444]"
            ]
          },
          "metadata": {},
          "execution_count": 43
        }
      ],
      "source": [
        "wine_ova = accuracyDataset(wine_X, wine_y, 'ova')\n",
        "accuracy_ova.append(wine_ova)\n",
        "accuracy_ova"
      ]
    },
    {
      "cell_type": "code",
      "execution_count": null,
      "metadata": {
        "colab": {
          "base_uri": "https://localhost:8080/"
        },
        "id": "YCzlNg6WC2Cn",
        "outputId": "0664f079-1479-41e8-e7a5-3c5b362413af"
      },
      "outputs": [
        {
          "output_type": "execute_result",
          "data": {
            "text/plain": [
              "[0.8666666666666667,\n",
              " 0.9739884393063584,\n",
              " 0.9444444444444444,\n",
              " 0.4883720930232558]"
            ]
          },
          "metadata": {},
          "execution_count": 44
        }
      ],
      "source": [
        "glass_ova = accuracyDataset(glass_X, glass_y, 'ova')\n",
        "accuracy_ova.append(glass_ova)\n",
        "accuracy_ova"
      ]
    },
    {
      "cell_type": "code",
      "execution_count": null,
      "metadata": {
        "colab": {
          "base_uri": "https://localhost:8080/"
        },
        "id": "h857lkJrC2Co",
        "outputId": "b3d2b543-4ede-4b42-b04f-34d52da0cc96"
      },
      "outputs": [
        {
          "output_type": "execute_result",
          "data": {
            "text/plain": [
              "[0.8666666666666667,\n",
              " 0.9739884393063584,\n",
              " 0.9444444444444444,\n",
              " 0.4883720930232558,\n",
              " 0.9012345679012346]"
            ]
          },
          "metadata": {},
          "execution_count": 45
        }
      ],
      "source": [
        "segment_ova = accuracyDataset(segment_X, segment_y, 'ova')\n",
        "accuracy_ova.append(segment_ova)\n",
        "accuracy_ova"
      ]
    },
    {
      "cell_type": "code",
      "execution_count": null,
      "metadata": {
        "colab": {
          "base_uri": "https://localhost:8080/"
        },
        "id": "CjSunQwMC2Co",
        "outputId": "d7ae9232-120f-4a6f-e30d-4eae1d2474e3"
      },
      "outputs": [
        {
          "output_type": "stream",
          "name": "stderr",
          "text": [
            "/usr/local/lib/python3.8/dist-packages/sklearn/model_selection/_split.py:676: UserWarning: The least populated class in y has only 1 members, which is less than n_splits=5.\n",
            "  warnings.warn(\n"
          ]
        },
        {
          "output_type": "execute_result",
          "data": {
            "text/plain": [
              "[0.8666666666666667,\n",
              " 0.9739884393063584,\n",
              " 0.9444444444444444,\n",
              " 0.4883720930232558,\n",
              " 0.9012345679012346,\n",
              " 0.19617224880382775]"
            ]
          },
          "metadata": {},
          "execution_count": 46
        }
      ],
      "source": [
        "abalone_ova = accuracyDataset(abalone_X, abalone_y, 'ova')\n",
        "accuracy_ova.append(abalone_ova)\n",
        "accuracy_ova"
      ]
    },
    {
      "cell_type": "code",
      "execution_count": null,
      "metadata": {
        "colab": {
          "base_uri": "https://localhost:8080/"
        },
        "id": "r93qjt-DC2Co",
        "outputId": "f9325cd6-4ca3-47fb-a99b-f98d377c9366"
      },
      "outputs": [
        {
          "output_type": "execute_result",
          "data": {
            "text/plain": [
              "[0.8666666666666667,\n",
              " 0.9739884393063584,\n",
              " 0.9444444444444444,\n",
              " 0.4883720930232558,\n",
              " 0.9012345679012346,\n",
              " 0.19617224880382775,\n",
              " 0.6617647058823529]"
            ]
          },
          "metadata": {},
          "execution_count": 47
        }
      ],
      "source": [
        "leaf_ova = accuracyDataset(leaf_X, leaf_y, 'ova')\n",
        "accuracy_ova.append(leaf_ova)\n",
        "accuracy_ova"
      ]
    },
    {
      "cell_type": "code",
      "execution_count": null,
      "metadata": {
        "colab": {
          "base_uri": "https://localhost:8080/"
        },
        "id": "9f1jgdoGC2Co",
        "outputId": "89b602b2-4a29-42d2-b170-17365351dfe0"
      },
      "outputs": [
        {
          "output_type": "execute_result",
          "data": {
            "text/plain": [
              "[0.8666666666666667,\n",
              " 0.9739884393063584,\n",
              " 0.9444444444444444,\n",
              " 0.4883720930232558,\n",
              " 0.9012345679012346,\n",
              " 0.19617224880382775,\n",
              " 0.6617647058823529,\n",
              " 1.0]"
            ]
          },
          "metadata": {},
          "execution_count": 48
        }
      ],
      "source": [
        "soybean_ova = accuracyDataset(soybean_X, soybean_y, 'ova')\n",
        "accuracy_ova.append(soybean_ova)\n",
        "accuracy_ova"
      ]
    },
    {
      "cell_type": "code",
      "execution_count": null,
      "metadata": {
        "colab": {
          "base_uri": "https://localhost:8080/"
        },
        "id": "5XWVJXXpC2Co",
        "outputId": "6979f355-b312-45b2-fa3c-e292602a1a3a"
      },
      "outputs": [
        {
          "output_type": "stream",
          "name": "stderr",
          "text": [
            "/usr/local/lib/python3.8/dist-packages/sklearn/model_selection/_split.py:676: UserWarning: The least populated class in y has only 3 members, which is less than n_splits=5.\n",
            "  warnings.warn(\n"
          ]
        },
        {
          "output_type": "execute_result",
          "data": {
            "text/plain": [
              "[0.8666666666666667,\n",
              " 0.9739884393063584,\n",
              " 0.9444444444444444,\n",
              " 0.4883720930232558,\n",
              " 0.9012345679012346,\n",
              " 0.19617224880382775,\n",
              " 0.6617647058823529,\n",
              " 1.0,\n",
              " 0.9523809523809523]"
            ]
          },
          "metadata": {},
          "execution_count": 49
        }
      ],
      "source": [
        "zoo_ova = accuracyDataset(zoo_X, zoo_y, 'ova')\n",
        "accuracy_ova.append(zoo_ova)\n",
        "accuracy_ova"
      ]
    },
    {
      "cell_type": "code",
      "execution_count": null,
      "metadata": {
        "colab": {
          "base_uri": "https://localhost:8080/",
          "height": 279
        },
        "id": "fTf7uQdNxsPb",
        "outputId": "7c276382-4c04-4989-d4de-b2ded77fdcf8"
      },
      "outputs": [
        {
          "output_type": "display_data",
          "data": {
            "text/plain": [
              "<Figure size 432x288 with 1 Axes>"
            ],
            "image/png": "[encoded data removed]"
          },
          "metadata": {
            "needs_background": "light"
          }
        }
      ],
      "source": [
        "datasets=['iris', 'car', 'wine','glass','segment', 'abalone', 'leaf','soybean','zoo']\n",
        "plt.barh(datasets,accuracy_score,  label='SVM Method', color='r', alpha=0.5)\n",
        "plt.barh(datasets, accuracy_ova, label='SVM OVA Method', color='b', alpha=0.5)\n",
        "plt.xlabel(\"Score\")\n",
        "plt.ylabel(\"Datasets\")\n",
        "plt.legend()\n",
        "plt.show()"
      ]
    },
    {
      "cell_type": "markdown",
      "metadata": {
        "id": "zrKIDjhYEEx9"
      },
      "source": [
        "**MÉTODO ERROR CORRECTING OUTPUT CODES (ECOC)**"
      ]
    },
    {
      "cell_type": "code",
      "execution_count": null,
      "metadata": {
        "id": "TBI8-QHCEbmS"
      },
      "outputs": [],
      "source": [
        "accuracy_ecoc = []"
      ]
    },
    {
      "cell_type": "code",
      "execution_count": null,
      "metadata": {
        "colab": {
          "base_uri": "https://localhost:8080/"
        },
        "id": "XsOa08QHEbmT",
        "outputId": "2d346225-dd56-4622-a311-ba11f20ce177"
      },
      "outputs": [
        {
          "output_type": "execute_result",
          "data": {
            "text/plain": [
              "[0.5666666666666667]"
            ]
          },
          "metadata": {},
          "execution_count": 52
        }
      ],
      "source": [
        "iris_ecoc = accuracyDataset(iris_X, iris_y, 'ecoc')\n",
        "accuracy_ecoc.append(iris_ecoc)\n",
        "accuracy_ecoc"
      ]
    },
    {
      "cell_type": "code",
      "execution_count": null,
      "metadata": {
        "colab": {
          "base_uri": "https://localhost:8080/"
        },
        "id": "1gZZVLS6EbmT",
        "outputId": "e9713ea9-4755-48c7-ec2c-d172d9e68139"
      },
      "outputs": [
        {
          "output_type": "execute_result",
          "data": {
            "text/plain": [
              "[0.5666666666666667, 0.9335260115606936]"
            ]
          },
          "metadata": {},
          "execution_count": 53
        }
      ],
      "source": [
        "car_ecoc = accuracyDataset(car_X, car_y, 'ecoc')\n",
        "accuracy_ecoc.append(car_ecoc)\n",
        "accuracy_ecoc"
      ]
    },
    {
      "cell_type": "code",
      "execution_count": null,
      "metadata": {
        "colab": {
          "base_uri": "https://localhost:8080/"
        },
        "id": "Txpo83nxEbmT",
        "outputId": "82e5cd32-1c15-401a-f03f-b900b5f07964"
      },
      "outputs": [
        {
          "output_type": "execute_result",
          "data": {
            "text/plain": [
              "[0.5666666666666667, 0.9335260115606936, 0.9444444444444444]"
            ]
          },
          "metadata": {},
          "execution_count": 54
        }
      ],
      "source": [
        "wine_ecoc = accuracyDataset(wine_X, wine_y, 'ecoc')\n",
        "accuracy_ecoc.append(wine_ecoc)\n",
        "accuracy_ecoc"
      ]
    },
    {
      "cell_type": "code",
      "execution_count": null,
      "metadata": {
        "colab": {
          "base_uri": "https://localhost:8080/"
        },
        "id": "IgJUDzKnEbmT",
        "outputId": "08f235f5-fbaf-4e7c-b80c-a166e144b123"
      },
      "outputs": [
        {
          "output_type": "execute_result",
          "data": {
            "text/plain": [
              "[0.5666666666666667,\n",
              " 0.9335260115606936,\n",
              " 0.9444444444444444,\n",
              " 0.5348837209302325]"
            ]
          },
          "metadata": {},
          "execution_count": 55
        }
      ],
      "source": [
        "glass_ecoc = accuracyDataset(glass_X, glass_y, 'ecoc')\n",
        "accuracy_ecoc.append(glass_ecoc)\n",
        "accuracy_ecoc"
      ]
    },
    {
      "cell_type": "code",
      "execution_count": null,
      "metadata": {
        "colab": {
          "base_uri": "https://localhost:8080/"
        },
        "id": "CGN_kSqHEbmT",
        "outputId": "120ee937-6d09-479e-9b22-d27eb6986a31"
      },
      "outputs": [
        {
          "output_type": "execute_result",
          "data": {
            "text/plain": [
              "[0.5666666666666667,\n",
              " 0.9335260115606936,\n",
              " 0.9444444444444444,\n",
              " 0.5348837209302325,\n",
              " 0.7901234567901234]"
            ]
          },
          "metadata": {},
          "execution_count": 56
        }
      ],
      "source": [
        "segment_ecoc = accuracyDataset(segment_X, segment_y, 'ecoc')\n",
        "accuracy_ecoc.append(segment_ecoc)\n",
        "accuracy_ecoc"
      ]
    },
    {
      "cell_type": "code",
      "execution_count": null,
      "metadata": {
        "colab": {
          "base_uri": "https://localhost:8080/"
        },
        "id": "Qw_3I6GmEbmT",
        "outputId": "140400e3-e2ce-4ec7-854b-12ea02b5c58a"
      },
      "outputs": [
        {
          "output_type": "stream",
          "name": "stderr",
          "text": [
            "/usr/local/lib/python3.8/dist-packages/sklearn/model_selection/_split.py:676: UserWarning: The least populated class in y has only 1 members, which is less than n_splits=5.\n",
            "  warnings.warn(\n"
          ]
        },
        {
          "output_type": "execute_result",
          "data": {
            "text/plain": [
              "[0.5666666666666667,\n",
              " 0.9335260115606936,\n",
              " 0.9444444444444444,\n",
              " 0.5348837209302325,\n",
              " 0.7901234567901234,\n",
              " 0.26674641148325356]"
            ]
          },
          "metadata": {},
          "execution_count": 57
        }
      ],
      "source": [
        "abalone_ecoc = accuracyDataset(abalone_X, abalone_y, 'ecoc')\n",
        "accuracy_ecoc.append(abalone_ecoc)\n",
        "accuracy_ecoc"
      ]
    },
    {
      "cell_type": "code",
      "execution_count": null,
      "metadata": {
        "colab": {
          "base_uri": "https://localhost:8080/"
        },
        "id": "Q3Bm5RMEEbmU",
        "outputId": "e553cef2-d42e-4a53-9fcd-bdd573ffbac0"
      },
      "outputs": [
        {
          "output_type": "execute_result",
          "data": {
            "text/plain": [
              "[0.5666666666666667,\n",
              " 0.9335260115606936,\n",
              " 0.9444444444444444,\n",
              " 0.5348837209302325,\n",
              " 0.7901234567901234,\n",
              " 0.26674641148325356,\n",
              " 0.38235294117647056]"
            ]
          },
          "metadata": {},
          "execution_count": 58
        }
      ],
      "source": [
        "leaf_ecoc = accuracyDataset(leaf_X, leaf_y, 'ecoc')\n",
        "accuracy_ecoc.append(leaf_ecoc)\n",
        "accuracy_ecoc"
      ]
    },
    {
      "cell_type": "code",
      "execution_count": null,
      "metadata": {
        "colab": {
          "base_uri": "https://localhost:8080/"
        },
        "id": "0-kOfPkTEbmU",
        "outputId": "450105b8-6128-47a1-c187-92daeb4d6b1f"
      },
      "outputs": [
        {
          "output_type": "execute_result",
          "data": {
            "text/plain": [
              "[0.5666666666666667,\n",
              " 0.9335260115606936,\n",
              " 0.9444444444444444,\n",
              " 0.5348837209302325,\n",
              " 0.7901234567901234,\n",
              " 0.26674641148325356,\n",
              " 0.38235294117647056,\n",
              " 1.0]"
            ]
          },
          "metadata": {},
          "execution_count": 59
        }
      ],
      "source": [
        "soybean_ecoc = accuracyDataset(soybean_X, soybean_y, 'ecoc')\n",
        "accuracy_ecoc.append(soybean_ecoc)\n",
        "accuracy_ecoc"
      ]
    },
    {
      "cell_type": "code",
      "execution_count": null,
      "metadata": {
        "colab": {
          "base_uri": "https://localhost:8080/"
        },
        "id": "hVkX8JsjEbmU",
        "outputId": "d26c72b0-8c37-4a1e-bc5e-f3d871271958"
      },
      "outputs": [
        {
          "output_type": "stream",
          "name": "stderr",
          "text": [
            "/usr/local/lib/python3.8/dist-packages/sklearn/model_selection/_split.py:676: UserWarning: The least populated class in y has only 3 members, which is less than n_splits=5.\n",
            "  warnings.warn(\n"
          ]
        },
        {
          "output_type": "execute_result",
          "data": {
            "text/plain": [
              "[0.5666666666666667,\n",
              " 0.9335260115606936,\n",
              " 0.9444444444444444,\n",
              " 0.5348837209302325,\n",
              " 0.7901234567901234,\n",
              " 0.26674641148325356,\n",
              " 0.38235294117647056,\n",
              " 1.0,\n",
              " 1.0]"
            ]
          },
          "metadata": {},
          "execution_count": 60
        }
      ],
      "source": [
        "zoo_ecoc = accuracyDataset(zoo_X, zoo_y, 'ecoc')\n",
        "accuracy_ecoc.append(zoo_ecoc)\n",
        "accuracy_ecoc"
      ]
    },
    {
      "cell_type": "code",
      "source": [
        "datasets=['iris', 'car', 'wine','glass','segment', 'abalone', 'leaf','soybean','zoo']\n",
        "plt.barh(datasets,accuracy_score,  label='SVM Method', color='r', alpha=0.5)\n",
        "plt.barh(datasets, accuracy_ecoc, label='SVM ECOC Method', color='b', alpha=0.5)\n",
        "plt.xlabel(\"Score\")\n",
        "plt.ylabel(\"Datasets\")\n",
        "plt.legend()\n",
        "plt.show()"
      ],
      "metadata": {
        "colab": {
          "base_uri": "https://localhost:8080/",
          "height": 279
        },
        "id": "m_P0DjIO33Nq",
        "outputId": "e8a95d55-b841-45f2-8715-d05d47a759fa"
      },
      "execution_count": null,
      "outputs": [
        {
          "output_type": "display_data",
          "data": {
            "text/plain": [
              "<Figure size 432x288 with 1 Axes>"
            ],
            "image/png": "[encoded data removed]"
          },
          "metadata": {
            "needs_background": "light"
          }
        }
      ]
    },
    {
      "cell_type": "markdown",
      "metadata": {
        "id": "goIMPdSHWA70"
      },
      "source": [
        "###**5. Compare si hay diferencias significativas entre ellos usando el test de Iman-Davenport. Si es así, aplique el procedimiento de Wilcoxon para comparar cada método multiclase con el clasificador base y los diferentes métodos entre ellos.**###"
      ]
    },
    {
      "cell_type": "markdown",
      "metadata": {
        "id": "qw9Mgqd2YJn5"
      },
      "source": [
        "El test de Iman-Davenport es un procedimiento estadístico para comparar varios métodos de clasificación multiclase. Se utiliza para determinar si las diferencias en los valores de precisión entre los métodos son estadísticamente significativas. Si se determina que hay diferencias significativas, se puede utilizar el procedimiento de Wilcoxon para comparar cada método multiclase con el clasificador base y los diferentes métodos entre ellos. Sin embargo, los datos que me proporcionó son solo los valores de precisión, no es posible realizar un test estadístico y comparación directa entre ellos. Es necesario tener datos adicionales como el número de muestras, el tamaño del dataset, entre otros para poder realizar un análisis estadístico."
      ]
    },
    {
      "cell_type": "code",
      "execution_count": null,
      "metadata": {
        "colab": {
          "base_uri": "https://localhost:8080/"
        },
        "id": "cYnnbxuEYqA9",
        "outputId": "8abd5858-4174-4586-8bb6-a356d4a62ba1"
      },
      "outputs": [
        {
          "output_type": "stream",
          "name": "stdout",
          "text": [
            "p-value:  0.09697196786440507\n",
            "No hay diferencias significativas entre los métodos\n"
          ]
        }
      ],
      "source": [
        "from scipy.stats import friedmanchisquare\n",
        "from scipy.stats import wilcoxon\n",
        "# realizar test de Iman-Davenport\n",
        "stat, p_value = friedmanchisquare(accuracy_ovo, accuracy_ova, accuracy_ecoc)\n",
        "\n",
        "# imprimir resultado\n",
        "print(\"p-value: \", p_value)\n",
        "\n",
        "if p_value < 0.05:\n",
        "  print(\"Hay diferencias significativas entre los métodos\")\n",
        "  stat, p_value = wilcoxon(accuracy_ovo, accuracy_score)\n",
        "  print(\"p-value ovo vs clasificador base: \", p_value)\n",
        "  stat, p_value = wilcoxon(accuracy_ova, accuracy_score)\n",
        "  print(\"p-value ovaa vs clasificador base: \", p_value)\n",
        "  stat, p_value = wilcoxon(accuracy_ecoc, accuracy_score)\n",
        "  print(\"p-value ova vs clasificador base: \", p_value)\n",
        "  stat, p_value = wilcoxon(accuracy_ovo, accuracy_ova)\n",
        "  print(\"p-value ovo vs ova: \", p_value)\n",
        "  stat, p_value = wilcoxon(accuracy_ovo, accuracy_ecoc)\n",
        "  print(\"p-value ovo vs ecoc: \", p_value) \n",
        "  stat, p_value = wilcoxon(accuracy_ova, accuracy_ecoc)\n",
        "  print(\"p-value ova vs ecoc: \", p_value)\n",
        "\n",
        "\n",
        "else:\n",
        "  print(\"No hay diferencias significativas entre los métodos\")"
      ]
    },
    {
      "cell_type": "markdown",
      "metadata": {
        "id": "LwUgdktaY7Jy"
      },
      "source": [
        "En este caso, si el p-value es menor que 0.05, se puede concluir que hay diferencias significativas entre los métodos, y si el p-value es mayor, no hay diferencias significativas. Si se obtiene diferencias significativas se procedería a realizar el procedimiento de Wilcoxon para comparar cada método multiclase con el clasificador base y los diferentes métodos entre ellos.\n",
        "\n",
        "Sin embargo, es importante aclarar que el test de Iman-Davenport solo te ayuda a determinar si existen diferencias significativas entre los métodos, pero no te indica cual es el mejor método."
      ]
    }
  ],
  "metadata": {
    "colab": {
      "provenance": []
    },
    "kernelspec": {
      "display_name": "Python 3",
      "name": "python3"
    },
    "language_info": {
      "name": "python"
    }
  },
  "nbformat": 4,
  "nbformat_minor": 0
}