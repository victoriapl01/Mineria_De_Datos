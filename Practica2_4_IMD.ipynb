{
  "nbformat": 4,
  "nbformat_minor": 0,
  "metadata": {
    "colab": {
      "provenance": []
    },
    "kernelspec": {
      "name": "python3",
      "display_name": "Python 3"
    },
    "language_info": {
      "name": "python"
    }
  },
  "cells": [
    {
      "cell_type": "code",
      "execution_count": 1,
      "metadata": {
        "id": "ftoLybuWn20j"
      },
      "outputs": [],
      "source": [
        "import pandas as pd\n",
        "import numpy as np"
      ]
    },
    {
      "cell_type": "code",
      "source": [
        "#Lectura de Dataset haciendo uso de URL de github y el nombre de las columnas\n",
        "def readDataset(file,columns):\n",
        "  dataset=pd.read_csv(file, header=None, names=columns)\n",
        "  return dataset"
      ],
      "metadata": {
        "id": "Ydir4adS10VG"
      },
      "execution_count": 2,
      "outputs": []
    },
    {
      "cell_type": "markdown",
      "source": [
        "###**1. Seleccione un algoritmo clasificación de los disponibles en scikit que sea capaz de resolver problemas de más de dos clases y al menos 10 conjuntos de datos de más de 2 clases (puede reusar los de prácticas anteriores).**###"
      ],
      "metadata": {
        "id": "eaPQgM77IX4k"
      }
    },
    {
      "cell_type": "code",
      "execution_count": 13,
      "metadata": {
        "colab": {
          "base_uri": "https://localhost:8080/"
        },
        "id": "TD9MmUf0Hgcr",
        "outputId": "2f6f1eee-e78b-4411-e3c0-4bf5ab873a30"
      },
      "outputs": [
        {
          "output_type": "execute_result",
          "data": {
            "text/plain": [
              "array(['Iris-setosa', 'Iris-versicolor', 'Iris-virginica'], dtype=object)"
            ]
          },
          "metadata": {},
          "execution_count": 13
        }
      ],
      "source": [
        "#Iris Data set\n",
        "columnas=['sepal length (cm)', 'sepal width (cm)', 'petal length (cm)', 'petal width (cm)', 'class']\n",
        "iris_features=['sepal length (cm)', 'sepal width (cm)', 'petal length (cm)', 'petal width (cm)']\n",
        "iris= readDataset('https://raw.githubusercontent.com/victoriapl01/Mineria_De_Datos/main/Datasets/iris.data', columnas)\n",
        "iris_X= iris[iris_features]\n",
        "iris_y= iris['class']\n",
        "iris_y.unique()"
      ]
    },
    {
      "cell_type": "code",
      "source": [
        "#Car Evaluation Data set\n",
        "columnas=['buying','maint','doors', 'persons', 'lug_boot','safety','class']\n",
        "car_features=['buying','maint','doors', 'persons', 'lug_boot','safety']\n",
        "car= readDataset('https://raw.githubusercontent.com/victoriapl01/Mineria_De_Datos/main/Datasets/car.data',columnas)\n",
        "car['buying']=car['buying'].map({'vhigh':4, 'high':3, 'med':2, 'low':1})\n",
        "car['maint']=car['maint'].map({'vhigh':4, 'high':3, 'med':2, 'low':1})\n",
        "car['lug_boot']=car['lug_boot'].map({'small':1, 'med':2, 'big':3})\n",
        "car['safety']=car['safety'].map({'low':1, 'med':2, 'high':3})\n",
        "car['doors']=car['doors'].map({'1':1, '2':2,'3':3,'4':4,'5more':7}) #Esto hará que 7 signifique más de 5 puertas o personas\n",
        "car['persons']=car['persons'].map({'1':1, '2':2,'3':3,'4':4,'more':7})\n",
        "car_X=car[car_features]\n",
        "car_y=car['class']\n",
        "car_y.unique()"
      ],
      "metadata": {
        "colab": {
          "base_uri": "https://localhost:8080/"
        },
        "id": "lHdPNo7kI1Lz",
        "outputId": "79dde370-4ceb-42a1-d0e0-1820061184d5"
      },
      "execution_count": 14,
      "outputs": [
        {
          "output_type": "execute_result",
          "data": {
            "text/plain": [
              "array(['unacc', 'acc', 'vgood', 'good'], dtype=object)"
            ]
          },
          "metadata": {},
          "execution_count": 14
        }
      ]
    },
    {
      "cell_type": "code",
      "source": [
        "#Wine Data Set\n",
        "columnas= ['class','alcohol', 'malic acid', 'ash', 'alcalinityOfAsh', 'Magnesium',' Total Phenols', 'Flavanoids', 'Nonflavanoid phenols', 'Proanthocyanins', 'Color Intensity', 'Hue', 'OD280',' Proline'] \n",
        "wine_features=['alcohol', 'malic acid', 'ash', 'alcalinityOfAsh', 'Magnesium',' Total Phenols', 'Flavanoids', 'Nonflavanoid phenols', 'Proanthocyanins', 'Color Intensity', 'Hue', 'OD280',' Proline'] \n",
        "wine=readDataset('https://raw.githubusercontent.com/victoriapl01/Mineria_De_Datos/main/Datasets/wine.data',columnas)\n",
        "wine_X=wine[wine_features]\n",
        "wine_y=wine['class']\n",
        "wine_y.unique()"
      ],
      "metadata": {
        "colab": {
          "base_uri": "https://localhost:8080/"
        },
        "id": "WbujfPOqI4Sj",
        "outputId": "697286cd-781b-42fe-a6a4-b4dcf25d17b3"
      },
      "execution_count": 15,
      "outputs": [
        {
          "output_type": "execute_result",
          "data": {
            "text/plain": [
              "array([1, 2, 3])"
            ]
          },
          "metadata": {},
          "execution_count": 15
        }
      ]
    },
    {
      "cell_type": "code",
      "source": [
        "#Glass Data set\n",
        "columnas=['RI','Na', 'Mg', 'Al', 'Si','K', 'Ca', 'Ba', 'Fe', 'Type']\n",
        "glass_features=['RI','Na', 'Mg', 'Al', 'Si','K', 'Ca', 'Ba', 'Fe']\n",
        "glass=readDataset('https://raw.githubusercontent.com/victoriapl01/Mineria_De_Datos/main/Datasets/glass.data',columnas)\n",
        "glass_X=glass[glass_features]\n",
        "glass_y=glass['Type']\n",
        "glass_y.unique()"
      ],
      "metadata": {
        "colab": {
          "base_uri": "https://localhost:8080/"
        },
        "id": "1eJu2R3cJAKp",
        "outputId": "40b3b723-431f-4f10-dcc2-5eacc4cc14e2"
      },
      "execution_count": 16,
      "outputs": [
        {
          "output_type": "execute_result",
          "data": {
            "text/plain": [
              "array([\"'build wind float'\", \"'vehic wind float'\", 'tableware',\n",
              "       \"'build wind non-float'\", 'headlamps', 'containers'], dtype=object)"
            ]
          },
          "metadata": {},
          "execution_count": 16
        }
      ]
    },
    {
      "cell_type": "code",
      "source": [
        "#Segment_challeng\n",
        "columnas = ['region-centroid-col','region-centroid-row','region-pixel-count','short-line-density-5','short-line-density-2','vedge-mean','vegde-sd','hedge-mean','hedge-sd','intensity-mean','rawred-mean','rawblue-mean','rawgreen-mean','exred-mean','exblue-mean','exgreen-mean','value-mean','saturation-mean','hue-mean','class']\n",
        "segment_features = ['region-centroid-col','region-centroid-row','region-pixel-count','short-line-density-5','short-line-density-2','vedge-mean','vegde-sd','hedge-mean','hedge-sd','intensity-mean','rawred-mean','rawblue-mean','rawgreen-mean','exred-mean','exblue-mean','exgreen-mean','value-mean','saturation-mean','hue-mean']\n",
        "segment = readDataset('https://raw.githubusercontent.com/victoriapl01/Mineria_De_Datos/main/Datasets/segment_challeng.data',columnas)\n",
        "segment_X = segment[segment_features]\n",
        "segment_y = segment['class']\n",
        "segment_y.unique()"
      ],
      "metadata": {
        "colab": {
          "base_uri": "https://localhost:8080/"
        },
        "id": "rk8yoMgpJBoj",
        "outputId": "b314702d-dfa9-4bce-ee9f-5d0ac44c4db6"
      },
      "execution_count": 17,
      "outputs": [
        {
          "output_type": "execute_result",
          "data": {
            "text/plain": [
              "array(['cement', 'path', 'grass', 'window', 'foliage', 'brickface', 'sky'],\n",
              "      dtype=object)"
            ]
          },
          "metadata": {},
          "execution_count": 17
        }
      ]
    },
    {
      "cell_type": "code",
      "source": [
        "#Parkinson Dataset\n",
        "parkinson=pd.read_csv('https://raw.githubusercontent.com/victoriapl01/Mineria_De_Datos/main/Datasets/parkinsons.data')\n",
        "parkinson_X = parkinson.drop(['name'], axis=1)\n",
        "parkinson_y = parkinson['name']\n",
        "parkinson_y.unique()\n"
      ],
      "metadata": {
        "colab": {
          "base_uri": "https://localhost:8080/"
        },
        "id": "6NsSbIQv0c1m",
        "outputId": "13591697-7843-4e47-c0b8-b77cc5e30b54"
      },
      "execution_count": 18,
      "outputs": [
        {
          "output_type": "execute_result",
          "data": {
            "text/plain": [
              "array(['phon_R01_S01_1', 'phon_R01_S01_2', 'phon_R01_S01_3',\n",
              "       'phon_R01_S01_4', 'phon_R01_S01_5', 'phon_R01_S01_6',\n",
              "       'phon_R01_S02_1', 'phon_R01_S02_2', 'phon_R01_S02_3',\n",
              "       'phon_R01_S02_4', 'phon_R01_S02_5', 'phon_R01_S02_6',\n",
              "       'phon_R01_S04_1', 'phon_R01_S04_2', 'phon_R01_S04_3',\n",
              "       'phon_R01_S04_4', 'phon_R01_S04_5', 'phon_R01_S04_6',\n",
              "       'phon_R01_S05_1', 'phon_R01_S05_2', 'phon_R01_S05_3',\n",
              "       'phon_R01_S05_4', 'phon_R01_S05_5', 'phon_R01_S05_6',\n",
              "       'phon_R01_S06_1', 'phon_R01_S06_2', 'phon_R01_S06_3',\n",
              "       'phon_R01_S06_4', 'phon_R01_S06_5', 'phon_R01_S06_6',\n",
              "       'phon_R01_S07_1', 'phon_R01_S07_2', 'phon_R01_S07_3',\n",
              "       'phon_R01_S07_4', 'phon_R01_S07_5', 'phon_R01_S07_6',\n",
              "       'phon_R01_S08_1', 'phon_R01_S08_2', 'phon_R01_S08_3',\n",
              "       'phon_R01_S08_4', 'phon_R01_S08_5', 'phon_R01_S08_6',\n",
              "       'phon_R01_S10_1', 'phon_R01_S10_2', 'phon_R01_S10_3',\n",
              "       'phon_R01_S10_4', 'phon_R01_S10_5', 'phon_R01_S10_6',\n",
              "       'phon_R01_S13_1', 'phon_R01_S13_2', 'phon_R01_S13_3',\n",
              "       'phon_R01_S13_4', 'phon_R01_S13_5', 'phon_R01_S13_6',\n",
              "       'phon_R01_S16_1', 'phon_R01_S16_2', 'phon_R01_S16_3',\n",
              "       'phon_R01_S16_4', 'phon_R01_S16_5', 'phon_R01_S16_6',\n",
              "       'phon_R01_S17_1', 'phon_R01_S17_2', 'phon_R01_S17_3',\n",
              "       'phon_R01_S17_4', 'phon_R01_S17_5', 'phon_R01_S17_6',\n",
              "       'phon_R01_S18_1', 'phon_R01_S18_2', 'phon_R01_S18_3',\n",
              "       'phon_R01_S18_4', 'phon_R01_S18_5', 'phon_R01_S18_6',\n",
              "       'phon_R01_S19_1', 'phon_R01_S19_2', 'phon_R01_S19_3',\n",
              "       'phon_R01_S19_4', 'phon_R01_S19_5', 'phon_R01_S19_6',\n",
              "       'phon_R01_S20_1', 'phon_R01_S20_2', 'phon_R01_S20_3',\n",
              "       'phon_R01_S20_4', 'phon_R01_S20_5', 'phon_R01_S20_6',\n",
              "       'phon_R01_S21_1', 'phon_R01_S21_2', 'phon_R01_S21_3',\n",
              "       'phon_R01_S21_4', 'phon_R01_S21_5', 'phon_R01_S21_6',\n",
              "       'phon_R01_S21_7', 'phon_R01_S22_1', 'phon_R01_S22_2',\n",
              "       'phon_R01_S22_3', 'phon_R01_S22_4', 'phon_R01_S22_5',\n",
              "       'phon_R01_S22_6', 'phon_R01_S24_1', 'phon_R01_S24_2',\n",
              "       'phon_R01_S24_3', 'phon_R01_S24_4', 'phon_R01_S24_5',\n",
              "       'phon_R01_S24_6', 'phon_R01_S25_1', 'phon_R01_S25_2',\n",
              "       'phon_R01_S25_3', 'phon_R01_S25_4', 'phon_R01_S25_5',\n",
              "       'phon_R01_S25_6', 'phon_R01_S26_1', 'phon_R01_S26_2',\n",
              "       'phon_R01_S26_3', 'phon_R01_S26_4', 'phon_R01_S26_5',\n",
              "       'phon_R01_S26_6', 'phon_R01_S27_1', 'phon_R01_S27_2',\n",
              "       'phon_R01_S27_3', 'phon_R01_S27_4', 'phon_R01_S27_5',\n",
              "       'phon_R01_S27_6', 'phon_R01_S27_7', 'phon_R01_S31_1',\n",
              "       'phon_R01_S31_2', 'phon_R01_S31_3', 'phon_R01_S31_4',\n",
              "       'phon_R01_S31_5', 'phon_R01_S31_6', 'phon_R01_S32_1',\n",
              "       'phon_R01_S32_2', 'phon_R01_S32_3', 'phon_R01_S32_4',\n",
              "       'phon_R01_S32_5', 'phon_R01_S32_6', 'phon_R01_S33_1',\n",
              "       'phon_R01_S33_2', 'phon_R01_S33_3', 'phon_R01_S33_4',\n",
              "       'phon_R01_S33_5', 'phon_R01_S33_6', 'phon_R01_S34_1',\n",
              "       'phon_R01_S34_2', 'phon_R01_S34_3', 'phon_R01_S34_4',\n",
              "       'phon_R01_S34_5', 'phon_R01_S34_6', 'phon_R01_S35_1',\n",
              "       'phon_R01_S35_2', 'phon_R01_S35_3', 'phon_R01_S35_4',\n",
              "       'phon_R01_S35_5', 'phon_R01_S35_6', 'phon_R01_S35_7',\n",
              "       'phon_R01_S37_1', 'phon_R01_S37_2', 'phon_R01_S37_3',\n",
              "       'phon_R01_S37_4', 'phon_R01_S37_5', 'phon_R01_S37_6',\n",
              "       'phon_R01_S39_1', 'phon_R01_S39_2', 'phon_R01_S39_3',\n",
              "       'phon_R01_S39_4', 'phon_R01_S39_5', 'phon_R01_S39_6',\n",
              "       'phon_R01_S42_1', 'phon_R01_S42_2', 'phon_R01_S42_3',\n",
              "       'phon_R01_S42_4', 'phon_R01_S42_5', 'phon_R01_S42_6',\n",
              "       'phon_R01_S43_1', 'phon_R01_S43_2', 'phon_R01_S43_3',\n",
              "       'phon_R01_S43_4', 'phon_R01_S43_5', 'phon_R01_S43_6',\n",
              "       'phon_R01_S44_1', 'phon_R01_S44_2', 'phon_R01_S44_3',\n",
              "       'phon_R01_S44_4', 'phon_R01_S44_5', 'phon_R01_S44_6',\n",
              "       'phon_R01_S49_1', 'phon_R01_S49_2', 'phon_R01_S49_3',\n",
              "       'phon_R01_S49_4', 'phon_R01_S49_5', 'phon_R01_S49_6',\n",
              "       'phon_R01_S50_1', 'phon_R01_S50_2', 'phon_R01_S50_3',\n",
              "       'phon_R01_S50_4', 'phon_R01_S50_5', 'phon_R01_S50_6'], dtype=object)"
            ]
          },
          "metadata": {},
          "execution_count": 18
        }
      ]
    },
    {
      "cell_type": "code",
      "source": [
        "#Leaf dataset\n",
        "leaf=pd.read_csv('https://raw.githubusercontent.com/victoriapl01/Mineria_De_Datos/main/Datasets/leaf.csv')\n",
        "leaf.columns=['class', 'Specimen Nº', 'Eccenticity', 'Aspect Ratio', 'Elongation', 'Solidity', 'Stochastic Convexity','Isoperimetric Factor','Maximal Indentation Depth', 'Lobedness','Intensity', 'Contrast','Smoothness','Thids moment','Uniformity','Entropy']\n",
        "leaf_X = leaf.drop(['class'],axis=1)\n",
        "leaf_y=leaf['class']\n",
        "leaf_y.unique()"
      ],
      "metadata": {
        "id": "CACNa7IiM8NH",
        "colab": {
          "base_uri": "https://localhost:8080/"
        },
        "outputId": "dc966f76-b681-4804-ee45-da52e2701dcb"
      },
      "execution_count": 19,
      "outputs": [
        {
          "output_type": "execute_result",
          "data": {
            "text/plain": [
              "array([ 1,  2,  3,  4,  5,  6,  7,  8,  9, 10, 11, 12, 13, 14, 15, 22, 23,\n",
              "       24, 25, 26, 27, 28, 29, 30, 31, 32, 33, 34, 35, 36])"
            ]
          },
          "metadata": {},
          "execution_count": 19
        }
      ]
    },
    {
      "cell_type": "code",
      "source": [
        "#Soybean dataset\n",
        "columnas=['date', 'plant-stand','precip', 'temp','hail','corp-hist','area-damaged','severity','seed-tmt','germination','plan-growth','leaves','leafspots-halo','leafspots-marg','leafspot-size','leaf-shread','leaf-malf','leaf-mild','stem','lodging','stem-cankers','canker-lesion','fruiting-bodies','external decay','mycelium','int-discolor','sclerotia','fruit-pods','fruit spots','seed','mold-growth','seed-discolor','seed-size','shriveling','roots','class']\n",
        "soybean_features=['date', 'plant-stand','precip', 'temp','hail','corp-hist','area-damaged','severity','seed-tmt','germination','plan-growth','leaves','leafspots-halo','leafspots-marg','leafspot-size','leaf-shread','leaf-malf','leaf-mild','stem','lodging','stem-cankers','canker-lesion','fruiting-bodies','external decay','mycelium','int-discolor','sclerotia','fruit-pods','fruit spots','seed','mold-growth','seed-discolor','seed-size','shriveling','roots']\n",
        "soybean=readDataset('https://raw.githubusercontent.com/victoriapl01/Mineria_De_Datos/main/Datasets/soybean-small.data',columnas)\n",
        "soybean_X = soybean[soybean_features]\n",
        "soybean_y = soybean['class']\n",
        "soybean_y.unique()"
      ],
      "metadata": {
        "id": "yegTYZmbxIDo"
      },
      "execution_count": null,
      "outputs": []
    },
    {
      "cell_type": "code",
      "source": [
        "#Zoo dataset\n",
        "columnas=['name', 'hair', 'feathers', 'eggs', 'milk', 'airborne', 'aquatic', 'predator', 'toothed', 'backbone','breathes', 'venomous', 'fins','legs', 'tail', 'domestic','catsize','type']\n",
        "zoo_features=['hair', 'feathers', 'eggs', 'milk', 'airborne', 'aquatic', 'predator', 'toothed', 'backbone','breathes', 'venomous', 'legs', 'tail', 'domestic','catsize']\n",
        "zoo=readDataset('https://raw.githubusercontent.com/victoriapl01/Mineria_De_Datos/main/Datasets/zoo.data',columnas)\n",
        "zoo_X = zoo[zoo_features]\n",
        "zoo_y = zoo['type']\n",
        "zoo_y.unique()"
      ],
      "metadata": {
        "colab": {
          "base_uri": "https://localhost:8080/"
        },
        "id": "8Y16JILLsoSd",
        "outputId": "72dd7326-627c-4454-f6c5-7ffc978d2d31"
      },
      "execution_count": 21,
      "outputs": [
        {
          "output_type": "execute_result",
          "data": {
            "text/plain": [
              "array([1, 4, 2, 7, 6, 5, 3])"
            ]
          },
          "metadata": {},
          "execution_count": 21
        }
      ]
    },
    {
      "cell_type": "markdown",
      "source": [
        "###**2. Aplique el clasificador base a cada uno de los conjuntos y anote los resultados obtenidos.**###"
      ],
      "metadata": {
        "id": "s05HfJui2h3q"
      }
    },
    {
      "cell_type": "code",
      "source": [
        "from sklearn.model_selection import GridSearchCV\n",
        "from sklearn.model_selection import train_test_split\n",
        "from sklearn  import metrics\n",
        "from sklearn import svm"
      ],
      "metadata": {
        "id": "gD0LFCTC3QZg"
      },
      "execution_count": 29,
      "outputs": []
    },
    {
      "cell_type": "code",
      "source": [
        "#Compute accuracy of model\n",
        "def accuracyDataset(features, label): \n",
        "  accuracy=0\n",
        "  parameters = [ \n",
        "    {\"kernel\": [\"rbf\"], \"gamma\": [0.01, 0.1, 1.0], \"C\": [1, 10, 100, 1000]}, \n",
        "    {\"kernel\": [\"linear\"], \"C\": [1, 10, 100, 1000]}, ]\n",
        "  #Split into random train and test subsets\n",
        "  X_train, X_test, y_train, y_test = train_test_split(features, label, test_size=0.2, random_state=1)\n",
        "  model= GridSearchCV(svm.SVC(), parameters, cv=5)\n",
        "  #Entrenamiento de datos de entrenamiento\n",
        "  model.fit(X_train,y_train)\n",
        "  #Predice salidas de los datos test\n",
        "  y_pred = model.predict(X_test)\n",
        "  #Calcula precisión del modelo\n",
        "  accuracy = metrics.accuracy_score(y_test, y_pred)\n",
        "  return accuracy"
      ],
      "metadata": {
        "id": "9c3oRycJBUHI"
      },
      "execution_count": 28,
      "outputs": []
    },
    {
      "cell_type": "code",
      "source": [
        "accuracy_score=[]"
      ],
      "metadata": {
        "id": "R__6njRU4dQz"
      },
      "execution_count": 30,
      "outputs": []
    },
    {
      "cell_type": "code",
      "source": [
        "iris_accuracy=accuracyDataset(iris_X, iris_y)\n",
        "accuracy_score.append(iris_accuracy)\n",
        "accuracy_score"
      ],
      "metadata": {
        "colab": {
          "base_uri": "https://localhost:8080/"
        },
        "id": "_Jw6cjAC5sM2",
        "outputId": "edd9711f-18c3-41d4-c8f6-e1a0888bb04a"
      },
      "execution_count": 32,
      "outputs": [
        {
          "output_type": "execute_result",
          "data": {
            "text/plain": [
              "[1.0]"
            ]
          },
          "metadata": {},
          "execution_count": 32
        }
      ]
    },
    {
      "cell_type": "code",
      "source": [
        "car_accuracy=accuracyDataset(car_X, car_y)\n",
        "accuracy_score.append(car_accuracy)\n",
        "accuracy_score"
      ],
      "metadata": {
        "colab": {
          "base_uri": "https://localhost:8080/"
        },
        "id": "CKx5yYG05-qa",
        "outputId": "369308dd-9d09-4f5d-c71e-b81a5082a97c"
      },
      "execution_count": 33,
      "outputs": [
        {
          "output_type": "execute_result",
          "data": {
            "text/plain": [
              "[1.0, 0.9739884393063584]"
            ]
          },
          "metadata": {},
          "execution_count": 33
        }
      ]
    },
    {
      "cell_type": "code",
      "source": [
        "wine_accuracy=accuracyDataset(wine_X, wine_y)\n",
        "accuracy_score.append(wine_accuracy)\n",
        "accuracy_score"
      ],
      "metadata": {
        "colab": {
          "base_uri": "https://localhost:8080/"
        },
        "id": "XOjyqWni6D_l",
        "outputId": "a52d504d-4714-4d63-ab09-a21b7de06a8d"
      },
      "execution_count": 34,
      "outputs": [
        {
          "output_type": "execute_result",
          "data": {
            "text/plain": [
              "[1.0, 0.9739884393063584, 0.9444444444444444]"
            ]
          },
          "metadata": {},
          "execution_count": 34
        }
      ]
    },
    {
      "cell_type": "code",
      "source": [
        "glass_accuracy=accuracyDataset(glass_X, glass_y)\n",
        "accuracy_score.append(glass_accuracy)\n",
        "accuracy_score"
      ],
      "metadata": {
        "colab": {
          "base_uri": "https://localhost:8080/"
        },
        "id": "s1E_qP6p6Hi1",
        "outputId": "400ce56a-e534-437d-a7d4-a2c3a885c357"
      },
      "execution_count": 35,
      "outputs": [
        {
          "output_type": "execute_result",
          "data": {
            "text/plain": [
              "[1.0, 0.9739884393063584, 0.9444444444444444, 0.7674418604651163]"
            ]
          },
          "metadata": {},
          "execution_count": 35
        }
      ]
    },
    {
      "cell_type": "code",
      "source": [
        "segment_accuracy=accuracyDataset(segment_X, segment_y)\n",
        "accuracy_score.append(segment_accuracy)\n",
        "accuracy_score"
      ],
      "metadata": {
        "colab": {
          "base_uri": "https://localhost:8080/"
        },
        "id": "6pqnmZPY6OE-",
        "outputId": "70558add-6930-4b2f-fd91-5b8fb872551c"
      },
      "execution_count": 36,
      "outputs": [
        {
          "output_type": "execute_result",
          "data": {
            "text/plain": [
              "[1.0,\n",
              " 0.9739884393063584,\n",
              " 0.9444444444444444,\n",
              " 0.7674418604651163,\n",
              " 0.9506172839506173]"
            ]
          },
          "metadata": {},
          "execution_count": 36
        }
      ]
    },
    {
      "cell_type": "code",
      "source": [
        "parkinson_accuracy=accuracyDataset(parkinson_X, parkinson_y)\n",
        "accuracy_score.append(parkinson_accuracy)\n",
        "accuracy_score"
      ],
      "metadata": {
        "id": "guVlKOjn6Rvb"
      },
      "execution_count": null,
      "outputs": []
    },
    {
      "cell_type": "code",
      "source": [
        "leaf_accuracy=accuracyDataset(leaf_X, leaf_y)\n",
        "accuracy_score.append(leaf_accuracy)\n",
        "accuracy_score"
      ],
      "metadata": {
        "colab": {
          "base_uri": "https://localhost:8080/"
        },
        "id": "aXg8bQU86ZNJ",
        "outputId": "c9612b57-191c-4463-bcc0-d24a9dd024ba"
      },
      "execution_count": 38,
      "outputs": [
        {
          "output_type": "execute_result",
          "data": {
            "text/plain": [
              "[1.0,\n",
              " 0.9739884393063584,\n",
              " 0.9444444444444444,\n",
              " 0.7674418604651163,\n",
              " 0.9506172839506173,\n",
              " 0.75]"
            ]
          },
          "metadata": {},
          "execution_count": 38
        }
      ]
    },
    {
      "cell_type": "code",
      "source": [
        "soybean_accuracy=accuracyDataset(soybean_X, soybean_y)\n",
        "accuracy_score.append(soybean_accuracy)\n",
        "accuracy_score"
      ],
      "metadata": {
        "colab": {
          "base_uri": "https://localhost:8080/"
        },
        "id": "Rg_vaO1D6gk7",
        "outputId": "32322bd4-5b1d-463e-84be-217d58ecc6a1"
      },
      "execution_count": 39,
      "outputs": [
        {
          "output_type": "execute_result",
          "data": {
            "text/plain": [
              "[1.0,\n",
              " 0.9739884393063584,\n",
              " 0.9444444444444444,\n",
              " 0.7674418604651163,\n",
              " 0.9506172839506173,\n",
              " 0.75,\n",
              " 1.0]"
            ]
          },
          "metadata": {},
          "execution_count": 39
        }
      ]
    },
    {
      "cell_type": "code",
      "source": [
        "zoo_accuracy=accuracyDataset(zoo_X, zoo_y)\n",
        "accuracy_score.append(zoo_accuracy)\n",
        "accuracy_score"
      ],
      "metadata": {
        "colab": {
          "base_uri": "https://localhost:8080/"
        },
        "id": "jxKrD2t36l15",
        "outputId": "16840864-d226-4b95-ffdc-96b7fb503253"
      },
      "execution_count": 40,
      "outputs": [
        {
          "output_type": "stream",
          "name": "stderr",
          "text": [
            "/usr/local/lib/python3.8/dist-packages/sklearn/model_selection/_split.py:676: UserWarning: The least populated class in y has only 3 members, which is less than n_splits=5.\n",
            "  warnings.warn(\n"
          ]
        },
        {
          "output_type": "execute_result",
          "data": {
            "text/plain": [
              "[1.0,\n",
              " 0.9739884393063584,\n",
              " 0.9444444444444444,\n",
              " 0.7674418604651163,\n",
              " 0.9506172839506173,\n",
              " 0.75,\n",
              " 1.0,\n",
              " 0.9523809523809523]"
            ]
          },
          "metadata": {},
          "execution_count": 40
        }
      ]
    },
    {
      "cell_type": "code",
      "source": [
        "dataset=['iris','car','wine','glass','segment','leaf','soybean','zoo']"
      ],
      "metadata": {
        "id": "c9W_H-5e6qoH"
      },
      "execution_count": 47,
      "outputs": []
    },
    {
      "cell_type": "code",
      "source": [
        "#Uso de gráficas y representación de datos\n",
        "import matplotlib.pyplot as plt\n",
        "plt.barh(dataset,accuracy_score)\n",
        "plt.xlabel('Accuracy')\n",
        "plt.ylabel('Datasets')\n",
        "plt.show()"
      ],
      "metadata": {
        "colab": {
          "base_uri": "https://localhost:8080/",
          "height": 279
        },
        "id": "C1iaKQtF7fhB",
        "outputId": "9ea9445a-c773-4c01-9849-d3ca1c7bfb7f"
      },
      "execution_count": 49,
      "outputs": [
        {
          "output_type": "display_data",
          "data": {
            "text/plain": [
              "<Figure size 432x288 with 1 Axes>"
            ],
            "image/png": "[encoded data removed]"
          },
          "metadata": {
            "needs_background": "light"
          }
        }
      ]
    }
  ]
}