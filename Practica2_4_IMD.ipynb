{
  "nbformat": 4,
  "nbformat_minor": 0,
  "metadata": {
    "colab": {
      "provenance": []
    },
    "kernelspec": {
      "name": "python3",
      "display_name": "Python 3"
    },
    "language_info": {
      "name": "python"
    }
  },
  "cells": [
    {
      "cell_type": "code",
      "execution_count": 1,
      "metadata": {
        "id": "ftoLybuWn20j"
      },
      "outputs": [],
      "source": [
        "import pandas as pd\n",
        "import numpy as np"
      ]
    },
    {
      "cell_type": "code",
      "source": [
        "#Lectura de Dataset haciendo uso de URL de github y el nombre de las columnas\n",
        "def readDataset(file,columns):\n",
        "  dataset=pd.read_csv(file, header=None, names=columns)\n",
        "  return dataset"
      ],
      "metadata": {
        "id": "Ydir4adS10VG"
      },
      "execution_count": 2,
      "outputs": []
    },
    {
      "cell_type": "markdown",
      "source": [
        "###**1. Seleccione un algoritmo clasificación de los disponibles en scikit que sea capaz de resolver problemas de más de dos clases y al menos 10 conjuntos de datos de más de 2 clases (puede reusar los de prácticas anteriores).**###"
      ],
      "metadata": {
        "id": "eaPQgM77IX4k"
      }
    },
    {
      "cell_type": "code",
      "execution_count": 3,
      "metadata": {
        "colab": {
          "base_uri": "https://localhost:8080/"
        },
        "id": "TD9MmUf0Hgcr",
        "outputId": "6c46ab3d-101f-4d42-bc96-4ea19fa8503b"
      },
      "outputs": [
        {
          "output_type": "execute_result",
          "data": {
            "text/plain": [
              "array(['Iris-setosa', 'Iris-versicolor', 'Iris-virginica'], dtype=object)"
            ]
          },
          "metadata": {},
          "execution_count": 3
        }
      ],
      "source": [
        "#Iris Data set\n",
        "columnas=['sepal length (cm)', 'sepal width (cm)', 'petal length (cm)', 'petal width (cm)', 'class']\n",
        "iris_features=['sepal length (cm)', 'sepal width (cm)', 'petal length (cm)', 'petal width (cm)']\n",
        "iris= readDataset('https://raw.githubusercontent.com/victoriapl01/Mineria_De_Datos/main/Datasets/iris.data', columnas)\n",
        "iris_X= iris[iris_features]\n",
        "iris_y= iris['class']\n",
        "iris_y.unique()"
      ]
    },
    {
      "cell_type": "code",
      "source": [
        "#Car Evaluation Data set\n",
        "columnas=['buying','maint','doors', 'persons', 'lug_boot','safety','class']\n",
        "car_features=['buying','maint','doors', 'persons', 'lug_boot','safety']\n",
        "car= readDataset('https://raw.githubusercontent.com/victoriapl01/Mineria_De_Datos/main/Datasets/car.data',columnas)\n",
        "car['buying']=car['buying'].map({'vhigh':4, 'high':3, 'med':2, 'low':1})\n",
        "car['maint']=car['maint'].map({'vhigh':4, 'high':3, 'med':2, 'low':1})\n",
        "car['lug_boot']=car['lug_boot'].map({'small':1, 'med':2, 'big':3})\n",
        "car['safety']=car['safety'].map({'low':1, 'med':2, 'high':3})\n",
        "car['doors']=car['doors'].map({'1':1, '2':2,'3':3,'4':4,'5more':7}) #Esto hará que 7 signifique más de 5 puertas o personas\n",
        "car['persons']=car['persons'].map({'1':1, '2':2,'3':3,'4':4,'more':7})\n",
        "car_X=car[car_features]\n",
        "car_y=car['class']\n",
        "car_y.unique()"
      ],
      "metadata": {
        "colab": {
          "base_uri": "https://localhost:8080/"
        },
        "id": "lHdPNo7kI1Lz",
        "outputId": "73daf768-4fb4-4135-b4c0-d12430e7e7c7"
      },
      "execution_count": 4,
      "outputs": [
        {
          "output_type": "execute_result",
          "data": {
            "text/plain": [
              "array(['unacc', 'acc', 'vgood', 'good'], dtype=object)"
            ]
          },
          "metadata": {},
          "execution_count": 4
        }
      ]
    },
    {
      "cell_type": "code",
      "source": [
        "#Wine Data Set\n",
        "columnas= ['class','alcohol', 'malic acid', 'ash', 'alcalinityOfAsh', 'Magnesium',' Total Phenols', 'Flavanoids', 'Nonflavanoid phenols', 'Proanthocyanins', 'Color Intensity', 'Hue', 'OD280',' Proline'] \n",
        "wine_features=['alcohol', 'malic acid', 'ash', 'alcalinityOfAsh', 'Magnesium',' Total Phenols', 'Flavanoids', 'Nonflavanoid phenols', 'Proanthocyanins', 'Color Intensity', 'Hue', 'OD280',' Proline'] \n",
        "wine=readDataset('https://raw.githubusercontent.com/victoriapl01/Mineria_De_Datos/main/Datasets/wine.data',columnas)\n",
        "wine_X=wine[wine_features]\n",
        "wine_y=wine['class']\n",
        "wine_y.unique()"
      ],
      "metadata": {
        "colab": {
          "base_uri": "https://localhost:8080/"
        },
        "id": "WbujfPOqI4Sj",
        "outputId": "0b32dc28-65b8-4ae7-df32-53863b5a936b"
      },
      "execution_count": 5,
      "outputs": [
        {
          "output_type": "execute_result",
          "data": {
            "text/plain": [
              "array([1, 2, 3])"
            ]
          },
          "metadata": {},
          "execution_count": 5
        }
      ]
    },
    {
      "cell_type": "code",
      "source": [
        "#Glass Data set\n",
        "columnas=['RI','Na', 'Mg', 'Al', 'Si','K', 'Ca', 'Ba', 'Fe', 'Type']\n",
        "glass_features=['RI','Na', 'Mg', 'Al', 'Si','K', 'Ca', 'Ba', 'Fe']\n",
        "glass=readDataset('https://raw.githubusercontent.com/victoriapl01/Mineria_De_Datos/main/Datasets/glass.data',columnas)\n",
        "glass_X=glass[glass_features]\n",
        "glass_y=glass['Type']\n",
        "glass_y.unique()"
      ],
      "metadata": {
        "colab": {
          "base_uri": "https://localhost:8080/"
        },
        "id": "1eJu2R3cJAKp",
        "outputId": "8f5824c1-2814-4015-f10f-617a243cbff7"
      },
      "execution_count": 6,
      "outputs": [
        {
          "output_type": "execute_result",
          "data": {
            "text/plain": [
              "array([\"'build wind float'\", \"'vehic wind float'\", 'tableware',\n",
              "       \"'build wind non-float'\", 'headlamps', 'containers'], dtype=object)"
            ]
          },
          "metadata": {},
          "execution_count": 6
        }
      ]
    },
    {
      "cell_type": "code",
      "source": [
        "#Segment_challeng\n",
        "columnas = ['region-centroid-col','region-centroid-row','region-pixel-count','short-line-density-5','short-line-density-2','vedge-mean','vegde-sd','hedge-mean','hedge-sd','intensity-mean','rawred-mean','rawblue-mean','rawgreen-mean','exred-mean','exblue-mean','exgreen-mean','value-mean','saturation-mean','hue-mean','class']\n",
        "segment_features = ['region-centroid-col','region-centroid-row','region-pixel-count','short-line-density-5','short-line-density-2','vedge-mean','vegde-sd','hedge-mean','hedge-sd','intensity-mean','rawred-mean','rawblue-mean','rawgreen-mean','exred-mean','exblue-mean','exgreen-mean','value-mean','saturation-mean','hue-mean']\n",
        "segment = readDataset('https://raw.githubusercontent.com/victoriapl01/Mineria_De_Datos/main/Datasets/segment_challeng.data',columnas)\n",
        "segment_X = segment[segment_features]\n",
        "segment_y = segment['class']\n",
        "segment_y.unique()"
      ],
      "metadata": {
        "colab": {
          "base_uri": "https://localhost:8080/"
        },
        "id": "rk8yoMgpJBoj",
        "outputId": "d4e56d3c-ec00-4311-ae12-c04d2d20b6fd"
      },
      "execution_count": 7,
      "outputs": [
        {
          "output_type": "execute_result",
          "data": {
            "text/plain": [
              "array(['cement', 'path', 'grass', 'window', 'foliage', 'brickface', 'sky'],\n",
              "      dtype=object)"
            ]
          },
          "metadata": {},
          "execution_count": 7
        }
      ]
    },
    {
      "cell_type": "code",
      "source": [
        "#abalone Dataset\n",
        "columnas=['Sex','Lenght','Diameter','Height','Whole weight','Shucked weight','Viscera weight','Shell weight','Rings']\n",
        "abalone_features=['Sex','Lenght','Diameter','Height','Whole weight','Shucked weight','Viscera weight','Shell weight']\n",
        "abalone=readDataset('https://raw.githubusercontent.com/victoriapl01/Mineria_De_Datos/main/Datasets/abalone.data',columnas)\n",
        "abalone=abalone.dropna()\n",
        "abalone['Sex']=abalone['Sex'].map({'M':0, 'F':1, 'I':2})\n",
        "abalone_X = abalone[abalone_features]\n",
        "abalone_y = abalone['Rings']\n",
        "abalone.head(100)"
      ],
      "metadata": {
        "colab": {
          "base_uri": "https://localhost:8080/",
          "height": 424
        },
        "id": "6NsSbIQv0c1m",
        "outputId": "fd3bdd45-28f0-41e6-894e-6982e935c24b"
      },
      "execution_count": 8,
      "outputs": [
        {
          "output_type": "execute_result",
          "data": {
            "text/plain": [
              "    Sex  Lenght  Diameter  Height  Whole weight  Shucked weight  \\\n",
              "0     0   0.455     0.365   0.095        0.5140          0.2245   \n",
              "1     0   0.350     0.265   0.090        0.2255          0.0995   \n",
              "2     1   0.530     0.420   0.135        0.6770          0.2565   \n",
              "3     0   0.440     0.365   0.125        0.5160          0.2155   \n",
              "4     2   0.330     0.255   0.080        0.2050          0.0895   \n",
              "..  ...     ...       ...     ...           ...             ...   \n",
              "95    0   0.665     0.535   0.195        1.6060          0.5755   \n",
              "96    0   0.535     0.435   0.150        0.7250          0.2690   \n",
              "97    0   0.470     0.375   0.130        0.5230          0.2140   \n",
              "98    0   0.470     0.370   0.130        0.5225          0.2010   \n",
              "99    1   0.475     0.375   0.125        0.5785          0.2775   \n",
              "\n",
              "    Viscera weight  Shell weight  Rings  \n",
              "0           0.1010         0.150     15  \n",
              "1           0.0485         0.070      7  \n",
              "2           0.1415         0.210      9  \n",
              "3           0.1140         0.155     10  \n",
              "4           0.0395         0.055      7  \n",
              "..             ...           ...    ...  \n",
              "95          0.3880         0.480     14  \n",
              "96          0.1385         0.250      9  \n",
              "97          0.1320         0.145      8  \n",
              "98          0.1330         0.165      7  \n",
              "99          0.0850         0.155     10  \n",
              "\n",
              "[100 rows x 9 columns]"
            ],
            "text/html": [
              "\n",
              "  <div id=\"df-88bc9476-23d6-41dc-8535-c147e7c06665\">\n",
              "    <div class=\"colab-df-container\">\n",
              "      <div>\n",
              "<style scoped>\n",
              "    .dataframe tbody tr th:only-of-type {\n",
              "        vertical-align: middle;\n",
              "    }\n",
              "\n",
              "    .dataframe tbody tr th {\n",
              "        vertical-align: top;\n",
              "    }\n",
              "\n",
              "    .dataframe thead th {\n",
              "        text-align: right;\n",
              "    }\n",
              "</style>\n",
              "<table border=\"1\" class=\"dataframe\">\n",
              "  <thead>\n",
              "    <tr style=\"text-align: right;\">\n",
              "      <th></th>\n",
              "      <th>Sex</th>\n",
              "      <th>Lenght</th>\n",
              "      <th>Diameter</th>\n",
              "      <th>Height</th>\n",
              "      <th>Whole weight</th>\n",
              "      <th>Shucked weight</th>\n",
              "      <th>Viscera weight</th>\n",
              "      <th>Shell weight</th>\n",
              "      <th>Rings</th>\n",
              "    </tr>\n",
              "  </thead>\n",
              "  <tbody>\n",
              "    <tr>\n",
              "      <th>0</th>\n",
              "      <td>0</td>\n",
              "      <td>0.455</td>\n",
              "      <td>0.365</td>\n",
              "      <td>0.095</td>\n",
              "      <td>0.5140</td>\n",
              "      <td>0.2245</td>\n",
              "      <td>0.1010</td>\n",
              "      <td>0.150</td>\n",
              "      <td>15</td>\n",
              "    </tr>\n",
              "    <tr>\n",
              "      <th>1</th>\n",
              "      <td>0</td>\n",
              "      <td>0.350</td>\n",
              "      <td>0.265</td>\n",
              "      <td>0.090</td>\n",
              "      <td>0.2255</td>\n",
              "      <td>0.0995</td>\n",
              "      <td>0.0485</td>\n",
              "      <td>0.070</td>\n",
              "      <td>7</td>\n",
              "    </tr>\n",
              "    <tr>\n",
              "      <th>2</th>\n",
              "      <td>1</td>\n",
              "      <td>0.530</td>\n",
              "      <td>0.420</td>\n",
              "      <td>0.135</td>\n",
              "      <td>0.6770</td>\n",
              "      <td>0.2565</td>\n",
              "      <td>0.1415</td>\n",
              "      <td>0.210</td>\n",
              "      <td>9</td>\n",
              "    </tr>\n",
              "    <tr>\n",
              "      <th>3</th>\n",
              "      <td>0</td>\n",
              "      <td>0.440</td>\n",
              "      <td>0.365</td>\n",
              "      <td>0.125</td>\n",
              "      <td>0.5160</td>\n",
              "      <td>0.2155</td>\n",
              "      <td>0.1140</td>\n",
              "      <td>0.155</td>\n",
              "      <td>10</td>\n",
              "    </tr>\n",
              "    <tr>\n",
              "      <th>4</th>\n",
              "      <td>2</td>\n",
              "      <td>0.330</td>\n",
              "      <td>0.255</td>\n",
              "      <td>0.080</td>\n",
              "      <td>0.2050</td>\n",
              "      <td>0.0895</td>\n",
              "      <td>0.0395</td>\n",
              "      <td>0.055</td>\n",
              "      <td>7</td>\n",
              "    </tr>\n",
              "    <tr>\n",
              "      <th>...</th>\n",
              "      <td>...</td>\n",
              "      <td>...</td>\n",
              "      <td>...</td>\n",
              "      <td>...</td>\n",
              "      <td>...</td>\n",
              "      <td>...</td>\n",
              "      <td>...</td>\n",
              "      <td>...</td>\n",
              "      <td>...</td>\n",
              "    </tr>\n",
              "    <tr>\n",
              "      <th>95</th>\n",
              "      <td>0</td>\n",
              "      <td>0.665</td>\n",
              "      <td>0.535</td>\n",
              "      <td>0.195</td>\n",
              "      <td>1.6060</td>\n",
              "      <td>0.5755</td>\n",
              "      <td>0.3880</td>\n",
              "      <td>0.480</td>\n",
              "      <td>14</td>\n",
              "    </tr>\n",
              "    <tr>\n",
              "      <th>96</th>\n",
              "      <td>0</td>\n",
              "      <td>0.535</td>\n",
              "      <td>0.435</td>\n",
              "      <td>0.150</td>\n",
              "      <td>0.7250</td>\n",
              "      <td>0.2690</td>\n",
              "      <td>0.1385</td>\n",
              "      <td>0.250</td>\n",
              "      <td>9</td>\n",
              "    </tr>\n",
              "    <tr>\n",
              "      <th>97</th>\n",
              "      <td>0</td>\n",
              "      <td>0.470</td>\n",
              "      <td>0.375</td>\n",
              "      <td>0.130</td>\n",
              "      <td>0.5230</td>\n",
              "      <td>0.2140</td>\n",
              "      <td>0.1320</td>\n",
              "      <td>0.145</td>\n",
              "      <td>8</td>\n",
              "    </tr>\n",
              "    <tr>\n",
              "      <th>98</th>\n",
              "      <td>0</td>\n",
              "      <td>0.470</td>\n",
              "      <td>0.370</td>\n",
              "      <td>0.130</td>\n",
              "      <td>0.5225</td>\n",
              "      <td>0.2010</td>\n",
              "      <td>0.1330</td>\n",
              "      <td>0.165</td>\n",
              "      <td>7</td>\n",
              "    </tr>\n",
              "    <tr>\n",
              "      <th>99</th>\n",
              "      <td>1</td>\n",
              "      <td>0.475</td>\n",
              "      <td>0.375</td>\n",
              "      <td>0.125</td>\n",
              "      <td>0.5785</td>\n",
              "      <td>0.2775</td>\n",
              "      <td>0.0850</td>\n",
              "      <td>0.155</td>\n",
              "      <td>10</td>\n",
              "    </tr>\n",
              "  </tbody>\n",
              "</table>\n",
              "<p>100 rows × 9 columns</p>\n",
              "</div>\n",
              "      <button class=\"colab-df-convert\" onclick=\"convertToInteractive('df-88bc9476-23d6-41dc-8535-c147e7c06665')\"\n",
              "              title=\"Convert this dataframe to an interactive table.\"\n",
              "              style=\"display:none;\">\n",
              "        \n",
              "  <svg xmlns=\"http://www.w3.org/2000/svg\" height=\"24px\"viewBox=\"0 0 24 24\"\n",
              "       width=\"24px\">\n",
              "    <path d=\"M0 0h24v24H0V0z\" fill=\"none\"/>\n",
              "    <path d=\"M18.56 5.44l.94 2.06.94-2.06 2.06-.94-2.06-.94-.94-2.06-.94 2.06-2.06.94zm-11 1L8.5 8.5l.94-2.06 2.06-.94-2.06-.94L8.5 2.5l-.94 2.06-2.06.94zm10 10l.94 2.06.94-2.06 2.06-.94-2.06-.94-.94-2.06-.94 2.06-2.06.94z\"/><path d=\"M17.41 7.96l-1.37-1.37c-.4-.4-.92-.59-1.43-.59-.52 0-1.04.2-1.43.59L10.3 9.45l-7.72 7.72c-.78.78-.78 2.05 0 2.83L4 21.41c.39.39.9.59 1.41.59.51 0 1.02-.2 1.41-.59l7.78-7.78 2.81-2.81c.8-.78.8-2.07 0-2.86zM5.41 20L4 18.59l7.72-7.72 1.47 1.35L5.41 20z\"/>\n",
              "  </svg>\n",
              "      </button>\n",
              "      \n",
              "  <style>\n",
              "    .colab-df-container {\n",
              "      display:flex;\n",
              "      flex-wrap:wrap;\n",
              "      gap: 12px;\n",
              "    }\n",
              "\n",
              "    .colab-df-convert {\n",
              "      background-color: #E8F0FE;\n",
              "      border: none;\n",
              "      border-radius: 50%;\n",
              "      cursor: pointer;\n",
              "      display: none;\n",
              "      fill: #1967D2;\n",
              "      height: 32px;\n",
              "      padding: 0 0 0 0;\n",
              "      width: 32px;\n",
              "    }\n",
              "\n",
              "    .colab-df-convert:hover {\n",
              "      background-color: #E2EBFA;\n",
              "      box-shadow: 0px 1px 2px rgba(60, 64, 67, 0.3), 0px 1px 3px 1px rgba(60, 64, 67, 0.15);\n",
              "      fill: #174EA6;\n",
              "    }\n",
              "\n",
              "    [theme=dark] .colab-df-convert {\n",
              "      background-color: #3B4455;\n",
              "      fill: #D2E3FC;\n",
              "    }\n",
              "\n",
              "    [theme=dark] .colab-df-convert:hover {\n",
              "      background-color: #434B5C;\n",
              "      box-shadow: 0px 1px 3px 1px rgba(0, 0, 0, 0.15);\n",
              "      filter: drop-shadow(0px 1px 2px rgba(0, 0, 0, 0.3));\n",
              "      fill: #FFFFFF;\n",
              "    }\n",
              "  </style>\n",
              "\n",
              "      <script>\n",
              "        const buttonEl =\n",
              "          document.querySelector('#df-88bc9476-23d6-41dc-8535-c147e7c06665 button.colab-df-convert');\n",
              "        buttonEl.style.display =\n",
              "          google.colab.kernel.accessAllowed ? 'block' : 'none';\n",
              "\n",
              "        async function convertToInteractive(key) {\n",
              "          const element = document.querySelector('#df-88bc9476-23d6-41dc-8535-c147e7c06665');\n",
              "          const dataTable =\n",
              "            await google.colab.kernel.invokeFunction('convertToInteractive',\n",
              "                                                     [key], {});\n",
              "          if (!dataTable) return;\n",
              "\n",
              "          const docLinkHtml = 'Like what you see? Visit the ' +\n",
              "            '<a target=\"_blank\" href=https://colab.research.google.com/notebooks/data_table.ipynb>data table notebook</a>'\n",
              "            + ' to learn more about interactive tables.';\n",
              "          element.innerHTML = '';\n",
              "          dataTable['output_type'] = 'display_data';\n",
              "          await google.colab.output.renderOutput(dataTable, element);\n",
              "          const docLink = document.createElement('div');\n",
              "          docLink.innerHTML = docLinkHtml;\n",
              "          element.appendChild(docLink);\n",
              "        }\n",
              "      </script>\n",
              "    </div>\n",
              "  </div>\n",
              "  "
            ]
          },
          "metadata": {},
          "execution_count": 8
        }
      ]
    },
    {
      "cell_type": "code",
      "source": [
        "#Leaf dataset\n",
        "leaf=pd.read_csv('https://raw.githubusercontent.com/victoriapl01/Mineria_De_Datos/main/Datasets/leaf.csv')\n",
        "leaf.columns=['class', 'Specimen Nº', 'Eccenticity', 'Aspect Ratio', 'Elongation', 'Solidity', 'Stochastic Convexity','Isoperimetric Factor','Maximal Indentation Depth', 'Lobedness','Intensity', 'Contrast','Smoothness','Thids moment','Uniformity','Entropy']\n",
        "leaf_X = leaf.drop(['class'],axis=1)\n",
        "leaf_y=leaf['class']\n",
        "leaf_y.unique()"
      ],
      "metadata": {
        "id": "CACNa7IiM8NH",
        "colab": {
          "base_uri": "https://localhost:8080/"
        },
        "outputId": "5a0b57aa-926d-4d7c-ea9f-b37123e60c37"
      },
      "execution_count": 9,
      "outputs": [
        {
          "output_type": "execute_result",
          "data": {
            "text/plain": [
              "array([ 1,  2,  3,  4,  5,  6,  7,  8,  9, 10, 11, 12, 13, 14, 15, 22, 23,\n",
              "       24, 25, 26, 27, 28, 29, 30, 31, 32, 33, 34, 35, 36])"
            ]
          },
          "metadata": {},
          "execution_count": 9
        }
      ]
    },
    {
      "cell_type": "code",
      "source": [
        "#Soybean dataset\n",
        "columnas=['date', 'plant-stand','precip', 'temp','hail','corp-hist','area-damaged','severity','seed-tmt','germination','plan-growth','leaves','leafspots-halo','leafspots-marg','leafspot-size','leaf-shread','leaf-malf','leaf-mild','stem','lodging','stem-cankers','canker-lesion','fruiting-bodies','external decay','mycelium','int-discolor','sclerotia','fruit-pods','fruit spots','seed','mold-growth','seed-discolor','seed-size','shriveling','roots','class']\n",
        "soybean_features=['date', 'plant-stand','precip', 'temp','hail','corp-hist','area-damaged','severity','seed-tmt','germination','plan-growth','leaves','leafspots-halo','leafspots-marg','leafspot-size','leaf-shread','leaf-malf','leaf-mild','stem','lodging','stem-cankers','canker-lesion','fruiting-bodies','external decay','mycelium','int-discolor','sclerotia','fruit-pods','fruit spots','seed','mold-growth','seed-discolor','seed-size','shriveling','roots']\n",
        "soybean=readDataset('https://raw.githubusercontent.com/victoriapl01/Mineria_De_Datos/main/Datasets/soybean-small.data',columnas)\n",
        "soybean_X = soybean[soybean_features]\n",
        "soybean_y = soybean['class']\n",
        "soybean_y.unique()"
      ],
      "metadata": {
        "colab": {
          "base_uri": "https://localhost:8080/"
        },
        "id": "yegTYZmbxIDo",
        "outputId": "8a3aebcb-9d37-46e7-c074-dcaf0a499d7a"
      },
      "execution_count": 10,
      "outputs": [
        {
          "output_type": "execute_result",
          "data": {
            "text/plain": [
              "array(['D1', 'D2', 'D3', 'D4'], dtype=object)"
            ]
          },
          "metadata": {},
          "execution_count": 10
        }
      ]
    },
    {
      "cell_type": "code",
      "source": [
        "#Zoo dataset\n",
        "columnas=['name', 'hair', 'feathers', 'eggs', 'milk', 'airborne', 'aquatic', 'predator', 'toothed', 'backbone','breathes', 'venomous', 'fins','legs', 'tail', 'domestic','catsize','type']\n",
        "zoo_features=['hair', 'feathers', 'eggs', 'milk', 'airborne', 'aquatic', 'predator', 'toothed', 'backbone','breathes', 'venomous', 'legs', 'tail', 'domestic','catsize']\n",
        "zoo=readDataset('https://raw.githubusercontent.com/victoriapl01/Mineria_De_Datos/main/Datasets/zoo.data',columnas)\n",
        "zoo_X = zoo[zoo_features]\n",
        "zoo_y = zoo['type']\n",
        "zoo_y.unique()"
      ],
      "metadata": {
        "colab": {
          "base_uri": "https://localhost:8080/"
        },
        "id": "8Y16JILLsoSd",
        "outputId": "33bdfed9-11e5-47c7-8c23-450625d9051f"
      },
      "execution_count": 11,
      "outputs": [
        {
          "output_type": "execute_result",
          "data": {
            "text/plain": [
              "array([1, 4, 2, 7, 6, 5, 3])"
            ]
          },
          "metadata": {},
          "execution_count": 11
        }
      ]
    },
    {
      "cell_type": "markdown",
      "source": [
        "###**2. Aplique el clasificador base a cada uno de los conjuntos y anote los resultados obtenidos.**###"
      ],
      "metadata": {
        "id": "s05HfJui2h3q"
      }
    },
    {
      "cell_type": "code",
      "source": [
        "from sklearn.model_selection import GridSearchCV\n",
        "from sklearn.model_selection import train_test_split\n",
        "from sklearn  import metrics\n",
        "from sklearn import svm"
      ],
      "metadata": {
        "id": "gD0LFCTC3QZg"
      },
      "execution_count": 12,
      "outputs": []
    },
    {
      "cell_type": "code",
      "source": [
        "#Compute accuracy of model\n",
        "def accuracyDataset(features, label): \n",
        "  accuracy=0\n",
        "  parameters = [ \n",
        "    {\"kernel\": [\"rbf\"], \"gamma\": [0.01, 0.1, 1.0], \"C\": [1, 10, 100, 1000]}, \n",
        "    {\"kernel\": [\"linear\"], \"C\": [1, 10, 100, 1000]}, ]\n",
        "  #Split into random train and test subsets\n",
        "  X_train, X_test, y_train, y_test = train_test_split(features, label, test_size=0.2, random_state=1)\n",
        "  model= GridSearchCV(svm.SVC(), parameters, cv=5)\n",
        "  #Entrenamiento de datos de entrenamiento\n",
        "  model.fit(X_train,y_train)\n",
        "  #Predice salidas de los datos test\n",
        "  y_pred = model.predict(X_test)\n",
        "  #Calcula precisión del modelo\n",
        "  accuracy = metrics.accuracy_score(y_test, y_pred)\n",
        "  return accuracy"
      ],
      "metadata": {
        "id": "9c3oRycJBUHI"
      },
      "execution_count": 13,
      "outputs": []
    },
    {
      "cell_type": "code",
      "source": [
        "accuracy_score=[]"
      ],
      "metadata": {
        "id": "R__6njRU4dQz"
      },
      "execution_count": 14,
      "outputs": []
    },
    {
      "cell_type": "code",
      "source": [
        "iris_accuracy=accuracyDataset(iris_X, iris_y)\n",
        "accuracy_score.append(iris_accuracy)\n",
        "accuracy_score"
      ],
      "metadata": {
        "colab": {
          "base_uri": "https://localhost:8080/"
        },
        "id": "_Jw6cjAC5sM2",
        "outputId": "881c494e-5793-429a-ddf1-c1cd0f759c92"
      },
      "execution_count": 15,
      "outputs": [
        {
          "output_type": "execute_result",
          "data": {
            "text/plain": [
              "[1.0]"
            ]
          },
          "metadata": {},
          "execution_count": 15
        }
      ]
    },
    {
      "cell_type": "code",
      "source": [
        "car_accuracy=accuracyDataset(car_X, car_y)\n",
        "accuracy_score.append(car_accuracy)\n",
        "accuracy_score"
      ],
      "metadata": {
        "colab": {
          "base_uri": "https://localhost:8080/"
        },
        "id": "CKx5yYG05-qa",
        "outputId": "ef3670c7-7b2c-4c65-88a7-6e410ff9868d"
      },
      "execution_count": 16,
      "outputs": [
        {
          "output_type": "execute_result",
          "data": {
            "text/plain": [
              "[1.0, 0.9739884393063584]"
            ]
          },
          "metadata": {},
          "execution_count": 16
        }
      ]
    },
    {
      "cell_type": "code",
      "source": [
        "wine_accuracy=accuracyDataset(wine_X, wine_y)\n",
        "accuracy_score.append(wine_accuracy)\n",
        "accuracy_score"
      ],
      "metadata": {
        "colab": {
          "base_uri": "https://localhost:8080/"
        },
        "id": "XOjyqWni6D_l",
        "outputId": "fd2d9523-5cc8-46a5-c8fe-c2079a977df4"
      },
      "execution_count": 17,
      "outputs": [
        {
          "output_type": "execute_result",
          "data": {
            "text/plain": [
              "[1.0, 0.9739884393063584, 0.9444444444444444]"
            ]
          },
          "metadata": {},
          "execution_count": 17
        }
      ]
    },
    {
      "cell_type": "code",
      "source": [
        "glass_accuracy=accuracyDataset(glass_X, glass_y)\n",
        "accuracy_score.append(glass_accuracy)\n",
        "accuracy_score"
      ],
      "metadata": {
        "colab": {
          "base_uri": "https://localhost:8080/"
        },
        "id": "s1E_qP6p6Hi1",
        "outputId": "d79bb37f-8e0f-491b-b20b-c202e4412a34"
      },
      "execution_count": 18,
      "outputs": [
        {
          "output_type": "execute_result",
          "data": {
            "text/plain": [
              "[1.0, 0.9739884393063584, 0.9444444444444444, 0.7674418604651163]"
            ]
          },
          "metadata": {},
          "execution_count": 18
        }
      ]
    },
    {
      "cell_type": "code",
      "source": [
        "segment_accuracy=accuracyDataset(segment_X, segment_y)\n",
        "accuracy_score.append(segment_accuracy)\n",
        "accuracy_score"
      ],
      "metadata": {
        "colab": {
          "base_uri": "https://localhost:8080/"
        },
        "id": "6pqnmZPY6OE-",
        "outputId": "78eff097-470d-4ba5-8783-12cdba4ff547"
      },
      "execution_count": 19,
      "outputs": [
        {
          "output_type": "execute_result",
          "data": {
            "text/plain": [
              "[1.0,\n",
              " 0.9739884393063584,\n",
              " 0.9444444444444444,\n",
              " 0.7674418604651163,\n",
              " 0.9506172839506173]"
            ]
          },
          "metadata": {},
          "execution_count": 19
        }
      ]
    },
    {
      "cell_type": "code",
      "source": [
        "abalone_accuracy=accuracyDataset(abalone_X, abalone_y)\n",
        "accuracy_score.append(abalone_accuracy)\n",
        "accuracy_score"
      ],
      "metadata": {
        "colab": {
          "base_uri": "https://localhost:8080/"
        },
        "id": "guVlKOjn6Rvb",
        "outputId": "50333c17-2f7e-40f2-e752-d27ea3505feb"
      },
      "execution_count": 20,
      "outputs": [
        {
          "output_type": "stream",
          "name": "stderr",
          "text": [
            "/usr/local/lib/python3.8/dist-packages/sklearn/model_selection/_split.py:676: UserWarning: The least populated class in y has only 1 members, which is less than n_splits=5.\n",
            "  warnings.warn(\n"
          ]
        },
        {
          "output_type": "execute_result",
          "data": {
            "text/plain": [
              "[1.0,\n",
              " 0.9739884393063584,\n",
              " 0.9444444444444444,\n",
              " 0.7674418604651163,\n",
              " 0.9506172839506173,\n",
              " 0.27631578947368424]"
            ]
          },
          "metadata": {},
          "execution_count": 20
        }
      ]
    },
    {
      "cell_type": "code",
      "source": [
        "leaf_accuracy=accuracyDataset(leaf_X, leaf_y)\n",
        "accuracy_score.append(leaf_accuracy)\n",
        "accuracy_score"
      ],
      "metadata": {
        "colab": {
          "base_uri": "https://localhost:8080/"
        },
        "id": "aXg8bQU86ZNJ",
        "outputId": "e87a61d9-ee28-4193-9515-b655d6850088"
      },
      "execution_count": 21,
      "outputs": [
        {
          "output_type": "execute_result",
          "data": {
            "text/plain": [
              "[1.0,\n",
              " 0.9739884393063584,\n",
              " 0.9444444444444444,\n",
              " 0.7674418604651163,\n",
              " 0.9506172839506173,\n",
              " 0.27631578947368424,\n",
              " 0.75]"
            ]
          },
          "metadata": {},
          "execution_count": 21
        }
      ]
    },
    {
      "cell_type": "code",
      "source": [
        "soybean_accuracy=accuracyDataset(soybean_X, soybean_y)\n",
        "accuracy_score.append(soybean_accuracy)\n",
        "accuracy_score"
      ],
      "metadata": {
        "colab": {
          "base_uri": "https://localhost:8080/"
        },
        "id": "Rg_vaO1D6gk7",
        "outputId": "e30a5c11-3d25-48b9-f649-70338d6da78e"
      },
      "execution_count": 22,
      "outputs": [
        {
          "output_type": "execute_result",
          "data": {
            "text/plain": [
              "[1.0,\n",
              " 0.9739884393063584,\n",
              " 0.9444444444444444,\n",
              " 0.7674418604651163,\n",
              " 0.9506172839506173,\n",
              " 0.27631578947368424,\n",
              " 0.75,\n",
              " 1.0]"
            ]
          },
          "metadata": {},
          "execution_count": 22
        }
      ]
    },
    {
      "cell_type": "code",
      "source": [
        "zoo_accuracy=accuracyDataset(zoo_X, zoo_y)\n",
        "accuracy_score.append(zoo_accuracy)\n",
        "accuracy_score"
      ],
      "metadata": {
        "colab": {
          "base_uri": "https://localhost:8080/"
        },
        "id": "jxKrD2t36l15",
        "outputId": "ee1bfa70-001e-4ddd-c6ce-863ad15d0b5d"
      },
      "execution_count": 23,
      "outputs": [
        {
          "output_type": "stream",
          "name": "stderr",
          "text": [
            "/usr/local/lib/python3.8/dist-packages/sklearn/model_selection/_split.py:676: UserWarning: The least populated class in y has only 3 members, which is less than n_splits=5.\n",
            "  warnings.warn(\n"
          ]
        },
        {
          "output_type": "execute_result",
          "data": {
            "text/plain": [
              "[1.0,\n",
              " 0.9739884393063584,\n",
              " 0.9444444444444444,\n",
              " 0.7674418604651163,\n",
              " 0.9506172839506173,\n",
              " 0.27631578947368424,\n",
              " 0.75,\n",
              " 1.0,\n",
              " 0.9523809523809523]"
            ]
          },
          "metadata": {},
          "execution_count": 23
        }
      ]
    },
    {
      "cell_type": "code",
      "source": [
        "dataset=['iris','car','wine','glass','segment','abalone','leaf','soybean','zoo']"
      ],
      "metadata": {
        "id": "c9W_H-5e6qoH"
      },
      "execution_count": 26,
      "outputs": []
    },
    {
      "cell_type": "code",
      "source": [
        "#Uso de gráficas y representación de datos\n",
        "import matplotlib.pyplot as plt\n",
        "plt.barh(dataset,accuracy_score)\n",
        "plt.xlabel('Accuracy')\n",
        "plt.ylabel('Datasets')\n",
        "plt.show()"
      ],
      "metadata": {
        "colab": {
          "base_uri": "https://localhost:8080/",
          "height": 279
        },
        "id": "C1iaKQtF7fhB",
        "outputId": "8de63599-cd4a-4480-d22a-ea843845a25e"
      },
      "execution_count": 27,
      "outputs": [
        {
          "output_type": "display_data",
          "data": {
            "text/plain": [
              "<Figure size 432x288 with 1 Axes>"
            ],
            "image/png": "[encoded data removed]"
          },
          "metadata": {
            "needs_background": "light"
          }
        }
      ]
    },
    {
      "cell_type": "markdown",
      "source": [
        "###**3. Aplique los métodos multiclase one-vs.-one (OVO), one-vs.all (OVA) y error correcting output codes (ECOC) a cada uno de los conjuntos de datos y anote los resultados obtenidos**###"
      ],
      "metadata": {
        "id": "IiU5kxbm8Dpm"
      }
    },
    {
      "cell_type": "code",
      "source": [
        "from sklearn import datasets\n",
        "from sklearn.multiclass import OneVsOneClassifier\n",
        "from sklearn.multiclass import OneVsRestClassifier\n",
        "from sklearn.multiclass import OutputCodeClassifier\n",
        "from sklearn.svm import LinearSVC"
      ],
      "metadata": {
        "id": "CV4YFf57-Otq"
      },
      "execution_count": 28,
      "outputs": []
    },
    {
      "cell_type": "code",
      "source": [
        "#Compute accuracy of model\n",
        "def accuracyDataset(features, label,model): \n",
        "  accuracy=0\n",
        "  #Split into random train and test subsets\n",
        "  X_train, X_test, y_train, y_test = train_test_split(features, label, test_size=0.2, random_state=1)\n",
        "  if model == 'ovo':\n",
        "    model=OneVsOneClassifier(LinearSVC(random_state=0, max_iter=1000000))\n",
        "  elif model == 'ova':\n",
        "    model = OneVsRestClassifier(LinearSVC(random_state=0, max_iter=1000000))\n",
        "  elif model == 'ecoc':\n",
        "    model = OutputCodeClassifier(LinearSVC(random_state=0, max_iter=1000000))\n",
        "  #Entrenamiento de datos de entrenamiento\n",
        "  model.fit(X_train,y_train)\n",
        "  #Predice salidas de los datos test\n",
        "  y_pred = model.predict(X_test)\n",
        "  #Calcula precisión del modelo\n",
        "  accuracy = metrics.accuracy_score(y_test, y_pred)\n",
        "  return accuracy"
      ],
      "metadata": {
        "id": "PTVOXuRb-vBo"
      },
      "execution_count": 29,
      "outputs": []
    },
    {
      "cell_type": "markdown",
      "source": [
        "**MÉTODO ONE VS ONE (OVO)**"
      ],
      "metadata": {
        "id": "lmXKT4n7-J36"
      }
    },
    {
      "cell_type": "code",
      "source": [
        "accuracy_ovo = []"
      ],
      "metadata": {
        "id": "EtE34yG5-rjU"
      },
      "execution_count": 30,
      "outputs": []
    },
    {
      "cell_type": "code",
      "source": [
        "iris_ovo = accuracyDataset(iris_X, iris_y, 'ovo')\n",
        "accuracy_ovo.append(iris_ovo)\n",
        "accuracy_ovo"
      ],
      "metadata": {
        "colab": {
          "base_uri": "https://localhost:8080/"
        },
        "id": "FzPQcCwnANvq",
        "outputId": "45427b50-bda4-4e28-df5c-882aa2e21570"
      },
      "execution_count": 31,
      "outputs": [
        {
          "output_type": "execute_result",
          "data": {
            "text/plain": [
              "[1.0]"
            ]
          },
          "metadata": {},
          "execution_count": 31
        }
      ]
    },
    {
      "cell_type": "code",
      "source": [
        "car_ovo = accuracyDataset(car_X, car_y, 'ovo')\n",
        "accuracy_ovo.append(car_ovo)\n",
        "accuracy_ovo"
      ],
      "metadata": {
        "colab": {
          "base_uri": "https://localhost:8080/"
        },
        "id": "IPYRkE7nAZWE",
        "outputId": "e634a929-c276-4f93-a98a-e8910287871f"
      },
      "execution_count": 32,
      "outputs": [
        {
          "output_type": "execute_result",
          "data": {
            "text/plain": [
              "[1.0, 0.8439306358381503]"
            ]
          },
          "metadata": {},
          "execution_count": 32
        }
      ]
    },
    {
      "cell_type": "code",
      "source": [
        "wine_ovo = accuracyDataset(wine_X, wine_y, 'ovo')\n",
        "accuracy_ovo.append(wine_ovo)\n",
        "accuracy_ovo"
      ],
      "metadata": {
        "colab": {
          "base_uri": "https://localhost:8080/"
        },
        "id": "53uRiZbrB4o4",
        "outputId": "6b393c60-8203-4595-9b37-ff4efc45d7d6"
      },
      "execution_count": 33,
      "outputs": [
        {
          "output_type": "stream",
          "name": "stderr",
          "text": [
            "/usr/local/lib/python3.8/dist-packages/sklearn/svm/_base.py:1206: ConvergenceWarning: Liblinear failed to converge, increase the number of iterations.\n",
            "  warnings.warn(\n",
            "/usr/local/lib/python3.8/dist-packages/sklearn/svm/_base.py:1206: ConvergenceWarning: Liblinear failed to converge, increase the number of iterations.\n",
            "  warnings.warn(\n",
            "/usr/local/lib/python3.8/dist-packages/sklearn/svm/_base.py:1206: ConvergenceWarning: Liblinear failed to converge, increase the number of iterations.\n",
            "  warnings.warn(\n"
          ]
        },
        {
          "output_type": "execute_result",
          "data": {
            "text/plain": [
              "[1.0, 0.8439306358381503, 0.9444444444444444]"
            ]
          },
          "metadata": {},
          "execution_count": 33
        }
      ]
    },
    {
      "cell_type": "code",
      "source": [
        "glass_ovo = accuracyDataset(glass_X, glass_y, 'ovo')\n",
        "accuracy_ovo.append(glass_ovo)\n",
        "accuracy_ovo"
      ],
      "metadata": {
        "colab": {
          "base_uri": "https://localhost:8080/"
        },
        "id": "jfihhy24CCpd",
        "outputId": "ba208616-639b-4f13-968b-b37a60a94d04"
      },
      "execution_count": 34,
      "outputs": [
        {
          "output_type": "execute_result",
          "data": {
            "text/plain": [
              "[1.0, 0.8439306358381503, 0.9444444444444444, 0.6511627906976745]"
            ]
          },
          "metadata": {},
          "execution_count": 34
        }
      ]
    },
    {
      "cell_type": "code",
      "source": [
        "segment_ovo = accuracyDataset(segment_X, segment_y, 'ovo')\n",
        "accuracy_ovo.append(segment_ovo)\n",
        "accuracy_ovo"
      ],
      "metadata": {
        "colab": {
          "base_uri": "https://localhost:8080/"
        },
        "id": "X-H62T_7CHkd",
        "outputId": "6883e461-ddd6-4b89-87b8-1e7fe268b684"
      },
      "execution_count": 35,
      "outputs": [
        {
          "output_type": "stream",
          "name": "stderr",
          "text": [
            "/usr/local/lib/python3.8/dist-packages/sklearn/svm/_base.py:1206: ConvergenceWarning: Liblinear failed to converge, increase the number of iterations.\n",
            "  warnings.warn(\n",
            "/usr/local/lib/python3.8/dist-packages/sklearn/svm/_base.py:1206: ConvergenceWarning: Liblinear failed to converge, increase the number of iterations.\n",
            "  warnings.warn(\n",
            "/usr/local/lib/python3.8/dist-packages/sklearn/svm/_base.py:1206: ConvergenceWarning: Liblinear failed to converge, increase the number of iterations.\n",
            "  warnings.warn(\n"
          ]
        },
        {
          "output_type": "execute_result",
          "data": {
            "text/plain": [
              "[1.0,\n",
              " 0.8439306358381503,\n",
              " 0.9444444444444444,\n",
              " 0.6511627906976745,\n",
              " 0.9691358024691358]"
            ]
          },
          "metadata": {},
          "execution_count": 35
        }
      ]
    },
    {
      "cell_type": "code",
      "source": [
        "abalone_ovo = accuracyDataset(abalone_X, abalone_y, 'ovo')\n",
        "accuracy_ovo.append(abalone_ovo)\n",
        "accuracy_ovo"
      ],
      "metadata": {
        "colab": {
          "base_uri": "https://localhost:8080/"
        },
        "id": "3WXlPzW3CNQs",
        "outputId": "e394818f-ada8-4f16-ebf3-8da57421cfd0"
      },
      "execution_count": 36,
      "outputs": [
        {
          "output_type": "execute_result",
          "data": {
            "text/plain": [
              "[1.0,\n",
              " 0.8439306358381503,\n",
              " 0.9444444444444444,\n",
              " 0.6511627906976745,\n",
              " 0.9691358024691358,\n",
              " 0.2511961722488038]"
            ]
          },
          "metadata": {},
          "execution_count": 36
        }
      ]
    },
    {
      "cell_type": "code",
      "source": [
        "leaf_ovo = accuracyDataset(leaf_X, leaf_y, 'ovo')\n",
        "accuracy_ovo.append(leaf_ovo)\n",
        "accuracy_ovo"
      ],
      "metadata": {
        "colab": {
          "base_uri": "https://localhost:8080/"
        },
        "id": "J9DuXnx3CSWy",
        "outputId": "68574bdf-df21-409a-dc2e-ab3780dc3bba"
      },
      "execution_count": 37,
      "outputs": [
        {
          "output_type": "execute_result",
          "data": {
            "text/plain": [
              "[1.0,\n",
              " 0.8439306358381503,\n",
              " 0.9444444444444444,\n",
              " 0.6511627906976745,\n",
              " 0.9691358024691358,\n",
              " 0.2511961722488038,\n",
              " 0.5441176470588235]"
            ]
          },
          "metadata": {},
          "execution_count": 37
        }
      ]
    },
    {
      "cell_type": "code",
      "source": [
        "soybean_ovo = accuracyDataset(soybean_X, soybean_y, 'ovo')\n",
        "accuracy_ovo.append(soybean_ovo)\n",
        "accuracy_ovo"
      ],
      "metadata": {
        "colab": {
          "base_uri": "https://localhost:8080/"
        },
        "id": "uwJnuqCzCaJc",
        "outputId": "0b242337-3803-4527-d353-ed687b89772f"
      },
      "execution_count": 38,
      "outputs": [
        {
          "output_type": "execute_result",
          "data": {
            "text/plain": [
              "[1.0,\n",
              " 0.8439306358381503,\n",
              " 0.9444444444444444,\n",
              " 0.6511627906976745,\n",
              " 0.9691358024691358,\n",
              " 0.2511961722488038,\n",
              " 0.5441176470588235,\n",
              " 1.0]"
            ]
          },
          "metadata": {},
          "execution_count": 38
        }
      ]
    },
    {
      "cell_type": "code",
      "source": [
        "zoo_ovo = accuracyDataset(zoo_X, zoo_y, 'ovo')\n",
        "accuracy_ovo.append(zoo_ovo)\n",
        "accuracy_ovo"
      ],
      "metadata": {
        "colab": {
          "base_uri": "https://localhost:8080/"
        },
        "id": "r0jgAPysCfxY",
        "outputId": "73fbeae0-a1ef-4ed5-a032-fbb996e93550"
      },
      "execution_count": 39,
      "outputs": [
        {
          "output_type": "execute_result",
          "data": {
            "text/plain": [
              "[1.0,\n",
              " 0.8439306358381503,\n",
              " 0.9444444444444444,\n",
              " 0.6511627906976745,\n",
              " 0.9691358024691358,\n",
              " 0.2511961722488038,\n",
              " 0.5441176470588235,\n",
              " 1.0,\n",
              " 0.9523809523809523]"
            ]
          },
          "metadata": {},
          "execution_count": 39
        }
      ]
    },
    {
      "cell_type": "markdown",
      "source": [
        "**MÉTODO ONE VS ALL (OVA)**"
      ],
      "metadata": {
        "id": "PdkD9PztCM0L"
      }
    },
    {
      "cell_type": "code",
      "source": [
        "accuracy_ova = []"
      ],
      "metadata": {
        "id": "_cUuzDjuC2Ci"
      },
      "execution_count": 40,
      "outputs": []
    },
    {
      "cell_type": "code",
      "source": [
        "iris_ova = accuracyDataset(iris_X, iris_y, 'ova')\n",
        "accuracy_ova.append(iris_ova)\n",
        "accuracy_ova"
      ],
      "metadata": {
        "colab": {
          "base_uri": "https://localhost:8080/"
        },
        "id": "D8ErHs_EC2Cn",
        "outputId": "cdf6baed-b365-4012-f179-46ce9110d0ed"
      },
      "execution_count": 41,
      "outputs": [
        {
          "output_type": "execute_result",
          "data": {
            "text/plain": [
              "[0.9]"
            ]
          },
          "metadata": {},
          "execution_count": 41
        }
      ]
    },
    {
      "cell_type": "code",
      "source": [
        "car_ova = accuracyDataset(car_X, car_y, 'ova')\n",
        "accuracy_ova.append(car_ova)\n",
        "accuracy_ova"
      ],
      "metadata": {
        "colab": {
          "base_uri": "https://localhost:8080/"
        },
        "id": "-j7H-s4yC2Cn",
        "outputId": "b4f24247-929e-49c6-8fb9-9f27702a8ee9"
      },
      "execution_count": 42,
      "outputs": [
        {
          "output_type": "execute_result",
          "data": {
            "text/plain": [
              "[0.9, 0.791907514450867]"
            ]
          },
          "metadata": {},
          "execution_count": 42
        }
      ]
    },
    {
      "cell_type": "code",
      "source": [
        "wine_ova = accuracyDataset(wine_X, wine_y, 'ova')\n",
        "accuracy_ova.append(wine_ova)\n",
        "accuracy_ova"
      ],
      "metadata": {
        "colab": {
          "base_uri": "https://localhost:8080/"
        },
        "id": "XB0YstueC2Cn",
        "outputId": "e6ecee8d-f795-4afd-e9fd-a8be92da544a"
      },
      "execution_count": 43,
      "outputs": [
        {
          "output_type": "stream",
          "name": "stderr",
          "text": [
            "/usr/local/lib/python3.8/dist-packages/sklearn/svm/_base.py:1206: ConvergenceWarning: Liblinear failed to converge, increase the number of iterations.\n",
            "  warnings.warn(\n",
            "/usr/local/lib/python3.8/dist-packages/sklearn/svm/_base.py:1206: ConvergenceWarning: Liblinear failed to converge, increase the number of iterations.\n",
            "  warnings.warn(\n",
            "/usr/local/lib/python3.8/dist-packages/sklearn/svm/_base.py:1206: ConvergenceWarning: Liblinear failed to converge, increase the number of iterations.\n",
            "  warnings.warn(\n"
          ]
        },
        {
          "output_type": "execute_result",
          "data": {
            "text/plain": [
              "[0.9, 0.791907514450867, 0.9444444444444444]"
            ]
          },
          "metadata": {},
          "execution_count": 43
        }
      ]
    },
    {
      "cell_type": "code",
      "source": [
        "glass_ova = accuracyDataset(glass_X, glass_y, 'ova')\n",
        "accuracy_ova.append(glass_ova)\n",
        "accuracy_ova"
      ],
      "metadata": {
        "colab": {
          "base_uri": "https://localhost:8080/"
        },
        "id": "YCzlNg6WC2Cn",
        "outputId": "598a8b04-72a7-45ce-cf01-e65f8cfb90d3"
      },
      "execution_count": 44,
      "outputs": [
        {
          "output_type": "execute_result",
          "data": {
            "text/plain": [
              "[0.9, 0.791907514450867, 0.9444444444444444, 0.6046511627906976]"
            ]
          },
          "metadata": {},
          "execution_count": 44
        }
      ]
    },
    {
      "cell_type": "code",
      "source": [
        "segment_ova = accuracyDataset(segment_X, segment_y, 'ova')\n",
        "accuracy_ova.append(segment_ova)\n",
        "accuracy_ova"
      ],
      "metadata": {
        "colab": {
          "base_uri": "https://localhost:8080/"
        },
        "id": "h857lkJrC2Co",
        "outputId": "2c209e5c-2746-43cf-86ee-12160a179834"
      },
      "execution_count": 45,
      "outputs": [
        {
          "output_type": "stream",
          "name": "stderr",
          "text": [
            "/usr/local/lib/python3.8/dist-packages/sklearn/svm/_base.py:1206: ConvergenceWarning: Liblinear failed to converge, increase the number of iterations.\n",
            "  warnings.warn(\n",
            "/usr/local/lib/python3.8/dist-packages/sklearn/svm/_base.py:1206: ConvergenceWarning: Liblinear failed to converge, increase the number of iterations.\n",
            "  warnings.warn(\n",
            "/usr/local/lib/python3.8/dist-packages/sklearn/svm/_base.py:1206: ConvergenceWarning: Liblinear failed to converge, increase the number of iterations.\n",
            "  warnings.warn(\n",
            "/usr/local/lib/python3.8/dist-packages/sklearn/svm/_base.py:1206: ConvergenceWarning: Liblinear failed to converge, increase the number of iterations.\n",
            "  warnings.warn(\n",
            "/usr/local/lib/python3.8/dist-packages/sklearn/svm/_base.py:1206: ConvergenceWarning: Liblinear failed to converge, increase the number of iterations.\n",
            "  warnings.warn(\n"
          ]
        },
        {
          "output_type": "execute_result",
          "data": {
            "text/plain": [
              "[0.9,\n",
              " 0.791907514450867,\n",
              " 0.9444444444444444,\n",
              " 0.6046511627906976,\n",
              " 0.8888888888888888]"
            ]
          },
          "metadata": {},
          "execution_count": 45
        }
      ]
    },
    {
      "cell_type": "code",
      "source": [
        "abalone_ova = accuracyDataset(abalone_X, abalone_y, 'ova')\n",
        "accuracy_ova.append(abalone_ova)\n",
        "accuracy_ova"
      ],
      "metadata": {
        "colab": {
          "base_uri": "https://localhost:8080/"
        },
        "id": "CjSunQwMC2Co",
        "outputId": "ed0f809e-da97-47d7-d83c-7a1519057d9b"
      },
      "execution_count": 46,
      "outputs": [
        {
          "output_type": "execute_result",
          "data": {
            "text/plain": [
              "[0.9,\n",
              " 0.791907514450867,\n",
              " 0.9444444444444444,\n",
              " 0.6046511627906976,\n",
              " 0.8888888888888888,\n",
              " 0.23923444976076555]"
            ]
          },
          "metadata": {},
          "execution_count": 46
        }
      ]
    },
    {
      "cell_type": "code",
      "source": [
        "leaf_ova = accuracyDataset(leaf_X, leaf_y, 'ova')\n",
        "accuracy_ova.append(leaf_ova)\n",
        "accuracy_ova"
      ],
      "metadata": {
        "colab": {
          "base_uri": "https://localhost:8080/"
        },
        "id": "r93qjt-DC2Co",
        "outputId": "cf6ab19a-9f5c-48b4-88ad-93acdadf9a90"
      },
      "execution_count": 47,
      "outputs": [
        {
          "output_type": "execute_result",
          "data": {
            "text/plain": [
              "[0.9,\n",
              " 0.791907514450867,\n",
              " 0.9444444444444444,\n",
              " 0.6046511627906976,\n",
              " 0.8888888888888888,\n",
              " 0.23923444976076555,\n",
              " 0.5147058823529411]"
            ]
          },
          "metadata": {},
          "execution_count": 47
        }
      ]
    },
    {
      "cell_type": "code",
      "source": [
        "soybean_ova = accuracyDataset(soybean_X, soybean_y, 'ova')\n",
        "accuracy_ova.append(soybean_ova)\n",
        "accuracy_ova"
      ],
      "metadata": {
        "colab": {
          "base_uri": "https://localhost:8080/"
        },
        "id": "9f1jgdoGC2Co",
        "outputId": "d3e94b5f-c438-430e-e516-add7ec037ca8"
      },
      "execution_count": 48,
      "outputs": [
        {
          "output_type": "execute_result",
          "data": {
            "text/plain": [
              "[0.9,\n",
              " 0.791907514450867,\n",
              " 0.9444444444444444,\n",
              " 0.6046511627906976,\n",
              " 0.8888888888888888,\n",
              " 0.23923444976076555,\n",
              " 0.5147058823529411,\n",
              " 1.0]"
            ]
          },
          "metadata": {},
          "execution_count": 48
        }
      ]
    },
    {
      "cell_type": "code",
      "source": [
        "zoo_ova = accuracyDataset(zoo_X, zoo_y, 'ova')\n",
        "accuracy_ova.append(zoo_ova)\n",
        "accuracy_ova"
      ],
      "metadata": {
        "colab": {
          "base_uri": "https://localhost:8080/"
        },
        "id": "5XWVJXXpC2Co",
        "outputId": "bde07aab-b416-46a5-d4d6-6688e5a82740"
      },
      "execution_count": 49,
      "outputs": [
        {
          "output_type": "execute_result",
          "data": {
            "text/plain": [
              "[0.9,\n",
              " 0.791907514450867,\n",
              " 0.9444444444444444,\n",
              " 0.6046511627906976,\n",
              " 0.8888888888888888,\n",
              " 0.23923444976076555,\n",
              " 0.5147058823529411,\n",
              " 1.0,\n",
              " 1.0]"
            ]
          },
          "metadata": {},
          "execution_count": 49
        }
      ]
    },
    {
      "cell_type": "markdown",
      "source": [
        "**MÉTODO ERROR CORRECTING OUTPUT CODES (ECOC)**"
      ],
      "metadata": {
        "id": "zrKIDjhYEEx9"
      }
    },
    {
      "cell_type": "code",
      "source": [
        "accuracy_ecoc = []"
      ],
      "metadata": {
        "id": "TBI8-QHCEbmS"
      },
      "execution_count": 50,
      "outputs": []
    },
    {
      "cell_type": "code",
      "source": [
        "iris_ecoc = accuracyDataset(iris_X, iris_y, 'ecoc')\n",
        "accuracy_ecoc.append(iris_ecoc)\n",
        "accuracy_ecoc"
      ],
      "metadata": {
        "colab": {
          "base_uri": "https://localhost:8080/"
        },
        "id": "XsOa08QHEbmT",
        "outputId": "c96c2fea-91a0-4ebe-e352-266e27cfba69"
      },
      "execution_count": 51,
      "outputs": [
        {
          "output_type": "execute_result",
          "data": {
            "text/plain": [
              "[0.6666666666666666]"
            ]
          },
          "metadata": {},
          "execution_count": 51
        }
      ]
    },
    {
      "cell_type": "code",
      "source": [
        "car_ecoc = accuracyDataset(car_X, car_y, 'ecoc')\n",
        "accuracy_ecoc.append(car_ecoc)\n",
        "accuracy_ecoc"
      ],
      "metadata": {
        "colab": {
          "base_uri": "https://localhost:8080/"
        },
        "outputId": "de766857-c0bf-4811-bce6-0ab5495be01f",
        "id": "1gZZVLS6EbmT"
      },
      "execution_count": 52,
      "outputs": [
        {
          "output_type": "execute_result",
          "data": {
            "text/plain": [
              "[0.6666666666666666, 0.7630057803468208]"
            ]
          },
          "metadata": {},
          "execution_count": 52
        }
      ]
    },
    {
      "cell_type": "code",
      "source": [
        "wine_ecoc = accuracyDataset(wine_X, wine_y, 'ecoc')\n",
        "accuracy_ecoc.append(wine_ecoc)\n",
        "accuracy_ecoc"
      ],
      "metadata": {
        "colab": {
          "base_uri": "https://localhost:8080/"
        },
        "outputId": "9e42c791-a68e-4056-a2f1-9c187b4e2cfc",
        "id": "Txpo83nxEbmT"
      },
      "execution_count": 53,
      "outputs": [
        {
          "output_type": "stream",
          "name": "stderr",
          "text": [
            "/usr/local/lib/python3.8/dist-packages/sklearn/svm/_base.py:1206: ConvergenceWarning: Liblinear failed to converge, increase the number of iterations.\n",
            "  warnings.warn(\n",
            "/usr/local/lib/python3.8/dist-packages/sklearn/svm/_base.py:1206: ConvergenceWarning: Liblinear failed to converge, increase the number of iterations.\n",
            "  warnings.warn(\n",
            "/usr/local/lib/python3.8/dist-packages/sklearn/svm/_base.py:1206: ConvergenceWarning: Liblinear failed to converge, increase the number of iterations.\n",
            "  warnings.warn(\n"
          ]
        },
        {
          "output_type": "execute_result",
          "data": {
            "text/plain": [
              "[0.6666666666666666, 0.7630057803468208, 0.9166666666666666]"
            ]
          },
          "metadata": {},
          "execution_count": 53
        }
      ]
    },
    {
      "cell_type": "code",
      "source": [
        "glass_ecoc = accuracyDataset(glass_X, glass_y, 'ecoc')\n",
        "accuracy_ecoc.append(glass_ecoc)\n",
        "accuracy_ecoc"
      ],
      "metadata": {
        "colab": {
          "base_uri": "https://localhost:8080/"
        },
        "outputId": "7d3acb99-2820-4089-d510-a0fb593557e9",
        "id": "IgJUDzKnEbmT"
      },
      "execution_count": 54,
      "outputs": [
        {
          "output_type": "execute_result",
          "data": {
            "text/plain": [
              "[0.6666666666666666,\n",
              " 0.7630057803468208,\n",
              " 0.9166666666666666,\n",
              " 0.6046511627906976]"
            ]
          },
          "metadata": {},
          "execution_count": 54
        }
      ]
    },
    {
      "cell_type": "code",
      "source": [
        "segment_ecoc = accuracyDataset(segment_X, segment_y, 'ecoc')\n",
        "accuracy_ecoc.append(segment_ecoc)\n",
        "accuracy_ecoc"
      ],
      "metadata": {
        "colab": {
          "base_uri": "https://localhost:8080/"
        },
        "outputId": "8bc5acbf-19f9-42d0-dddd-a32ea5e2ad56",
        "id": "CGN_kSqHEbmT"
      },
      "execution_count": 55,
      "outputs": [
        {
          "output_type": "stream",
          "name": "stderr",
          "text": [
            "/usr/local/lib/python3.8/dist-packages/sklearn/svm/_base.py:1206: ConvergenceWarning: Liblinear failed to converge, increase the number of iterations.\n",
            "  warnings.warn(\n",
            "/usr/local/lib/python3.8/dist-packages/sklearn/svm/_base.py:1206: ConvergenceWarning: Liblinear failed to converge, increase the number of iterations.\n",
            "  warnings.warn(\n",
            "/usr/local/lib/python3.8/dist-packages/sklearn/svm/_base.py:1206: ConvergenceWarning: Liblinear failed to converge, increase the number of iterations.\n",
            "  warnings.warn(\n",
            "/usr/local/lib/python3.8/dist-packages/sklearn/svm/_base.py:1206: ConvergenceWarning: Liblinear failed to converge, increase the number of iterations.\n",
            "  warnings.warn(\n",
            "/usr/local/lib/python3.8/dist-packages/sklearn/svm/_base.py:1206: ConvergenceWarning: Liblinear failed to converge, increase the number of iterations.\n",
            "  warnings.warn(\n",
            "/usr/local/lib/python3.8/dist-packages/sklearn/svm/_base.py:1206: ConvergenceWarning: Liblinear failed to converge, increase the number of iterations.\n",
            "  warnings.warn(\n",
            "/usr/local/lib/python3.8/dist-packages/sklearn/svm/_base.py:1206: ConvergenceWarning: Liblinear failed to converge, increase the number of iterations.\n",
            "  warnings.warn(\n",
            "/usr/local/lib/python3.8/dist-packages/sklearn/svm/_base.py:1206: ConvergenceWarning: Liblinear failed to converge, increase the number of iterations.\n",
            "  warnings.warn(\n",
            "/usr/local/lib/python3.8/dist-packages/sklearn/svm/_base.py:1206: ConvergenceWarning: Liblinear failed to converge, increase the number of iterations.\n",
            "  warnings.warn(\n",
            "/usr/local/lib/python3.8/dist-packages/sklearn/svm/_base.py:1206: ConvergenceWarning: Liblinear failed to converge, increase the number of iterations.\n",
            "  warnings.warn(\n"
          ]
        },
        {
          "output_type": "execute_result",
          "data": {
            "text/plain": [
              "[0.6666666666666666,\n",
              " 0.7630057803468208,\n",
              " 0.9166666666666666,\n",
              " 0.6046511627906976,\n",
              " 0.8703703703703703]"
            ]
          },
          "metadata": {},
          "execution_count": 55
        }
      ]
    },
    {
      "cell_type": "code",
      "source": [
        "abalone_ecoc = accuracyDataset(abalone_X, abalone_y, 'ecoc')\n",
        "accuracy_ecoc.append(abalone_ecoc)\n",
        "accuracy_ecoc"
      ],
      "metadata": {
        "colab": {
          "base_uri": "https://localhost:8080/"
        },
        "outputId": "c9fcba53-952a-4d9d-a1dc-fdde23b6d8e0",
        "id": "Qw_3I6GmEbmT"
      },
      "execution_count": 56,
      "outputs": [
        {
          "output_type": "execute_result",
          "data": {
            "text/plain": [
              "[0.6666666666666666,\n",
              " 0.7630057803468208,\n",
              " 0.9166666666666666,\n",
              " 0.6046511627906976,\n",
              " 0.8703703703703703,\n",
              " 0.23444976076555024]"
            ]
          },
          "metadata": {},
          "execution_count": 56
        }
      ]
    },
    {
      "cell_type": "code",
      "source": [
        "leaf_ecoc = accuracyDataset(leaf_X, leaf_y, 'ecoc')\n",
        "accuracy_ecoc.append(leaf_ecoc)\n",
        "accuracy_ecoc"
      ],
      "metadata": {
        "colab": {
          "base_uri": "https://localhost:8080/"
        },
        "outputId": "7d564d43-64d8-405d-f33a-915eabcf9525",
        "id": "Q3Bm5RMEEbmU"
      },
      "execution_count": 57,
      "outputs": [
        {
          "output_type": "execute_result",
          "data": {
            "text/plain": [
              "[0.6666666666666666,\n",
              " 0.7630057803468208,\n",
              " 0.9166666666666666,\n",
              " 0.6046511627906976,\n",
              " 0.8703703703703703,\n",
              " 0.23444976076555024,\n",
              " 0.3088235294117647]"
            ]
          },
          "metadata": {},
          "execution_count": 57
        }
      ]
    },
    {
      "cell_type": "code",
      "source": [
        "soybean_ecoc = accuracyDataset(soybean_X, soybean_y, 'ecoc')\n",
        "accuracy_ecoc.append(soybean_ecoc)\n",
        "accuracy_ecoc"
      ],
      "metadata": {
        "colab": {
          "base_uri": "https://localhost:8080/"
        },
        "outputId": "72ae3dbb-5eb2-4ad7-b145-aec584309cdb",
        "id": "0-kOfPkTEbmU"
      },
      "execution_count": 58,
      "outputs": [
        {
          "output_type": "execute_result",
          "data": {
            "text/plain": [
              "[0.6666666666666666,\n",
              " 0.7630057803468208,\n",
              " 0.9166666666666666,\n",
              " 0.6046511627906976,\n",
              " 0.8703703703703703,\n",
              " 0.23444976076555024,\n",
              " 0.3088235294117647,\n",
              " 1.0]"
            ]
          },
          "metadata": {},
          "execution_count": 58
        }
      ]
    },
    {
      "cell_type": "code",
      "source": [
        "zoo_ecoc = accuracyDataset(zoo_X, zoo_y, 'ecoc')\n",
        "accuracy_ecoc.append(zoo_ecoc)\n",
        "accuracy_ecoc"
      ],
      "metadata": {
        "colab": {
          "base_uri": "https://localhost:8080/"
        },
        "outputId": "14ca45b7-794c-49de-d396-a964759a6bc7",
        "id": "hVkX8JsjEbmU"
      },
      "execution_count": 59,
      "outputs": [
        {
          "output_type": "execute_result",
          "data": {
            "text/plain": [
              "[0.6666666666666666,\n",
              " 0.7630057803468208,\n",
              " 0.9166666666666666,\n",
              " 0.6046511627906976,\n",
              " 0.8703703703703703,\n",
              " 0.23444976076555024,\n",
              " 0.3088235294117647,\n",
              " 1.0,\n",
              " 0.9047619047619048]"
            ]
          },
          "metadata": {},
          "execution_count": 59
        }
      ]
    },
    {
      "cell_type": "markdown",
      "source": [
        "###**5. Compare si hay diferencias significativas entre ellos usando el test de Iman-Davenport. Si es así, aplique el procedimiento de Wilcoxon para comparar cada método multiclase con el clasificador base y los diferentes métodos entre ellos.**###"
      ],
      "metadata": {
        "id": "goIMPdSHWA70"
      }
    },
    {
      "cell_type": "markdown",
      "source": [
        "El test de Iman-Davenport es un procedimiento estadístico para comparar varios métodos de clasificación multiclase. Se utiliza para determinar si las diferencias en los valores de precisión entre los métodos son estadísticamente significativas. Si se determina que hay diferencias significativas, se puede utilizar el procedimiento de Wilcoxon para comparar cada método multiclase con el clasificador base y los diferentes métodos entre ellos. Sin embargo, los datos que me proporcionó son solo los valores de precisión, no es posible realizar un test estadístico y comparación directa entre ellos. Es necesario tener datos adicionales como el número de muestras, el tamaño del dataset, entre otros para poder realizar un análisis estadístico."
      ],
      "metadata": {
        "id": "qw9Mgqd2YJn5"
      }
    },
    {
      "cell_type": "code",
      "source": [
        "from scipy.stats import friedmanchisquare\n",
        "from scipy.stats import wilcoxon\n",
        "# realizar test de Iman-Davenport\n",
        "stat, p_value = friedmanchisquare(accuracy_ovo, accuracy_ova, accuracy_ecoc)\n",
        "\n",
        "# imprimir resultado\n",
        "print(\"p-value: \", p_value)\n",
        "\n",
        "if p_value < 0.05:\n",
        "  print(\"Hay diferencias significativas entre los métodos\")\n",
        "  stat, p_value = wilcoxon(accuracy_ovo, accuracy_score)\n",
        "  print(\"p-value ovo vs clasificador base: \", p_value)\n",
        "  stat, p_value = wilcoxon(accuracy_ova, accuracy_score)\n",
        "  print(\"p-value ovaa vs clasificador base: \", p_value)\n",
        "  stat, p_value = wilcoxon(accuracy_ecoc, accuracy_score)\n",
        "  print(\"p-value ova vs clasificador base: \", p_value)\n",
        "  stat, p_value = wilcoxon(accuracy_ovo, accuracy_ova)\n",
        "  print(\"p-value ovo vs ova: \", p_value)\n",
        "  stat, p_value = wilcoxon(accuracy_ovo, accuracy_ecoc)\n",
        "  print(\"p-value ovo vs ecoc: \", p_value) \n",
        "  stat, p_value = wilcoxon(accuracy_ova, accuracy_ecoc)\n",
        "  print(\"p-value ova vs ecoc: \", p_value)\n",
        "\n",
        "\n",
        "else:\n",
        "  print(\"No hay diferencias significativas entre los métodos\")"
      ],
      "metadata": {
        "colab": {
          "base_uri": "https://localhost:8080/"
        },
        "id": "cYnnbxuEYqA9",
        "outputId": "21e2b984-2a72-4915-cb99-3a63bc7f63e3"
      },
      "execution_count": 62,
      "outputs": [
        {
          "output_type": "stream",
          "name": "stdout",
          "text": [
            "p-value:  0.0013157698684974435\n",
            "Hay diferencias significativas entre los métodos\n",
            "p-value ovo vs clasificador base:  0.07961580146011343\n",
            "p-value ovaa vs clasificador base:  0.04252247799805163\n",
            "p-value ova vs clasificador base:  0.011718685599768628\n",
            "p-value ovo vs ova:  0.09096894797535775\n",
            "p-value ovo vs ecoc:  0.011718685599768628\n",
            "p-value ova vs ecoc:  0.017960477526078766\n"
          ]
        },
        {
          "output_type": "stream",
          "name": "stderr",
          "text": [
            "/usr/local/lib/python3.8/dist-packages/scipy/stats/morestats.py:3141: UserWarning: Exact p-value calculation does not work if there are ties. Switching to normal approximation.\n",
            "  warnings.warn(\"Exact p-value calculation does not work if there are \"\n",
            "/usr/local/lib/python3.8/dist-packages/scipy/stats/morestats.py:3155: UserWarning: Sample size too small for normal approximation.\n",
            "  warnings.warn(\"Sample size too small for normal approximation.\")\n"
          ]
        }
      ]
    },
    {
      "cell_type": "markdown",
      "source": [
        "En este caso, si el p-value es menor que 0.05, se puede concluir que hay diferencias significativas entre los métodos, y si el p-value es mayor, no hay diferencias significativas. Si se obtiene diferencias significativas se procedería a realizar el procedimiento de Wilcoxon para comparar cada método multiclase con el clasificador base y los diferentes métodos entre ellos.\n",
        "\n",
        "Sin embargo, es importante aclarar que el test de Iman-Davenport solo te ayuda a determinar si existen diferencias significativas entre los métodos, pero no te indica cual es el mejor método."
      ],
      "metadata": {
        "id": "LwUgdktaY7Jy"
      }
    }
  ]
}