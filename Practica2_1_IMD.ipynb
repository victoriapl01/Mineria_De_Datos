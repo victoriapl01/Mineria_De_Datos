{
  "nbformat": 4,
  "nbformat_minor": 0,
  "metadata": {
    "colab": {
      "provenance": []
    },
    "kernelspec": {
      "name": "python3",
      "display_name": "Python 3"
    },
    "language_info": {
      "name": "python"
    },
    "accelerator": "GPU",
    "gpuClass": "standard"
  },
  "cells": [
    {
      "cell_type": "markdown",
      "source": [
        "#**PRÁCTICA 2: Minería de datos supervisada: CLASIFIACIÓN**#\n",
        "\n"
      ],
      "metadata": {
        "id": "gyYVy-LAQT7E"
      }
    },
    {
      "cell_type": "markdown",
      "source": [
        "### **1. Obtenga al menos 10 conjuntos de datos en formato CSV, ARFF u otro cualquiera de Weka datasets ó UCI MLR**"
      ],
      "metadata": {
        "id": "v7btupiUQexx"
      }
    },
    {
      "cell_type": "code",
      "execution_count": 1,
      "metadata": {
        "id": "ftoLybuWn20j"
      },
      "outputs": [],
      "source": [
        "import pandas as pd\n",
        "import numpy as np\n",
        "#Método de clasificación KNN (vecino más cercano)\n",
        "from sklearn.neighbors import KNeighborsClassifier\n",
        "#Método de clasifiación DecisionTree (árbol de decision)\n",
        "from sklearn.tree import DecisionTreeClassifier\n",
        "#Uso de gráficas y representación de datos\n",
        "import matplotlib.pyplot as plt\n",
        "from sklearn import datasets\n",
        "from scipy.io import arff\n"
      ]
    },
    {
      "cell_type": "code",
      "source": [
        "#Lectura de Dataset haciendo uso de URL de github y el nombre de las columnas\n",
        "def readDataset(file,columns):\n",
        "  dataset=pd.read_csv(file, header=None, names=columns)\n",
        "  return dataset"
      ],
      "metadata": {
        "id": "Ydir4adS10VG"
      },
      "execution_count": 2,
      "outputs": []
    },
    {
      "cell_type": "code",
      "source": [
        "#Iris Data set\n",
        "columnas=['sepal length (cm)', 'sepal width (cm)', 'petal length (cm)', 'petal width (cm)', 'class']\n",
        "iris_features=['sepal length (cm)', 'sepal width (cm)', 'petal length (cm)', 'petal width (cm)']\n",
        "iris= readDataset('https://raw.githubusercontent.com/victoriapl01/Mineria_De_Datos/main/Datasets/iris.data', columnas)\n",
        "iris_X= iris[iris_features]\n",
        "iris_y= iris['class']\n",
        "iris.head()"
      ],
      "metadata": {
        "colab": {
          "base_uri": "https://localhost:8080/",
          "height": 206
        },
        "id": "c2La3nCP5jmX",
        "outputId": "9991f7fb-37aa-48c0-82df-8fa37c7947e8"
      },
      "execution_count": 3,
      "outputs": [
        {
          "output_type": "execute_result",
          "data": {
            "text/plain": [
              "   sepal length (cm)  sepal width (cm)  petal length (cm)  petal width (cm)  \\\n",
              "0                5.1               3.5                1.4               0.2   \n",
              "1                4.9               3.0                1.4               0.2   \n",
              "2                4.7               3.2                1.3               0.2   \n",
              "3                4.6               3.1                1.5               0.2   \n",
              "4                5.0               3.6                1.4               0.2   \n",
              "\n",
              "         class  \n",
              "0  Iris-setosa  \n",
              "1  Iris-setosa  \n",
              "2  Iris-setosa  \n",
              "3  Iris-setosa  \n",
              "4  Iris-setosa  "
            ],
            "text/html": [
              "\n",
              "  <div id=\"df-11faa39c-1105-4b52-b080-5598f3790e8a\">\n",
              "    <div class=\"colab-df-container\">\n",
              "      <div>\n",
              "<style scoped>\n",
              "    .dataframe tbody tr th:only-of-type {\n",
              "        vertical-align: middle;\n",
              "    }\n",
              "\n",
              "    .dataframe tbody tr th {\n",
              "        vertical-align: top;\n",
              "    }\n",
              "\n",
              "    .dataframe thead th {\n",
              "        text-align: right;\n",
              "    }\n",
              "</style>\n",
              "<table border=\"1\" class=\"dataframe\">\n",
              "  <thead>\n",
              "    <tr style=\"text-align: right;\">\n",
              "      <th></th>\n",
              "      <th>sepal length (cm)</th>\n",
              "      <th>sepal width (cm)</th>\n",
              "      <th>petal length (cm)</th>\n",
              "      <th>petal width (cm)</th>\n",
              "      <th>class</th>\n",
              "    </tr>\n",
              "  </thead>\n",
              "  <tbody>\n",
              "    <tr>\n",
              "      <th>0</th>\n",
              "      <td>5.1</td>\n",
              "      <td>3.5</td>\n",
              "      <td>1.4</td>\n",
              "      <td>0.2</td>\n",
              "      <td>Iris-setosa</td>\n",
              "    </tr>\n",
              "    <tr>\n",
              "      <th>1</th>\n",
              "      <td>4.9</td>\n",
              "      <td>3.0</td>\n",
              "      <td>1.4</td>\n",
              "      <td>0.2</td>\n",
              "      <td>Iris-setosa</td>\n",
              "    </tr>\n",
              "    <tr>\n",
              "      <th>2</th>\n",
              "      <td>4.7</td>\n",
              "      <td>3.2</td>\n",
              "      <td>1.3</td>\n",
              "      <td>0.2</td>\n",
              "      <td>Iris-setosa</td>\n",
              "    </tr>\n",
              "    <tr>\n",
              "      <th>3</th>\n",
              "      <td>4.6</td>\n",
              "      <td>3.1</td>\n",
              "      <td>1.5</td>\n",
              "      <td>0.2</td>\n",
              "      <td>Iris-setosa</td>\n",
              "    </tr>\n",
              "    <tr>\n",
              "      <th>4</th>\n",
              "      <td>5.0</td>\n",
              "      <td>3.6</td>\n",
              "      <td>1.4</td>\n",
              "      <td>0.2</td>\n",
              "      <td>Iris-setosa</td>\n",
              "    </tr>\n",
              "  </tbody>\n",
              "</table>\n",
              "</div>\n",
              "      <button class=\"colab-df-convert\" onclick=\"convertToInteractive('df-11faa39c-1105-4b52-b080-5598f3790e8a')\"\n",
              "              title=\"Convert this dataframe to an interactive table.\"\n",
              "              style=\"display:none;\">\n",
              "        \n",
              "  <svg xmlns=\"http://www.w3.org/2000/svg\" height=\"24px\"viewBox=\"0 0 24 24\"\n",
              "       width=\"24px\">\n",
              "    <path d=\"M0 0h24v24H0V0z\" fill=\"none\"/>\n",
              "    <path d=\"M18.56 5.44l.94 2.06.94-2.06 2.06-.94-2.06-.94-.94-2.06-.94 2.06-2.06.94zm-11 1L8.5 8.5l.94-2.06 2.06-.94-2.06-.94L8.5 2.5l-.94 2.06-2.06.94zm10 10l.94 2.06.94-2.06 2.06-.94-2.06-.94-.94-2.06-.94 2.06-2.06.94z\"/><path d=\"M17.41 7.96l-1.37-1.37c-.4-.4-.92-.59-1.43-.59-.52 0-1.04.2-1.43.59L10.3 9.45l-7.72 7.72c-.78.78-.78 2.05 0 2.83L4 21.41c.39.39.9.59 1.41.59.51 0 1.02-.2 1.41-.59l7.78-7.78 2.81-2.81c.8-.78.8-2.07 0-2.86zM5.41 20L4 18.59l7.72-7.72 1.47 1.35L5.41 20z\"/>\n",
              "  </svg>\n",
              "      </button>\n",
              "      \n",
              "  <style>\n",
              "    .colab-df-container {\n",
              "      display:flex;\n",
              "      flex-wrap:wrap;\n",
              "      gap: 12px;\n",
              "    }\n",
              "\n",
              "    .colab-df-convert {\n",
              "      background-color: #E8F0FE;\n",
              "      border: none;\n",
              "      border-radius: 50%;\n",
              "      cursor: pointer;\n",
              "      display: none;\n",
              "      fill: #1967D2;\n",
              "      height: 32px;\n",
              "      padding: 0 0 0 0;\n",
              "      width: 32px;\n",
              "    }\n",
              "\n",
              "    .colab-df-convert:hover {\n",
              "      background-color: #E2EBFA;\n",
              "      box-shadow: 0px 1px 2px rgba(60, 64, 67, 0.3), 0px 1px 3px 1px rgba(60, 64, 67, 0.15);\n",
              "      fill: #174EA6;\n",
              "    }\n",
              "\n",
              "    [theme=dark] .colab-df-convert {\n",
              "      background-color: #3B4455;\n",
              "      fill: #D2E3FC;\n",
              "    }\n",
              "\n",
              "    [theme=dark] .colab-df-convert:hover {\n",
              "      background-color: #434B5C;\n",
              "      box-shadow: 0px 1px 3px 1px rgba(0, 0, 0, 0.15);\n",
              "      filter: drop-shadow(0px 1px 2px rgba(0, 0, 0, 0.3));\n",
              "      fill: #FFFFFF;\n",
              "    }\n",
              "  </style>\n",
              "\n",
              "      <script>\n",
              "        const buttonEl =\n",
              "          document.querySelector('#df-11faa39c-1105-4b52-b080-5598f3790e8a button.colab-df-convert');\n",
              "        buttonEl.style.display =\n",
              "          google.colab.kernel.accessAllowed ? 'block' : 'none';\n",
              "\n",
              "        async function convertToInteractive(key) {\n",
              "          const element = document.querySelector('#df-11faa39c-1105-4b52-b080-5598f3790e8a');\n",
              "          const dataTable =\n",
              "            await google.colab.kernel.invokeFunction('convertToInteractive',\n",
              "                                                     [key], {});\n",
              "          if (!dataTable) return;\n",
              "\n",
              "          const docLinkHtml = 'Like what you see? Visit the ' +\n",
              "            '<a target=\"_blank\" href=https://colab.research.google.com/notebooks/data_table.ipynb>data table notebook</a>'\n",
              "            + ' to learn more about interactive tables.';\n",
              "          element.innerHTML = '';\n",
              "          dataTable['output_type'] = 'display_data';\n",
              "          await google.colab.output.renderOutput(dataTable, element);\n",
              "          const docLink = document.createElement('div');\n",
              "          docLink.innerHTML = docLinkHtml;\n",
              "          element.appendChild(docLink);\n",
              "        }\n",
              "      </script>\n",
              "    </div>\n",
              "  </div>\n",
              "  "
            ]
          },
          "metadata": {},
          "execution_count": 3
        }
      ]
    },
    {
      "cell_type": "code",
      "source": [
        "#Car Evaluation Data set\n",
        "columnas=['buying','maint','doors', 'persons', 'lug_boot','safety','class']\n",
        "car_features=['buying','maint','doors', 'persons', 'lug_boot','safety']\n",
        "car= readDataset('https://raw.githubusercontent.com/victoriapl01/Mineria_De_Datos/main/Datasets/car.data',columnas)\n",
        "car['buying']=car['buying'].map({'vhigh':4, 'high':3, 'med':2, 'low':1})\n",
        "car['maint']=car['maint'].map({'vhigh':4, 'high':3, 'med':2, 'low':1})\n",
        "car['lug_boot']=car['lug_boot'].map({'small':1, 'med':2, 'big':3})\n",
        "car['safety']=car['safety'].map({'low':1, 'med':2, 'high':3})\n",
        "car['doors']=car['doors'].map({'1':1, '2':2,'3':3,'4':4,'5more':7}) #Esto hará que 7 signifique más de 5 puertas o personas\n",
        "car['persons']=car['persons'].map({'1':1, '2':2,'3':3,'4':4,'more':7})\n",
        "car_X=car[car_features]\n",
        "car_y=car['class']\n",
        "car"
      ],
      "metadata": {
        "colab": {
          "base_uri": "https://localhost:8080/",
          "height": 424
        },
        "id": "fR50S_dn49jW",
        "outputId": "8ffa0cb1-d3cb-462d-d3e8-8e5e1a2612e1"
      },
      "execution_count": 4,
      "outputs": [
        {
          "output_type": "execute_result",
          "data": {
            "text/plain": [
              "      buying  maint  doors  persons  lug_boot  safety  class\n",
              "0          4      4      2        2         1       1  unacc\n",
              "1          4      4      2        2         1       2  unacc\n",
              "2          4      4      2        2         1       3  unacc\n",
              "3          4      4      2        2         2       1  unacc\n",
              "4          4      4      2        2         2       2  unacc\n",
              "...      ...    ...    ...      ...       ...     ...    ...\n",
              "1723       1      1      7        7         2       2   good\n",
              "1724       1      1      7        7         2       3  vgood\n",
              "1725       1      1      7        7         3       1  unacc\n",
              "1726       1      1      7        7         3       2   good\n",
              "1727       1      1      7        7         3       3  vgood\n",
              "\n",
              "[1728 rows x 7 columns]"
            ],
            "text/html": [
              "\n",
              "  <div id=\"df-5e9b5bab-2f44-4074-9f20-c680ca6e4d69\">\n",
              "    <div class=\"colab-df-container\">\n",
              "      <div>\n",
              "<style scoped>\n",
              "    .dataframe tbody tr th:only-of-type {\n",
              "        vertical-align: middle;\n",
              "    }\n",
              "\n",
              "    .dataframe tbody tr th {\n",
              "        vertical-align: top;\n",
              "    }\n",
              "\n",
              "    .dataframe thead th {\n",
              "        text-align: right;\n",
              "    }\n",
              "</style>\n",
              "<table border=\"1\" class=\"dataframe\">\n",
              "  <thead>\n",
              "    <tr style=\"text-align: right;\">\n",
              "      <th></th>\n",
              "      <th>buying</th>\n",
              "      <th>maint</th>\n",
              "      <th>doors</th>\n",
              "      <th>persons</th>\n",
              "      <th>lug_boot</th>\n",
              "      <th>safety</th>\n",
              "      <th>class</th>\n",
              "    </tr>\n",
              "  </thead>\n",
              "  <tbody>\n",
              "    <tr>\n",
              "      <th>0</th>\n",
              "      <td>4</td>\n",
              "      <td>4</td>\n",
              "      <td>2</td>\n",
              "      <td>2</td>\n",
              "      <td>1</td>\n",
              "      <td>1</td>\n",
              "      <td>unacc</td>\n",
              "    </tr>\n",
              "    <tr>\n",
              "      <th>1</th>\n",
              "      <td>4</td>\n",
              "      <td>4</td>\n",
              "      <td>2</td>\n",
              "      <td>2</td>\n",
              "      <td>1</td>\n",
              "      <td>2</td>\n",
              "      <td>unacc</td>\n",
              "    </tr>\n",
              "    <tr>\n",
              "      <th>2</th>\n",
              "      <td>4</td>\n",
              "      <td>4</td>\n",
              "      <td>2</td>\n",
              "      <td>2</td>\n",
              "      <td>1</td>\n",
              "      <td>3</td>\n",
              "      <td>unacc</td>\n",
              "    </tr>\n",
              "    <tr>\n",
              "      <th>3</th>\n",
              "      <td>4</td>\n",
              "      <td>4</td>\n",
              "      <td>2</td>\n",
              "      <td>2</td>\n",
              "      <td>2</td>\n",
              "      <td>1</td>\n",
              "      <td>unacc</td>\n",
              "    </tr>\n",
              "    <tr>\n",
              "      <th>4</th>\n",
              "      <td>4</td>\n",
              "      <td>4</td>\n",
              "      <td>2</td>\n",
              "      <td>2</td>\n",
              "      <td>2</td>\n",
              "      <td>2</td>\n",
              "      <td>unacc</td>\n",
              "    </tr>\n",
              "    <tr>\n",
              "      <th>...</th>\n",
              "      <td>...</td>\n",
              "      <td>...</td>\n",
              "      <td>...</td>\n",
              "      <td>...</td>\n",
              "      <td>...</td>\n",
              "      <td>...</td>\n",
              "      <td>...</td>\n",
              "    </tr>\n",
              "    <tr>\n",
              "      <th>1723</th>\n",
              "      <td>1</td>\n",
              "      <td>1</td>\n",
              "      <td>7</td>\n",
              "      <td>7</td>\n",
              "      <td>2</td>\n",
              "      <td>2</td>\n",
              "      <td>good</td>\n",
              "    </tr>\n",
              "    <tr>\n",
              "      <th>1724</th>\n",
              "      <td>1</td>\n",
              "      <td>1</td>\n",
              "      <td>7</td>\n",
              "      <td>7</td>\n",
              "      <td>2</td>\n",
              "      <td>3</td>\n",
              "      <td>vgood</td>\n",
              "    </tr>\n",
              "    <tr>\n",
              "      <th>1725</th>\n",
              "      <td>1</td>\n",
              "      <td>1</td>\n",
              "      <td>7</td>\n",
              "      <td>7</td>\n",
              "      <td>3</td>\n",
              "      <td>1</td>\n",
              "      <td>unacc</td>\n",
              "    </tr>\n",
              "    <tr>\n",
              "      <th>1726</th>\n",
              "      <td>1</td>\n",
              "      <td>1</td>\n",
              "      <td>7</td>\n",
              "      <td>7</td>\n",
              "      <td>3</td>\n",
              "      <td>2</td>\n",
              "      <td>good</td>\n",
              "    </tr>\n",
              "    <tr>\n",
              "      <th>1727</th>\n",
              "      <td>1</td>\n",
              "      <td>1</td>\n",
              "      <td>7</td>\n",
              "      <td>7</td>\n",
              "      <td>3</td>\n",
              "      <td>3</td>\n",
              "      <td>vgood</td>\n",
              "    </tr>\n",
              "  </tbody>\n",
              "</table>\n",
              "<p>1728 rows × 7 columns</p>\n",
              "</div>\n",
              "      <button class=\"colab-df-convert\" onclick=\"convertToInteractive('df-5e9b5bab-2f44-4074-9f20-c680ca6e4d69')\"\n",
              "              title=\"Convert this dataframe to an interactive table.\"\n",
              "              style=\"display:none;\">\n",
              "        \n",
              "  <svg xmlns=\"http://www.w3.org/2000/svg\" height=\"24px\"viewBox=\"0 0 24 24\"\n",
              "       width=\"24px\">\n",
              "    <path d=\"M0 0h24v24H0V0z\" fill=\"none\"/>\n",
              "    <path d=\"M18.56 5.44l.94 2.06.94-2.06 2.06-.94-2.06-.94-.94-2.06-.94 2.06-2.06.94zm-11 1L8.5 8.5l.94-2.06 2.06-.94-2.06-.94L8.5 2.5l-.94 2.06-2.06.94zm10 10l.94 2.06.94-2.06 2.06-.94-2.06-.94-.94-2.06-.94 2.06-2.06.94z\"/><path d=\"M17.41 7.96l-1.37-1.37c-.4-.4-.92-.59-1.43-.59-.52 0-1.04.2-1.43.59L10.3 9.45l-7.72 7.72c-.78.78-.78 2.05 0 2.83L4 21.41c.39.39.9.59 1.41.59.51 0 1.02-.2 1.41-.59l7.78-7.78 2.81-2.81c.8-.78.8-2.07 0-2.86zM5.41 20L4 18.59l7.72-7.72 1.47 1.35L5.41 20z\"/>\n",
              "  </svg>\n",
              "      </button>\n",
              "      \n",
              "  <style>\n",
              "    .colab-df-container {\n",
              "      display:flex;\n",
              "      flex-wrap:wrap;\n",
              "      gap: 12px;\n",
              "    }\n",
              "\n",
              "    .colab-df-convert {\n",
              "      background-color: #E8F0FE;\n",
              "      border: none;\n",
              "      border-radius: 50%;\n",
              "      cursor: pointer;\n",
              "      display: none;\n",
              "      fill: #1967D2;\n",
              "      height: 32px;\n",
              "      padding: 0 0 0 0;\n",
              "      width: 32px;\n",
              "    }\n",
              "\n",
              "    .colab-df-convert:hover {\n",
              "      background-color: #E2EBFA;\n",
              "      box-shadow: 0px 1px 2px rgba(60, 64, 67, 0.3), 0px 1px 3px 1px rgba(60, 64, 67, 0.15);\n",
              "      fill: #174EA6;\n",
              "    }\n",
              "\n",
              "    [theme=dark] .colab-df-convert {\n",
              "      background-color: #3B4455;\n",
              "      fill: #D2E3FC;\n",
              "    }\n",
              "\n",
              "    [theme=dark] .colab-df-convert:hover {\n",
              "      background-color: #434B5C;\n",
              "      box-shadow: 0px 1px 3px 1px rgba(0, 0, 0, 0.15);\n",
              "      filter: drop-shadow(0px 1px 2px rgba(0, 0, 0, 0.3));\n",
              "      fill: #FFFFFF;\n",
              "    }\n",
              "  </style>\n",
              "\n",
              "      <script>\n",
              "        const buttonEl =\n",
              "          document.querySelector('#df-5e9b5bab-2f44-4074-9f20-c680ca6e4d69 button.colab-df-convert');\n",
              "        buttonEl.style.display =\n",
              "          google.colab.kernel.accessAllowed ? 'block' : 'none';\n",
              "\n",
              "        async function convertToInteractive(key) {\n",
              "          const element = document.querySelector('#df-5e9b5bab-2f44-4074-9f20-c680ca6e4d69');\n",
              "          const dataTable =\n",
              "            await google.colab.kernel.invokeFunction('convertToInteractive',\n",
              "                                                     [key], {});\n",
              "          if (!dataTable) return;\n",
              "\n",
              "          const docLinkHtml = 'Like what you see? Visit the ' +\n",
              "            '<a target=\"_blank\" href=https://colab.research.google.com/notebooks/data_table.ipynb>data table notebook</a>'\n",
              "            + ' to learn more about interactive tables.';\n",
              "          element.innerHTML = '';\n",
              "          dataTable['output_type'] = 'display_data';\n",
              "          await google.colab.output.renderOutput(dataTable, element);\n",
              "          const docLink = document.createElement('div');\n",
              "          docLink.innerHTML = docLinkHtml;\n",
              "          element.appendChild(docLink);\n",
              "        }\n",
              "      </script>\n",
              "    </div>\n",
              "  </div>\n",
              "  "
            ]
          },
          "metadata": {},
          "execution_count": 4
        }
      ]
    },
    {
      "cell_type": "code",
      "source": [
        "#Wine Data Set\n",
        "columnas= ['class','alcohol', 'malic acid', 'ash', 'alcalinityOfAsh', 'Magnesium',' Total Phenols', 'Flavanoids', 'Nonflavanoid phenols', 'Proanthocyanins', 'Color Intensity', 'Hue', 'OD280',' Proline'] \n",
        "wine_features=['alcohol', 'malic acid', 'ash', 'alcalinityOfAsh', 'Magnesium',' Total Phenols', 'Flavanoids', 'Nonflavanoid phenols', 'Proanthocyanins', 'Color Intensity', 'Hue', 'OD280',' Proline'] \n",
        "wine=readDataset('https://raw.githubusercontent.com/victoriapl01/Mineria_De_Datos/main/Datasets/wine.data',columnas)\n",
        "wine_X=wine[wine_features]\n",
        "wine_y=wine['class']\n",
        "wine.head()"
      ],
      "metadata": {
        "colab": {
          "base_uri": "https://localhost:8080/",
          "height": 288
        },
        "id": "HRiw60tAyuiH",
        "outputId": "327b2a57-3fd6-4d81-bcb8-2d893671f04d"
      },
      "execution_count": 5,
      "outputs": [
        {
          "output_type": "execute_result",
          "data": {
            "text/plain": [
              "   class  alcohol  malic acid   ash  alcalinityOfAsh  Magnesium  \\\n",
              "0      1    14.23        1.71  2.43             15.6        127   \n",
              "1      1    13.20        1.78  2.14             11.2        100   \n",
              "2      1    13.16        2.36  2.67             18.6        101   \n",
              "3      1    14.37        1.95  2.50             16.8        113   \n",
              "4      1    13.24        2.59  2.87             21.0        118   \n",
              "\n",
              "    Total Phenols  Flavanoids  Nonflavanoid phenols  Proanthocyanins  \\\n",
              "0            2.80        3.06                  0.28             2.29   \n",
              "1            2.65        2.76                  0.26             1.28   \n",
              "2            2.80        3.24                  0.30             2.81   \n",
              "3            3.85        3.49                  0.24             2.18   \n",
              "4            2.80        2.69                  0.39             1.82   \n",
              "\n",
              "   Color Intensity   Hue  OD280   Proline  \n",
              "0             5.64  1.04   3.92      1065  \n",
              "1             4.38  1.05   3.40      1050  \n",
              "2             5.68  1.03   3.17      1185  \n",
              "3             7.80  0.86   3.45      1480  \n",
              "4             4.32  1.04   2.93       735  "
            ],
            "text/html": [
              "\n",
              "  <div id=\"df-e53ed53d-299a-4416-9508-8b21f80b009c\">\n",
              "    <div class=\"colab-df-container\">\n",
              "      <div>\n",
              "<style scoped>\n",
              "    .dataframe tbody tr th:only-of-type {\n",
              "        vertical-align: middle;\n",
              "    }\n",
              "\n",
              "    .dataframe tbody tr th {\n",
              "        vertical-align: top;\n",
              "    }\n",
              "\n",
              "    .dataframe thead th {\n",
              "        text-align: right;\n",
              "    }\n",
              "</style>\n",
              "<table border=\"1\" class=\"dataframe\">\n",
              "  <thead>\n",
              "    <tr style=\"text-align: right;\">\n",
              "      <th></th>\n",
              "      <th>class</th>\n",
              "      <th>alcohol</th>\n",
              "      <th>malic acid</th>\n",
              "      <th>ash</th>\n",
              "      <th>alcalinityOfAsh</th>\n",
              "      <th>Magnesium</th>\n",
              "      <th>Total Phenols</th>\n",
              "      <th>Flavanoids</th>\n",
              "      <th>Nonflavanoid phenols</th>\n",
              "      <th>Proanthocyanins</th>\n",
              "      <th>Color Intensity</th>\n",
              "      <th>Hue</th>\n",
              "      <th>OD280</th>\n",
              "      <th>Proline</th>\n",
              "    </tr>\n",
              "  </thead>\n",
              "  <tbody>\n",
              "    <tr>\n",
              "      <th>0</th>\n",
              "      <td>1</td>\n",
              "      <td>14.23</td>\n",
              "      <td>1.71</td>\n",
              "      <td>2.43</td>\n",
              "      <td>15.6</td>\n",
              "      <td>127</td>\n",
              "      <td>2.80</td>\n",
              "      <td>3.06</td>\n",
              "      <td>0.28</td>\n",
              "      <td>2.29</td>\n",
              "      <td>5.64</td>\n",
              "      <td>1.04</td>\n",
              "      <td>3.92</td>\n",
              "      <td>1065</td>\n",
              "    </tr>\n",
              "    <tr>\n",
              "      <th>1</th>\n",
              "      <td>1</td>\n",
              "      <td>13.20</td>\n",
              "      <td>1.78</td>\n",
              "      <td>2.14</td>\n",
              "      <td>11.2</td>\n",
              "      <td>100</td>\n",
              "      <td>2.65</td>\n",
              "      <td>2.76</td>\n",
              "      <td>0.26</td>\n",
              "      <td>1.28</td>\n",
              "      <td>4.38</td>\n",
              "      <td>1.05</td>\n",
              "      <td>3.40</td>\n",
              "      <td>1050</td>\n",
              "    </tr>\n",
              "    <tr>\n",
              "      <th>2</th>\n",
              "      <td>1</td>\n",
              "      <td>13.16</td>\n",
              "      <td>2.36</td>\n",
              "      <td>2.67</td>\n",
              "      <td>18.6</td>\n",
              "      <td>101</td>\n",
              "      <td>2.80</td>\n",
              "      <td>3.24</td>\n",
              "      <td>0.30</td>\n",
              "      <td>2.81</td>\n",
              "      <td>5.68</td>\n",
              "      <td>1.03</td>\n",
              "      <td>3.17</td>\n",
              "      <td>1185</td>\n",
              "    </tr>\n",
              "    <tr>\n",
              "      <th>3</th>\n",
              "      <td>1</td>\n",
              "      <td>14.37</td>\n",
              "      <td>1.95</td>\n",
              "      <td>2.50</td>\n",
              "      <td>16.8</td>\n",
              "      <td>113</td>\n",
              "      <td>3.85</td>\n",
              "      <td>3.49</td>\n",
              "      <td>0.24</td>\n",
              "      <td>2.18</td>\n",
              "      <td>7.80</td>\n",
              "      <td>0.86</td>\n",
              "      <td>3.45</td>\n",
              "      <td>1480</td>\n",
              "    </tr>\n",
              "    <tr>\n",
              "      <th>4</th>\n",
              "      <td>1</td>\n",
              "      <td>13.24</td>\n",
              "      <td>2.59</td>\n",
              "      <td>2.87</td>\n",
              "      <td>21.0</td>\n",
              "      <td>118</td>\n",
              "      <td>2.80</td>\n",
              "      <td>2.69</td>\n",
              "      <td>0.39</td>\n",
              "      <td>1.82</td>\n",
              "      <td>4.32</td>\n",
              "      <td>1.04</td>\n",
              "      <td>2.93</td>\n",
              "      <td>735</td>\n",
              "    </tr>\n",
              "  </tbody>\n",
              "</table>\n",
              "</div>\n",
              "      <button class=\"colab-df-convert\" onclick=\"convertToInteractive('df-e53ed53d-299a-4416-9508-8b21f80b009c')\"\n",
              "              title=\"Convert this dataframe to an interactive table.\"\n",
              "              style=\"display:none;\">\n",
              "        \n",
              "  <svg xmlns=\"http://www.w3.org/2000/svg\" height=\"24px\"viewBox=\"0 0 24 24\"\n",
              "       width=\"24px\">\n",
              "    <path d=\"M0 0h24v24H0V0z\" fill=\"none\"/>\n",
              "    <path d=\"M18.56 5.44l.94 2.06.94-2.06 2.06-.94-2.06-.94-.94-2.06-.94 2.06-2.06.94zm-11 1L8.5 8.5l.94-2.06 2.06-.94-2.06-.94L8.5 2.5l-.94 2.06-2.06.94zm10 10l.94 2.06.94-2.06 2.06-.94-2.06-.94-.94-2.06-.94 2.06-2.06.94z\"/><path d=\"M17.41 7.96l-1.37-1.37c-.4-.4-.92-.59-1.43-.59-.52 0-1.04.2-1.43.59L10.3 9.45l-7.72 7.72c-.78.78-.78 2.05 0 2.83L4 21.41c.39.39.9.59 1.41.59.51 0 1.02-.2 1.41-.59l7.78-7.78 2.81-2.81c.8-.78.8-2.07 0-2.86zM5.41 20L4 18.59l7.72-7.72 1.47 1.35L5.41 20z\"/>\n",
              "  </svg>\n",
              "      </button>\n",
              "      \n",
              "  <style>\n",
              "    .colab-df-container {\n",
              "      display:flex;\n",
              "      flex-wrap:wrap;\n",
              "      gap: 12px;\n",
              "    }\n",
              "\n",
              "    .colab-df-convert {\n",
              "      background-color: #E8F0FE;\n",
              "      border: none;\n",
              "      border-radius: 50%;\n",
              "      cursor: pointer;\n",
              "      display: none;\n",
              "      fill: #1967D2;\n",
              "      height: 32px;\n",
              "      padding: 0 0 0 0;\n",
              "      width: 32px;\n",
              "    }\n",
              "\n",
              "    .colab-df-convert:hover {\n",
              "      background-color: #E2EBFA;\n",
              "      box-shadow: 0px 1px 2px rgba(60, 64, 67, 0.3), 0px 1px 3px 1px rgba(60, 64, 67, 0.15);\n",
              "      fill: #174EA6;\n",
              "    }\n",
              "\n",
              "    [theme=dark] .colab-df-convert {\n",
              "      background-color: #3B4455;\n",
              "      fill: #D2E3FC;\n",
              "    }\n",
              "\n",
              "    [theme=dark] .colab-df-convert:hover {\n",
              "      background-color: #434B5C;\n",
              "      box-shadow: 0px 1px 3px 1px rgba(0, 0, 0, 0.15);\n",
              "      filter: drop-shadow(0px 1px 2px rgba(0, 0, 0, 0.3));\n",
              "      fill: #FFFFFF;\n",
              "    }\n",
              "  </style>\n",
              "\n",
              "      <script>\n",
              "        const buttonEl =\n",
              "          document.querySelector('#df-e53ed53d-299a-4416-9508-8b21f80b009c button.colab-df-convert');\n",
              "        buttonEl.style.display =\n",
              "          google.colab.kernel.accessAllowed ? 'block' : 'none';\n",
              "\n",
              "        async function convertToInteractive(key) {\n",
              "          const element = document.querySelector('#df-e53ed53d-299a-4416-9508-8b21f80b009c');\n",
              "          const dataTable =\n",
              "            await google.colab.kernel.invokeFunction('convertToInteractive',\n",
              "                                                     [key], {});\n",
              "          if (!dataTable) return;\n",
              "\n",
              "          const docLinkHtml = 'Like what you see? Visit the ' +\n",
              "            '<a target=\"_blank\" href=https://colab.research.google.com/notebooks/data_table.ipynb>data table notebook</a>'\n",
              "            + ' to learn more about interactive tables.';\n",
              "          element.innerHTML = '';\n",
              "          dataTable['output_type'] = 'display_data';\n",
              "          await google.colab.output.renderOutput(dataTable, element);\n",
              "          const docLink = document.createElement('div');\n",
              "          docLink.innerHTML = docLinkHtml;\n",
              "          element.appendChild(docLink);\n",
              "        }\n",
              "      </script>\n",
              "    </div>\n",
              "  </div>\n",
              "  "
            ]
          },
          "metadata": {},
          "execution_count": 5
        }
      ]
    },
    {
      "cell_type": "code",
      "source": [
        "#Diabetes Data Set\n",
        "columnas=['Times Pregnant','Glucose tolerance','Blood pressure','Triceps skin fold','Insulin','Body mass','Diabetes pedigree', 'Age','Class']\n",
        "diabetes_features=['Times Pregnant','Glucose tolerance','Blood pressure','Triceps skin fold','Insulin','Body mass','Diabetes pedigree', 'Age']\n",
        "diabetes=readDataset('https://raw.githubusercontent.com/victoriapl01/Mineria_De_Datos/main/Datasets/diabetes.data',columnas)\n",
        "diabetes_X=diabetes[diabetes_features]\n",
        "diabetes_y=diabetes['Class']\n",
        "diabetes.head()\n"
      ],
      "metadata": {
        "colab": {
          "base_uri": "https://localhost:8080/",
          "height": 268
        },
        "id": "qCYjyo_166N0",
        "outputId": "0fbbaa6d-54b7-450f-bb17-fe3676194ffc"
      },
      "execution_count": 6,
      "outputs": [
        {
          "output_type": "execute_result",
          "data": {
            "text/plain": [
              "   Times Pregnant  Glucose tolerance  Blood pressure  Triceps skin fold  \\\n",
              "0               6                148              72                 35   \n",
              "1               1                 85              66                 29   \n",
              "2               8                183              64                  0   \n",
              "3               1                 89              66                 23   \n",
              "4               0                137              40                 35   \n",
              "\n",
              "   Insulin  Body mass  Diabetes pedigree  Age            Class  \n",
              "0        0       33.6              0.627   50  tested_positive  \n",
              "1        0       26.6              0.351   31  tested_negative  \n",
              "2        0       23.3              0.672   32  tested_positive  \n",
              "3       94       28.1              0.167   21  tested_negative  \n",
              "4      168       43.1              2.288   33  tested_positive  "
            ],
            "text/html": [
              "\n",
              "  <div id=\"df-ca5dd818-8070-4861-b060-862e0e4b64e3\">\n",
              "    <div class=\"colab-df-container\">\n",
              "      <div>\n",
              "<style scoped>\n",
              "    .dataframe tbody tr th:only-of-type {\n",
              "        vertical-align: middle;\n",
              "    }\n",
              "\n",
              "    .dataframe tbody tr th {\n",
              "        vertical-align: top;\n",
              "    }\n",
              "\n",
              "    .dataframe thead th {\n",
              "        text-align: right;\n",
              "    }\n",
              "</style>\n",
              "<table border=\"1\" class=\"dataframe\">\n",
              "  <thead>\n",
              "    <tr style=\"text-align: right;\">\n",
              "      <th></th>\n",
              "      <th>Times Pregnant</th>\n",
              "      <th>Glucose tolerance</th>\n",
              "      <th>Blood pressure</th>\n",
              "      <th>Triceps skin fold</th>\n",
              "      <th>Insulin</th>\n",
              "      <th>Body mass</th>\n",
              "      <th>Diabetes pedigree</th>\n",
              "      <th>Age</th>\n",
              "      <th>Class</th>\n",
              "    </tr>\n",
              "  </thead>\n",
              "  <tbody>\n",
              "    <tr>\n",
              "      <th>0</th>\n",
              "      <td>6</td>\n",
              "      <td>148</td>\n",
              "      <td>72</td>\n",
              "      <td>35</td>\n",
              "      <td>0</td>\n",
              "      <td>33.6</td>\n",
              "      <td>0.627</td>\n",
              "      <td>50</td>\n",
              "      <td>tested_positive</td>\n",
              "    </tr>\n",
              "    <tr>\n",
              "      <th>1</th>\n",
              "      <td>1</td>\n",
              "      <td>85</td>\n",
              "      <td>66</td>\n",
              "      <td>29</td>\n",
              "      <td>0</td>\n",
              "      <td>26.6</td>\n",
              "      <td>0.351</td>\n",
              "      <td>31</td>\n",
              "      <td>tested_negative</td>\n",
              "    </tr>\n",
              "    <tr>\n",
              "      <th>2</th>\n",
              "      <td>8</td>\n",
              "      <td>183</td>\n",
              "      <td>64</td>\n",
              "      <td>0</td>\n",
              "      <td>0</td>\n",
              "      <td>23.3</td>\n",
              "      <td>0.672</td>\n",
              "      <td>32</td>\n",
              "      <td>tested_positive</td>\n",
              "    </tr>\n",
              "    <tr>\n",
              "      <th>3</th>\n",
              "      <td>1</td>\n",
              "      <td>89</td>\n",
              "      <td>66</td>\n",
              "      <td>23</td>\n",
              "      <td>94</td>\n",
              "      <td>28.1</td>\n",
              "      <td>0.167</td>\n",
              "      <td>21</td>\n",
              "      <td>tested_negative</td>\n",
              "    </tr>\n",
              "    <tr>\n",
              "      <th>4</th>\n",
              "      <td>0</td>\n",
              "      <td>137</td>\n",
              "      <td>40</td>\n",
              "      <td>35</td>\n",
              "      <td>168</td>\n",
              "      <td>43.1</td>\n",
              "      <td>2.288</td>\n",
              "      <td>33</td>\n",
              "      <td>tested_positive</td>\n",
              "    </tr>\n",
              "  </tbody>\n",
              "</table>\n",
              "</div>\n",
              "      <button class=\"colab-df-convert\" onclick=\"convertToInteractive('df-ca5dd818-8070-4861-b060-862e0e4b64e3')\"\n",
              "              title=\"Convert this dataframe to an interactive table.\"\n",
              "              style=\"display:none;\">\n",
              "        \n",
              "  <svg xmlns=\"http://www.w3.org/2000/svg\" height=\"24px\"viewBox=\"0 0 24 24\"\n",
              "       width=\"24px\">\n",
              "    <path d=\"M0 0h24v24H0V0z\" fill=\"none\"/>\n",
              "    <path d=\"M18.56 5.44l.94 2.06.94-2.06 2.06-.94-2.06-.94-.94-2.06-.94 2.06-2.06.94zm-11 1L8.5 8.5l.94-2.06 2.06-.94-2.06-.94L8.5 2.5l-.94 2.06-2.06.94zm10 10l.94 2.06.94-2.06 2.06-.94-2.06-.94-.94-2.06-.94 2.06-2.06.94z\"/><path d=\"M17.41 7.96l-1.37-1.37c-.4-.4-.92-.59-1.43-.59-.52 0-1.04.2-1.43.59L10.3 9.45l-7.72 7.72c-.78.78-.78 2.05 0 2.83L4 21.41c.39.39.9.59 1.41.59.51 0 1.02-.2 1.41-.59l7.78-7.78 2.81-2.81c.8-.78.8-2.07 0-2.86zM5.41 20L4 18.59l7.72-7.72 1.47 1.35L5.41 20z\"/>\n",
              "  </svg>\n",
              "      </button>\n",
              "      \n",
              "  <style>\n",
              "    .colab-df-container {\n",
              "      display:flex;\n",
              "      flex-wrap:wrap;\n",
              "      gap: 12px;\n",
              "    }\n",
              "\n",
              "    .colab-df-convert {\n",
              "      background-color: #E8F0FE;\n",
              "      border: none;\n",
              "      border-radius: 50%;\n",
              "      cursor: pointer;\n",
              "      display: none;\n",
              "      fill: #1967D2;\n",
              "      height: 32px;\n",
              "      padding: 0 0 0 0;\n",
              "      width: 32px;\n",
              "    }\n",
              "\n",
              "    .colab-df-convert:hover {\n",
              "      background-color: #E2EBFA;\n",
              "      box-shadow: 0px 1px 2px rgba(60, 64, 67, 0.3), 0px 1px 3px 1px rgba(60, 64, 67, 0.15);\n",
              "      fill: #174EA6;\n",
              "    }\n",
              "\n",
              "    [theme=dark] .colab-df-convert {\n",
              "      background-color: #3B4455;\n",
              "      fill: #D2E3FC;\n",
              "    }\n",
              "\n",
              "    [theme=dark] .colab-df-convert:hover {\n",
              "      background-color: #434B5C;\n",
              "      box-shadow: 0px 1px 3px 1px rgba(0, 0, 0, 0.15);\n",
              "      filter: drop-shadow(0px 1px 2px rgba(0, 0, 0, 0.3));\n",
              "      fill: #FFFFFF;\n",
              "    }\n",
              "  </style>\n",
              "\n",
              "      <script>\n",
              "        const buttonEl =\n",
              "          document.querySelector('#df-ca5dd818-8070-4861-b060-862e0e4b64e3 button.colab-df-convert');\n",
              "        buttonEl.style.display =\n",
              "          google.colab.kernel.accessAllowed ? 'block' : 'none';\n",
              "\n",
              "        async function convertToInteractive(key) {\n",
              "          const element = document.querySelector('#df-ca5dd818-8070-4861-b060-862e0e4b64e3');\n",
              "          const dataTable =\n",
              "            await google.colab.kernel.invokeFunction('convertToInteractive',\n",
              "                                                     [key], {});\n",
              "          if (!dataTable) return;\n",
              "\n",
              "          const docLinkHtml = 'Like what you see? Visit the ' +\n",
              "            '<a target=\"_blank\" href=https://colab.research.google.com/notebooks/data_table.ipynb>data table notebook</a>'\n",
              "            + ' to learn more about interactive tables.';\n",
              "          element.innerHTML = '';\n",
              "          dataTable['output_type'] = 'display_data';\n",
              "          await google.colab.output.renderOutput(dataTable, element);\n",
              "          const docLink = document.createElement('div');\n",
              "          docLink.innerHTML = docLinkHtml;\n",
              "          element.appendChild(docLink);\n",
              "        }\n",
              "      </script>\n",
              "    </div>\n",
              "  </div>\n",
              "  "
            ]
          },
          "metadata": {},
          "execution_count": 6
        }
      ]
    },
    {
      "cell_type": "code",
      "source": [
        "#Glass Data set\n",
        "columnas=['RI','Na', 'Mg', 'Al', 'Si','K', 'Ca', 'Ba', 'Fe', 'Type']\n",
        "glass_features=['RI','Na', 'Mg', 'Al', 'Si','K', 'Ca', 'Ba', 'Fe']\n",
        "glass=readDataset('https://raw.githubusercontent.com/victoriapl01/Mineria_De_Datos/main/Datasets/glass.data',columnas)\n",
        "glass_X=glass[glass_features]\n",
        "glass_y=glass['Type']\n",
        "glass.head()"
      ],
      "metadata": {
        "colab": {
          "base_uri": "https://localhost:8080/",
          "height": 206
        },
        "id": "kIuwDsogYjXM",
        "outputId": "d17c09d6-1526-4950-8e82-8d18a26fe58f"
      },
      "execution_count": 7,
      "outputs": [
        {
          "output_type": "execute_result",
          "data": {
            "text/plain": [
              "        RI     Na    Mg    Al     Si     K     Ca   Ba    Fe  \\\n",
              "0  1.51793  12.79  3.50  1.12  73.03  0.64   8.77  0.0  0.00   \n",
              "1  1.51643  12.16  3.52  1.35  72.89  0.57   8.53  0.0  0.00   \n",
              "2  1.51793  13.21  3.48  1.41  72.64  0.59   8.43  0.0  0.00   \n",
              "3  1.51299  14.40  1.74  1.54  74.55  0.00   7.59  0.0  0.00   \n",
              "4  1.53393  12.30  0.00  1.00  70.16  0.12  16.19  0.0  0.24   \n",
              "\n",
              "                     Type  \n",
              "0      'build wind float'  \n",
              "1      'vehic wind float'  \n",
              "2      'build wind float'  \n",
              "3               tableware  \n",
              "4  'build wind non-float'  "
            ],
            "text/html": [
              "\n",
              "  <div id=\"df-bedb7974-1cd9-4ad3-a5f7-5e2287e46862\">\n",
              "    <div class=\"colab-df-container\">\n",
              "      <div>\n",
              "<style scoped>\n",
              "    .dataframe tbody tr th:only-of-type {\n",
              "        vertical-align: middle;\n",
              "    }\n",
              "\n",
              "    .dataframe tbody tr th {\n",
              "        vertical-align: top;\n",
              "    }\n",
              "\n",
              "    .dataframe thead th {\n",
              "        text-align: right;\n",
              "    }\n",
              "</style>\n",
              "<table border=\"1\" class=\"dataframe\">\n",
              "  <thead>\n",
              "    <tr style=\"text-align: right;\">\n",
              "      <th></th>\n",
              "      <th>RI</th>\n",
              "      <th>Na</th>\n",
              "      <th>Mg</th>\n",
              "      <th>Al</th>\n",
              "      <th>Si</th>\n",
              "      <th>K</th>\n",
              "      <th>Ca</th>\n",
              "      <th>Ba</th>\n",
              "      <th>Fe</th>\n",
              "      <th>Type</th>\n",
              "    </tr>\n",
              "  </thead>\n",
              "  <tbody>\n",
              "    <tr>\n",
              "      <th>0</th>\n",
              "      <td>1.51793</td>\n",
              "      <td>12.79</td>\n",
              "      <td>3.50</td>\n",
              "      <td>1.12</td>\n",
              "      <td>73.03</td>\n",
              "      <td>0.64</td>\n",
              "      <td>8.77</td>\n",
              "      <td>0.0</td>\n",
              "      <td>0.00</td>\n",
              "      <td>'build wind float'</td>\n",
              "    </tr>\n",
              "    <tr>\n",
              "      <th>1</th>\n",
              "      <td>1.51643</td>\n",
              "      <td>12.16</td>\n",
              "      <td>3.52</td>\n",
              "      <td>1.35</td>\n",
              "      <td>72.89</td>\n",
              "      <td>0.57</td>\n",
              "      <td>8.53</td>\n",
              "      <td>0.0</td>\n",
              "      <td>0.00</td>\n",
              "      <td>'vehic wind float'</td>\n",
              "    </tr>\n",
              "    <tr>\n",
              "      <th>2</th>\n",
              "      <td>1.51793</td>\n",
              "      <td>13.21</td>\n",
              "      <td>3.48</td>\n",
              "      <td>1.41</td>\n",
              "      <td>72.64</td>\n",
              "      <td>0.59</td>\n",
              "      <td>8.43</td>\n",
              "      <td>0.0</td>\n",
              "      <td>0.00</td>\n",
              "      <td>'build wind float'</td>\n",
              "    </tr>\n",
              "    <tr>\n",
              "      <th>3</th>\n",
              "      <td>1.51299</td>\n",
              "      <td>14.40</td>\n",
              "      <td>1.74</td>\n",
              "      <td>1.54</td>\n",
              "      <td>74.55</td>\n",
              "      <td>0.00</td>\n",
              "      <td>7.59</td>\n",
              "      <td>0.0</td>\n",
              "      <td>0.00</td>\n",
              "      <td>tableware</td>\n",
              "    </tr>\n",
              "    <tr>\n",
              "      <th>4</th>\n",
              "      <td>1.53393</td>\n",
              "      <td>12.30</td>\n",
              "      <td>0.00</td>\n",
              "      <td>1.00</td>\n",
              "      <td>70.16</td>\n",
              "      <td>0.12</td>\n",
              "      <td>16.19</td>\n",
              "      <td>0.0</td>\n",
              "      <td>0.24</td>\n",
              "      <td>'build wind non-float'</td>\n",
              "    </tr>\n",
              "  </tbody>\n",
              "</table>\n",
              "</div>\n",
              "      <button class=\"colab-df-convert\" onclick=\"convertToInteractive('df-bedb7974-1cd9-4ad3-a5f7-5e2287e46862')\"\n",
              "              title=\"Convert this dataframe to an interactive table.\"\n",
              "              style=\"display:none;\">\n",
              "        \n",
              "  <svg xmlns=\"http://www.w3.org/2000/svg\" height=\"24px\"viewBox=\"0 0 24 24\"\n",
              "       width=\"24px\">\n",
              "    <path d=\"M0 0h24v24H0V0z\" fill=\"none\"/>\n",
              "    <path d=\"M18.56 5.44l.94 2.06.94-2.06 2.06-.94-2.06-.94-.94-2.06-.94 2.06-2.06.94zm-11 1L8.5 8.5l.94-2.06 2.06-.94-2.06-.94L8.5 2.5l-.94 2.06-2.06.94zm10 10l.94 2.06.94-2.06 2.06-.94-2.06-.94-.94-2.06-.94 2.06-2.06.94z\"/><path d=\"M17.41 7.96l-1.37-1.37c-.4-.4-.92-.59-1.43-.59-.52 0-1.04.2-1.43.59L10.3 9.45l-7.72 7.72c-.78.78-.78 2.05 0 2.83L4 21.41c.39.39.9.59 1.41.59.51 0 1.02-.2 1.41-.59l7.78-7.78 2.81-2.81c.8-.78.8-2.07 0-2.86zM5.41 20L4 18.59l7.72-7.72 1.47 1.35L5.41 20z\"/>\n",
              "  </svg>\n",
              "      </button>\n",
              "      \n",
              "  <style>\n",
              "    .colab-df-container {\n",
              "      display:flex;\n",
              "      flex-wrap:wrap;\n",
              "      gap: 12px;\n",
              "    }\n",
              "\n",
              "    .colab-df-convert {\n",
              "      background-color: #E8F0FE;\n",
              "      border: none;\n",
              "      border-radius: 50%;\n",
              "      cursor: pointer;\n",
              "      display: none;\n",
              "      fill: #1967D2;\n",
              "      height: 32px;\n",
              "      padding: 0 0 0 0;\n",
              "      width: 32px;\n",
              "    }\n",
              "\n",
              "    .colab-df-convert:hover {\n",
              "      background-color: #E2EBFA;\n",
              "      box-shadow: 0px 1px 2px rgba(60, 64, 67, 0.3), 0px 1px 3px 1px rgba(60, 64, 67, 0.15);\n",
              "      fill: #174EA6;\n",
              "    }\n",
              "\n",
              "    [theme=dark] .colab-df-convert {\n",
              "      background-color: #3B4455;\n",
              "      fill: #D2E3FC;\n",
              "    }\n",
              "\n",
              "    [theme=dark] .colab-df-convert:hover {\n",
              "      background-color: #434B5C;\n",
              "      box-shadow: 0px 1px 3px 1px rgba(0, 0, 0, 0.15);\n",
              "      filter: drop-shadow(0px 1px 2px rgba(0, 0, 0, 0.3));\n",
              "      fill: #FFFFFF;\n",
              "    }\n",
              "  </style>\n",
              "\n",
              "      <script>\n",
              "        const buttonEl =\n",
              "          document.querySelector('#df-bedb7974-1cd9-4ad3-a5f7-5e2287e46862 button.colab-df-convert');\n",
              "        buttonEl.style.display =\n",
              "          google.colab.kernel.accessAllowed ? 'block' : 'none';\n",
              "\n",
              "        async function convertToInteractive(key) {\n",
              "          const element = document.querySelector('#df-bedb7974-1cd9-4ad3-a5f7-5e2287e46862');\n",
              "          const dataTable =\n",
              "            await google.colab.kernel.invokeFunction('convertToInteractive',\n",
              "                                                     [key], {});\n",
              "          if (!dataTable) return;\n",
              "\n",
              "          const docLinkHtml = 'Like what you see? Visit the ' +\n",
              "            '<a target=\"_blank\" href=https://colab.research.google.com/notebooks/data_table.ipynb>data table notebook</a>'\n",
              "            + ' to learn more about interactive tables.';\n",
              "          element.innerHTML = '';\n",
              "          dataTable['output_type'] = 'display_data';\n",
              "          await google.colab.output.renderOutput(dataTable, element);\n",
              "          const docLink = document.createElement('div');\n",
              "          docLink.innerHTML = docLinkHtml;\n",
              "          element.appendChild(docLink);\n",
              "        }\n",
              "      </script>\n",
              "    </div>\n",
              "  </div>\n",
              "  "
            ]
          },
          "metadata": {},
          "execution_count": 7
        }
      ]
    },
    {
      "cell_type": "code",
      "source": [
        "#Breast Cancer Wisconsin (Diagnostic) Data set\n",
        "columnas=['id', 'Clump Thickness', 'Cell Size', 'Cell Shape', 'Marginal Adhesion', 'Epithelial Cell Size', 'Bare Nuclei', 'Bland Chromatin', 'Normal Nucleoli', 'Mitoses', 'Class']\n",
        "cancer_features=['Clump Thickness', 'Cell Size', 'Cell Shape', 'Marginal Adhesion', 'Epithelial Cell Size', 'Bare Nuclei', 'Bland Chromatin', 'Normal Nucleoli', 'Mitoses']\n",
        "cancer=readDataset('https://raw.githubusercontent.com/victoriapl01/Mineria_De_Datos/main/Datasets/breast-cancer-wisconsin.data', columnas)\n",
        "cancer_X=cancer[cancer_features]\n",
        "cancer_y= cancer['Class']\n",
        "cancer.head()"
      ],
      "metadata": {
        "colab": {
          "base_uri": "https://localhost:8080/",
          "height": 268
        },
        "id": "5wklXBKZkp2p",
        "outputId": "0d54686f-8b67-48a3-a50a-5a977b5ab6ff"
      },
      "execution_count": 8,
      "outputs": [
        {
          "output_type": "execute_result",
          "data": {
            "text/plain": [
              "        id  Clump Thickness  Cell Size  Cell Shape  Marginal Adhesion  \\\n",
              "0  1000025                5          1           1                  1   \n",
              "1  1002945                5          4           4                  5   \n",
              "2  1015425                3          1           1                  1   \n",
              "3  1016277                6          8           8                  1   \n",
              "4  1017023                4          1           1                  3   \n",
              "\n",
              "   Epithelial Cell Size  Bare Nuclei  Bland Chromatin  Normal Nucleoli  \\\n",
              "0                     2            1                3                1   \n",
              "1                     7           10                3                2   \n",
              "2                     2            2                3                1   \n",
              "3                     3            4                3                7   \n",
              "4                     2            1                3                1   \n",
              "\n",
              "   Mitoses  Class  \n",
              "0        1      2  \n",
              "1        1      2  \n",
              "2        1      2  \n",
              "3        1      2  \n",
              "4        1      2  "
            ],
            "text/html": [
              "\n",
              "  <div id=\"df-8b9d04e5-ca5a-40b4-8f1a-be38a440a206\">\n",
              "    <div class=\"colab-df-container\">\n",
              "      <div>\n",
              "<style scoped>\n",
              "    .dataframe tbody tr th:only-of-type {\n",
              "        vertical-align: middle;\n",
              "    }\n",
              "\n",
              "    .dataframe tbody tr th {\n",
              "        vertical-align: top;\n",
              "    }\n",
              "\n",
              "    .dataframe thead th {\n",
              "        text-align: right;\n",
              "    }\n",
              "</style>\n",
              "<table border=\"1\" class=\"dataframe\">\n",
              "  <thead>\n",
              "    <tr style=\"text-align: right;\">\n",
              "      <th></th>\n",
              "      <th>id</th>\n",
              "      <th>Clump Thickness</th>\n",
              "      <th>Cell Size</th>\n",
              "      <th>Cell Shape</th>\n",
              "      <th>Marginal Adhesion</th>\n",
              "      <th>Epithelial Cell Size</th>\n",
              "      <th>Bare Nuclei</th>\n",
              "      <th>Bland Chromatin</th>\n",
              "      <th>Normal Nucleoli</th>\n",
              "      <th>Mitoses</th>\n",
              "      <th>Class</th>\n",
              "    </tr>\n",
              "  </thead>\n",
              "  <tbody>\n",
              "    <tr>\n",
              "      <th>0</th>\n",
              "      <td>1000025</td>\n",
              "      <td>5</td>\n",
              "      <td>1</td>\n",
              "      <td>1</td>\n",
              "      <td>1</td>\n",
              "      <td>2</td>\n",
              "      <td>1</td>\n",
              "      <td>3</td>\n",
              "      <td>1</td>\n",
              "      <td>1</td>\n",
              "      <td>2</td>\n",
              "    </tr>\n",
              "    <tr>\n",
              "      <th>1</th>\n",
              "      <td>1002945</td>\n",
              "      <td>5</td>\n",
              "      <td>4</td>\n",
              "      <td>4</td>\n",
              "      <td>5</td>\n",
              "      <td>7</td>\n",
              "      <td>10</td>\n",
              "      <td>3</td>\n",
              "      <td>2</td>\n",
              "      <td>1</td>\n",
              "      <td>2</td>\n",
              "    </tr>\n",
              "    <tr>\n",
              "      <th>2</th>\n",
              "      <td>1015425</td>\n",
              "      <td>3</td>\n",
              "      <td>1</td>\n",
              "      <td>1</td>\n",
              "      <td>1</td>\n",
              "      <td>2</td>\n",
              "      <td>2</td>\n",
              "      <td>3</td>\n",
              "      <td>1</td>\n",
              "      <td>1</td>\n",
              "      <td>2</td>\n",
              "    </tr>\n",
              "    <tr>\n",
              "      <th>3</th>\n",
              "      <td>1016277</td>\n",
              "      <td>6</td>\n",
              "      <td>8</td>\n",
              "      <td>8</td>\n",
              "      <td>1</td>\n",
              "      <td>3</td>\n",
              "      <td>4</td>\n",
              "      <td>3</td>\n",
              "      <td>7</td>\n",
              "      <td>1</td>\n",
              "      <td>2</td>\n",
              "    </tr>\n",
              "    <tr>\n",
              "      <th>4</th>\n",
              "      <td>1017023</td>\n",
              "      <td>4</td>\n",
              "      <td>1</td>\n",
              "      <td>1</td>\n",
              "      <td>3</td>\n",
              "      <td>2</td>\n",
              "      <td>1</td>\n",
              "      <td>3</td>\n",
              "      <td>1</td>\n",
              "      <td>1</td>\n",
              "      <td>2</td>\n",
              "    </tr>\n",
              "  </tbody>\n",
              "</table>\n",
              "</div>\n",
              "      <button class=\"colab-df-convert\" onclick=\"convertToInteractive('df-8b9d04e5-ca5a-40b4-8f1a-be38a440a206')\"\n",
              "              title=\"Convert this dataframe to an interactive table.\"\n",
              "              style=\"display:none;\">\n",
              "        \n",
              "  <svg xmlns=\"http://www.w3.org/2000/svg\" height=\"24px\"viewBox=\"0 0 24 24\"\n",
              "       width=\"24px\">\n",
              "    <path d=\"M0 0h24v24H0V0z\" fill=\"none\"/>\n",
              "    <path d=\"M18.56 5.44l.94 2.06.94-2.06 2.06-.94-2.06-.94-.94-2.06-.94 2.06-2.06.94zm-11 1L8.5 8.5l.94-2.06 2.06-.94-2.06-.94L8.5 2.5l-.94 2.06-2.06.94zm10 10l.94 2.06.94-2.06 2.06-.94-2.06-.94-.94-2.06-.94 2.06-2.06.94z\"/><path d=\"M17.41 7.96l-1.37-1.37c-.4-.4-.92-.59-1.43-.59-.52 0-1.04.2-1.43.59L10.3 9.45l-7.72 7.72c-.78.78-.78 2.05 0 2.83L4 21.41c.39.39.9.59 1.41.59.51 0 1.02-.2 1.41-.59l7.78-7.78 2.81-2.81c.8-.78.8-2.07 0-2.86zM5.41 20L4 18.59l7.72-7.72 1.47 1.35L5.41 20z\"/>\n",
              "  </svg>\n",
              "      </button>\n",
              "      \n",
              "  <style>\n",
              "    .colab-df-container {\n",
              "      display:flex;\n",
              "      flex-wrap:wrap;\n",
              "      gap: 12px;\n",
              "    }\n",
              "\n",
              "    .colab-df-convert {\n",
              "      background-color: #E8F0FE;\n",
              "      border: none;\n",
              "      border-radius: 50%;\n",
              "      cursor: pointer;\n",
              "      display: none;\n",
              "      fill: #1967D2;\n",
              "      height: 32px;\n",
              "      padding: 0 0 0 0;\n",
              "      width: 32px;\n",
              "    }\n",
              "\n",
              "    .colab-df-convert:hover {\n",
              "      background-color: #E2EBFA;\n",
              "      box-shadow: 0px 1px 2px rgba(60, 64, 67, 0.3), 0px 1px 3px 1px rgba(60, 64, 67, 0.15);\n",
              "      fill: #174EA6;\n",
              "    }\n",
              "\n",
              "    [theme=dark] .colab-df-convert {\n",
              "      background-color: #3B4455;\n",
              "      fill: #D2E3FC;\n",
              "    }\n",
              "\n",
              "    [theme=dark] .colab-df-convert:hover {\n",
              "      background-color: #434B5C;\n",
              "      box-shadow: 0px 1px 3px 1px rgba(0, 0, 0, 0.15);\n",
              "      filter: drop-shadow(0px 1px 2px rgba(0, 0, 0, 0.3));\n",
              "      fill: #FFFFFF;\n",
              "    }\n",
              "  </style>\n",
              "\n",
              "      <script>\n",
              "        const buttonEl =\n",
              "          document.querySelector('#df-8b9d04e5-ca5a-40b4-8f1a-be38a440a206 button.colab-df-convert');\n",
              "        buttonEl.style.display =\n",
              "          google.colab.kernel.accessAllowed ? 'block' : 'none';\n",
              "\n",
              "        async function convertToInteractive(key) {\n",
              "          const element = document.querySelector('#df-8b9d04e5-ca5a-40b4-8f1a-be38a440a206');\n",
              "          const dataTable =\n",
              "            await google.colab.kernel.invokeFunction('convertToInteractive',\n",
              "                                                     [key], {});\n",
              "          if (!dataTable) return;\n",
              "\n",
              "          const docLinkHtml = 'Like what you see? Visit the ' +\n",
              "            '<a target=\"_blank\" href=https://colab.research.google.com/notebooks/data_table.ipynb>data table notebook</a>'\n",
              "            + ' to learn more about interactive tables.';\n",
              "          element.innerHTML = '';\n",
              "          dataTable['output_type'] = 'display_data';\n",
              "          await google.colab.output.renderOutput(dataTable, element);\n",
              "          const docLink = document.createElement('div');\n",
              "          docLink.innerHTML = docLinkHtml;\n",
              "          element.appendChild(docLink);\n",
              "        }\n",
              "      </script>\n",
              "    </div>\n",
              "  </div>\n",
              "  "
            ]
          },
          "metadata": {},
          "execution_count": 8
        }
      ]
    },
    {
      "cell_type": "code",
      "source": [
        "#Titanic Data set\n",
        "titanic = pd.read_csv('https://raw.githubusercontent.com/victoriapl01/Mineria_De_Datos/main/Datasets/titanic.csv')\n",
        "titanic=titanic.drop(['PassengerId','Name', 'Ticket','Cabin','Embarked'],axis=1)\n",
        "titanic=titanic.dropna()\n",
        "titanic = titanic.replace({'male':0, 'female':1})\n",
        "titanic_X=titanic.drop(['Survived'],axis=1)\n",
        "titanic_y=titanic['Survived']\n",
        "titanic.head()"
      ],
      "metadata": {
        "colab": {
          "base_uri": "https://localhost:8080/",
          "height": 206
        },
        "id": "C6jk3DtkSRME",
        "outputId": "f45e6a9b-0c84-4c2f-9f92-8529637585e8"
      },
      "execution_count": 63,
      "outputs": [
        {
          "output_type": "execute_result",
          "data": {
            "text/plain": [
              "   Survived  Pclass  Sex   Age  SibSp  Parch     Fare\n",
              "0         0       3    0  22.0      1      0   7.2500\n",
              "1         1       1    1  38.0      1      0  71.2833\n",
              "2         1       3    1  26.0      0      0   7.9250\n",
              "3         1       1    1  35.0      1      0  53.1000\n",
              "4         0       3    0  35.0      0      0   8.0500"
            ],
            "text/html": [
              "\n",
              "  <div id=\"df-727d7767-c265-4afb-9c8a-bc9f0a3c3340\">\n",
              "    <div class=\"colab-df-container\">\n",
              "      <div>\n",
              "<style scoped>\n",
              "    .dataframe tbody tr th:only-of-type {\n",
              "        vertical-align: middle;\n",
              "    }\n",
              "\n",
              "    .dataframe tbody tr th {\n",
              "        vertical-align: top;\n",
              "    }\n",
              "\n",
              "    .dataframe thead th {\n",
              "        text-align: right;\n",
              "    }\n",
              "</style>\n",
              "<table border=\"1\" class=\"dataframe\">\n",
              "  <thead>\n",
              "    <tr style=\"text-align: right;\">\n",
              "      <th></th>\n",
              "      <th>Survived</th>\n",
              "      <th>Pclass</th>\n",
              "      <th>Sex</th>\n",
              "      <th>Age</th>\n",
              "      <th>SibSp</th>\n",
              "      <th>Parch</th>\n",
              "      <th>Fare</th>\n",
              "    </tr>\n",
              "  </thead>\n",
              "  <tbody>\n",
              "    <tr>\n",
              "      <th>0</th>\n",
              "      <td>0</td>\n",
              "      <td>3</td>\n",
              "      <td>0</td>\n",
              "      <td>22.0</td>\n",
              "      <td>1</td>\n",
              "      <td>0</td>\n",
              "      <td>7.2500</td>\n",
              "    </tr>\n",
              "    <tr>\n",
              "      <th>1</th>\n",
              "      <td>1</td>\n",
              "      <td>1</td>\n",
              "      <td>1</td>\n",
              "      <td>38.0</td>\n",
              "      <td>1</td>\n",
              "      <td>0</td>\n",
              "      <td>71.2833</td>\n",
              "    </tr>\n",
              "    <tr>\n",
              "      <th>2</th>\n",
              "      <td>1</td>\n",
              "      <td>3</td>\n",
              "      <td>1</td>\n",
              "      <td>26.0</td>\n",
              "      <td>0</td>\n",
              "      <td>0</td>\n",
              "      <td>7.9250</td>\n",
              "    </tr>\n",
              "    <tr>\n",
              "      <th>3</th>\n",
              "      <td>1</td>\n",
              "      <td>1</td>\n",
              "      <td>1</td>\n",
              "      <td>35.0</td>\n",
              "      <td>1</td>\n",
              "      <td>0</td>\n",
              "      <td>53.1000</td>\n",
              "    </tr>\n",
              "    <tr>\n",
              "      <th>4</th>\n",
              "      <td>0</td>\n",
              "      <td>3</td>\n",
              "      <td>0</td>\n",
              "      <td>35.0</td>\n",
              "      <td>0</td>\n",
              "      <td>0</td>\n",
              "      <td>8.0500</td>\n",
              "    </tr>\n",
              "  </tbody>\n",
              "</table>\n",
              "</div>\n",
              "      <button class=\"colab-df-convert\" onclick=\"convertToInteractive('df-727d7767-c265-4afb-9c8a-bc9f0a3c3340')\"\n",
              "              title=\"Convert this dataframe to an interactive table.\"\n",
              "              style=\"display:none;\">\n",
              "        \n",
              "  <svg xmlns=\"http://www.w3.org/2000/svg\" height=\"24px\"viewBox=\"0 0 24 24\"\n",
              "       width=\"24px\">\n",
              "    <path d=\"M0 0h24v24H0V0z\" fill=\"none\"/>\n",
              "    <path d=\"M18.56 5.44l.94 2.06.94-2.06 2.06-.94-2.06-.94-.94-2.06-.94 2.06-2.06.94zm-11 1L8.5 8.5l.94-2.06 2.06-.94-2.06-.94L8.5 2.5l-.94 2.06-2.06.94zm10 10l.94 2.06.94-2.06 2.06-.94-2.06-.94-.94-2.06-.94 2.06-2.06.94z\"/><path d=\"M17.41 7.96l-1.37-1.37c-.4-.4-.92-.59-1.43-.59-.52 0-1.04.2-1.43.59L10.3 9.45l-7.72 7.72c-.78.78-.78 2.05 0 2.83L4 21.41c.39.39.9.59 1.41.59.51 0 1.02-.2 1.41-.59l7.78-7.78 2.81-2.81c.8-.78.8-2.07 0-2.86zM5.41 20L4 18.59l7.72-7.72 1.47 1.35L5.41 20z\"/>\n",
              "  </svg>\n",
              "      </button>\n",
              "      \n",
              "  <style>\n",
              "    .colab-df-container {\n",
              "      display:flex;\n",
              "      flex-wrap:wrap;\n",
              "      gap: 12px;\n",
              "    }\n",
              "\n",
              "    .colab-df-convert {\n",
              "      background-color: #E8F0FE;\n",
              "      border: none;\n",
              "      border-radius: 50%;\n",
              "      cursor: pointer;\n",
              "      display: none;\n",
              "      fill: #1967D2;\n",
              "      height: 32px;\n",
              "      padding: 0 0 0 0;\n",
              "      width: 32px;\n",
              "    }\n",
              "\n",
              "    .colab-df-convert:hover {\n",
              "      background-color: #E2EBFA;\n",
              "      box-shadow: 0px 1px 2px rgba(60, 64, 67, 0.3), 0px 1px 3px 1px rgba(60, 64, 67, 0.15);\n",
              "      fill: #174EA6;\n",
              "    }\n",
              "\n",
              "    [theme=dark] .colab-df-convert {\n",
              "      background-color: #3B4455;\n",
              "      fill: #D2E3FC;\n",
              "    }\n",
              "\n",
              "    [theme=dark] .colab-df-convert:hover {\n",
              "      background-color: #434B5C;\n",
              "      box-shadow: 0px 1px 3px 1px rgba(0, 0, 0, 0.15);\n",
              "      filter: drop-shadow(0px 1px 2px rgba(0, 0, 0, 0.3));\n",
              "      fill: #FFFFFF;\n",
              "    }\n",
              "  </style>\n",
              "\n",
              "      <script>\n",
              "        const buttonEl =\n",
              "          document.querySelector('#df-727d7767-c265-4afb-9c8a-bc9f0a3c3340 button.colab-df-convert');\n",
              "        buttonEl.style.display =\n",
              "          google.colab.kernel.accessAllowed ? 'block' : 'none';\n",
              "\n",
              "        async function convertToInteractive(key) {\n",
              "          const element = document.querySelector('#df-727d7767-c265-4afb-9c8a-bc9f0a3c3340');\n",
              "          const dataTable =\n",
              "            await google.colab.kernel.invokeFunction('convertToInteractive',\n",
              "                                                     [key], {});\n",
              "          if (!dataTable) return;\n",
              "\n",
              "          const docLinkHtml = 'Like what you see? Visit the ' +\n",
              "            '<a target=\"_blank\" href=https://colab.research.google.com/notebooks/data_table.ipynb>data table notebook</a>'\n",
              "            + ' to learn more about interactive tables.';\n",
              "          element.innerHTML = '';\n",
              "          dataTable['output_type'] = 'display_data';\n",
              "          await google.colab.output.renderOutput(dataTable, element);\n",
              "          const docLink = document.createElement('div');\n",
              "          docLink.innerHTML = docLinkHtml;\n",
              "          element.appendChild(docLink);\n",
              "        }\n",
              "      </script>\n",
              "    </div>\n",
              "  </div>\n",
              "  "
            ]
          },
          "metadata": {},
          "execution_count": 63
        }
      ]
    },
    {
      "cell_type": "code",
      "source": [
        "#Flag DataSet\n",
        "columnas= ['name','landmass', 'zone', 'area','population','language','religion','bars','stripes','colours','red','green','blue','gold','white','black','orange','mainhue','circles','crosses','saltires','quarters','sunstars','crescent','triangle','icon','animate','text','topleft','botright']\n",
        "flag_features=['landmass', 'zone', 'area','population','language','religion','bars','stripes','colours','red','green','blue','gold','white','black','orange','mainhue','circles','crosses','saltires','quarters','sunstars','crescent','triangle','icon','animate','text','topleft','botright']\n",
        "flag=readDataset('https://raw.githubusercontent.com/victoriapl01/Mineria_De_Datos/main/Datasets/flag.data',columnas)\n",
        "flag_X = flag[flag_features]\n",
        "flag_y = flag['name']\n",
        "flag.head()"
      ],
      "metadata": {
        "colab": {
          "base_uri": "https://localhost:8080/",
          "height": 317
        },
        "id": "UYLX0KuqSxjQ",
        "outputId": "dd3ea2cc-7cd1-4cbf-d7c3-21a2b9d9139a"
      },
      "execution_count": 10,
      "outputs": [
        {
          "output_type": "execute_result",
          "data": {
            "text/plain": [
              "             name  landmass  zone  area  population  language  religion  bars  \\\n",
              "0     Afghanistan         5     1   648          16        10         2     0   \n",
              "1         Albania         3     1    29           3         6         6     0   \n",
              "2         Algeria         4     1  2388          20         8         2     2   \n",
              "3  American-Samoa         6     3     0           0         1         1     0   \n",
              "4         Andorra         3     1     0           0         6         0     3   \n",
              "\n",
              "   stripes  colours  ...  saltires  quarters  sunstars  crescent  triangle  \\\n",
              "0        3        5  ...         0         0         1         0         0   \n",
              "1        0        3  ...         0         0         1         0         0   \n",
              "2        0        3  ...         0         0         1         1         0   \n",
              "3        0        5  ...         0         0         0         0         1   \n",
              "4        0        3  ...         0         0         0         0         0   \n",
              "\n",
              "   icon  animate text  topleft  botright  \n",
              "0     1        0    0    black     green  \n",
              "1     0        1    0      red       red  \n",
              "2     0        0    0    green     white  \n",
              "3     1        1    0     blue       red  \n",
              "4     0        0    0     blue       red  \n",
              "\n",
              "[5 rows x 30 columns]"
            ],
            "text/html": [
              "\n",
              "  <div id=\"df-20207906-37f3-41af-abe8-4edfb5a5ef9f\">\n",
              "    <div class=\"colab-df-container\">\n",
              "      <div>\n",
              "<style scoped>\n",
              "    .dataframe tbody tr th:only-of-type {\n",
              "        vertical-align: middle;\n",
              "    }\n",
              "\n",
              "    .dataframe tbody tr th {\n",
              "        vertical-align: top;\n",
              "    }\n",
              "\n",
              "    .dataframe thead th {\n",
              "        text-align: right;\n",
              "    }\n",
              "</style>\n",
              "<table border=\"1\" class=\"dataframe\">\n",
              "  <thead>\n",
              "    <tr style=\"text-align: right;\">\n",
              "      <th></th>\n",
              "      <th>name</th>\n",
              "      <th>landmass</th>\n",
              "      <th>zone</th>\n",
              "      <th>area</th>\n",
              "      <th>population</th>\n",
              "      <th>language</th>\n",
              "      <th>religion</th>\n",
              "      <th>bars</th>\n",
              "      <th>stripes</th>\n",
              "      <th>colours</th>\n",
              "      <th>...</th>\n",
              "      <th>saltires</th>\n",
              "      <th>quarters</th>\n",
              "      <th>sunstars</th>\n",
              "      <th>crescent</th>\n",
              "      <th>triangle</th>\n",
              "      <th>icon</th>\n",
              "      <th>animate</th>\n",
              "      <th>text</th>\n",
              "      <th>topleft</th>\n",
              "      <th>botright</th>\n",
              "    </tr>\n",
              "  </thead>\n",
              "  <tbody>\n",
              "    <tr>\n",
              "      <th>0</th>\n",
              "      <td>Afghanistan</td>\n",
              "      <td>5</td>\n",
              "      <td>1</td>\n",
              "      <td>648</td>\n",
              "      <td>16</td>\n",
              "      <td>10</td>\n",
              "      <td>2</td>\n",
              "      <td>0</td>\n",
              "      <td>3</td>\n",
              "      <td>5</td>\n",
              "      <td>...</td>\n",
              "      <td>0</td>\n",
              "      <td>0</td>\n",
              "      <td>1</td>\n",
              "      <td>0</td>\n",
              "      <td>0</td>\n",
              "      <td>1</td>\n",
              "      <td>0</td>\n",
              "      <td>0</td>\n",
              "      <td>black</td>\n",
              "      <td>green</td>\n",
              "    </tr>\n",
              "    <tr>\n",
              "      <th>1</th>\n",
              "      <td>Albania</td>\n",
              "      <td>3</td>\n",
              "      <td>1</td>\n",
              "      <td>29</td>\n",
              "      <td>3</td>\n",
              "      <td>6</td>\n",
              "      <td>6</td>\n",
              "      <td>0</td>\n",
              "      <td>0</td>\n",
              "      <td>3</td>\n",
              "      <td>...</td>\n",
              "      <td>0</td>\n",
              "      <td>0</td>\n",
              "      <td>1</td>\n",
              "      <td>0</td>\n",
              "      <td>0</td>\n",
              "      <td>0</td>\n",
              "      <td>1</td>\n",
              "      <td>0</td>\n",
              "      <td>red</td>\n",
              "      <td>red</td>\n",
              "    </tr>\n",
              "    <tr>\n",
              "      <th>2</th>\n",
              "      <td>Algeria</td>\n",
              "      <td>4</td>\n",
              "      <td>1</td>\n",
              "      <td>2388</td>\n",
              "      <td>20</td>\n",
              "      <td>8</td>\n",
              "      <td>2</td>\n",
              "      <td>2</td>\n",
              "      <td>0</td>\n",
              "      <td>3</td>\n",
              "      <td>...</td>\n",
              "      <td>0</td>\n",
              "      <td>0</td>\n",
              "      <td>1</td>\n",
              "      <td>1</td>\n",
              "      <td>0</td>\n",
              "      <td>0</td>\n",
              "      <td>0</td>\n",
              "      <td>0</td>\n",
              "      <td>green</td>\n",
              "      <td>white</td>\n",
              "    </tr>\n",
              "    <tr>\n",
              "      <th>3</th>\n",
              "      <td>American-Samoa</td>\n",
              "      <td>6</td>\n",
              "      <td>3</td>\n",
              "      <td>0</td>\n",
              "      <td>0</td>\n",
              "      <td>1</td>\n",
              "      <td>1</td>\n",
              "      <td>0</td>\n",
              "      <td>0</td>\n",
              "      <td>5</td>\n",
              "      <td>...</td>\n",
              "      <td>0</td>\n",
              "      <td>0</td>\n",
              "      <td>0</td>\n",
              "      <td>0</td>\n",
              "      <td>1</td>\n",
              "      <td>1</td>\n",
              "      <td>1</td>\n",
              "      <td>0</td>\n",
              "      <td>blue</td>\n",
              "      <td>red</td>\n",
              "    </tr>\n",
              "    <tr>\n",
              "      <th>4</th>\n",
              "      <td>Andorra</td>\n",
              "      <td>3</td>\n",
              "      <td>1</td>\n",
              "      <td>0</td>\n",
              "      <td>0</td>\n",
              "      <td>6</td>\n",
              "      <td>0</td>\n",
              "      <td>3</td>\n",
              "      <td>0</td>\n",
              "      <td>3</td>\n",
              "      <td>...</td>\n",
              "      <td>0</td>\n",
              "      <td>0</td>\n",
              "      <td>0</td>\n",
              "      <td>0</td>\n",
              "      <td>0</td>\n",
              "      <td>0</td>\n",
              "      <td>0</td>\n",
              "      <td>0</td>\n",
              "      <td>blue</td>\n",
              "      <td>red</td>\n",
              "    </tr>\n",
              "  </tbody>\n",
              "</table>\n",
              "<p>5 rows × 30 columns</p>\n",
              "</div>\n",
              "      <button class=\"colab-df-convert\" onclick=\"convertToInteractive('df-20207906-37f3-41af-abe8-4edfb5a5ef9f')\"\n",
              "              title=\"Convert this dataframe to an interactive table.\"\n",
              "              style=\"display:none;\">\n",
              "        \n",
              "  <svg xmlns=\"http://www.w3.org/2000/svg\" height=\"24px\"viewBox=\"0 0 24 24\"\n",
              "       width=\"24px\">\n",
              "    <path d=\"M0 0h24v24H0V0z\" fill=\"none\"/>\n",
              "    <path d=\"M18.56 5.44l.94 2.06.94-2.06 2.06-.94-2.06-.94-.94-2.06-.94 2.06-2.06.94zm-11 1L8.5 8.5l.94-2.06 2.06-.94-2.06-.94L8.5 2.5l-.94 2.06-2.06.94zm10 10l.94 2.06.94-2.06 2.06-.94-2.06-.94-.94-2.06-.94 2.06-2.06.94z\"/><path d=\"M17.41 7.96l-1.37-1.37c-.4-.4-.92-.59-1.43-.59-.52 0-1.04.2-1.43.59L10.3 9.45l-7.72 7.72c-.78.78-.78 2.05 0 2.83L4 21.41c.39.39.9.59 1.41.59.51 0 1.02-.2 1.41-.59l7.78-7.78 2.81-2.81c.8-.78.8-2.07 0-2.86zM5.41 20L4 18.59l7.72-7.72 1.47 1.35L5.41 20z\"/>\n",
              "  </svg>\n",
              "      </button>\n",
              "      \n",
              "  <style>\n",
              "    .colab-df-container {\n",
              "      display:flex;\n",
              "      flex-wrap:wrap;\n",
              "      gap: 12px;\n",
              "    }\n",
              "\n",
              "    .colab-df-convert {\n",
              "      background-color: #E8F0FE;\n",
              "      border: none;\n",
              "      border-radius: 50%;\n",
              "      cursor: pointer;\n",
              "      display: none;\n",
              "      fill: #1967D2;\n",
              "      height: 32px;\n",
              "      padding: 0 0 0 0;\n",
              "      width: 32px;\n",
              "    }\n",
              "\n",
              "    .colab-df-convert:hover {\n",
              "      background-color: #E2EBFA;\n",
              "      box-shadow: 0px 1px 2px rgba(60, 64, 67, 0.3), 0px 1px 3px 1px rgba(60, 64, 67, 0.15);\n",
              "      fill: #174EA6;\n",
              "    }\n",
              "\n",
              "    [theme=dark] .colab-df-convert {\n",
              "      background-color: #3B4455;\n",
              "      fill: #D2E3FC;\n",
              "    }\n",
              "\n",
              "    [theme=dark] .colab-df-convert:hover {\n",
              "      background-color: #434B5C;\n",
              "      box-shadow: 0px 1px 3px 1px rgba(0, 0, 0, 0.15);\n",
              "      filter: drop-shadow(0px 1px 2px rgba(0, 0, 0, 0.3));\n",
              "      fill: #FFFFFF;\n",
              "    }\n",
              "  </style>\n",
              "\n",
              "      <script>\n",
              "        const buttonEl =\n",
              "          document.querySelector('#df-20207906-37f3-41af-abe8-4edfb5a5ef9f button.colab-df-convert');\n",
              "        buttonEl.style.display =\n",
              "          google.colab.kernel.accessAllowed ? 'block' : 'none';\n",
              "\n",
              "        async function convertToInteractive(key) {\n",
              "          const element = document.querySelector('#df-20207906-37f3-41af-abe8-4edfb5a5ef9f');\n",
              "          const dataTable =\n",
              "            await google.colab.kernel.invokeFunction('convertToInteractive',\n",
              "                                                     [key], {});\n",
              "          if (!dataTable) return;\n",
              "\n",
              "          const docLinkHtml = 'Like what you see? Visit the ' +\n",
              "            '<a target=\"_blank\" href=https://colab.research.google.com/notebooks/data_table.ipynb>data table notebook</a>'\n",
              "            + ' to learn more about interactive tables.';\n",
              "          element.innerHTML = '';\n",
              "          dataTable['output_type'] = 'display_data';\n",
              "          await google.colab.output.renderOutput(dataTable, element);\n",
              "          const docLink = document.createElement('div');\n",
              "          docLink.innerHTML = docLinkHtml;\n",
              "          element.appendChild(docLink);\n",
              "        }\n",
              "      </script>\n",
              "    </div>\n",
              "  </div>\n",
              "  "
            ]
          },
          "metadata": {},
          "execution_count": 10
        }
      ]
    },
    {
      "cell_type": "code",
      "source": [
        "#Vote Data set\n",
        "columnas = ['handicapped-infants','water cost sharing', 'adoption the budget resolution', 'physician fee freezen', 'god aid','religous groups','anti satellite test','aid to nicaraguan contras','mx-misil','inmigration','recortes','gasto de educacion','demandas','crimen','exportacion libre impuestos','adminitracion sur africa', 'class']\n",
        "vote_features = ['handicapped-infants','water cost sharing', 'adoption the budget resolution', 'physician fee freezen', 'god aid','religous groups','anti satellite test','aid to nicaraguan contras','mx-misil','inmigration','recortes','gasto de educacion','demandas','crimen','exportacion libre impuestos','adminitracion sur africa']\n",
        "vote = readDataset('https://raw.githubusercontent.com/victoriapl01/Mineria_De_Datos/main/Datasets/vote.data',columnas)\n",
        "vote = vote.replace({'y':0, 'n':1, '?':2})\n",
        "vote_X = vote[vote_features]\n",
        "vote_y = vote['class']\n",
        "vote.head()"
      ],
      "metadata": {
        "colab": {
          "base_uri": "https://localhost:8080/",
          "height": 305
        },
        "id": "Y_iBrzHiTSp5",
        "outputId": "7b1ab22e-cefc-4b1b-e4f2-901e23076f33"
      },
      "execution_count": 11,
      "outputs": [
        {
          "output_type": "execute_result",
          "data": {
            "text/plain": [
              "   handicapped-infants  water cost sharing  adoption the budget resolution  \\\n",
              "0                    1                   0                               1   \n",
              "1                    1                   0                               1   \n",
              "2                    2                   0                               0   \n",
              "3                    1                   0                               0   \n",
              "4                    0                   0                               0   \n",
              "\n",
              "   physician fee freezen  god aid  religous groups  anti satellite test  \\\n",
              "0                      0        0                0                    1   \n",
              "1                      0        0                0                    1   \n",
              "2                      2        0                0                    1   \n",
              "3                      1        2                0                    1   \n",
              "4                      1        0                0                    1   \n",
              "\n",
              "   aid to nicaraguan contras  mx-misil  inmigration  recortes  \\\n",
              "0                          1         1            0         2   \n",
              "1                          1         1            1         1   \n",
              "2                          1         1            1         0   \n",
              "3                          1         1            1         0   \n",
              "4                          1         1            1         0   \n",
              "\n",
              "   gasto de educacion  demandas  crimen  exportacion libre impuestos  \\\n",
              "0                   0         0       0                            1   \n",
              "1                   0         0       0                            1   \n",
              "2                   1         0       0                            1   \n",
              "3                   1         0       1                            1   \n",
              "4                   2         0       0                            0   \n",
              "\n",
              "   adminitracion sur africa       class  \n",
              "0                         0  republican  \n",
              "1                         2  republican  \n",
              "2                         1    democrat  \n",
              "3                         0    democrat  \n",
              "4                         0    democrat  "
            ],
            "text/html": [
              "\n",
              "  <div id=\"df-e3441264-9592-45e2-a900-2ee4c7a0cb6c\">\n",
              "    <div class=\"colab-df-container\">\n",
              "      <div>\n",
              "<style scoped>\n",
              "    .dataframe tbody tr th:only-of-type {\n",
              "        vertical-align: middle;\n",
              "    }\n",
              "\n",
              "    .dataframe tbody tr th {\n",
              "        vertical-align: top;\n",
              "    }\n",
              "\n",
              "    .dataframe thead th {\n",
              "        text-align: right;\n",
              "    }\n",
              "</style>\n",
              "<table border=\"1\" class=\"dataframe\">\n",
              "  <thead>\n",
              "    <tr style=\"text-align: right;\">\n",
              "      <th></th>\n",
              "      <th>handicapped-infants</th>\n",
              "      <th>water cost sharing</th>\n",
              "      <th>adoption the budget resolution</th>\n",
              "      <th>physician fee freezen</th>\n",
              "      <th>god aid</th>\n",
              "      <th>religous groups</th>\n",
              "      <th>anti satellite test</th>\n",
              "      <th>aid to nicaraguan contras</th>\n",
              "      <th>mx-misil</th>\n",
              "      <th>inmigration</th>\n",
              "      <th>recortes</th>\n",
              "      <th>gasto de educacion</th>\n",
              "      <th>demandas</th>\n",
              "      <th>crimen</th>\n",
              "      <th>exportacion libre impuestos</th>\n",
              "      <th>adminitracion sur africa</th>\n",
              "      <th>class</th>\n",
              "    </tr>\n",
              "  </thead>\n",
              "  <tbody>\n",
              "    <tr>\n",
              "      <th>0</th>\n",
              "      <td>1</td>\n",
              "      <td>0</td>\n",
              "      <td>1</td>\n",
              "      <td>0</td>\n",
              "      <td>0</td>\n",
              "      <td>0</td>\n",
              "      <td>1</td>\n",
              "      <td>1</td>\n",
              "      <td>1</td>\n",
              "      <td>0</td>\n",
              "      <td>2</td>\n",
              "      <td>0</td>\n",
              "      <td>0</td>\n",
              "      <td>0</td>\n",
              "      <td>1</td>\n",
              "      <td>0</td>\n",
              "      <td>republican</td>\n",
              "    </tr>\n",
              "    <tr>\n",
              "      <th>1</th>\n",
              "      <td>1</td>\n",
              "      <td>0</td>\n",
              "      <td>1</td>\n",
              "      <td>0</td>\n",
              "      <td>0</td>\n",
              "      <td>0</td>\n",
              "      <td>1</td>\n",
              "      <td>1</td>\n",
              "      <td>1</td>\n",
              "      <td>1</td>\n",
              "      <td>1</td>\n",
              "      <td>0</td>\n",
              "      <td>0</td>\n",
              "      <td>0</td>\n",
              "      <td>1</td>\n",
              "      <td>2</td>\n",
              "      <td>republican</td>\n",
              "    </tr>\n",
              "    <tr>\n",
              "      <th>2</th>\n",
              "      <td>2</td>\n",
              "      <td>0</td>\n",
              "      <td>0</td>\n",
              "      <td>2</td>\n",
              "      <td>0</td>\n",
              "      <td>0</td>\n",
              "      <td>1</td>\n",
              "      <td>1</td>\n",
              "      <td>1</td>\n",
              "      <td>1</td>\n",
              "      <td>0</td>\n",
              "      <td>1</td>\n",
              "      <td>0</td>\n",
              "      <td>0</td>\n",
              "      <td>1</td>\n",
              "      <td>1</td>\n",
              "      <td>democrat</td>\n",
              "    </tr>\n",
              "    <tr>\n",
              "      <th>3</th>\n",
              "      <td>1</td>\n",
              "      <td>0</td>\n",
              "      <td>0</td>\n",
              "      <td>1</td>\n",
              "      <td>2</td>\n",
              "      <td>0</td>\n",
              "      <td>1</td>\n",
              "      <td>1</td>\n",
              "      <td>1</td>\n",
              "      <td>1</td>\n",
              "      <td>0</td>\n",
              "      <td>1</td>\n",
              "      <td>0</td>\n",
              "      <td>1</td>\n",
              "      <td>1</td>\n",
              "      <td>0</td>\n",
              "      <td>democrat</td>\n",
              "    </tr>\n",
              "    <tr>\n",
              "      <th>4</th>\n",
              "      <td>0</td>\n",
              "      <td>0</td>\n",
              "      <td>0</td>\n",
              "      <td>1</td>\n",
              "      <td>0</td>\n",
              "      <td>0</td>\n",
              "      <td>1</td>\n",
              "      <td>1</td>\n",
              "      <td>1</td>\n",
              "      <td>1</td>\n",
              "      <td>0</td>\n",
              "      <td>2</td>\n",
              "      <td>0</td>\n",
              "      <td>0</td>\n",
              "      <td>0</td>\n",
              "      <td>0</td>\n",
              "      <td>democrat</td>\n",
              "    </tr>\n",
              "  </tbody>\n",
              "</table>\n",
              "</div>\n",
              "      <button class=\"colab-df-convert\" onclick=\"convertToInteractive('df-e3441264-9592-45e2-a900-2ee4c7a0cb6c')\"\n",
              "              title=\"Convert this dataframe to an interactive table.\"\n",
              "              style=\"display:none;\">\n",
              "        \n",
              "  <svg xmlns=\"http://www.w3.org/2000/svg\" height=\"24px\"viewBox=\"0 0 24 24\"\n",
              "       width=\"24px\">\n",
              "    <path d=\"M0 0h24v24H0V0z\" fill=\"none\"/>\n",
              "    <path d=\"M18.56 5.44l.94 2.06.94-2.06 2.06-.94-2.06-.94-.94-2.06-.94 2.06-2.06.94zm-11 1L8.5 8.5l.94-2.06 2.06-.94-2.06-.94L8.5 2.5l-.94 2.06-2.06.94zm10 10l.94 2.06.94-2.06 2.06-.94-2.06-.94-.94-2.06-.94 2.06-2.06.94z\"/><path d=\"M17.41 7.96l-1.37-1.37c-.4-.4-.92-.59-1.43-.59-.52 0-1.04.2-1.43.59L10.3 9.45l-7.72 7.72c-.78.78-.78 2.05 0 2.83L4 21.41c.39.39.9.59 1.41.59.51 0 1.02-.2 1.41-.59l7.78-7.78 2.81-2.81c.8-.78.8-2.07 0-2.86zM5.41 20L4 18.59l7.72-7.72 1.47 1.35L5.41 20z\"/>\n",
              "  </svg>\n",
              "      </button>\n",
              "      \n",
              "  <style>\n",
              "    .colab-df-container {\n",
              "      display:flex;\n",
              "      flex-wrap:wrap;\n",
              "      gap: 12px;\n",
              "    }\n",
              "\n",
              "    .colab-df-convert {\n",
              "      background-color: #E8F0FE;\n",
              "      border: none;\n",
              "      border-radius: 50%;\n",
              "      cursor: pointer;\n",
              "      display: none;\n",
              "      fill: #1967D2;\n",
              "      height: 32px;\n",
              "      padding: 0 0 0 0;\n",
              "      width: 32px;\n",
              "    }\n",
              "\n",
              "    .colab-df-convert:hover {\n",
              "      background-color: #E2EBFA;\n",
              "      box-shadow: 0px 1px 2px rgba(60, 64, 67, 0.3), 0px 1px 3px 1px rgba(60, 64, 67, 0.15);\n",
              "      fill: #174EA6;\n",
              "    }\n",
              "\n",
              "    [theme=dark] .colab-df-convert {\n",
              "      background-color: #3B4455;\n",
              "      fill: #D2E3FC;\n",
              "    }\n",
              "\n",
              "    [theme=dark] .colab-df-convert:hover {\n",
              "      background-color: #434B5C;\n",
              "      box-shadow: 0px 1px 3px 1px rgba(0, 0, 0, 0.15);\n",
              "      filter: drop-shadow(0px 1px 2px rgba(0, 0, 0, 0.3));\n",
              "      fill: #FFFFFF;\n",
              "    }\n",
              "  </style>\n",
              "\n",
              "      <script>\n",
              "        const buttonEl =\n",
              "          document.querySelector('#df-e3441264-9592-45e2-a900-2ee4c7a0cb6c button.colab-df-convert');\n",
              "        buttonEl.style.display =\n",
              "          google.colab.kernel.accessAllowed ? 'block' : 'none';\n",
              "\n",
              "        async function convertToInteractive(key) {\n",
              "          const element = document.querySelector('#df-e3441264-9592-45e2-a900-2ee4c7a0cb6c');\n",
              "          const dataTable =\n",
              "            await google.colab.kernel.invokeFunction('convertToInteractive',\n",
              "                                                     [key], {});\n",
              "          if (!dataTable) return;\n",
              "\n",
              "          const docLinkHtml = 'Like what you see? Visit the ' +\n",
              "            '<a target=\"_blank\" href=https://colab.research.google.com/notebooks/data_table.ipynb>data table notebook</a>'\n",
              "            + ' to learn more about interactive tables.';\n",
              "          element.innerHTML = '';\n",
              "          dataTable['output_type'] = 'display_data';\n",
              "          await google.colab.output.renderOutput(dataTable, element);\n",
              "          const docLink = document.createElement('div');\n",
              "          docLink.innerHTML = docLinkHtml;\n",
              "          element.appendChild(docLink);\n",
              "        }\n",
              "      </script>\n",
              "    </div>\n",
              "  </div>\n",
              "  "
            ]
          },
          "metadata": {},
          "execution_count": 11
        }
      ]
    },
    {
      "cell_type": "code",
      "source": [
        "#Segment_challeng\n",
        "columnas = ['region-centroid-col','region-centroid-row','region-pixel-count','short-line-density-5','short-line-density-2','vedge-mean','vegde-sd','hedge-mean','hedge-sd','intensity-mean','rawred-mean','rawblue-mean','rawgreen-mean','exred-mean','exblue-mean','exgreen-mean','value-mean','saturation-mean','hue-mean','class']\n",
        "segment_features = ['region-centroid-col','region-centroid-row','region-pixel-count','short-line-density-5','short-line-density-2','vedge-mean','vegde-sd','hedge-mean','hedge-sd','intensity-mean','rawred-mean','rawblue-mean','rawgreen-mean','exred-mean','exblue-mean','exgreen-mean','value-mean','saturation-mean','hue-mean']\n",
        "segment = readDataset('https://raw.githubusercontent.com/victoriapl01/Mineria_De_Datos/main/Datasets/segment_challeng.data',columnas)\n",
        "segment_X = segment[segment_features]\n",
        "segment_y = segment['class']\n",
        "segment.head()"
      ],
      "metadata": {
        "colab": {
          "base_uri": "https://localhost:8080/",
          "height": 322
        },
        "id": "YsSHl7QmU4bV",
        "outputId": "fd82797f-98c0-46f5-c288-2bb17d9a6f9e"
      },
      "execution_count": 12,
      "outputs": [
        {
          "output_type": "execute_result",
          "data": {
            "text/plain": [
              "   region-centroid-col  region-centroid-row  region-pixel-count  \\\n",
              "0                  144                   35                   9   \n",
              "1                  118                  180                   9   \n",
              "2                    6                  174                   9   \n",
              "3                  152                  220                   9   \n",
              "4                  189                  142                   9   \n",
              "\n",
              "   short-line-density-5  short-line-density-2  vedge-mean  vegde-sd  \\\n",
              "0                   0.0                   0.0    2.333330  2.033060   \n",
              "1                   0.0                   0.0    1.944440  1.481990   \n",
              "2                   0.0                   0.0    1.888890  1.007410   \n",
              "3                   0.0                   0.0    0.944445  0.685185   \n",
              "4                   0.0                   0.0    0.000000  0.000000   \n",
              "\n",
              "   hedge-mean  hedge-sd  intensity-mean  rawred-mean  rawblue-mean  \\\n",
              "0     2.05556   1.73098         37.5926      32.3333       47.4444   \n",
              "1     3.11111   1.08866         48.5556      44.1111       59.0000   \n",
              "2     2.88889   4.02963         19.0741      15.1111       17.7778   \n",
              "3     1.44444   2.16296         14.6296      11.5556       13.1111   \n",
              "4     0.00000   0.00000          0.0000       0.0000        0.0000   \n",
              "\n",
              "   rawgreen-mean  exred-mean  exblue-mean  exgreen-mean  value-mean  \\\n",
              "0        33.0000   -15.77780     29.55560      -13.7778     47.4444   \n",
              "1        42.5556   -13.33330     31.33330      -18.0000     59.0000   \n",
              "2        24.3333   -11.88890     -3.88889       15.7778     24.3333   \n",
              "3        19.2222    -9.22222     -4.55556       13.7778     19.2222   \n",
              "4         0.0000     0.00000      0.00000        0.0000      0.0000   \n",
              "\n",
              "   saturation-mean  hue-mean   class  \n",
              "0         0.319714  -2.13876  cement  \n",
              "1         0.278822  -1.99604    path  \n",
              "2         0.381867   2.39502   grass  \n",
              "3         0.416705   2.30688   grass  \n",
              "4         0.000000   0.00000  window  "
            ],
            "text/html": [
              "\n",
              "  <div id=\"df-ac199052-3688-4465-b83d-92597f7c54ff\">\n",
              "    <div class=\"colab-df-container\">\n",
              "      <div>\n",
              "<style scoped>\n",
              "    .dataframe tbody tr th:only-of-type {\n",
              "        vertical-align: middle;\n",
              "    }\n",
              "\n",
              "    .dataframe tbody tr th {\n",
              "        vertical-align: top;\n",
              "    }\n",
              "\n",
              "    .dataframe thead th {\n",
              "        text-align: right;\n",
              "    }\n",
              "</style>\n",
              "<table border=\"1\" class=\"dataframe\">\n",
              "  <thead>\n",
              "    <tr style=\"text-align: right;\">\n",
              "      <th></th>\n",
              "      <th>region-centroid-col</th>\n",
              "      <th>region-centroid-row</th>\n",
              "      <th>region-pixel-count</th>\n",
              "      <th>short-line-density-5</th>\n",
              "      <th>short-line-density-2</th>\n",
              "      <th>vedge-mean</th>\n",
              "      <th>vegde-sd</th>\n",
              "      <th>hedge-mean</th>\n",
              "      <th>hedge-sd</th>\n",
              "      <th>intensity-mean</th>\n",
              "      <th>rawred-mean</th>\n",
              "      <th>rawblue-mean</th>\n",
              "      <th>rawgreen-mean</th>\n",
              "      <th>exred-mean</th>\n",
              "      <th>exblue-mean</th>\n",
              "      <th>exgreen-mean</th>\n",
              "      <th>value-mean</th>\n",
              "      <th>saturation-mean</th>\n",
              "      <th>hue-mean</th>\n",
              "      <th>class</th>\n",
              "    </tr>\n",
              "  </thead>\n",
              "  <tbody>\n",
              "    <tr>\n",
              "      <th>0</th>\n",
              "      <td>144</td>\n",
              "      <td>35</td>\n",
              "      <td>9</td>\n",
              "      <td>0.0</td>\n",
              "      <td>0.0</td>\n",
              "      <td>2.333330</td>\n",
              "      <td>2.033060</td>\n",
              "      <td>2.05556</td>\n",
              "      <td>1.73098</td>\n",
              "      <td>37.5926</td>\n",
              "      <td>32.3333</td>\n",
              "      <td>47.4444</td>\n",
              "      <td>33.0000</td>\n",
              "      <td>-15.77780</td>\n",
              "      <td>29.55560</td>\n",
              "      <td>-13.7778</td>\n",
              "      <td>47.4444</td>\n",
              "      <td>0.319714</td>\n",
              "      <td>-2.13876</td>\n",
              "      <td>cement</td>\n",
              "    </tr>\n",
              "    <tr>\n",
              "      <th>1</th>\n",
              "      <td>118</td>\n",
              "      <td>180</td>\n",
              "      <td>9</td>\n",
              "      <td>0.0</td>\n",
              "      <td>0.0</td>\n",
              "      <td>1.944440</td>\n",
              "      <td>1.481990</td>\n",
              "      <td>3.11111</td>\n",
              "      <td>1.08866</td>\n",
              "      <td>48.5556</td>\n",
              "      <td>44.1111</td>\n",
              "      <td>59.0000</td>\n",
              "      <td>42.5556</td>\n",
              "      <td>-13.33330</td>\n",
              "      <td>31.33330</td>\n",
              "      <td>-18.0000</td>\n",
              "      <td>59.0000</td>\n",
              "      <td>0.278822</td>\n",
              "      <td>-1.99604</td>\n",
              "      <td>path</td>\n",
              "    </tr>\n",
              "    <tr>\n",
              "      <th>2</th>\n",
              "      <td>6</td>\n",
              "      <td>174</td>\n",
              "      <td>9</td>\n",
              "      <td>0.0</td>\n",
              "      <td>0.0</td>\n",
              "      <td>1.888890</td>\n",
              "      <td>1.007410</td>\n",
              "      <td>2.88889</td>\n",
              "      <td>4.02963</td>\n",
              "      <td>19.0741</td>\n",
              "      <td>15.1111</td>\n",
              "      <td>17.7778</td>\n",
              "      <td>24.3333</td>\n",
              "      <td>-11.88890</td>\n",
              "      <td>-3.88889</td>\n",
              "      <td>15.7778</td>\n",
              "      <td>24.3333</td>\n",
              "      <td>0.381867</td>\n",
              "      <td>2.39502</td>\n",
              "      <td>grass</td>\n",
              "    </tr>\n",
              "    <tr>\n",
              "      <th>3</th>\n",
              "      <td>152</td>\n",
              "      <td>220</td>\n",
              "      <td>9</td>\n",
              "      <td>0.0</td>\n",
              "      <td>0.0</td>\n",
              "      <td>0.944445</td>\n",
              "      <td>0.685185</td>\n",
              "      <td>1.44444</td>\n",
              "      <td>2.16296</td>\n",
              "      <td>14.6296</td>\n",
              "      <td>11.5556</td>\n",
              "      <td>13.1111</td>\n",
              "      <td>19.2222</td>\n",
              "      <td>-9.22222</td>\n",
              "      <td>-4.55556</td>\n",
              "      <td>13.7778</td>\n",
              "      <td>19.2222</td>\n",
              "      <td>0.416705</td>\n",
              "      <td>2.30688</td>\n",
              "      <td>grass</td>\n",
              "    </tr>\n",
              "    <tr>\n",
              "      <th>4</th>\n",
              "      <td>189</td>\n",
              "      <td>142</td>\n",
              "      <td>9</td>\n",
              "      <td>0.0</td>\n",
              "      <td>0.0</td>\n",
              "      <td>0.000000</td>\n",
              "      <td>0.000000</td>\n",
              "      <td>0.00000</td>\n",
              "      <td>0.00000</td>\n",
              "      <td>0.0000</td>\n",
              "      <td>0.0000</td>\n",
              "      <td>0.0000</td>\n",
              "      <td>0.0000</td>\n",
              "      <td>0.00000</td>\n",
              "      <td>0.00000</td>\n",
              "      <td>0.0000</td>\n",
              "      <td>0.0000</td>\n",
              "      <td>0.000000</td>\n",
              "      <td>0.00000</td>\n",
              "      <td>window</td>\n",
              "    </tr>\n",
              "  </tbody>\n",
              "</table>\n",
              "</div>\n",
              "      <button class=\"colab-df-convert\" onclick=\"convertToInteractive('df-ac199052-3688-4465-b83d-92597f7c54ff')\"\n",
              "              title=\"Convert this dataframe to an interactive table.\"\n",
              "              style=\"display:none;\">\n",
              "        \n",
              "  <svg xmlns=\"http://www.w3.org/2000/svg\" height=\"24px\"viewBox=\"0 0 24 24\"\n",
              "       width=\"24px\">\n",
              "    <path d=\"M0 0h24v24H0V0z\" fill=\"none\"/>\n",
              "    <path d=\"M18.56 5.44l.94 2.06.94-2.06 2.06-.94-2.06-.94-.94-2.06-.94 2.06-2.06.94zm-11 1L8.5 8.5l.94-2.06 2.06-.94-2.06-.94L8.5 2.5l-.94 2.06-2.06.94zm10 10l.94 2.06.94-2.06 2.06-.94-2.06-.94-.94-2.06-.94 2.06-2.06.94z\"/><path d=\"M17.41 7.96l-1.37-1.37c-.4-.4-.92-.59-1.43-.59-.52 0-1.04.2-1.43.59L10.3 9.45l-7.72 7.72c-.78.78-.78 2.05 0 2.83L4 21.41c.39.39.9.59 1.41.59.51 0 1.02-.2 1.41-.59l7.78-7.78 2.81-2.81c.8-.78.8-2.07 0-2.86zM5.41 20L4 18.59l7.72-7.72 1.47 1.35L5.41 20z\"/>\n",
              "  </svg>\n",
              "      </button>\n",
              "      \n",
              "  <style>\n",
              "    .colab-df-container {\n",
              "      display:flex;\n",
              "      flex-wrap:wrap;\n",
              "      gap: 12px;\n",
              "    }\n",
              "\n",
              "    .colab-df-convert {\n",
              "      background-color: #E8F0FE;\n",
              "      border: none;\n",
              "      border-radius: 50%;\n",
              "      cursor: pointer;\n",
              "      display: none;\n",
              "      fill: #1967D2;\n",
              "      height: 32px;\n",
              "      padding: 0 0 0 0;\n",
              "      width: 32px;\n",
              "    }\n",
              "\n",
              "    .colab-df-convert:hover {\n",
              "      background-color: #E2EBFA;\n",
              "      box-shadow: 0px 1px 2px rgba(60, 64, 67, 0.3), 0px 1px 3px 1px rgba(60, 64, 67, 0.15);\n",
              "      fill: #174EA6;\n",
              "    }\n",
              "\n",
              "    [theme=dark] .colab-df-convert {\n",
              "      background-color: #3B4455;\n",
              "      fill: #D2E3FC;\n",
              "    }\n",
              "\n",
              "    [theme=dark] .colab-df-convert:hover {\n",
              "      background-color: #434B5C;\n",
              "      box-shadow: 0px 1px 3px 1px rgba(0, 0, 0, 0.15);\n",
              "      filter: drop-shadow(0px 1px 2px rgba(0, 0, 0, 0.3));\n",
              "      fill: #FFFFFF;\n",
              "    }\n",
              "  </style>\n",
              "\n",
              "      <script>\n",
              "        const buttonEl =\n",
              "          document.querySelector('#df-ac199052-3688-4465-b83d-92597f7c54ff button.colab-df-convert');\n",
              "        buttonEl.style.display =\n",
              "          google.colab.kernel.accessAllowed ? 'block' : 'none';\n",
              "\n",
              "        async function convertToInteractive(key) {\n",
              "          const element = document.querySelector('#df-ac199052-3688-4465-b83d-92597f7c54ff');\n",
              "          const dataTable =\n",
              "            await google.colab.kernel.invokeFunction('convertToInteractive',\n",
              "                                                     [key], {});\n",
              "          if (!dataTable) return;\n",
              "\n",
              "          const docLinkHtml = 'Like what you see? Visit the ' +\n",
              "            '<a target=\"_blank\" href=https://colab.research.google.com/notebooks/data_table.ipynb>data table notebook</a>'\n",
              "            + ' to learn more about interactive tables.';\n",
              "          element.innerHTML = '';\n",
              "          dataTable['output_type'] = 'display_data';\n",
              "          await google.colab.output.renderOutput(dataTable, element);\n",
              "          const docLink = document.createElement('div');\n",
              "          docLink.innerHTML = docLinkHtml;\n",
              "          element.appendChild(docLink);\n",
              "        }\n",
              "      </script>\n",
              "    </div>\n",
              "  </div>\n",
              "  "
            ]
          },
          "metadata": {},
          "execution_count": 12
        }
      ]
    },
    {
      "cell_type": "markdown",
      "source": [
        "###**2. Seleccione al menos 3 clasificadores dentro de los disponibles en Scikit. Se recomienda elegir tres de entre los siguientes: árboles de decisión, k vecinos más cercanos, máquinas de vectores soporte y clasificador Naïve de Bayes.**###"
      ],
      "metadata": {
        "id": "Ej6J0DLxcxRo"
      }
    },
    {
      "cell_type": "code",
      "source": [
        "from sklearn.model_selection import train_test_split\n",
        "#Metrics like accuracy_score or confusion matrix\n",
        "from sklearn import metrics\n",
        "from sklearn.svm import SVC\n",
        "from sklearn.model_selection import train_test_split"
      ],
      "metadata": {
        "id": "HTZO833yc78r"
      },
      "execution_count": 13,
      "outputs": []
    },
    {
      "cell_type": "code",
      "source": [
        "#Modelos a utilizar en esta práctica\n",
        "tree=DecisionTreeClassifier()\n",
        "knn=KNeighborsClassifier(n_neighbors=5)\n",
        "svm=SVC(kernel='linear', C=1)"
      ],
      "metadata": {
        "id": "ZM9fG22uc92t"
      },
      "execution_count": 14,
      "outputs": []
    },
    {
      "cell_type": "code",
      "source": [
        "#Compute accuracy of model\n",
        "def accuracyDataset(features, label, model): \n",
        "  accuracy=0\n",
        "  #Split into random train and test subsets\n",
        "  X_train, X_test, y_train, y_test = train_test_split(features, label, test_size=0.2, random_state=1)\n",
        "  #Entrenamiento de datos de entrenamiento\n",
        "  model.fit(X_train,y_train)\n",
        "  #Predice salidas de los datos test\n",
        "  y_pred = model.predict(X_test)\n",
        "  #Calcula precisión del modelo\n",
        "  accuracy = metrics.accuracy_score(y_test, y_pred)\n",
        "  return accuracy"
      ],
      "metadata": {
        "id": "HSlKWrekc2F4"
      },
      "execution_count": 15,
      "outputs": []
    },
    {
      "cell_type": "code",
      "source": [
        "from sklearn.model_selection import GridSearchCV\n",
        "def comp_principalesSVM(data_X, data_y):\n",
        "  accuracy_svm=[]\n",
        "  param_grid= {'kernel': ['linear','rbf','sigmoid'], 'C': [0.1, 1, 3]}\n",
        "  svm = SVC()\n",
        "  grid = GridSearchCV(svm, param_grid, cv=5)\n",
        "  grid_search = grid.fit(data_X, data_y)\n",
        "  print('Mejores componentes principales: ', grid_search.best_params_)\n",
        "  svm= SVC(kernel=grid_search.best_params_['kernel'], C=grid_search.best_params_['C'])\n",
        "  return svm"
      ],
      "metadata": {
        "id": "59WpJ93cejcr"
      },
      "execution_count": 16,
      "outputs": []
    },
    {
      "cell_type": "markdown",
      "source": [
        "###**3. Para cada uno de los problemas seleccionados realice las siguientes tareas**###"
      ],
      "metadata": {
        "id": "sRAhosM6f-cL"
      }
    },
    {
      "cell_type": "markdown",
      "source": [
        "####**3.1. Seleccione como método para obtener el error la validación cruzada de 10 particiones o el método hold out. Seleccione dos métricas de las estudiadas en teoría.**####"
      ],
      "metadata": {
        "id": "OMjGpYqvgFSs"
      }
    },
    {
      "cell_type": "code",
      "source": [
        "from sklearn.model_selection import cross_val_score"
      ],
      "metadata": {
        "id": "IWC8KJZsgEYc"
      },
      "execution_count": 17,
      "outputs": []
    },
    {
      "cell_type": "markdown",
      "source": [
        "La función cross_val_score en scikit-learn proporciona una forma fácil de realizar una validación cruzada para encontrar los mejores hiperparámetros para un modelo de aprendizaje automático dado.\n",
        "Cuando se pasa el parámetro scoring='accuracy' a la función cross_val_score, esto le indica a la función que utilice la precisión (accuracy) como la métrica para evaluar el rendimiento del modelo en los datos de prueba en cada iteración de la validación cruzada.\n",
        "La función cross_val_score devuelve un arreglo de las puntuaciones de precisión, una para cada iteración de la validación cruzada.\n",
        "El parámetro scoring se puede establecer para otros valores también para evaluar el modelo para otras métricas como precisión, recall, f1, roc_auc, etc.\n",
        "Esto permite comparar fácilmente el rendimiento de diferentes modelos o diferentes configuraciones de parámetros utilizando una métrica única y consistente en todos los modelos y todas las iteraciones de la validación cruzada."
      ],
      "metadata": {
        "id": "gAgpiViamBdV"
      }
    },
    {
      "cell_type": "markdown",
      "source": [
        "**IRIS DATASET**"
      ],
      "metadata": {
        "id": "T2UQlRnnmM4L"
      }
    },
    {
      "cell_type": "code",
      "source": [
        "scores_tree_acc=cross_val_score(tree, iris_X, iris_y, cv=10, scoring='accuracy')\n",
        "scores_tree_f1M=cross_val_score(tree, iris_X, iris_y, cv=10, scoring='f1_macro')\n",
        "print(\"Mean score: \", scores_tree_acc.mean())\n",
        "print(\"Standard deviation: \", scores_tree_acc.std())\n",
        "\n",
        "print(\"Mean score: \", scores_tree_f1M.mean())\n",
        "print(\"Standard deviation: \", scores_tree_f1M.std())"
      ],
      "metadata": {
        "colab": {
          "base_uri": "https://localhost:8080/"
        },
        "id": "U9g1YliQjWeh",
        "outputId": "800d4031-b701-4721-f2d6-12e62f36d0b5"
      },
      "execution_count": 72,
      "outputs": [
        {
          "output_type": "stream",
          "name": "stdout",
          "text": [
            "Mean score:  0.9533333333333334\n",
            "Standard deviation:  0.04268749491621898\n",
            "Mean score:  0.9597306397306398\n",
            "Standard deviation:  0.044385023026018204\n"
          ]
        }
      ]
    },
    {
      "cell_type": "code",
      "source": [
        "scores_knn=cross_val_score(knn, iris_X, iris_y, cv=10, scoring='accuracy')\n",
        "scores_knn=cross_val_score(knn, iris_X, iris_y, cv=10, scoring='f1_macro')\n",
        "\n",
        "print(\"Mean score: \", scores_knn.mean())\n",
        "print(\"Standard deviation: \", scores_knn.std())"
      ],
      "metadata": {
        "colab": {
          "base_uri": "https://localhost:8080/"
        },
        "id": "qz0C4oyLmHNl",
        "outputId": "e70608a2-c79f-4b7b-c084-a26513b81b69"
      },
      "execution_count": 19,
      "outputs": [
        {
          "output_type": "stream",
          "name": "stdout",
          "text": [
            "Mean score:  0.9666666666666668\n",
            "Standard deviation:  0.04472135954999579\n"
          ]
        }
      ]
    },
    {
      "cell_type": "code",
      "source": [
        "svm_iris= comp_principalesSVM(iris_X, iris_y)\n",
        "scores_svm_acc=cross_val_score(svm_iris, iris_X, iris_y, cv=10,scoring='accuracy')\n",
        "scores_svm_f1M=cross_val_score(svm_iris, iris_X, iris_y, cv=10,scoring='f1_macro')\n",
        "print(\"Mean score: \", scores_svm_acc.mean())\n",
        "print(\"Standard deviation: \", scores_svm_acc.std())\n",
        "print(\"Mean score: \", scores_svm_f1M.mean())\n",
        "print(\"Standard deviation: \", scores_svm_f1M.std())"
      ],
      "metadata": {
        "colab": {
          "base_uri": "https://localhost:8080/"
        },
        "id": "R8N04GdNiHGF",
        "outputId": "3aef70f5-9965-4e23-91b9-141e7b3c45a7"
      },
      "execution_count": 73,
      "outputs": [
        {
          "output_type": "stream",
          "name": "stdout",
          "text": [
            "Mejores componentes principales:  {'C': 1, 'kernel': 'linear'}\n",
            "Mean score:  0.9733333333333334\n",
            "Standard deviation:  0.04422166387140532\n",
            "Mean score:  0.9726430976430975\n",
            "Standard deviation:  0.0456897053283\n"
          ]
        }
      ]
    },
    {
      "cell_type": "markdown",
      "source": [
        "**CAR DATASET**"
      ],
      "metadata": {
        "id": "KrpxHg32mQlv"
      }
    },
    {
      "cell_type": "code",
      "source": [
        "scores_tree_acc=cross_val_score(tree, car_X, car_y, cv=10, scoring='accuracy')\n",
        "scores_tree_f1M=cross_val_score(tree, car_X, car_y, cv=10, scoring='f1_macro')\n",
        "print(\"Mean score: \", scores_svm_acc.mean())\n",
        "print(\"Standard deviation: \", scores_svm_acc.std())\n",
        "print(\"Mean score: \", scores_svm_f1M.mean())\n",
        "print(\"Standard deviation: \", scores_svm_f1M.std())"
      ],
      "metadata": {
        "colab": {
          "base_uri": "https://localhost:8080/"
        },
        "id": "wSaannSsmeG9",
        "outputId": "a8f880e4-e95a-484b-8439-71887395371d"
      },
      "execution_count": 21,
      "outputs": [
        {
          "output_type": "stream",
          "name": "stdout",
          "text": [
            "Mean score:  0.8761762333646995\n",
            "Standard deviation:  0.06045580620533288\n"
          ]
        }
      ]
    },
    {
      "cell_type": "code",
      "source": [
        "scores_knn=cross_val_score(knn, car_X, car_y, cv=10, scoring='accuracy')\n",
        "scores_knn=cross_val_score(knn, car_X, car_y, cv=10, scoring='f1_macro')\n",
        "print(\"Mean score: \", scores_svm_acc.mean())\n",
        "print(\"Standard deviation: \", scores_svm_acc.std())\n",
        "print(\"Mean score: \", scores_svm_f1M.mean())\n",
        "print(\"Standard deviation: \", scores_svm_f1M.std())"
      ],
      "metadata": {
        "colab": {
          "base_uri": "https://localhost:8080/"
        },
        "id": "JRh9O2hvmknD",
        "outputId": "73757799-53cb-4b97-e5be-890c72f7202a"
      },
      "execution_count": 22,
      "outputs": [
        {
          "output_type": "stream",
          "name": "stdout",
          "text": [
            "Mean score:  0.8380259443473586\n",
            "Standard deviation:  0.07898676827500006\n"
          ]
        }
      ]
    },
    {
      "cell_type": "code",
      "source": [
        "svm_car = comp_principalesSVM(car_X, car_y)\n",
        "scores_svm=cross_val_score(svm_car, car_X, car_y, cv=10, scoring='accuracy')\n",
        "scores_svm=cross_val_score(svm_car, car_X, car_y, cv=10, scoring='f1_macro')\n",
        "\n",
        "print(\"Mean score: \", scores_svm_acc.mean())\n",
        "print(\"Standard deviation: \", scores_svm_acc.std())\n",
        "print(\"Mean score: \", scores_svm_f1M.mean())\n",
        "print(\"Standard deviation: \", scores_svm_f1M.std())"
      ],
      "metadata": {
        "colab": {
          "base_uri": "https://localhost:8080/"
        },
        "id": "Bgt4hRZ-mpo8",
        "outputId": "822faad3-5124-4a77-da87-99c2c0c67610"
      },
      "execution_count": 23,
      "outputs": [
        {
          "output_type": "stream",
          "name": "stdout",
          "text": [
            "Mejores componentes principales:  {'C': 3, 'kernel': 'rbf'}\n",
            "Mean score:  0.8912017744320474\n",
            "Standard deviation:  0.043163250960704926\n"
          ]
        }
      ]
    },
    {
      "cell_type": "markdown",
      "source": [
        "**Wine Dataset**"
      ],
      "metadata": {
        "id": "PXqMG5Cwoctu"
      }
    },
    {
      "cell_type": "code",
      "source": [
        "scores_tree=cross_val_score(tree, wine_X, wine_y, cv=10, scoring='accuracy')\n",
        "scores_tree=cross_val_score(tree, wine_X, wine_y, cv=10, scoring='f1_macro')\n",
        "print(\"Mean score: \", scores_svm_acc.mean())\n",
        "print(\"Standard deviation: \", scores_svm_acc.std())\n",
        "print(\"Mean score: \", scores_svm_f1M.mean())\n",
        "print(\"Standard deviation: \", scores_svm_f1M.std())"
      ],
      "metadata": {
        "colab": {
          "base_uri": "https://localhost:8080/"
        },
        "outputId": "02f5011b-e505-4d89-d6b4-b0ccc98b5999",
        "id": "fnISuiu0oipY"
      },
      "execution_count": 24,
      "outputs": [
        {
          "output_type": "stream",
          "name": "stdout",
          "text": [
            "Mean score:  0.8594771241830065\n",
            "Standard deviation:  0.08798075121811158\n"
          ]
        }
      ]
    },
    {
      "cell_type": "code",
      "source": [
        "scores_knn=cross_val_score(knn, wine_X, wine_y, cv=10, scoring='accuracy')\n",
        "scores_knn=cross_val_score(knn, wine_X, wine_y, cv=10, scoring='f1_macro')\n",
        "print(\"Mean score: \", scores_knn.mean())\n",
        "print(\"Standard deviation: \", scores_knn.std())"
      ],
      "metadata": {
        "colab": {
          "base_uri": "https://localhost:8080/"
        },
        "outputId": "cd0ed815-6f96-418b-b594-0a9621d52515",
        "id": "ciSYGeVtoipY"
      },
      "execution_count": 25,
      "outputs": [
        {
          "output_type": "stream",
          "name": "stdout",
          "text": [
            "Mean score:  0.6754901960784313\n",
            "Standard deviation:  0.06990791132962103\n"
          ]
        }
      ]
    },
    {
      "cell_type": "code",
      "source": [
        "svm_wine = comp_principalesSVM(wine_X, wine_y)\n",
        "scores_svm=cross_val_score(svm_wine, wine_X, wine_y, cv=10, scoring='accuracy')\n",
        "scores_svm=cross_val_score(svm_wine, wine_X, wine_y, cv=10, scoring='f1_macro')\n",
        "print(\"Mean score: \", scores_svm_acc.mean())\n",
        "print(\"Standard deviation: \", scores_svm_acc.std())\n",
        "print(\"Mean score: \", scores_svm_f1M.mean())\n",
        "print(\"Standard deviation: \", scores_svm_f1M.std())"
      ],
      "metadata": {
        "colab": {
          "base_uri": "https://localhost:8080/"
        },
        "outputId": "68d9bb59-2aa9-47b0-eecb-772a78ac73b1",
        "id": "Y__rMnDIoipY"
      },
      "execution_count": 26,
      "outputs": [
        {
          "output_type": "stream",
          "name": "stdout",
          "text": [
            "Mejores componentes principales:  {'C': 0.1, 'kernel': 'linear'}\n",
            "Mean score:  0.9666666666666668\n",
            "Standard deviation:  0.04444444444444447\n"
          ]
        }
      ]
    },
    {
      "cell_type": "markdown",
      "source": [
        "**Diabetes Dataset**"
      ],
      "metadata": {
        "id": "8OVTPRTimzhm"
      }
    },
    {
      "cell_type": "code",
      "source": [
        "scores_tree=cross_val_score(tree, diabetes_X, diabetes_y, cv=10, scoring='accuracy')\n",
        "scores_tree=cross_val_score(tree, diabetes_X, diabetes_y, cv=10, scoring='f1_macro')\n",
        "print(\"Mean score: \", scores_svm_acc.mean())\n",
        "print(\"Standard deviation: \", scores_svm_acc.std())\n",
        "print(\"Mean score: \", scores_svm_f1M.mean())\n",
        "print(\"Standard deviation: \", scores_svm_f1M.std())"
      ],
      "metadata": {
        "colab": {
          "base_uri": "https://localhost:8080/"
        },
        "outputId": "d218dae5-13bb-441c-c720-ef3fac33b521",
        "id": "TogNRwfFnGXd"
      },
      "execution_count": 27,
      "outputs": [
        {
          "output_type": "stream",
          "name": "stdout",
          "text": [
            "Mean score:  0.7056903622693096\n",
            "Standard deviation:  0.06777119571191563\n"
          ]
        }
      ]
    },
    {
      "cell_type": "code",
      "source": [
        "scores_knn=cross_val_score(knn, diabetes_X, diabetes_y, cv=10, scoring='accuracy')\n",
        "scores_knn=cross_val_score(knn, diabetes_X, diabetes_y, cv=10, scoring='f1_macro')\n",
        "print(\"Mean score: \", scores_svm_acc.mean())\n",
        "print(\"Standard deviation: \", scores_svm_acc.std())\n",
        "print(\"Mean score: \", scores_svm_f1M.mean())\n",
        "print(\"Standard deviation: \", scores_svm_f1M.std())"
      ],
      "metadata": {
        "colab": {
          "base_uri": "https://localhost:8080/"
        },
        "outputId": "0b95f2b7-7fae-4a53-e5a4-d157389f8368",
        "id": "GvakKOhunGXd"
      },
      "execution_count": 28,
      "outputs": [
        {
          "output_type": "stream",
          "name": "stdout",
          "text": [
            "Mean score:  0.7213773069036227\n",
            "Standard deviation:  0.04416817250533367\n"
          ]
        }
      ]
    },
    {
      "cell_type": "code",
      "source": [
        "svm_diabetes= comp_principalesSVM(diabetes_X, diabetes_y)\n",
        "scores_svm=cross_val_score(svm_diabetes, diabetes_X, diabetes_y, cv=10, scoring='accuracy')\n",
        "scores_svm=cross_val_score(svm_diabetes, diabetes_X, diabetes_y, cv=10, scoring='f1_macro')\n",
        "print(\"Mean score: \", scores_svm_acc.mean())\n",
        "print(\"Standard deviation: \", scores_svm_acc.std())\n",
        "print(\"Mean score: \", scores_svm_f1M.mean())\n",
        "print(\"Standard deviation: \", scores_svm_f1M.std())"
      ],
      "metadata": {
        "colab": {
          "base_uri": "https://localhost:8080/"
        },
        "outputId": "f5282bbd-29bb-4c0a-a03c-f949ec6bb0f8",
        "id": "d9FZrYG-nGXd"
      },
      "execution_count": 29,
      "outputs": [
        {
          "output_type": "stream",
          "name": "stdout",
          "text": [
            "Mejores componentes principales:  {'C': 3, 'kernel': 'linear'}\n",
            "Mean score:  0.7682672590567328\n",
            "Standard deviation:  0.032565457426088296\n"
          ]
        }
      ]
    },
    {
      "cell_type": "markdown",
      "source": [
        "**Glass Dataset**"
      ],
      "metadata": {
        "id": "NcdKmh7rm48S"
      }
    },
    {
      "cell_type": "code",
      "source": [
        "scores_tree=cross_val_score(tree, glass_X, glass_y, cv=10, scoring='accuracy')\n",
        "scores_tree=cross_val_score(tree, glass_X, glass_y, cv=10, scoring='f1_macro')\n",
        "print(\"Mean score: \", scores_svm_acc.mean())\n",
        "print(\"Standard deviation: \", scores_svm_acc.std())\n",
        "print(\"Mean score: \", scores_svm_f1M.mean())\n",
        "print(\"Standard deviation: \", scores_svm_f1M.std())"
      ],
      "metadata": {
        "colab": {
          "base_uri": "https://localhost:8080/"
        },
        "outputId": "01f5beec-985a-42d3-9168-b20fe4bd2cdb",
        "id": "gPZ0JjuinZat"
      },
      "execution_count": 30,
      "outputs": [
        {
          "output_type": "stream",
          "name": "stdout",
          "text": [
            "Mean score:  0.6965367965367966\n",
            "Standard deviation:  0.08809709944107183\n"
          ]
        },
        {
          "output_type": "stream",
          "name": "stderr",
          "text": [
            "/usr/local/lib/python3.8/dist-packages/sklearn/model_selection/_split.py:676: UserWarning: The least populated class in y has only 9 members, which is less than n_splits=10.\n",
            "  warnings.warn(\n"
          ]
        }
      ]
    },
    {
      "cell_type": "code",
      "source": [
        "scores_knn=cross_val_score(knn, glass_X, glass_y, cv=10, scoring='accuracy')\n",
        "scores_knn=cross_val_score(knn, glass_X, glass_y, cv=10, scoring='f1_macro')\n",
        "print(\"Mean score: \", scores_svm_acc.mean())\n",
        "print(\"Standard deviation: \", scores_svm_acc.std())\n",
        "print(\"Mean score: \", scores_svm_f1M.mean())\n",
        "print(\"Standard deviation: \", scores_svm_f1M.std())"
      ],
      "metadata": {
        "colab": {
          "base_uri": "https://localhost:8080/"
        },
        "outputId": "297dad75-b91e-4b49-d6d6-44aecc4d8f0a",
        "id": "gaFo0ozKnZat"
      },
      "execution_count": 31,
      "outputs": [
        {
          "output_type": "stream",
          "name": "stdout",
          "text": [
            "Mean score:  0.6491341991341991\n",
            "Standard deviation:  0.15657132539727017\n"
          ]
        },
        {
          "output_type": "stream",
          "name": "stderr",
          "text": [
            "/usr/local/lib/python3.8/dist-packages/sklearn/model_selection/_split.py:676: UserWarning: The least populated class in y has only 9 members, which is less than n_splits=10.\n",
            "  warnings.warn(\n"
          ]
        }
      ]
    },
    {
      "cell_type": "code",
      "source": [
        "svm_glass = comp_principalesSVM(glass_X, glass_y)\n",
        "scores_svm=cross_val_score(svm_glass, glass_X, glass_y, cv=10, scoring='accuracy')\n",
        "scores_svm=cross_val_score(svm_glass, glass_X, glass_y, cv=10, scoring='f1_macro')\n",
        "print(\"Mean score: \", scores_svm_acc.mean())\n",
        "print(\"Standard deviation: \", scores_svm_acc.std())\n",
        "print(\"Mean score: \", scores_svm_f1M.mean())\n",
        "print(\"Standard deviation: \", scores_svm_f1M.std())"
      ],
      "metadata": {
        "colab": {
          "base_uri": "https://localhost:8080/"
        },
        "outputId": "70b22ba4-f949-4c74-9eb3-4b51b1bf6f7f",
        "id": "qdT7L8OtnZat"
      },
      "execution_count": 32,
      "outputs": [
        {
          "output_type": "stream",
          "name": "stdout",
          "text": [
            "Mejores componentes principales:  {'C': 3, 'kernel': 'linear'}\n",
            "Mean score:  0.6588744588744588\n",
            "Standard deviation:  0.07587622125545093\n"
          ]
        },
        {
          "output_type": "stream",
          "name": "stderr",
          "text": [
            "/usr/local/lib/python3.8/dist-packages/sklearn/model_selection/_split.py:676: UserWarning: The least populated class in y has only 9 members, which is less than n_splits=10.\n",
            "  warnings.warn(\n"
          ]
        }
      ]
    },
    {
      "cell_type": "markdown",
      "source": [
        "**Breast Cancer Wisconsin (Diagnostic) Data set**"
      ],
      "metadata": {
        "id": "zJRLPgWCoX-y"
      }
    },
    {
      "cell_type": "code",
      "source": [
        "scores_tree=cross_val_score(tree, cancer_X, cancer_y, cv=10, scoring='accuracy')\n",
        "scores_tree=cross_val_score(tree, cancer_X, cancer_y, cv=10, scoring='f1_macro')\n",
        "print(\"Mean score: \", scores_svm_acc.mean())\n",
        "print(\"Standard deviation: \", scores_svm_acc.std())\n",
        "print(\"Mean score: \", scores_svm_f1M.mean())\n",
        "print(\"Standard deviation: \", scores_svm_f1M.std())"
      ],
      "metadata": {
        "colab": {
          "base_uri": "https://localhost:8080/"
        },
        "outputId": "770989f2-ff95-44d3-ba67-00659121b19e",
        "id": "gkej0NG1o8KO"
      },
      "execution_count": 33,
      "outputs": [
        {
          "output_type": "stream",
          "name": "stdout",
          "text": [
            "Mean score:  0.9488064791133844\n",
            "Standard deviation:  0.02283797409621248\n"
          ]
        }
      ]
    },
    {
      "cell_type": "code",
      "source": [
        "scores_knn=cross_val_score(knn, cancer_X, cancer_y, cv=10, scoring='accuracy')\n",
        "scores_knn=cross_val_score(knn, cancer_X, cancer_y, cv=10, scoring='f1_macro')\n",
        "print(\"Mean score: \", scores_svm_acc.mean())\n",
        "print(\"Standard deviation: \", scores_svm_acc.std())\n",
        "print(\"Mean score: \", scores_svm_f1M.mean())\n",
        "print(\"Standard deviation: \", scores_svm_f1M.std())"
      ],
      "metadata": {
        "colab": {
          "base_uri": "https://localhost:8080/"
        },
        "outputId": "541604c9-2ca4-459e-b828-83178c335c7f",
        "id": "hgmmNi2lo8KO"
      },
      "execution_count": 34,
      "outputs": [
        {
          "output_type": "stream",
          "name": "stdout",
          "text": [
            "Mean score:  0.9722719522591646\n",
            "Standard deviation:  0.026357992860835115\n"
          ]
        }
      ]
    },
    {
      "cell_type": "code",
      "source": [
        "svm_cancer = comp_principalesSVM(cancer_X, cancer_y)\n",
        "scores_svm=cross_val_score(svm_cancer, cancer_X, cancer_y, cv=10, scoring='accuracy')\n",
        "scores_svm=cross_val_score(svm_cancer, cancer_X, cancer_y, cv=10, scoring='f1_macro')\n",
        "print(\"Mean score: \", scores_svm_acc.mean())\n",
        "print(\"Standard deviation: \", scores_svm_acc.std())\n",
        "print(\"Mean score: \", scores_svm_f1M.mean())\n",
        "print(\"Standard deviation: \", scores_svm_f1M.std())"
      ],
      "metadata": {
        "colab": {
          "base_uri": "https://localhost:8080/"
        },
        "outputId": "087ae905-cef2-4b5d-9db8-5b642c97c76f",
        "id": "0TsIueUvo8KO"
      },
      "execution_count": 35,
      "outputs": [
        {
          "output_type": "stream",
          "name": "stdout",
          "text": [
            "Mejores componentes principales:  {'C': 0.1, 'kernel': 'rbf'}\n",
            "Mean score:  0.9693307757885762\n",
            "Standard deviation:  0.021010958323807446\n"
          ]
        }
      ]
    },
    {
      "cell_type": "markdown",
      "source": [
        "**TITANIC DATASET**"
      ],
      "metadata": {
        "id": "zow_TgYdpHdV"
      }
    },
    {
      "cell_type": "code",
      "source": [
        "scores_tree=cross_val_score(tree, titanic_X, titanic_y, cv=10, scoring='accuracy')\n",
        "scores_tree=cross_val_score(tree, titanic_X, titanic_y, cv=10, scoring='f1_macro')\n",
        "print(\"Mean score: \", scores_svm_acc.mean())\n",
        "print(\"Standard deviation: \", scores_svm_acc.std())\n",
        "print(\"Mean score: \", scores_svm_f1M.mean())\n",
        "print(\"Standard deviation: \", scores_svm_f1M.std())"
      ],
      "metadata": {
        "colab": {
          "base_uri": "https://localhost:8080/"
        },
        "outputId": "b1e53625-9879-4bab-f153-c1ca5b4bd845",
        "id": "U4-K2VVCpKbc"
      },
      "execution_count": 64,
      "outputs": [
        {
          "output_type": "stream",
          "name": "stdout",
          "text": [
            "Mean score:  0.7662754303599374\n",
            "Standard deviation:  0.05388375093354548\n"
          ]
        }
      ]
    },
    {
      "cell_type": "code",
      "source": [
        "scores_knn=cross_val_score(knn, titanic_X, titanic_y, cv=10, scoring='accuracy')\n",
        "scores_knn=cross_val_score(knn, titanic_X, titanic_y, cv=10, scoring='f1_macro')\n",
        "print(\"Mean score: \", scores_svm_acc.mean())\n",
        "print(\"Standard deviation: \", scores_svm_acc.std())\n",
        "print(\"Mean score: \", scores_svm_f1M.mean())\n",
        "print(\"Standard deviation: \", scores_svm_f1M.std())"
      ],
      "metadata": {
        "colab": {
          "base_uri": "https://localhost:8080/"
        },
        "outputId": "966c7444-2fcd-4e62-9f10-fa210427b084",
        "id": "KiSroK42pKbc"
      },
      "execution_count": 65,
      "outputs": [
        {
          "output_type": "stream",
          "name": "stdout",
          "text": [
            "Mean score:  0.7004694835680751\n",
            "Standard deviation:  0.054693506356687835\n"
          ]
        }
      ]
    },
    {
      "cell_type": "code",
      "source": [
        "svm_titanic = comp_principalesSVM(titanic_X, titanic_y)\n",
        "scores_svm=cross_val_score(svm_titanic, titanic_X, titanic_y, cv=10, scoring='accuracy')\n",
        "scores_svm=cross_val_score(svm_titanic, titanic_X, titanic_y, cv=10, scoring='f1_macro')\n",
        "print(\"Mean score: \", scores_svm_acc.mean())\n",
        "print(\"Standard deviation: \", scores_svm_acc.std())\n",
        "print(\"Mean score: \", scores_svm_f1M.mean())\n",
        "print(\"Standard deviation: \", scores_svm_f1M.std())"
      ],
      "metadata": {
        "colab": {
          "base_uri": "https://localhost:8080/"
        },
        "outputId": "7e9210fd-31d2-476f-f1d9-550e7c251b5e",
        "id": "7MwJ-HA1pKbc"
      },
      "execution_count": 66,
      "outputs": [
        {
          "output_type": "stream",
          "name": "stdout",
          "text": [
            "Mejores componentes principales:  {'C': 1, 'kernel': 'linear'}\n",
            "Mean score:  0.7799882629107981\n",
            "Standard deviation:  0.03777102879432696\n"
          ]
        }
      ]
    },
    {
      "cell_type": "markdown",
      "source": [
        "**FLAG Data set**"
      ],
      "metadata": {
        "id": "oYydKze6piDq"
      }
    },
    {
      "cell_type": "code",
      "source": [
        "scores_tree=cross_val_score(tree, flag_X, flag_y, cv=10, scoring='accuracy')\n",
        "print(\"Mean score: \", scores_tree.mean())\n",
        "print(\"Standard deviation: \", scores_tree.std())"
      ],
      "metadata": {
        "id": "P316gkbEpmB1"
      },
      "execution_count": null,
      "outputs": []
    },
    {
      "cell_type": "code",
      "source": [
        "scores_knn=cross_val_score(knn, flag_X, flag_y, cv=10, scoring='accuracy')\n",
        "print(\"Mean score: \", scores_knn.mean())\n",
        "print(\"Standard deviation: \", scores_knn.std())"
      ],
      "metadata": {
        "id": "NpdiPYpopmB1"
      },
      "execution_count": null,
      "outputs": []
    },
    {
      "cell_type": "code",
      "source": [
        "svm_weather = comp_principalesSVM(flag_X, flag_y)\n",
        "scores_svm=cross_val_score(svm_weather, flag_X, flag_y, cv=10, scoring='accuracy')\n",
        "scores_svm=cross_val_score(svm_weather, flag_X, flag_y, cv=10, scoring='f1_macro')\n",
        "print(\"Mean score: \", scores_svm.mean())\n",
        "print(\"Standard deviation: \", scores_svm.std())"
      ],
      "metadata": {
        "id": "tJboLWSOpmB1"
      },
      "execution_count": null,
      "outputs": []
    },
    {
      "cell_type": "markdown",
      "source": [
        "**VOTE DATASET**\n"
      ],
      "metadata": {
        "id": "EAAGYscmpzZV"
      }
    },
    {
      "cell_type": "code",
      "source": [
        "scores_tree=cross_val_score(tree, vote_X, vote_y, cv=10, scoring='accuracy')\n",
        "scores_tree=cross_val_score(tree, vote_X, vote_y, cv=10, scoring='f1_macro')\n",
        "print(\"Mean score: \", scores_svm_acc.mean())\n",
        "print(\"Standard deviation: \", scores_svm_acc.std())\n",
        "print(\"Mean score: \", scores_svm_f1M.mean())\n",
        "print(\"Standard deviation: \", scores_svm_f1M.std())"
      ],
      "metadata": {
        "colab": {
          "base_uri": "https://localhost:8080/"
        },
        "outputId": "09c98fc7-5afe-4470-8123-1e10469dae68",
        "id": "yfOYi1bnp3N2"
      },
      "execution_count": 41,
      "outputs": [
        {
          "output_type": "stream",
          "name": "stdout",
          "text": [
            "Mean score:  0.9468816067653277\n",
            "Standard deviation:  0.03316296112701606\n"
          ]
        }
      ]
    },
    {
      "cell_type": "code",
      "source": [
        "scores_knn=cross_val_score(knn, vote_X, vote_y, cv=10, scoring='accuracy')\n",
        "scores_knn=cross_val_score(knn, vote_X, vote_y, cv=10, scoring='f1_macro')\n",
        "print(\"Mean score: \", scores_svm_acc.mean())\n",
        "print(\"Standard deviation: \", scores_svm_acc.std())\n",
        "print(\"Mean score: \", scores_svm_f1M.mean())\n",
        "print(\"Standard deviation: \", scores_svm_f1M.std())"
      ],
      "metadata": {
        "colab": {
          "base_uri": "https://localhost:8080/"
        },
        "outputId": "6054e047-ccf5-4569-dc6c-ca27b35a9074",
        "id": "V7IegjVHp3N3"
      },
      "execution_count": 42,
      "outputs": [
        {
          "output_type": "stream",
          "name": "stdout",
          "text": [
            "Mean score:  0.9057082452431289\n",
            "Standard deviation:  0.05500039719176099\n"
          ]
        }
      ]
    },
    {
      "cell_type": "code",
      "source": [
        "svm_vote = comp_principalesSVM(vote_X, vote_y)\n",
        "svm_vote = comp_principalesSVM(vote_X, vote_y)\n",
        "scores_svm=cross_val_score(svm_vote, vote_X, vote_y, cv=10, scoring='accuracy')\n",
        "print(\"Mean score: \", scores_svm_acc.mean())\n",
        "print(\"Standard deviation: \", scores_svm_acc.std())\n",
        "print(\"Mean score: \", scores_svm_f1M.mean())\n",
        "print(\"Standard deviation: \", scores_svm_f1M.std())"
      ],
      "metadata": {
        "colab": {
          "base_uri": "https://localhost:8080/"
        },
        "outputId": "50ef9c0d-f88d-44bf-d3bc-b3ef8d892b35",
        "id": "YAXHfnlip3N3"
      },
      "execution_count": 43,
      "outputs": [
        {
          "output_type": "stream",
          "name": "stdout",
          "text": [
            "Mejores componentes principales:  {'C': 0.1, 'kernel': 'linear'}\n",
            "Mean score:  0.9561310782241014\n",
            "Standard deviation:  0.04092424781084852\n"
          ]
        }
      ]
    },
    {
      "cell_type": "markdown",
      "source": [
        "**SEGMENT CHALLENG DATASET**"
      ],
      "metadata": {
        "id": "U7Ga7tzuqClb"
      }
    },
    {
      "cell_type": "code",
      "source": [
        "scores_tree=cross_val_score(tree, segment_X, segment_y, cv=10, scoring='accuracy')\n",
        "scores_tree=cross_val_score(tree, segment_X, segment_y, cv=10, scoring='f1_macro')\n",
        "print(\"Mean score: \", scores_svm_acc.mean())\n",
        "print(\"Standard deviation: \", scores_svm_acc.std())\n",
        "print(\"Mean score: \", scores_svm_f1M.mean())\n",
        "print(\"Standard deviation: \", scores_svm_f1M.std())"
      ],
      "metadata": {
        "colab": {
          "base_uri": "https://localhost:8080/"
        },
        "outputId": "e06cd025-205c-4e66-8d2c-6cece5be98a5",
        "id": "xq44jPFyqH2b"
      },
      "execution_count": 38,
      "outputs": [
        {
          "output_type": "stream",
          "name": "stdout",
          "text": [
            "Mean score:  0.9419753086419753\n",
            "Standard deviation:  0.01660941240379471\n"
          ]
        }
      ]
    },
    {
      "cell_type": "code",
      "source": [
        "scores_knn=cross_val_score(knn, segment_X, segment_y, cv=10, scoring='accuracy')\n",
        "scores_knn=cross_val_score(knn, segment_X, segment_y, cv=10, scoring='f1_macro')\n",
        "print(\"Mean score: \", scores_svm_acc.mean())\n",
        "print(\"Standard deviation: \", scores_svm_acc.std())\n",
        "print(\"Mean score: \", scores_svm_f1M.mean())\n",
        "print(\"Standard deviation: \", scores_svm_f1M.std())"
      ],
      "metadata": {
        "colab": {
          "base_uri": "https://localhost:8080/"
        },
        "outputId": "e5dc3bc6-2a92-4fd7-be0b-6c11f9f9bbd6",
        "id": "IrfoGb4jqH2c"
      },
      "execution_count": 39,
      "outputs": [
        {
          "output_type": "stream",
          "name": "stdout",
          "text": [
            "Mean score:  0.906172839506173\n",
            "Standard deviation:  0.031329821087529686\n"
          ]
        }
      ]
    },
    {
      "cell_type": "code",
      "source": [
        "svm_segment = comp_principalesSVM(glass_X, glass_y)\n",
        "scores_svm=cross_val_score(svm_segment, segment_X, segment_y, cv=10, scoring='accuracy')\n",
        "scores_svm=cross_val_score(svm_segment, segment_X, segment_y, cv=10, scoring='f1_macro')\n",
        "print(\"Mean score: \", scores_svm_acc.mean())\n",
        "print(\"Standard deviation: \", scores_svm_acc.std())\n",
        "print(\"Mean score: \", scores_svm_f1M.mean())\n",
        "print(\"Standard deviation: \", scores_svm_f1M.std())"
      ],
      "metadata": {
        "colab": {
          "base_uri": "https://localhost:8080/"
        },
        "outputId": "45af1197-c824-4402-bdc3-ffb7edc926f3",
        "id": "sKfThcJ9qH2c"
      },
      "execution_count": 40,
      "outputs": [
        {
          "output_type": "stream",
          "name": "stdout",
          "text": [
            "Mejores componentes principales:  {'C': 3, 'kernel': 'linear'}\n",
            "Mean score:  0.9592592592592594\n",
            "Standard deviation:  0.0221191023051468\n"
          ]
        }
      ]
    },
    {
      "cell_type": "markdown",
      "source": [
        "####**3.2. Entrene cada clasificador seleccionado y anote el valor de las métricas estudiadas. Fije los hiperparámetros de forma razonable.**####"
      ],
      "metadata": {
        "id": "afjZXNzQgNzP"
      }
    }
  ]
}