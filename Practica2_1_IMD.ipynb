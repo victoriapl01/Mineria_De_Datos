{
  "nbformat": 4,
  "nbformat_minor": 0,
  "metadata": {
    "colab": {
      "provenance": []
    },
    "kernelspec": {
      "name": "python3",
      "display_name": "Python 3"
    },
    "language_info": {
      "name": "python"
    },
    "accelerator": "GPU",
    "gpuClass": "standard"
  },
  "cells": [
    {
      "cell_type": "markdown",
      "source": [
        "#**PRÁCTICA 2: Minería de datos supervisada: CLASIFIACIÓN**#\n",
        "\n"
      ],
      "metadata": {
        "id": "gyYVy-LAQT7E"
      }
    },
    {
      "cell_type": "markdown",
      "source": [
        "### **1. Obtenga al menos 10 conjuntos de datos en formato CSV, ARFF u otro cualquiera de Weka datasets ó UCI MLR**"
      ],
      "metadata": {
        "id": "v7btupiUQexx"
      }
    },
    {
      "cell_type": "code",
      "execution_count": null,
      "metadata": {
        "id": "ftoLybuWn20j"
      },
      "outputs": [],
      "source": [
        "import pandas as pd\n",
        "import numpy as np\n",
        "#Método de clasificación KNN (vecino más cercano)\n",
        "from sklearn.neighbors import KNeighborsClassifier\n",
        "#Método de clasifiación DecisionTree (árbol de decision)\n",
        "from sklearn.tree import DecisionTreeClassifier\n",
        "#Uso de gráficas y representación de datos\n",
        "import matplotlib.pyplot as plt\n",
        "from sklearn import datasets\n",
        "from scipy.io import arff\n"
      ]
    },
    {
      "cell_type": "code",
      "source": [
        "def accuracyGraphic(datasets, first_accuracy, second_accuracy, third_accuracy,  first_model, second_model, third_model):\n",
        "  plt.plot(datasets, first_accuracy, label=first_model+'_accuracy')\n",
        "  plt.plot(datasets, second_accuracy, label=second_model+'_accracy')\n",
        "  plt.plot(datasets, third_accuracy, label=third_model+'_accuracy')\n",
        "  plt.xlabel('Datasets')\n",
        "  plt.ylabel('Accuracy')\n",
        "  plt.title(first_model+'vs'+second_model+'vs'+third_model)\n",
        "  plt.legend()\n",
        "  plt.show()"
      ],
      "metadata": {
        "id": "s45Xf0ad9t9X"
      },
      "execution_count": null,
      "outputs": []
    },
    {
      "cell_type": "code",
      "source": [
        "#Lectura de Dataset haciendo uso de URL de github y el nombre de las columnas\n",
        "def readDataset(file,columns):\n",
        "  dataset=pd.read_csv(file, header=None, names=columns)\n",
        "  return dataset"
      ],
      "metadata": {
        "id": "Ydir4adS10VG"
      },
      "execution_count": null,
      "outputs": []
    },
    {
      "cell_type": "code",
      "source": [
        "#Iris Data set\n",
        "columnas=['sepal length (cm)', 'sepal width (cm)', 'petal length (cm)', 'petal width (cm)', 'class']\n",
        "iris_features=['sepal length (cm)', 'sepal width (cm)', 'petal length (cm)', 'petal width (cm)']\n",
        "iris= readDataset('https://raw.githubusercontent.com/victoriapl01/Mineria_De_Datos/main/Datasets/iris.data', columnas)\n",
        "iris_X= iris[iris_features]\n",
        "iris_y= iris['class']\n",
        "iris.head()"
      ],
      "metadata": {
        "colab": {
          "base_uri": "https://localhost:8080/",
          "height": 206
        },
        "id": "c2La3nCP5jmX",
        "outputId": "05c36904-21f4-40c9-aea5-c6f381139d2b"
      },
      "execution_count": null,
      "outputs": [
        {
          "output_type": "execute_result",
          "data": {
            "text/plain": [
              "   sepal length (cm)  sepal width (cm)  petal length (cm)  petal width (cm)  \\\n",
              "0                5.1               3.5                1.4               0.2   \n",
              "1                4.9               3.0                1.4               0.2   \n",
              "2                4.7               3.2                1.3               0.2   \n",
              "3                4.6               3.1                1.5               0.2   \n",
              "4                5.0               3.6                1.4               0.2   \n",
              "\n",
              "         class  \n",
              "0  Iris-setosa  \n",
              "1  Iris-setosa  \n",
              "2  Iris-setosa  \n",
              "3  Iris-setosa  \n",
              "4  Iris-setosa  "
            ],
            "text/html": [
              "\n",
              "  <div id=\"df-1f8d2c26-3709-4cb2-af33-13ece19a663b\">\n",
              "    <div class=\"colab-df-container\">\n",
              "      <div>\n",
              "<style scoped>\n",
              "    .dataframe tbody tr th:only-of-type {\n",
              "        vertical-align: middle;\n",
              "    }\n",
              "\n",
              "    .dataframe tbody tr th {\n",
              "        vertical-align: top;\n",
              "    }\n",
              "\n",
              "    .dataframe thead th {\n",
              "        text-align: right;\n",
              "    }\n",
              "</style>\n",
              "<table border=\"1\" class=\"dataframe\">\n",
              "  <thead>\n",
              "    <tr style=\"text-align: right;\">\n",
              "      <th></th>\n",
              "      <th>sepal length (cm)</th>\n",
              "      <th>sepal width (cm)</th>\n",
              "      <th>petal length (cm)</th>\n",
              "      <th>petal width (cm)</th>\n",
              "      <th>class</th>\n",
              "    </tr>\n",
              "  </thead>\n",
              "  <tbody>\n",
              "    <tr>\n",
              "      <th>0</th>\n",
              "      <td>5.1</td>\n",
              "      <td>3.5</td>\n",
              "      <td>1.4</td>\n",
              "      <td>0.2</td>\n",
              "      <td>Iris-setosa</td>\n",
              "    </tr>\n",
              "    <tr>\n",
              "      <th>1</th>\n",
              "      <td>4.9</td>\n",
              "      <td>3.0</td>\n",
              "      <td>1.4</td>\n",
              "      <td>0.2</td>\n",
              "      <td>Iris-setosa</td>\n",
              "    </tr>\n",
              "    <tr>\n",
              "      <th>2</th>\n",
              "      <td>4.7</td>\n",
              "      <td>3.2</td>\n",
              "      <td>1.3</td>\n",
              "      <td>0.2</td>\n",
              "      <td>Iris-setosa</td>\n",
              "    </tr>\n",
              "    <tr>\n",
              "      <th>3</th>\n",
              "      <td>4.6</td>\n",
              "      <td>3.1</td>\n",
              "      <td>1.5</td>\n",
              "      <td>0.2</td>\n",
              "      <td>Iris-setosa</td>\n",
              "    </tr>\n",
              "    <tr>\n",
              "      <th>4</th>\n",
              "      <td>5.0</td>\n",
              "      <td>3.6</td>\n",
              "      <td>1.4</td>\n",
              "      <td>0.2</td>\n",
              "      <td>Iris-setosa</td>\n",
              "    </tr>\n",
              "  </tbody>\n",
              "</table>\n",
              "</div>\n",
              "      <button class=\"colab-df-convert\" onclick=\"convertToInteractive('df-1f8d2c26-3709-4cb2-af33-13ece19a663b')\"\n",
              "              title=\"Convert this dataframe to an interactive table.\"\n",
              "              style=\"display:none;\">\n",
              "        \n",
              "  <svg xmlns=\"http://www.w3.org/2000/svg\" height=\"24px\"viewBox=\"0 0 24 24\"\n",
              "       width=\"24px\">\n",
              "    <path d=\"M0 0h24v24H0V0z\" fill=\"none\"/>\n",
              "    <path d=\"M18.56 5.44l.94 2.06.94-2.06 2.06-.94-2.06-.94-.94-2.06-.94 2.06-2.06.94zm-11 1L8.5 8.5l.94-2.06 2.06-.94-2.06-.94L8.5 2.5l-.94 2.06-2.06.94zm10 10l.94 2.06.94-2.06 2.06-.94-2.06-.94-.94-2.06-.94 2.06-2.06.94z\"/><path d=\"M17.41 7.96l-1.37-1.37c-.4-.4-.92-.59-1.43-.59-.52 0-1.04.2-1.43.59L10.3 9.45l-7.72 7.72c-.78.78-.78 2.05 0 2.83L4 21.41c.39.39.9.59 1.41.59.51 0 1.02-.2 1.41-.59l7.78-7.78 2.81-2.81c.8-.78.8-2.07 0-2.86zM5.41 20L4 18.59l7.72-7.72 1.47 1.35L5.41 20z\"/>\n",
              "  </svg>\n",
              "      </button>\n",
              "      \n",
              "  <style>\n",
              "    .colab-df-container {\n",
              "      display:flex;\n",
              "      flex-wrap:wrap;\n",
              "      gap: 12px;\n",
              "    }\n",
              "\n",
              "    .colab-df-convert {\n",
              "      background-color: #E8F0FE;\n",
              "      border: none;\n",
              "      border-radius: 50%;\n",
              "      cursor: pointer;\n",
              "      display: none;\n",
              "      fill: #1967D2;\n",
              "      height: 32px;\n",
              "      padding: 0 0 0 0;\n",
              "      width: 32px;\n",
              "    }\n",
              "\n",
              "    .colab-df-convert:hover {\n",
              "      background-color: #E2EBFA;\n",
              "      box-shadow: 0px 1px 2px rgba(60, 64, 67, 0.3), 0px 1px 3px 1px rgba(60, 64, 67, 0.15);\n",
              "      fill: #174EA6;\n",
              "    }\n",
              "\n",
              "    [theme=dark] .colab-df-convert {\n",
              "      background-color: #3B4455;\n",
              "      fill: #D2E3FC;\n",
              "    }\n",
              "\n",
              "    [theme=dark] .colab-df-convert:hover {\n",
              "      background-color: #434B5C;\n",
              "      box-shadow: 0px 1px 3px 1px rgba(0, 0, 0, 0.15);\n",
              "      filter: drop-shadow(0px 1px 2px rgba(0, 0, 0, 0.3));\n",
              "      fill: #FFFFFF;\n",
              "    }\n",
              "  </style>\n",
              "\n",
              "      <script>\n",
              "        const buttonEl =\n",
              "          document.querySelector('#df-1f8d2c26-3709-4cb2-af33-13ece19a663b button.colab-df-convert');\n",
              "        buttonEl.style.display =\n",
              "          google.colab.kernel.accessAllowed ? 'block' : 'none';\n",
              "\n",
              "        async function convertToInteractive(key) {\n",
              "          const element = document.querySelector('#df-1f8d2c26-3709-4cb2-af33-13ece19a663b');\n",
              "          const dataTable =\n",
              "            await google.colab.kernel.invokeFunction('convertToInteractive',\n",
              "                                                     [key], {});\n",
              "          if (!dataTable) return;\n",
              "\n",
              "          const docLinkHtml = 'Like what you see? Visit the ' +\n",
              "            '<a target=\"_blank\" href=https://colab.research.google.com/notebooks/data_table.ipynb>data table notebook</a>'\n",
              "            + ' to learn more about interactive tables.';\n",
              "          element.innerHTML = '';\n",
              "          dataTable['output_type'] = 'display_data';\n",
              "          await google.colab.output.renderOutput(dataTable, element);\n",
              "          const docLink = document.createElement('div');\n",
              "          docLink.innerHTML = docLinkHtml;\n",
              "          element.appendChild(docLink);\n",
              "        }\n",
              "      </script>\n",
              "    </div>\n",
              "  </div>\n",
              "  "
            ]
          },
          "metadata": {},
          "execution_count": 4
        }
      ]
    },
    {
      "cell_type": "code",
      "source": [
        "#Car Evaluation Data set\n",
        "columnas=['buying','maint','doors', 'persons', 'lug_boot','safety','class']\n",
        "car_features=['buying','maint','doors', 'persons', 'lug_boot','safety']\n",
        "car= readDataset('https://raw.githubusercontent.com/victoriapl01/Mineria_De_Datos/main/Datasets/car.data',columnas)\n",
        "car['buying']=car['buying'].map({'vhigh':4, 'high':3, 'med':2, 'low':1})\n",
        "car['maint']=car['maint'].map({'vhigh':4, 'high':3, 'med':2, 'low':1})\n",
        "car['lug_boot']=car['lug_boot'].map({'small':1, 'med':2, 'big':3})\n",
        "car['safety']=car['safety'].map({'low':1, 'med':2, 'high':3})\n",
        "car['doors']=car['doors'].map({'1':1, '2':2,'3':3,'4':4,'5more':7}) #Esto hará que 7 signifique más de 5 puertas o personas\n",
        "car['persons']=car['persons'].map({'1':1, '2':2,'3':3,'4':4,'more':7})\n",
        "car_X=car[car_features]\n",
        "car_y=car['class']\n",
        "car"
      ],
      "metadata": {
        "colab": {
          "base_uri": "https://localhost:8080/",
          "height": 424
        },
        "id": "fR50S_dn49jW",
        "outputId": "5de78430-aef6-4426-8816-401f0e07d108"
      },
      "execution_count": null,
      "outputs": [
        {
          "output_type": "execute_result",
          "data": {
            "text/plain": [
              "      buying  maint  doors  persons  lug_boot  safety  class\n",
              "0          4      4      2        2         1       1  unacc\n",
              "1          4      4      2        2         1       2  unacc\n",
              "2          4      4      2        2         1       3  unacc\n",
              "3          4      4      2        2         2       1  unacc\n",
              "4          4      4      2        2         2       2  unacc\n",
              "...      ...    ...    ...      ...       ...     ...    ...\n",
              "1723       1      1      7        7         2       2   good\n",
              "1724       1      1      7        7         2       3  vgood\n",
              "1725       1      1      7        7         3       1  unacc\n",
              "1726       1      1      7        7         3       2   good\n",
              "1727       1      1      7        7         3       3  vgood\n",
              "\n",
              "[1728 rows x 7 columns]"
            ],
            "text/html": [
              "\n",
              "  <div id=\"df-9354de8d-dedb-4815-8e57-3526934b3353\">\n",
              "    <div class=\"colab-df-container\">\n",
              "      <div>\n",
              "<style scoped>\n",
              "    .dataframe tbody tr th:only-of-type {\n",
              "        vertical-align: middle;\n",
              "    }\n",
              "\n",
              "    .dataframe tbody tr th {\n",
              "        vertical-align: top;\n",
              "    }\n",
              "\n",
              "    .dataframe thead th {\n",
              "        text-align: right;\n",
              "    }\n",
              "</style>\n",
              "<table border=\"1\" class=\"dataframe\">\n",
              "  <thead>\n",
              "    <tr style=\"text-align: right;\">\n",
              "      <th></th>\n",
              "      <th>buying</th>\n",
              "      <th>maint</th>\n",
              "      <th>doors</th>\n",
              "      <th>persons</th>\n",
              "      <th>lug_boot</th>\n",
              "      <th>safety</th>\n",
              "      <th>class</th>\n",
              "    </tr>\n",
              "  </thead>\n",
              "  <tbody>\n",
              "    <tr>\n",
              "      <th>0</th>\n",
              "      <td>4</td>\n",
              "      <td>4</td>\n",
              "      <td>2</td>\n",
              "      <td>2</td>\n",
              "      <td>1</td>\n",
              "      <td>1</td>\n",
              "      <td>unacc</td>\n",
              "    </tr>\n",
              "    <tr>\n",
              "      <th>1</th>\n",
              "      <td>4</td>\n",
              "      <td>4</td>\n",
              "      <td>2</td>\n",
              "      <td>2</td>\n",
              "      <td>1</td>\n",
              "      <td>2</td>\n",
              "      <td>unacc</td>\n",
              "    </tr>\n",
              "    <tr>\n",
              "      <th>2</th>\n",
              "      <td>4</td>\n",
              "      <td>4</td>\n",
              "      <td>2</td>\n",
              "      <td>2</td>\n",
              "      <td>1</td>\n",
              "      <td>3</td>\n",
              "      <td>unacc</td>\n",
              "    </tr>\n",
              "    <tr>\n",
              "      <th>3</th>\n",
              "      <td>4</td>\n",
              "      <td>4</td>\n",
              "      <td>2</td>\n",
              "      <td>2</td>\n",
              "      <td>2</td>\n",
              "      <td>1</td>\n",
              "      <td>unacc</td>\n",
              "    </tr>\n",
              "    <tr>\n",
              "      <th>4</th>\n",
              "      <td>4</td>\n",
              "      <td>4</td>\n",
              "      <td>2</td>\n",
              "      <td>2</td>\n",
              "      <td>2</td>\n",
              "      <td>2</td>\n",
              "      <td>unacc</td>\n",
              "    </tr>\n",
              "    <tr>\n",
              "      <th>...</th>\n",
              "      <td>...</td>\n",
              "      <td>...</td>\n",
              "      <td>...</td>\n",
              "      <td>...</td>\n",
              "      <td>...</td>\n",
              "      <td>...</td>\n",
              "      <td>...</td>\n",
              "    </tr>\n",
              "    <tr>\n",
              "      <th>1723</th>\n",
              "      <td>1</td>\n",
              "      <td>1</td>\n",
              "      <td>7</td>\n",
              "      <td>7</td>\n",
              "      <td>2</td>\n",
              "      <td>2</td>\n",
              "      <td>good</td>\n",
              "    </tr>\n",
              "    <tr>\n",
              "      <th>1724</th>\n",
              "      <td>1</td>\n",
              "      <td>1</td>\n",
              "      <td>7</td>\n",
              "      <td>7</td>\n",
              "      <td>2</td>\n",
              "      <td>3</td>\n",
              "      <td>vgood</td>\n",
              "    </tr>\n",
              "    <tr>\n",
              "      <th>1725</th>\n",
              "      <td>1</td>\n",
              "      <td>1</td>\n",
              "      <td>7</td>\n",
              "      <td>7</td>\n",
              "      <td>3</td>\n",
              "      <td>1</td>\n",
              "      <td>unacc</td>\n",
              "    </tr>\n",
              "    <tr>\n",
              "      <th>1726</th>\n",
              "      <td>1</td>\n",
              "      <td>1</td>\n",
              "      <td>7</td>\n",
              "      <td>7</td>\n",
              "      <td>3</td>\n",
              "      <td>2</td>\n",
              "      <td>good</td>\n",
              "    </tr>\n",
              "    <tr>\n",
              "      <th>1727</th>\n",
              "      <td>1</td>\n",
              "      <td>1</td>\n",
              "      <td>7</td>\n",
              "      <td>7</td>\n",
              "      <td>3</td>\n",
              "      <td>3</td>\n",
              "      <td>vgood</td>\n",
              "    </tr>\n",
              "  </tbody>\n",
              "</table>\n",
              "<p>1728 rows × 7 columns</p>\n",
              "</div>\n",
              "      <button class=\"colab-df-convert\" onclick=\"convertToInteractive('df-9354de8d-dedb-4815-8e57-3526934b3353')\"\n",
              "              title=\"Convert this dataframe to an interactive table.\"\n",
              "              style=\"display:none;\">\n",
              "        \n",
              "  <svg xmlns=\"http://www.w3.org/2000/svg\" height=\"24px\"viewBox=\"0 0 24 24\"\n",
              "       width=\"24px\">\n",
              "    <path d=\"M0 0h24v24H0V0z\" fill=\"none\"/>\n",
              "    <path d=\"M18.56 5.44l.94 2.06.94-2.06 2.06-.94-2.06-.94-.94-2.06-.94 2.06-2.06.94zm-11 1L8.5 8.5l.94-2.06 2.06-.94-2.06-.94L8.5 2.5l-.94 2.06-2.06.94zm10 10l.94 2.06.94-2.06 2.06-.94-2.06-.94-.94-2.06-.94 2.06-2.06.94z\"/><path d=\"M17.41 7.96l-1.37-1.37c-.4-.4-.92-.59-1.43-.59-.52 0-1.04.2-1.43.59L10.3 9.45l-7.72 7.72c-.78.78-.78 2.05 0 2.83L4 21.41c.39.39.9.59 1.41.59.51 0 1.02-.2 1.41-.59l7.78-7.78 2.81-2.81c.8-.78.8-2.07 0-2.86zM5.41 20L4 18.59l7.72-7.72 1.47 1.35L5.41 20z\"/>\n",
              "  </svg>\n",
              "      </button>\n",
              "      \n",
              "  <style>\n",
              "    .colab-df-container {\n",
              "      display:flex;\n",
              "      flex-wrap:wrap;\n",
              "      gap: 12px;\n",
              "    }\n",
              "\n",
              "    .colab-df-convert {\n",
              "      background-color: #E8F0FE;\n",
              "      border: none;\n",
              "      border-radius: 50%;\n",
              "      cursor: pointer;\n",
              "      display: none;\n",
              "      fill: #1967D2;\n",
              "      height: 32px;\n",
              "      padding: 0 0 0 0;\n",
              "      width: 32px;\n",
              "    }\n",
              "\n",
              "    .colab-df-convert:hover {\n",
              "      background-color: #E2EBFA;\n",
              "      box-shadow: 0px 1px 2px rgba(60, 64, 67, 0.3), 0px 1px 3px 1px rgba(60, 64, 67, 0.15);\n",
              "      fill: #174EA6;\n",
              "    }\n",
              "\n",
              "    [theme=dark] .colab-df-convert {\n",
              "      background-color: #3B4455;\n",
              "      fill: #D2E3FC;\n",
              "    }\n",
              "\n",
              "    [theme=dark] .colab-df-convert:hover {\n",
              "      background-color: #434B5C;\n",
              "      box-shadow: 0px 1px 3px 1px rgba(0, 0, 0, 0.15);\n",
              "      filter: drop-shadow(0px 1px 2px rgba(0, 0, 0, 0.3));\n",
              "      fill: #FFFFFF;\n",
              "    }\n",
              "  </style>\n",
              "\n",
              "      <script>\n",
              "        const buttonEl =\n",
              "          document.querySelector('#df-9354de8d-dedb-4815-8e57-3526934b3353 button.colab-df-convert');\n",
              "        buttonEl.style.display =\n",
              "          google.colab.kernel.accessAllowed ? 'block' : 'none';\n",
              "\n",
              "        async function convertToInteractive(key) {\n",
              "          const element = document.querySelector('#df-9354de8d-dedb-4815-8e57-3526934b3353');\n",
              "          const dataTable =\n",
              "            await google.colab.kernel.invokeFunction('convertToInteractive',\n",
              "                                                     [key], {});\n",
              "          if (!dataTable) return;\n",
              "\n",
              "          const docLinkHtml = 'Like what you see? Visit the ' +\n",
              "            '<a target=\"_blank\" href=https://colab.research.google.com/notebooks/data_table.ipynb>data table notebook</a>'\n",
              "            + ' to learn more about interactive tables.';\n",
              "          element.innerHTML = '';\n",
              "          dataTable['output_type'] = 'display_data';\n",
              "          await google.colab.output.renderOutput(dataTable, element);\n",
              "          const docLink = document.createElement('div');\n",
              "          docLink.innerHTML = docLinkHtml;\n",
              "          element.appendChild(docLink);\n",
              "        }\n",
              "      </script>\n",
              "    </div>\n",
              "  </div>\n",
              "  "
            ]
          },
          "metadata": {},
          "execution_count": 5
        }
      ]
    },
    {
      "cell_type": "code",
      "source": [
        "#Wine Data Set\n",
        "columnas= ['class','alcohol', 'malic acid', 'ash', 'alcalinityOfAsh', 'Magnesium',' Total Phenols', 'Flavanoids', 'Nonflavanoid phenols', 'Proanthocyanins', 'Color Intensity', 'Hue', 'OD280',' Proline'] \n",
        "wine_features=['alcohol', 'malic acid', 'ash', 'alcalinityOfAsh', 'Magnesium',' Total Phenols', 'Flavanoids', 'Nonflavanoid phenols', 'Proanthocyanins', 'Color Intensity', 'Hue', 'OD280',' Proline'] \n",
        "wine=readDataset('https://raw.githubusercontent.com/victoriapl01/Mineria_De_Datos/main/Datasets/wine.data',columnas)\n",
        "wine_X=wine[wine_features]\n",
        "wine_y=wine['class']\n",
        "wine.head()"
      ],
      "metadata": {
        "colab": {
          "base_uri": "https://localhost:8080/",
          "height": 288
        },
        "id": "HRiw60tAyuiH",
        "outputId": "a6ace3b9-dc4d-4e61-9bd8-a967bc59f2bb"
      },
      "execution_count": null,
      "outputs": [
        {
          "output_type": "execute_result",
          "data": {
            "text/plain": [
              "   class  alcohol  malic acid   ash  alcalinityOfAsh  Magnesium  \\\n",
              "0      1    14.23        1.71  2.43             15.6        127   \n",
              "1      1    13.20        1.78  2.14             11.2        100   \n",
              "2      1    13.16        2.36  2.67             18.6        101   \n",
              "3      1    14.37        1.95  2.50             16.8        113   \n",
              "4      1    13.24        2.59  2.87             21.0        118   \n",
              "\n",
              "    Total Phenols  Flavanoids  Nonflavanoid phenols  Proanthocyanins  \\\n",
              "0            2.80        3.06                  0.28             2.29   \n",
              "1            2.65        2.76                  0.26             1.28   \n",
              "2            2.80        3.24                  0.30             2.81   \n",
              "3            3.85        3.49                  0.24             2.18   \n",
              "4            2.80        2.69                  0.39             1.82   \n",
              "\n",
              "   Color Intensity   Hue  OD280   Proline  \n",
              "0             5.64  1.04   3.92      1065  \n",
              "1             4.38  1.05   3.40      1050  \n",
              "2             5.68  1.03   3.17      1185  \n",
              "3             7.80  0.86   3.45      1480  \n",
              "4             4.32  1.04   2.93       735  "
            ],
            "text/html": [
              "\n",
              "  <div id=\"df-e9b048a3-2b69-496a-8c63-10e833442374\">\n",
              "    <div class=\"colab-df-container\">\n",
              "      <div>\n",
              "<style scoped>\n",
              "    .dataframe tbody tr th:only-of-type {\n",
              "        vertical-align: middle;\n",
              "    }\n",
              "\n",
              "    .dataframe tbody tr th {\n",
              "        vertical-align: top;\n",
              "    }\n",
              "\n",
              "    .dataframe thead th {\n",
              "        text-align: right;\n",
              "    }\n",
              "</style>\n",
              "<table border=\"1\" class=\"dataframe\">\n",
              "  <thead>\n",
              "    <tr style=\"text-align: right;\">\n",
              "      <th></th>\n",
              "      <th>class</th>\n",
              "      <th>alcohol</th>\n",
              "      <th>malic acid</th>\n",
              "      <th>ash</th>\n",
              "      <th>alcalinityOfAsh</th>\n",
              "      <th>Magnesium</th>\n",
              "      <th>Total Phenols</th>\n",
              "      <th>Flavanoids</th>\n",
              "      <th>Nonflavanoid phenols</th>\n",
              "      <th>Proanthocyanins</th>\n",
              "      <th>Color Intensity</th>\n",
              "      <th>Hue</th>\n",
              "      <th>OD280</th>\n",
              "      <th>Proline</th>\n",
              "    </tr>\n",
              "  </thead>\n",
              "  <tbody>\n",
              "    <tr>\n",
              "      <th>0</th>\n",
              "      <td>1</td>\n",
              "      <td>14.23</td>\n",
              "      <td>1.71</td>\n",
              "      <td>2.43</td>\n",
              "      <td>15.6</td>\n",
              "      <td>127</td>\n",
              "      <td>2.80</td>\n",
              "      <td>3.06</td>\n",
              "      <td>0.28</td>\n",
              "      <td>2.29</td>\n",
              "      <td>5.64</td>\n",
              "      <td>1.04</td>\n",
              "      <td>3.92</td>\n",
              "      <td>1065</td>\n",
              "    </tr>\n",
              "    <tr>\n",
              "      <th>1</th>\n",
              "      <td>1</td>\n",
              "      <td>13.20</td>\n",
              "      <td>1.78</td>\n",
              "      <td>2.14</td>\n",
              "      <td>11.2</td>\n",
              "      <td>100</td>\n",
              "      <td>2.65</td>\n",
              "      <td>2.76</td>\n",
              "      <td>0.26</td>\n",
              "      <td>1.28</td>\n",
              "      <td>4.38</td>\n",
              "      <td>1.05</td>\n",
              "      <td>3.40</td>\n",
              "      <td>1050</td>\n",
              "    </tr>\n",
              "    <tr>\n",
              "      <th>2</th>\n",
              "      <td>1</td>\n",
              "      <td>13.16</td>\n",
              "      <td>2.36</td>\n",
              "      <td>2.67</td>\n",
              "      <td>18.6</td>\n",
              "      <td>101</td>\n",
              "      <td>2.80</td>\n",
              "      <td>3.24</td>\n",
              "      <td>0.30</td>\n",
              "      <td>2.81</td>\n",
              "      <td>5.68</td>\n",
              "      <td>1.03</td>\n",
              "      <td>3.17</td>\n",
              "      <td>1185</td>\n",
              "    </tr>\n",
              "    <tr>\n",
              "      <th>3</th>\n",
              "      <td>1</td>\n",
              "      <td>14.37</td>\n",
              "      <td>1.95</td>\n",
              "      <td>2.50</td>\n",
              "      <td>16.8</td>\n",
              "      <td>113</td>\n",
              "      <td>3.85</td>\n",
              "      <td>3.49</td>\n",
              "      <td>0.24</td>\n",
              "      <td>2.18</td>\n",
              "      <td>7.80</td>\n",
              "      <td>0.86</td>\n",
              "      <td>3.45</td>\n",
              "      <td>1480</td>\n",
              "    </tr>\n",
              "    <tr>\n",
              "      <th>4</th>\n",
              "      <td>1</td>\n",
              "      <td>13.24</td>\n",
              "      <td>2.59</td>\n",
              "      <td>2.87</td>\n",
              "      <td>21.0</td>\n",
              "      <td>118</td>\n",
              "      <td>2.80</td>\n",
              "      <td>2.69</td>\n",
              "      <td>0.39</td>\n",
              "      <td>1.82</td>\n",
              "      <td>4.32</td>\n",
              "      <td>1.04</td>\n",
              "      <td>2.93</td>\n",
              "      <td>735</td>\n",
              "    </tr>\n",
              "  </tbody>\n",
              "</table>\n",
              "</div>\n",
              "      <button class=\"colab-df-convert\" onclick=\"convertToInteractive('df-e9b048a3-2b69-496a-8c63-10e833442374')\"\n",
              "              title=\"Convert this dataframe to an interactive table.\"\n",
              "              style=\"display:none;\">\n",
              "        \n",
              "  <svg xmlns=\"http://www.w3.org/2000/svg\" height=\"24px\"viewBox=\"0 0 24 24\"\n",
              "       width=\"24px\">\n",
              "    <path d=\"M0 0h24v24H0V0z\" fill=\"none\"/>\n",
              "    <path d=\"M18.56 5.44l.94 2.06.94-2.06 2.06-.94-2.06-.94-.94-2.06-.94 2.06-2.06.94zm-11 1L8.5 8.5l.94-2.06 2.06-.94-2.06-.94L8.5 2.5l-.94 2.06-2.06.94zm10 10l.94 2.06.94-2.06 2.06-.94-2.06-.94-.94-2.06-.94 2.06-2.06.94z\"/><path d=\"M17.41 7.96l-1.37-1.37c-.4-.4-.92-.59-1.43-.59-.52 0-1.04.2-1.43.59L10.3 9.45l-7.72 7.72c-.78.78-.78 2.05 0 2.83L4 21.41c.39.39.9.59 1.41.59.51 0 1.02-.2 1.41-.59l7.78-7.78 2.81-2.81c.8-.78.8-2.07 0-2.86zM5.41 20L4 18.59l7.72-7.72 1.47 1.35L5.41 20z\"/>\n",
              "  </svg>\n",
              "      </button>\n",
              "      \n",
              "  <style>\n",
              "    .colab-df-container {\n",
              "      display:flex;\n",
              "      flex-wrap:wrap;\n",
              "      gap: 12px;\n",
              "    }\n",
              "\n",
              "    .colab-df-convert {\n",
              "      background-color: #E8F0FE;\n",
              "      border: none;\n",
              "      border-radius: 50%;\n",
              "      cursor: pointer;\n",
              "      display: none;\n",
              "      fill: #1967D2;\n",
              "      height: 32px;\n",
              "      padding: 0 0 0 0;\n",
              "      width: 32px;\n",
              "    }\n",
              "\n",
              "    .colab-df-convert:hover {\n",
              "      background-color: #E2EBFA;\n",
              "      box-shadow: 0px 1px 2px rgba(60, 64, 67, 0.3), 0px 1px 3px 1px rgba(60, 64, 67, 0.15);\n",
              "      fill: #174EA6;\n",
              "    }\n",
              "\n",
              "    [theme=dark] .colab-df-convert {\n",
              "      background-color: #3B4455;\n",
              "      fill: #D2E3FC;\n",
              "    }\n",
              "\n",
              "    [theme=dark] .colab-df-convert:hover {\n",
              "      background-color: #434B5C;\n",
              "      box-shadow: 0px 1px 3px 1px rgba(0, 0, 0, 0.15);\n",
              "      filter: drop-shadow(0px 1px 2px rgba(0, 0, 0, 0.3));\n",
              "      fill: #FFFFFF;\n",
              "    }\n",
              "  </style>\n",
              "\n",
              "      <script>\n",
              "        const buttonEl =\n",
              "          document.querySelector('#df-e9b048a3-2b69-496a-8c63-10e833442374 button.colab-df-convert');\n",
              "        buttonEl.style.display =\n",
              "          google.colab.kernel.accessAllowed ? 'block' : 'none';\n",
              "\n",
              "        async function convertToInteractive(key) {\n",
              "          const element = document.querySelector('#df-e9b048a3-2b69-496a-8c63-10e833442374');\n",
              "          const dataTable =\n",
              "            await google.colab.kernel.invokeFunction('convertToInteractive',\n",
              "                                                     [key], {});\n",
              "          if (!dataTable) return;\n",
              "\n",
              "          const docLinkHtml = 'Like what you see? Visit the ' +\n",
              "            '<a target=\"_blank\" href=https://colab.research.google.com/notebooks/data_table.ipynb>data table notebook</a>'\n",
              "            + ' to learn more about interactive tables.';\n",
              "          element.innerHTML = '';\n",
              "          dataTable['output_type'] = 'display_data';\n",
              "          await google.colab.output.renderOutput(dataTable, element);\n",
              "          const docLink = document.createElement('div');\n",
              "          docLink.innerHTML = docLinkHtml;\n",
              "          element.appendChild(docLink);\n",
              "        }\n",
              "      </script>\n",
              "    </div>\n",
              "  </div>\n",
              "  "
            ]
          },
          "metadata": {},
          "execution_count": 6
        }
      ]
    },
    {
      "cell_type": "code",
      "source": [
        "#Diabetes Data Set\n",
        "columnas=['Times Pregnant','Glucose tolerance','Blood pressure','Triceps skin fold','Insulin','Body mass','Diabetes pedigree', 'Age','Class']\n",
        "diabetes_features=['Times Pregnant','Glucose tolerance','Blood pressure','Triceps skin fold','Insulin','Body mass','Diabetes pedigree', 'Age']\n",
        "diabetes=readDataset('https://raw.githubusercontent.com/victoriapl01/Mineria_De_Datos/main/Datasets/diabetes.data',columnas)\n",
        "diabetes_X=diabetes[diabetes_features]\n",
        "diabetes_y=diabetes['Class']\n",
        "diabetes.head()\n"
      ],
      "metadata": {
        "colab": {
          "base_uri": "https://localhost:8080/",
          "height": 268
        },
        "id": "qCYjyo_166N0",
        "outputId": "c6481e3b-f693-4a35-c738-7d9304276013"
      },
      "execution_count": null,
      "outputs": [
        {
          "output_type": "execute_result",
          "data": {
            "text/plain": [
              "   Times Pregnant  Glucose tolerance  Blood pressure  Triceps skin fold  \\\n",
              "0               6                148              72                 35   \n",
              "1               1                 85              66                 29   \n",
              "2               8                183              64                  0   \n",
              "3               1                 89              66                 23   \n",
              "4               0                137              40                 35   \n",
              "\n",
              "   Insulin  Body mass  Diabetes pedigree  Age            Class  \n",
              "0        0       33.6              0.627   50  tested_positive  \n",
              "1        0       26.6              0.351   31  tested_negative  \n",
              "2        0       23.3              0.672   32  tested_positive  \n",
              "3       94       28.1              0.167   21  tested_negative  \n",
              "4      168       43.1              2.288   33  tested_positive  "
            ],
            "text/html": [
              "\n",
              "  <div id=\"df-045ad7b0-891e-4f94-b597-ca390b209306\">\n",
              "    <div class=\"colab-df-container\">\n",
              "      <div>\n",
              "<style scoped>\n",
              "    .dataframe tbody tr th:only-of-type {\n",
              "        vertical-align: middle;\n",
              "    }\n",
              "\n",
              "    .dataframe tbody tr th {\n",
              "        vertical-align: top;\n",
              "    }\n",
              "\n",
              "    .dataframe thead th {\n",
              "        text-align: right;\n",
              "    }\n",
              "</style>\n",
              "<table border=\"1\" class=\"dataframe\">\n",
              "  <thead>\n",
              "    <tr style=\"text-align: right;\">\n",
              "      <th></th>\n",
              "      <th>Times Pregnant</th>\n",
              "      <th>Glucose tolerance</th>\n",
              "      <th>Blood pressure</th>\n",
              "      <th>Triceps skin fold</th>\n",
              "      <th>Insulin</th>\n",
              "      <th>Body mass</th>\n",
              "      <th>Diabetes pedigree</th>\n",
              "      <th>Age</th>\n",
              "      <th>Class</th>\n",
              "    </tr>\n",
              "  </thead>\n",
              "  <tbody>\n",
              "    <tr>\n",
              "      <th>0</th>\n",
              "      <td>6</td>\n",
              "      <td>148</td>\n",
              "      <td>72</td>\n",
              "      <td>35</td>\n",
              "      <td>0</td>\n",
              "      <td>33.6</td>\n",
              "      <td>0.627</td>\n",
              "      <td>50</td>\n",
              "      <td>tested_positive</td>\n",
              "    </tr>\n",
              "    <tr>\n",
              "      <th>1</th>\n",
              "      <td>1</td>\n",
              "      <td>85</td>\n",
              "      <td>66</td>\n",
              "      <td>29</td>\n",
              "      <td>0</td>\n",
              "      <td>26.6</td>\n",
              "      <td>0.351</td>\n",
              "      <td>31</td>\n",
              "      <td>tested_negative</td>\n",
              "    </tr>\n",
              "    <tr>\n",
              "      <th>2</th>\n",
              "      <td>8</td>\n",
              "      <td>183</td>\n",
              "      <td>64</td>\n",
              "      <td>0</td>\n",
              "      <td>0</td>\n",
              "      <td>23.3</td>\n",
              "      <td>0.672</td>\n",
              "      <td>32</td>\n",
              "      <td>tested_positive</td>\n",
              "    </tr>\n",
              "    <tr>\n",
              "      <th>3</th>\n",
              "      <td>1</td>\n",
              "      <td>89</td>\n",
              "      <td>66</td>\n",
              "      <td>23</td>\n",
              "      <td>94</td>\n",
              "      <td>28.1</td>\n",
              "      <td>0.167</td>\n",
              "      <td>21</td>\n",
              "      <td>tested_negative</td>\n",
              "    </tr>\n",
              "    <tr>\n",
              "      <th>4</th>\n",
              "      <td>0</td>\n",
              "      <td>137</td>\n",
              "      <td>40</td>\n",
              "      <td>35</td>\n",
              "      <td>168</td>\n",
              "      <td>43.1</td>\n",
              "      <td>2.288</td>\n",
              "      <td>33</td>\n",
              "      <td>tested_positive</td>\n",
              "    </tr>\n",
              "  </tbody>\n",
              "</table>\n",
              "</div>\n",
              "      <button class=\"colab-df-convert\" onclick=\"convertToInteractive('df-045ad7b0-891e-4f94-b597-ca390b209306')\"\n",
              "              title=\"Convert this dataframe to an interactive table.\"\n",
              "              style=\"display:none;\">\n",
              "        \n",
              "  <svg xmlns=\"http://www.w3.org/2000/svg\" height=\"24px\"viewBox=\"0 0 24 24\"\n",
              "       width=\"24px\">\n",
              "    <path d=\"M0 0h24v24H0V0z\" fill=\"none\"/>\n",
              "    <path d=\"M18.56 5.44l.94 2.06.94-2.06 2.06-.94-2.06-.94-.94-2.06-.94 2.06-2.06.94zm-11 1L8.5 8.5l.94-2.06 2.06-.94-2.06-.94L8.5 2.5l-.94 2.06-2.06.94zm10 10l.94 2.06.94-2.06 2.06-.94-2.06-.94-.94-2.06-.94 2.06-2.06.94z\"/><path d=\"M17.41 7.96l-1.37-1.37c-.4-.4-.92-.59-1.43-.59-.52 0-1.04.2-1.43.59L10.3 9.45l-7.72 7.72c-.78.78-.78 2.05 0 2.83L4 21.41c.39.39.9.59 1.41.59.51 0 1.02-.2 1.41-.59l7.78-7.78 2.81-2.81c.8-.78.8-2.07 0-2.86zM5.41 20L4 18.59l7.72-7.72 1.47 1.35L5.41 20z\"/>\n",
              "  </svg>\n",
              "      </button>\n",
              "      \n",
              "  <style>\n",
              "    .colab-df-container {\n",
              "      display:flex;\n",
              "      flex-wrap:wrap;\n",
              "      gap: 12px;\n",
              "    }\n",
              "\n",
              "    .colab-df-convert {\n",
              "      background-color: #E8F0FE;\n",
              "      border: none;\n",
              "      border-radius: 50%;\n",
              "      cursor: pointer;\n",
              "      display: none;\n",
              "      fill: #1967D2;\n",
              "      height: 32px;\n",
              "      padding: 0 0 0 0;\n",
              "      width: 32px;\n",
              "    }\n",
              "\n",
              "    .colab-df-convert:hover {\n",
              "      background-color: #E2EBFA;\n",
              "      box-shadow: 0px 1px 2px rgba(60, 64, 67, 0.3), 0px 1px 3px 1px rgba(60, 64, 67, 0.15);\n",
              "      fill: #174EA6;\n",
              "    }\n",
              "\n",
              "    [theme=dark] .colab-df-convert {\n",
              "      background-color: #3B4455;\n",
              "      fill: #D2E3FC;\n",
              "    }\n",
              "\n",
              "    [theme=dark] .colab-df-convert:hover {\n",
              "      background-color: #434B5C;\n",
              "      box-shadow: 0px 1px 3px 1px rgba(0, 0, 0, 0.15);\n",
              "      filter: drop-shadow(0px 1px 2px rgba(0, 0, 0, 0.3));\n",
              "      fill: #FFFFFF;\n",
              "    }\n",
              "  </style>\n",
              "\n",
              "      <script>\n",
              "        const buttonEl =\n",
              "          document.querySelector('#df-045ad7b0-891e-4f94-b597-ca390b209306 button.colab-df-convert');\n",
              "        buttonEl.style.display =\n",
              "          google.colab.kernel.accessAllowed ? 'block' : 'none';\n",
              "\n",
              "        async function convertToInteractive(key) {\n",
              "          const element = document.querySelector('#df-045ad7b0-891e-4f94-b597-ca390b209306');\n",
              "          const dataTable =\n",
              "            await google.colab.kernel.invokeFunction('convertToInteractive',\n",
              "                                                     [key], {});\n",
              "          if (!dataTable) return;\n",
              "\n",
              "          const docLinkHtml = 'Like what you see? Visit the ' +\n",
              "            '<a target=\"_blank\" href=https://colab.research.google.com/notebooks/data_table.ipynb>data table notebook</a>'\n",
              "            + ' to learn more about interactive tables.';\n",
              "          element.innerHTML = '';\n",
              "          dataTable['output_type'] = 'display_data';\n",
              "          await google.colab.output.renderOutput(dataTable, element);\n",
              "          const docLink = document.createElement('div');\n",
              "          docLink.innerHTML = docLinkHtml;\n",
              "          element.appendChild(docLink);\n",
              "        }\n",
              "      </script>\n",
              "    </div>\n",
              "  </div>\n",
              "  "
            ]
          },
          "metadata": {},
          "execution_count": 7
        }
      ]
    },
    {
      "cell_type": "code",
      "source": [
        "#Glass Data set\n",
        "columnas=['RI','Na', 'Mg', 'Al', 'Si','K', 'Ca', 'Ba', 'Fe', 'Type']\n",
        "glass_features=['RI','Na', 'Mg', 'Al', 'Si','K', 'Ca', 'Ba', 'Fe']\n",
        "glass=readDataset('https://raw.githubusercontent.com/victoriapl01/Mineria_De_Datos/main/Datasets/glass.data',columnas)\n",
        "glass_X=glass[glass_features]\n",
        "glass_y=glass['Type']\n",
        "glass.head()"
      ],
      "metadata": {
        "colab": {
          "base_uri": "https://localhost:8080/",
          "height": 206
        },
        "id": "kIuwDsogYjXM",
        "outputId": "344daf9d-b1f3-4148-8e6d-4f55480f0f02"
      },
      "execution_count": null,
      "outputs": [
        {
          "output_type": "execute_result",
          "data": {
            "text/plain": [
              "        RI     Na    Mg    Al     Si     K     Ca   Ba    Fe  \\\n",
              "0  1.51793  12.79  3.50  1.12  73.03  0.64   8.77  0.0  0.00   \n",
              "1  1.51643  12.16  3.52  1.35  72.89  0.57   8.53  0.0  0.00   \n",
              "2  1.51793  13.21  3.48  1.41  72.64  0.59   8.43  0.0  0.00   \n",
              "3  1.51299  14.40  1.74  1.54  74.55  0.00   7.59  0.0  0.00   \n",
              "4  1.53393  12.30  0.00  1.00  70.16  0.12  16.19  0.0  0.24   \n",
              "\n",
              "                     Type  \n",
              "0      'build wind float'  \n",
              "1      'vehic wind float'  \n",
              "2      'build wind float'  \n",
              "3               tableware  \n",
              "4  'build wind non-float'  "
            ],
            "text/html": [
              "\n",
              "  <div id=\"df-0814e62a-0b90-4bef-867e-03248ed1b60c\">\n",
              "    <div class=\"colab-df-container\">\n",
              "      <div>\n",
              "<style scoped>\n",
              "    .dataframe tbody tr th:only-of-type {\n",
              "        vertical-align: middle;\n",
              "    }\n",
              "\n",
              "    .dataframe tbody tr th {\n",
              "        vertical-align: top;\n",
              "    }\n",
              "\n",
              "    .dataframe thead th {\n",
              "        text-align: right;\n",
              "    }\n",
              "</style>\n",
              "<table border=\"1\" class=\"dataframe\">\n",
              "  <thead>\n",
              "    <tr style=\"text-align: right;\">\n",
              "      <th></th>\n",
              "      <th>RI</th>\n",
              "      <th>Na</th>\n",
              "      <th>Mg</th>\n",
              "      <th>Al</th>\n",
              "      <th>Si</th>\n",
              "      <th>K</th>\n",
              "      <th>Ca</th>\n",
              "      <th>Ba</th>\n",
              "      <th>Fe</th>\n",
              "      <th>Type</th>\n",
              "    </tr>\n",
              "  </thead>\n",
              "  <tbody>\n",
              "    <tr>\n",
              "      <th>0</th>\n",
              "      <td>1.51793</td>\n",
              "      <td>12.79</td>\n",
              "      <td>3.50</td>\n",
              "      <td>1.12</td>\n",
              "      <td>73.03</td>\n",
              "      <td>0.64</td>\n",
              "      <td>8.77</td>\n",
              "      <td>0.0</td>\n",
              "      <td>0.00</td>\n",
              "      <td>'build wind float'</td>\n",
              "    </tr>\n",
              "    <tr>\n",
              "      <th>1</th>\n",
              "      <td>1.51643</td>\n",
              "      <td>12.16</td>\n",
              "      <td>3.52</td>\n",
              "      <td>1.35</td>\n",
              "      <td>72.89</td>\n",
              "      <td>0.57</td>\n",
              "      <td>8.53</td>\n",
              "      <td>0.0</td>\n",
              "      <td>0.00</td>\n",
              "      <td>'vehic wind float'</td>\n",
              "    </tr>\n",
              "    <tr>\n",
              "      <th>2</th>\n",
              "      <td>1.51793</td>\n",
              "      <td>13.21</td>\n",
              "      <td>3.48</td>\n",
              "      <td>1.41</td>\n",
              "      <td>72.64</td>\n",
              "      <td>0.59</td>\n",
              "      <td>8.43</td>\n",
              "      <td>0.0</td>\n",
              "      <td>0.00</td>\n",
              "      <td>'build wind float'</td>\n",
              "    </tr>\n",
              "    <tr>\n",
              "      <th>3</th>\n",
              "      <td>1.51299</td>\n",
              "      <td>14.40</td>\n",
              "      <td>1.74</td>\n",
              "      <td>1.54</td>\n",
              "      <td>74.55</td>\n",
              "      <td>0.00</td>\n",
              "      <td>7.59</td>\n",
              "      <td>0.0</td>\n",
              "      <td>0.00</td>\n",
              "      <td>tableware</td>\n",
              "    </tr>\n",
              "    <tr>\n",
              "      <th>4</th>\n",
              "      <td>1.53393</td>\n",
              "      <td>12.30</td>\n",
              "      <td>0.00</td>\n",
              "      <td>1.00</td>\n",
              "      <td>70.16</td>\n",
              "      <td>0.12</td>\n",
              "      <td>16.19</td>\n",
              "      <td>0.0</td>\n",
              "      <td>0.24</td>\n",
              "      <td>'build wind non-float'</td>\n",
              "    </tr>\n",
              "  </tbody>\n",
              "</table>\n",
              "</div>\n",
              "      <button class=\"colab-df-convert\" onclick=\"convertToInteractive('df-0814e62a-0b90-4bef-867e-03248ed1b60c')\"\n",
              "              title=\"Convert this dataframe to an interactive table.\"\n",
              "              style=\"display:none;\">\n",
              "        \n",
              "  <svg xmlns=\"http://www.w3.org/2000/svg\" height=\"24px\"viewBox=\"0 0 24 24\"\n",
              "       width=\"24px\">\n",
              "    <path d=\"M0 0h24v24H0V0z\" fill=\"none\"/>\n",
              "    <path d=\"M18.56 5.44l.94 2.06.94-2.06 2.06-.94-2.06-.94-.94-2.06-.94 2.06-2.06.94zm-11 1L8.5 8.5l.94-2.06 2.06-.94-2.06-.94L8.5 2.5l-.94 2.06-2.06.94zm10 10l.94 2.06.94-2.06 2.06-.94-2.06-.94-.94-2.06-.94 2.06-2.06.94z\"/><path d=\"M17.41 7.96l-1.37-1.37c-.4-.4-.92-.59-1.43-.59-.52 0-1.04.2-1.43.59L10.3 9.45l-7.72 7.72c-.78.78-.78 2.05 0 2.83L4 21.41c.39.39.9.59 1.41.59.51 0 1.02-.2 1.41-.59l7.78-7.78 2.81-2.81c.8-.78.8-2.07 0-2.86zM5.41 20L4 18.59l7.72-7.72 1.47 1.35L5.41 20z\"/>\n",
              "  </svg>\n",
              "      </button>\n",
              "      \n",
              "  <style>\n",
              "    .colab-df-container {\n",
              "      display:flex;\n",
              "      flex-wrap:wrap;\n",
              "      gap: 12px;\n",
              "    }\n",
              "\n",
              "    .colab-df-convert {\n",
              "      background-color: #E8F0FE;\n",
              "      border: none;\n",
              "      border-radius: 50%;\n",
              "      cursor: pointer;\n",
              "      display: none;\n",
              "      fill: #1967D2;\n",
              "      height: 32px;\n",
              "      padding: 0 0 0 0;\n",
              "      width: 32px;\n",
              "    }\n",
              "\n",
              "    .colab-df-convert:hover {\n",
              "      background-color: #E2EBFA;\n",
              "      box-shadow: 0px 1px 2px rgba(60, 64, 67, 0.3), 0px 1px 3px 1px rgba(60, 64, 67, 0.15);\n",
              "      fill: #174EA6;\n",
              "    }\n",
              "\n",
              "    [theme=dark] .colab-df-convert {\n",
              "      background-color: #3B4455;\n",
              "      fill: #D2E3FC;\n",
              "    }\n",
              "\n",
              "    [theme=dark] .colab-df-convert:hover {\n",
              "      background-color: #434B5C;\n",
              "      box-shadow: 0px 1px 3px 1px rgba(0, 0, 0, 0.15);\n",
              "      filter: drop-shadow(0px 1px 2px rgba(0, 0, 0, 0.3));\n",
              "      fill: #FFFFFF;\n",
              "    }\n",
              "  </style>\n",
              "\n",
              "      <script>\n",
              "        const buttonEl =\n",
              "          document.querySelector('#df-0814e62a-0b90-4bef-867e-03248ed1b60c button.colab-df-convert');\n",
              "        buttonEl.style.display =\n",
              "          google.colab.kernel.accessAllowed ? 'block' : 'none';\n",
              "\n",
              "        async function convertToInteractive(key) {\n",
              "          const element = document.querySelector('#df-0814e62a-0b90-4bef-867e-03248ed1b60c');\n",
              "          const dataTable =\n",
              "            await google.colab.kernel.invokeFunction('convertToInteractive',\n",
              "                                                     [key], {});\n",
              "          if (!dataTable) return;\n",
              "\n",
              "          const docLinkHtml = 'Like what you see? Visit the ' +\n",
              "            '<a target=\"_blank\" href=https://colab.research.google.com/notebooks/data_table.ipynb>data table notebook</a>'\n",
              "            + ' to learn more about interactive tables.';\n",
              "          element.innerHTML = '';\n",
              "          dataTable['output_type'] = 'display_data';\n",
              "          await google.colab.output.renderOutput(dataTable, element);\n",
              "          const docLink = document.createElement('div');\n",
              "          docLink.innerHTML = docLinkHtml;\n",
              "          element.appendChild(docLink);\n",
              "        }\n",
              "      </script>\n",
              "    </div>\n",
              "  </div>\n",
              "  "
            ]
          },
          "metadata": {},
          "execution_count": 8
        }
      ]
    },
    {
      "cell_type": "code",
      "source": [
        "#Breast Cancer Wisconsin (Diagnostic) Data set\n",
        "columnas=['id', 'Clump Thickness', 'Cell Size', 'Cell Shape', 'Marginal Adhesion', 'Epithelial Cell Size', 'Bare Nuclei', 'Bland Chromatin', 'Normal Nucleoli', 'Mitoses', 'Class']\n",
        "cancer_features=['Clump Thickness', 'Cell Size', 'Cell Shape', 'Marginal Adhesion', 'Epithelial Cell Size', 'Bare Nuclei', 'Bland Chromatin', 'Normal Nucleoli', 'Mitoses']\n",
        "cancer=readDataset('https://raw.githubusercontent.com/victoriapl01/Mineria_De_Datos/main/Datasets/breast-cancer-wisconsin.data', columnas)\n",
        "cancer_X=cancer[cancer_features]\n",
        "cancer_y= cancer['Class']\n",
        "cancer.head()"
      ],
      "metadata": {
        "colab": {
          "base_uri": "https://localhost:8080/",
          "height": 268
        },
        "id": "5wklXBKZkp2p",
        "outputId": "ee7a7ace-2702-42c3-9c05-efc1b2de36f5"
      },
      "execution_count": null,
      "outputs": [
        {
          "output_type": "execute_result",
          "data": {
            "text/plain": [
              "        id  Clump Thickness  Cell Size  Cell Shape  Marginal Adhesion  \\\n",
              "0  1000025                5          1           1                  1   \n",
              "1  1002945                5          4           4                  5   \n",
              "2  1015425                3          1           1                  1   \n",
              "3  1016277                6          8           8                  1   \n",
              "4  1017023                4          1           1                  3   \n",
              "\n",
              "   Epithelial Cell Size  Bare Nuclei  Bland Chromatin  Normal Nucleoli  \\\n",
              "0                     2            1                3                1   \n",
              "1                     7           10                3                2   \n",
              "2                     2            2                3                1   \n",
              "3                     3            4                3                7   \n",
              "4                     2            1                3                1   \n",
              "\n",
              "   Mitoses  Class  \n",
              "0        1      2  \n",
              "1        1      2  \n",
              "2        1      2  \n",
              "3        1      2  \n",
              "4        1      2  "
            ],
            "text/html": [
              "\n",
              "  <div id=\"df-fc9a835b-10b0-4850-9e20-e36d7553e0b5\">\n",
              "    <div class=\"colab-df-container\">\n",
              "      <div>\n",
              "<style scoped>\n",
              "    .dataframe tbody tr th:only-of-type {\n",
              "        vertical-align: middle;\n",
              "    }\n",
              "\n",
              "    .dataframe tbody tr th {\n",
              "        vertical-align: top;\n",
              "    }\n",
              "\n",
              "    .dataframe thead th {\n",
              "        text-align: right;\n",
              "    }\n",
              "</style>\n",
              "<table border=\"1\" class=\"dataframe\">\n",
              "  <thead>\n",
              "    <tr style=\"text-align: right;\">\n",
              "      <th></th>\n",
              "      <th>id</th>\n",
              "      <th>Clump Thickness</th>\n",
              "      <th>Cell Size</th>\n",
              "      <th>Cell Shape</th>\n",
              "      <th>Marginal Adhesion</th>\n",
              "      <th>Epithelial Cell Size</th>\n",
              "      <th>Bare Nuclei</th>\n",
              "      <th>Bland Chromatin</th>\n",
              "      <th>Normal Nucleoli</th>\n",
              "      <th>Mitoses</th>\n",
              "      <th>Class</th>\n",
              "    </tr>\n",
              "  </thead>\n",
              "  <tbody>\n",
              "    <tr>\n",
              "      <th>0</th>\n",
              "      <td>1000025</td>\n",
              "      <td>5</td>\n",
              "      <td>1</td>\n",
              "      <td>1</td>\n",
              "      <td>1</td>\n",
              "      <td>2</td>\n",
              "      <td>1</td>\n",
              "      <td>3</td>\n",
              "      <td>1</td>\n",
              "      <td>1</td>\n",
              "      <td>2</td>\n",
              "    </tr>\n",
              "    <tr>\n",
              "      <th>1</th>\n",
              "      <td>1002945</td>\n",
              "      <td>5</td>\n",
              "      <td>4</td>\n",
              "      <td>4</td>\n",
              "      <td>5</td>\n",
              "      <td>7</td>\n",
              "      <td>10</td>\n",
              "      <td>3</td>\n",
              "      <td>2</td>\n",
              "      <td>1</td>\n",
              "      <td>2</td>\n",
              "    </tr>\n",
              "    <tr>\n",
              "      <th>2</th>\n",
              "      <td>1015425</td>\n",
              "      <td>3</td>\n",
              "      <td>1</td>\n",
              "      <td>1</td>\n",
              "      <td>1</td>\n",
              "      <td>2</td>\n",
              "      <td>2</td>\n",
              "      <td>3</td>\n",
              "      <td>1</td>\n",
              "      <td>1</td>\n",
              "      <td>2</td>\n",
              "    </tr>\n",
              "    <tr>\n",
              "      <th>3</th>\n",
              "      <td>1016277</td>\n",
              "      <td>6</td>\n",
              "      <td>8</td>\n",
              "      <td>8</td>\n",
              "      <td>1</td>\n",
              "      <td>3</td>\n",
              "      <td>4</td>\n",
              "      <td>3</td>\n",
              "      <td>7</td>\n",
              "      <td>1</td>\n",
              "      <td>2</td>\n",
              "    </tr>\n",
              "    <tr>\n",
              "      <th>4</th>\n",
              "      <td>1017023</td>\n",
              "      <td>4</td>\n",
              "      <td>1</td>\n",
              "      <td>1</td>\n",
              "      <td>3</td>\n",
              "      <td>2</td>\n",
              "      <td>1</td>\n",
              "      <td>3</td>\n",
              "      <td>1</td>\n",
              "      <td>1</td>\n",
              "      <td>2</td>\n",
              "    </tr>\n",
              "  </tbody>\n",
              "</table>\n",
              "</div>\n",
              "      <button class=\"colab-df-convert\" onclick=\"convertToInteractive('df-fc9a835b-10b0-4850-9e20-e36d7553e0b5')\"\n",
              "              title=\"Convert this dataframe to an interactive table.\"\n",
              "              style=\"display:none;\">\n",
              "        \n",
              "  <svg xmlns=\"http://www.w3.org/2000/svg\" height=\"24px\"viewBox=\"0 0 24 24\"\n",
              "       width=\"24px\">\n",
              "    <path d=\"M0 0h24v24H0V0z\" fill=\"none\"/>\n",
              "    <path d=\"M18.56 5.44l.94 2.06.94-2.06 2.06-.94-2.06-.94-.94-2.06-.94 2.06-2.06.94zm-11 1L8.5 8.5l.94-2.06 2.06-.94-2.06-.94L8.5 2.5l-.94 2.06-2.06.94zm10 10l.94 2.06.94-2.06 2.06-.94-2.06-.94-.94-2.06-.94 2.06-2.06.94z\"/><path d=\"M17.41 7.96l-1.37-1.37c-.4-.4-.92-.59-1.43-.59-.52 0-1.04.2-1.43.59L10.3 9.45l-7.72 7.72c-.78.78-.78 2.05 0 2.83L4 21.41c.39.39.9.59 1.41.59.51 0 1.02-.2 1.41-.59l7.78-7.78 2.81-2.81c.8-.78.8-2.07 0-2.86zM5.41 20L4 18.59l7.72-7.72 1.47 1.35L5.41 20z\"/>\n",
              "  </svg>\n",
              "      </button>\n",
              "      \n",
              "  <style>\n",
              "    .colab-df-container {\n",
              "      display:flex;\n",
              "      flex-wrap:wrap;\n",
              "      gap: 12px;\n",
              "    }\n",
              "\n",
              "    .colab-df-convert {\n",
              "      background-color: #E8F0FE;\n",
              "      border: none;\n",
              "      border-radius: 50%;\n",
              "      cursor: pointer;\n",
              "      display: none;\n",
              "      fill: #1967D2;\n",
              "      height: 32px;\n",
              "      padding: 0 0 0 0;\n",
              "      width: 32px;\n",
              "    }\n",
              "\n",
              "    .colab-df-convert:hover {\n",
              "      background-color: #E2EBFA;\n",
              "      box-shadow: 0px 1px 2px rgba(60, 64, 67, 0.3), 0px 1px 3px 1px rgba(60, 64, 67, 0.15);\n",
              "      fill: #174EA6;\n",
              "    }\n",
              "\n",
              "    [theme=dark] .colab-df-convert {\n",
              "      background-color: #3B4455;\n",
              "      fill: #D2E3FC;\n",
              "    }\n",
              "\n",
              "    [theme=dark] .colab-df-convert:hover {\n",
              "      background-color: #434B5C;\n",
              "      box-shadow: 0px 1px 3px 1px rgba(0, 0, 0, 0.15);\n",
              "      filter: drop-shadow(0px 1px 2px rgba(0, 0, 0, 0.3));\n",
              "      fill: #FFFFFF;\n",
              "    }\n",
              "  </style>\n",
              "\n",
              "      <script>\n",
              "        const buttonEl =\n",
              "          document.querySelector('#df-fc9a835b-10b0-4850-9e20-e36d7553e0b5 button.colab-df-convert');\n",
              "        buttonEl.style.display =\n",
              "          google.colab.kernel.accessAllowed ? 'block' : 'none';\n",
              "\n",
              "        async function convertToInteractive(key) {\n",
              "          const element = document.querySelector('#df-fc9a835b-10b0-4850-9e20-e36d7553e0b5');\n",
              "          const dataTable =\n",
              "            await google.colab.kernel.invokeFunction('convertToInteractive',\n",
              "                                                     [key], {});\n",
              "          if (!dataTable) return;\n",
              "\n",
              "          const docLinkHtml = 'Like what you see? Visit the ' +\n",
              "            '<a target=\"_blank\" href=https://colab.research.google.com/notebooks/data_table.ipynb>data table notebook</a>'\n",
              "            + ' to learn more about interactive tables.';\n",
              "          element.innerHTML = '';\n",
              "          dataTable['output_type'] = 'display_data';\n",
              "          await google.colab.output.renderOutput(dataTable, element);\n",
              "          const docLink = document.createElement('div');\n",
              "          docLink.innerHTML = docLinkHtml;\n",
              "          element.appendChild(docLink);\n",
              "        }\n",
              "      </script>\n",
              "    </div>\n",
              "  </div>\n",
              "  "
            ]
          },
          "metadata": {},
          "execution_count": 9
        }
      ]
    },
    {
      "cell_type": "code",
      "source": [
        "#Titanic Data set\n",
        "titanic = pd.read_csv('https://raw.githubusercontent.com/victoriapl01/Mineria_De_Datos/main/Datasets/titanic.csv')\n",
        "titanic=titanic.drop(['PassengerId','Name', 'Ticket','Cabin','Embarked'],axis=1)\n",
        "titanic=titanic.dropna()\n",
        "titanic = titanic.replace({'male':0, 'female':1})\n",
        "titanic_X=titanic.drop(['Survived'],axis=1)\n",
        "titanic_y=titanic['Survived']\n",
        "titanic.head()"
      ],
      "metadata": {
        "colab": {
          "base_uri": "https://localhost:8080/",
          "height": 206
        },
        "id": "C6jk3DtkSRME",
        "outputId": "df5cc31b-2b65-4f68-9c64-e0ab0a31dc34"
      },
      "execution_count": null,
      "outputs": [
        {
          "output_type": "execute_result",
          "data": {
            "text/plain": [
              "   Survived  Pclass  Sex   Age  SibSp  Parch     Fare\n",
              "0         0       3    0  22.0      1      0   7.2500\n",
              "1         1       1    1  38.0      1      0  71.2833\n",
              "2         1       3    1  26.0      0      0   7.9250\n",
              "3         1       1    1  35.0      1      0  53.1000\n",
              "4         0       3    0  35.0      0      0   8.0500"
            ],
            "text/html": [
              "\n",
              "  <div id=\"df-cc13d8b9-25d1-4cdf-a97d-199bfe496c8a\">\n",
              "    <div class=\"colab-df-container\">\n",
              "      <div>\n",
              "<style scoped>\n",
              "    .dataframe tbody tr th:only-of-type {\n",
              "        vertical-align: middle;\n",
              "    }\n",
              "\n",
              "    .dataframe tbody tr th {\n",
              "        vertical-align: top;\n",
              "    }\n",
              "\n",
              "    .dataframe thead th {\n",
              "        text-align: right;\n",
              "    }\n",
              "</style>\n",
              "<table border=\"1\" class=\"dataframe\">\n",
              "  <thead>\n",
              "    <tr style=\"text-align: right;\">\n",
              "      <th></th>\n",
              "      <th>Survived</th>\n",
              "      <th>Pclass</th>\n",
              "      <th>Sex</th>\n",
              "      <th>Age</th>\n",
              "      <th>SibSp</th>\n",
              "      <th>Parch</th>\n",
              "      <th>Fare</th>\n",
              "    </tr>\n",
              "  </thead>\n",
              "  <tbody>\n",
              "    <tr>\n",
              "      <th>0</th>\n",
              "      <td>0</td>\n",
              "      <td>3</td>\n",
              "      <td>0</td>\n",
              "      <td>22.0</td>\n",
              "      <td>1</td>\n",
              "      <td>0</td>\n",
              "      <td>7.2500</td>\n",
              "    </tr>\n",
              "    <tr>\n",
              "      <th>1</th>\n",
              "      <td>1</td>\n",
              "      <td>1</td>\n",
              "      <td>1</td>\n",
              "      <td>38.0</td>\n",
              "      <td>1</td>\n",
              "      <td>0</td>\n",
              "      <td>71.2833</td>\n",
              "    </tr>\n",
              "    <tr>\n",
              "      <th>2</th>\n",
              "      <td>1</td>\n",
              "      <td>3</td>\n",
              "      <td>1</td>\n",
              "      <td>26.0</td>\n",
              "      <td>0</td>\n",
              "      <td>0</td>\n",
              "      <td>7.9250</td>\n",
              "    </tr>\n",
              "    <tr>\n",
              "      <th>3</th>\n",
              "      <td>1</td>\n",
              "      <td>1</td>\n",
              "      <td>1</td>\n",
              "      <td>35.0</td>\n",
              "      <td>1</td>\n",
              "      <td>0</td>\n",
              "      <td>53.1000</td>\n",
              "    </tr>\n",
              "    <tr>\n",
              "      <th>4</th>\n",
              "      <td>0</td>\n",
              "      <td>3</td>\n",
              "      <td>0</td>\n",
              "      <td>35.0</td>\n",
              "      <td>0</td>\n",
              "      <td>0</td>\n",
              "      <td>8.0500</td>\n",
              "    </tr>\n",
              "  </tbody>\n",
              "</table>\n",
              "</div>\n",
              "      <button class=\"colab-df-convert\" onclick=\"convertToInteractive('df-cc13d8b9-25d1-4cdf-a97d-199bfe496c8a')\"\n",
              "              title=\"Convert this dataframe to an interactive table.\"\n",
              "              style=\"display:none;\">\n",
              "        \n",
              "  <svg xmlns=\"http://www.w3.org/2000/svg\" height=\"24px\"viewBox=\"0 0 24 24\"\n",
              "       width=\"24px\">\n",
              "    <path d=\"M0 0h24v24H0V0z\" fill=\"none\"/>\n",
              "    <path d=\"M18.56 5.44l.94 2.06.94-2.06 2.06-.94-2.06-.94-.94-2.06-.94 2.06-2.06.94zm-11 1L8.5 8.5l.94-2.06 2.06-.94-2.06-.94L8.5 2.5l-.94 2.06-2.06.94zm10 10l.94 2.06.94-2.06 2.06-.94-2.06-.94-.94-2.06-.94 2.06-2.06.94z\"/><path d=\"M17.41 7.96l-1.37-1.37c-.4-.4-.92-.59-1.43-.59-.52 0-1.04.2-1.43.59L10.3 9.45l-7.72 7.72c-.78.78-.78 2.05 0 2.83L4 21.41c.39.39.9.59 1.41.59.51 0 1.02-.2 1.41-.59l7.78-7.78 2.81-2.81c.8-.78.8-2.07 0-2.86zM5.41 20L4 18.59l7.72-7.72 1.47 1.35L5.41 20z\"/>\n",
              "  </svg>\n",
              "      </button>\n",
              "      \n",
              "  <style>\n",
              "    .colab-df-container {\n",
              "      display:flex;\n",
              "      flex-wrap:wrap;\n",
              "      gap: 12px;\n",
              "    }\n",
              "\n",
              "    .colab-df-convert {\n",
              "      background-color: #E8F0FE;\n",
              "      border: none;\n",
              "      border-radius: 50%;\n",
              "      cursor: pointer;\n",
              "      display: none;\n",
              "      fill: #1967D2;\n",
              "      height: 32px;\n",
              "      padding: 0 0 0 0;\n",
              "      width: 32px;\n",
              "    }\n",
              "\n",
              "    .colab-df-convert:hover {\n",
              "      background-color: #E2EBFA;\n",
              "      box-shadow: 0px 1px 2px rgba(60, 64, 67, 0.3), 0px 1px 3px 1px rgba(60, 64, 67, 0.15);\n",
              "      fill: #174EA6;\n",
              "    }\n",
              "\n",
              "    [theme=dark] .colab-df-convert {\n",
              "      background-color: #3B4455;\n",
              "      fill: #D2E3FC;\n",
              "    }\n",
              "\n",
              "    [theme=dark] .colab-df-convert:hover {\n",
              "      background-color: #434B5C;\n",
              "      box-shadow: 0px 1px 3px 1px rgba(0, 0, 0, 0.15);\n",
              "      filter: drop-shadow(0px 1px 2px rgba(0, 0, 0, 0.3));\n",
              "      fill: #FFFFFF;\n",
              "    }\n",
              "  </style>\n",
              "\n",
              "      <script>\n",
              "        const buttonEl =\n",
              "          document.querySelector('#df-cc13d8b9-25d1-4cdf-a97d-199bfe496c8a button.colab-df-convert');\n",
              "        buttonEl.style.display =\n",
              "          google.colab.kernel.accessAllowed ? 'block' : 'none';\n",
              "\n",
              "        async function convertToInteractive(key) {\n",
              "          const element = document.querySelector('#df-cc13d8b9-25d1-4cdf-a97d-199bfe496c8a');\n",
              "          const dataTable =\n",
              "            await google.colab.kernel.invokeFunction('convertToInteractive',\n",
              "                                                     [key], {});\n",
              "          if (!dataTable) return;\n",
              "\n",
              "          const docLinkHtml = 'Like what you see? Visit the ' +\n",
              "            '<a target=\"_blank\" href=https://colab.research.google.com/notebooks/data_table.ipynb>data table notebook</a>'\n",
              "            + ' to learn more about interactive tables.';\n",
              "          element.innerHTML = '';\n",
              "          dataTable['output_type'] = 'display_data';\n",
              "          await google.colab.output.renderOutput(dataTable, element);\n",
              "          const docLink = document.createElement('div');\n",
              "          docLink.innerHTML = docLinkHtml;\n",
              "          element.appendChild(docLink);\n",
              "        }\n",
              "      </script>\n",
              "    </div>\n",
              "  </div>\n",
              "  "
            ]
          },
          "metadata": {},
          "execution_count": 10
        }
      ]
    },
    {
      "cell_type": "code",
      "source": [
        "#Flag DataSet\n",
        "columnas= ['name','landmass', 'zone', 'area','population','language','religion','bars','stripes','colours','red','green','blue','gold','white','black','orange','mainhue','circles','crosses','saltires','quarters','sunstars','crescent','triangle','icon','animate','text','topleft','botright']\n",
        "flag_features=['landmass', 'zone', 'area','population','language','religion','bars','stripes','colours','red','green','blue','gold','white','black','orange','mainhue','circles','crosses','saltires','quarters','sunstars','crescent','triangle','icon','animate','text','topleft','botright']\n",
        "flag=readDataset('https://raw.githubusercontent.com/victoriapl01/Mineria_De_Datos/main/Datasets/flag.data',columnas)\n",
        "flag_X = flag[flag_features]\n",
        "flag_y = flag['name']\n",
        "flag.head()"
      ],
      "metadata": {
        "colab": {
          "base_uri": "https://localhost:8080/",
          "height": 317
        },
        "id": "UYLX0KuqSxjQ",
        "outputId": "3a495ebc-f426-4b4f-d4df-9d26178d7a9a"
      },
      "execution_count": null,
      "outputs": [
        {
          "output_type": "execute_result",
          "data": {
            "text/plain": [
              "             name  landmass  zone  area  population  language  religion  bars  \\\n",
              "0     Afghanistan         5     1   648          16        10         2     0   \n",
              "1         Albania         3     1    29           3         6         6     0   \n",
              "2         Algeria         4     1  2388          20         8         2     2   \n",
              "3  American-Samoa         6     3     0           0         1         1     0   \n",
              "4         Andorra         3     1     0           0         6         0     3   \n",
              "\n",
              "   stripes  colours  ...  saltires  quarters  sunstars  crescent  triangle  \\\n",
              "0        3        5  ...         0         0         1         0         0   \n",
              "1        0        3  ...         0         0         1         0         0   \n",
              "2        0        3  ...         0         0         1         1         0   \n",
              "3        0        5  ...         0         0         0         0         1   \n",
              "4        0        3  ...         0         0         0         0         0   \n",
              "\n",
              "   icon  animate text  topleft  botright  \n",
              "0     1        0    0    black     green  \n",
              "1     0        1    0      red       red  \n",
              "2     0        0    0    green     white  \n",
              "3     1        1    0     blue       red  \n",
              "4     0        0    0     blue       red  \n",
              "\n",
              "[5 rows x 30 columns]"
            ],
            "text/html": [
              "\n",
              "  <div id=\"df-a56b4552-72fe-4250-b96e-6e5fe9bbeb5d\">\n",
              "    <div class=\"colab-df-container\">\n",
              "      <div>\n",
              "<style scoped>\n",
              "    .dataframe tbody tr th:only-of-type {\n",
              "        vertical-align: middle;\n",
              "    }\n",
              "\n",
              "    .dataframe tbody tr th {\n",
              "        vertical-align: top;\n",
              "    }\n",
              "\n",
              "    .dataframe thead th {\n",
              "        text-align: right;\n",
              "    }\n",
              "</style>\n",
              "<table border=\"1\" class=\"dataframe\">\n",
              "  <thead>\n",
              "    <tr style=\"text-align: right;\">\n",
              "      <th></th>\n",
              "      <th>name</th>\n",
              "      <th>landmass</th>\n",
              "      <th>zone</th>\n",
              "      <th>area</th>\n",
              "      <th>population</th>\n",
              "      <th>language</th>\n",
              "      <th>religion</th>\n",
              "      <th>bars</th>\n",
              "      <th>stripes</th>\n",
              "      <th>colours</th>\n",
              "      <th>...</th>\n",
              "      <th>saltires</th>\n",
              "      <th>quarters</th>\n",
              "      <th>sunstars</th>\n",
              "      <th>crescent</th>\n",
              "      <th>triangle</th>\n",
              "      <th>icon</th>\n",
              "      <th>animate</th>\n",
              "      <th>text</th>\n",
              "      <th>topleft</th>\n",
              "      <th>botright</th>\n",
              "    </tr>\n",
              "  </thead>\n",
              "  <tbody>\n",
              "    <tr>\n",
              "      <th>0</th>\n",
              "      <td>Afghanistan</td>\n",
              "      <td>5</td>\n",
              "      <td>1</td>\n",
              "      <td>648</td>\n",
              "      <td>16</td>\n",
              "      <td>10</td>\n",
              "      <td>2</td>\n",
              "      <td>0</td>\n",
              "      <td>3</td>\n",
              "      <td>5</td>\n",
              "      <td>...</td>\n",
              "      <td>0</td>\n",
              "      <td>0</td>\n",
              "      <td>1</td>\n",
              "      <td>0</td>\n",
              "      <td>0</td>\n",
              "      <td>1</td>\n",
              "      <td>0</td>\n",
              "      <td>0</td>\n",
              "      <td>black</td>\n",
              "      <td>green</td>\n",
              "    </tr>\n",
              "    <tr>\n",
              "      <th>1</th>\n",
              "      <td>Albania</td>\n",
              "      <td>3</td>\n",
              "      <td>1</td>\n",
              "      <td>29</td>\n",
              "      <td>3</td>\n",
              "      <td>6</td>\n",
              "      <td>6</td>\n",
              "      <td>0</td>\n",
              "      <td>0</td>\n",
              "      <td>3</td>\n",
              "      <td>...</td>\n",
              "      <td>0</td>\n",
              "      <td>0</td>\n",
              "      <td>1</td>\n",
              "      <td>0</td>\n",
              "      <td>0</td>\n",
              "      <td>0</td>\n",
              "      <td>1</td>\n",
              "      <td>0</td>\n",
              "      <td>red</td>\n",
              "      <td>red</td>\n",
              "    </tr>\n",
              "    <tr>\n",
              "      <th>2</th>\n",
              "      <td>Algeria</td>\n",
              "      <td>4</td>\n",
              "      <td>1</td>\n",
              "      <td>2388</td>\n",
              "      <td>20</td>\n",
              "      <td>8</td>\n",
              "      <td>2</td>\n",
              "      <td>2</td>\n",
              "      <td>0</td>\n",
              "      <td>3</td>\n",
              "      <td>...</td>\n",
              "      <td>0</td>\n",
              "      <td>0</td>\n",
              "      <td>1</td>\n",
              "      <td>1</td>\n",
              "      <td>0</td>\n",
              "      <td>0</td>\n",
              "      <td>0</td>\n",
              "      <td>0</td>\n",
              "      <td>green</td>\n",
              "      <td>white</td>\n",
              "    </tr>\n",
              "    <tr>\n",
              "      <th>3</th>\n",
              "      <td>American-Samoa</td>\n",
              "      <td>6</td>\n",
              "      <td>3</td>\n",
              "      <td>0</td>\n",
              "      <td>0</td>\n",
              "      <td>1</td>\n",
              "      <td>1</td>\n",
              "      <td>0</td>\n",
              "      <td>0</td>\n",
              "      <td>5</td>\n",
              "      <td>...</td>\n",
              "      <td>0</td>\n",
              "      <td>0</td>\n",
              "      <td>0</td>\n",
              "      <td>0</td>\n",
              "      <td>1</td>\n",
              "      <td>1</td>\n",
              "      <td>1</td>\n",
              "      <td>0</td>\n",
              "      <td>blue</td>\n",
              "      <td>red</td>\n",
              "    </tr>\n",
              "    <tr>\n",
              "      <th>4</th>\n",
              "      <td>Andorra</td>\n",
              "      <td>3</td>\n",
              "      <td>1</td>\n",
              "      <td>0</td>\n",
              "      <td>0</td>\n",
              "      <td>6</td>\n",
              "      <td>0</td>\n",
              "      <td>3</td>\n",
              "      <td>0</td>\n",
              "      <td>3</td>\n",
              "      <td>...</td>\n",
              "      <td>0</td>\n",
              "      <td>0</td>\n",
              "      <td>0</td>\n",
              "      <td>0</td>\n",
              "      <td>0</td>\n",
              "      <td>0</td>\n",
              "      <td>0</td>\n",
              "      <td>0</td>\n",
              "      <td>blue</td>\n",
              "      <td>red</td>\n",
              "    </tr>\n",
              "  </tbody>\n",
              "</table>\n",
              "<p>5 rows × 30 columns</p>\n",
              "</div>\n",
              "      <button class=\"colab-df-convert\" onclick=\"convertToInteractive('df-a56b4552-72fe-4250-b96e-6e5fe9bbeb5d')\"\n",
              "              title=\"Convert this dataframe to an interactive table.\"\n",
              "              style=\"display:none;\">\n",
              "        \n",
              "  <svg xmlns=\"http://www.w3.org/2000/svg\" height=\"24px\"viewBox=\"0 0 24 24\"\n",
              "       width=\"24px\">\n",
              "    <path d=\"M0 0h24v24H0V0z\" fill=\"none\"/>\n",
              "    <path d=\"M18.56 5.44l.94 2.06.94-2.06 2.06-.94-2.06-.94-.94-2.06-.94 2.06-2.06.94zm-11 1L8.5 8.5l.94-2.06 2.06-.94-2.06-.94L8.5 2.5l-.94 2.06-2.06.94zm10 10l.94 2.06.94-2.06 2.06-.94-2.06-.94-.94-2.06-.94 2.06-2.06.94z\"/><path d=\"M17.41 7.96l-1.37-1.37c-.4-.4-.92-.59-1.43-.59-.52 0-1.04.2-1.43.59L10.3 9.45l-7.72 7.72c-.78.78-.78 2.05 0 2.83L4 21.41c.39.39.9.59 1.41.59.51 0 1.02-.2 1.41-.59l7.78-7.78 2.81-2.81c.8-.78.8-2.07 0-2.86zM5.41 20L4 18.59l7.72-7.72 1.47 1.35L5.41 20z\"/>\n",
              "  </svg>\n",
              "      </button>\n",
              "      \n",
              "  <style>\n",
              "    .colab-df-container {\n",
              "      display:flex;\n",
              "      flex-wrap:wrap;\n",
              "      gap: 12px;\n",
              "    }\n",
              "\n",
              "    .colab-df-convert {\n",
              "      background-color: #E8F0FE;\n",
              "      border: none;\n",
              "      border-radius: 50%;\n",
              "      cursor: pointer;\n",
              "      display: none;\n",
              "      fill: #1967D2;\n",
              "      height: 32px;\n",
              "      padding: 0 0 0 0;\n",
              "      width: 32px;\n",
              "    }\n",
              "\n",
              "    .colab-df-convert:hover {\n",
              "      background-color: #E2EBFA;\n",
              "      box-shadow: 0px 1px 2px rgba(60, 64, 67, 0.3), 0px 1px 3px 1px rgba(60, 64, 67, 0.15);\n",
              "      fill: #174EA6;\n",
              "    }\n",
              "\n",
              "    [theme=dark] .colab-df-convert {\n",
              "      background-color: #3B4455;\n",
              "      fill: #D2E3FC;\n",
              "    }\n",
              "\n",
              "    [theme=dark] .colab-df-convert:hover {\n",
              "      background-color: #434B5C;\n",
              "      box-shadow: 0px 1px 3px 1px rgba(0, 0, 0, 0.15);\n",
              "      filter: drop-shadow(0px 1px 2px rgba(0, 0, 0, 0.3));\n",
              "      fill: #FFFFFF;\n",
              "    }\n",
              "  </style>\n",
              "\n",
              "      <script>\n",
              "        const buttonEl =\n",
              "          document.querySelector('#df-a56b4552-72fe-4250-b96e-6e5fe9bbeb5d button.colab-df-convert');\n",
              "        buttonEl.style.display =\n",
              "          google.colab.kernel.accessAllowed ? 'block' : 'none';\n",
              "\n",
              "        async function convertToInteractive(key) {\n",
              "          const element = document.querySelector('#df-a56b4552-72fe-4250-b96e-6e5fe9bbeb5d');\n",
              "          const dataTable =\n",
              "            await google.colab.kernel.invokeFunction('convertToInteractive',\n",
              "                                                     [key], {});\n",
              "          if (!dataTable) return;\n",
              "\n",
              "          const docLinkHtml = 'Like what you see? Visit the ' +\n",
              "            '<a target=\"_blank\" href=https://colab.research.google.com/notebooks/data_table.ipynb>data table notebook</a>'\n",
              "            + ' to learn more about interactive tables.';\n",
              "          element.innerHTML = '';\n",
              "          dataTable['output_type'] = 'display_data';\n",
              "          await google.colab.output.renderOutput(dataTable, element);\n",
              "          const docLink = document.createElement('div');\n",
              "          docLink.innerHTML = docLinkHtml;\n",
              "          element.appendChild(docLink);\n",
              "        }\n",
              "      </script>\n",
              "    </div>\n",
              "  </div>\n",
              "  "
            ]
          },
          "metadata": {},
          "execution_count": 11
        }
      ]
    },
    {
      "cell_type": "code",
      "source": [
        "#Vote Data set\n",
        "columnas = ['handicapped-infants','water cost sharing', 'adoption the budget resolution', 'physician fee freezen', 'god aid','religous groups','anti satellite test','aid to nicaraguan contras','mx-misil','inmigration','recortes','gasto de educacion','demandas','crimen','exportacion libre impuestos','adminitracion sur africa', 'class']\n",
        "vote_features = ['handicapped-infants','water cost sharing', 'adoption the budget resolution', 'physician fee freezen', 'god aid','religous groups','anti satellite test','aid to nicaraguan contras','mx-misil','inmigration','recortes','gasto de educacion','demandas','crimen','exportacion libre impuestos','adminitracion sur africa']\n",
        "vote = readDataset('https://raw.githubusercontent.com/victoriapl01/Mineria_De_Datos/main/Datasets/vote.data',columnas)\n",
        "vote = vote.replace({'y':0, 'n':1, '?':2})\n",
        "vote_X = vote[vote_features]\n",
        "vote_y = vote['class']\n",
        "vote.head()"
      ],
      "metadata": {
        "colab": {
          "base_uri": "https://localhost:8080/",
          "height": 305
        },
        "id": "Y_iBrzHiTSp5",
        "outputId": "707429a7-2343-4c48-c61e-201a32907afb"
      },
      "execution_count": null,
      "outputs": [
        {
          "output_type": "execute_result",
          "data": {
            "text/plain": [
              "   handicapped-infants  water cost sharing  adoption the budget resolution  \\\n",
              "0                    1                   0                               1   \n",
              "1                    1                   0                               1   \n",
              "2                    2                   0                               0   \n",
              "3                    1                   0                               0   \n",
              "4                    0                   0                               0   \n",
              "\n",
              "   physician fee freezen  god aid  religous groups  anti satellite test  \\\n",
              "0                      0        0                0                    1   \n",
              "1                      0        0                0                    1   \n",
              "2                      2        0                0                    1   \n",
              "3                      1        2                0                    1   \n",
              "4                      1        0                0                    1   \n",
              "\n",
              "   aid to nicaraguan contras  mx-misil  inmigration  recortes  \\\n",
              "0                          1         1            0         2   \n",
              "1                          1         1            1         1   \n",
              "2                          1         1            1         0   \n",
              "3                          1         1            1         0   \n",
              "4                          1         1            1         0   \n",
              "\n",
              "   gasto de educacion  demandas  crimen  exportacion libre impuestos  \\\n",
              "0                   0         0       0                            1   \n",
              "1                   0         0       0                            1   \n",
              "2                   1         0       0                            1   \n",
              "3                   1         0       1                            1   \n",
              "4                   2         0       0                            0   \n",
              "\n",
              "   adminitracion sur africa       class  \n",
              "0                         0  republican  \n",
              "1                         2  republican  \n",
              "2                         1    democrat  \n",
              "3                         0    democrat  \n",
              "4                         0    democrat  "
            ],
            "text/html": [
              "\n",
              "  <div id=\"df-e0610d92-6069-4659-9496-579d3dba98e4\">\n",
              "    <div class=\"colab-df-container\">\n",
              "      <div>\n",
              "<style scoped>\n",
              "    .dataframe tbody tr th:only-of-type {\n",
              "        vertical-align: middle;\n",
              "    }\n",
              "\n",
              "    .dataframe tbody tr th {\n",
              "        vertical-align: top;\n",
              "    }\n",
              "\n",
              "    .dataframe thead th {\n",
              "        text-align: right;\n",
              "    }\n",
              "</style>\n",
              "<table border=\"1\" class=\"dataframe\">\n",
              "  <thead>\n",
              "    <tr style=\"text-align: right;\">\n",
              "      <th></th>\n",
              "      <th>handicapped-infants</th>\n",
              "      <th>water cost sharing</th>\n",
              "      <th>adoption the budget resolution</th>\n",
              "      <th>physician fee freezen</th>\n",
              "      <th>god aid</th>\n",
              "      <th>religous groups</th>\n",
              "      <th>anti satellite test</th>\n",
              "      <th>aid to nicaraguan contras</th>\n",
              "      <th>mx-misil</th>\n",
              "      <th>inmigration</th>\n",
              "      <th>recortes</th>\n",
              "      <th>gasto de educacion</th>\n",
              "      <th>demandas</th>\n",
              "      <th>crimen</th>\n",
              "      <th>exportacion libre impuestos</th>\n",
              "      <th>adminitracion sur africa</th>\n",
              "      <th>class</th>\n",
              "    </tr>\n",
              "  </thead>\n",
              "  <tbody>\n",
              "    <tr>\n",
              "      <th>0</th>\n",
              "      <td>1</td>\n",
              "      <td>0</td>\n",
              "      <td>1</td>\n",
              "      <td>0</td>\n",
              "      <td>0</td>\n",
              "      <td>0</td>\n",
              "      <td>1</td>\n",
              "      <td>1</td>\n",
              "      <td>1</td>\n",
              "      <td>0</td>\n",
              "      <td>2</td>\n",
              "      <td>0</td>\n",
              "      <td>0</td>\n",
              "      <td>0</td>\n",
              "      <td>1</td>\n",
              "      <td>0</td>\n",
              "      <td>republican</td>\n",
              "    </tr>\n",
              "    <tr>\n",
              "      <th>1</th>\n",
              "      <td>1</td>\n",
              "      <td>0</td>\n",
              "      <td>1</td>\n",
              "      <td>0</td>\n",
              "      <td>0</td>\n",
              "      <td>0</td>\n",
              "      <td>1</td>\n",
              "      <td>1</td>\n",
              "      <td>1</td>\n",
              "      <td>1</td>\n",
              "      <td>1</td>\n",
              "      <td>0</td>\n",
              "      <td>0</td>\n",
              "      <td>0</td>\n",
              "      <td>1</td>\n",
              "      <td>2</td>\n",
              "      <td>republican</td>\n",
              "    </tr>\n",
              "    <tr>\n",
              "      <th>2</th>\n",
              "      <td>2</td>\n",
              "      <td>0</td>\n",
              "      <td>0</td>\n",
              "      <td>2</td>\n",
              "      <td>0</td>\n",
              "      <td>0</td>\n",
              "      <td>1</td>\n",
              "      <td>1</td>\n",
              "      <td>1</td>\n",
              "      <td>1</td>\n",
              "      <td>0</td>\n",
              "      <td>1</td>\n",
              "      <td>0</td>\n",
              "      <td>0</td>\n",
              "      <td>1</td>\n",
              "      <td>1</td>\n",
              "      <td>democrat</td>\n",
              "    </tr>\n",
              "    <tr>\n",
              "      <th>3</th>\n",
              "      <td>1</td>\n",
              "      <td>0</td>\n",
              "      <td>0</td>\n",
              "      <td>1</td>\n",
              "      <td>2</td>\n",
              "      <td>0</td>\n",
              "      <td>1</td>\n",
              "      <td>1</td>\n",
              "      <td>1</td>\n",
              "      <td>1</td>\n",
              "      <td>0</td>\n",
              "      <td>1</td>\n",
              "      <td>0</td>\n",
              "      <td>1</td>\n",
              "      <td>1</td>\n",
              "      <td>0</td>\n",
              "      <td>democrat</td>\n",
              "    </tr>\n",
              "    <tr>\n",
              "      <th>4</th>\n",
              "      <td>0</td>\n",
              "      <td>0</td>\n",
              "      <td>0</td>\n",
              "      <td>1</td>\n",
              "      <td>0</td>\n",
              "      <td>0</td>\n",
              "      <td>1</td>\n",
              "      <td>1</td>\n",
              "      <td>1</td>\n",
              "      <td>1</td>\n",
              "      <td>0</td>\n",
              "      <td>2</td>\n",
              "      <td>0</td>\n",
              "      <td>0</td>\n",
              "      <td>0</td>\n",
              "      <td>0</td>\n",
              "      <td>democrat</td>\n",
              "    </tr>\n",
              "  </tbody>\n",
              "</table>\n",
              "</div>\n",
              "      <button class=\"colab-df-convert\" onclick=\"convertToInteractive('df-e0610d92-6069-4659-9496-579d3dba98e4')\"\n",
              "              title=\"Convert this dataframe to an interactive table.\"\n",
              "              style=\"display:none;\">\n",
              "        \n",
              "  <svg xmlns=\"http://www.w3.org/2000/svg\" height=\"24px\"viewBox=\"0 0 24 24\"\n",
              "       width=\"24px\">\n",
              "    <path d=\"M0 0h24v24H0V0z\" fill=\"none\"/>\n",
              "    <path d=\"M18.56 5.44l.94 2.06.94-2.06 2.06-.94-2.06-.94-.94-2.06-.94 2.06-2.06.94zm-11 1L8.5 8.5l.94-2.06 2.06-.94-2.06-.94L8.5 2.5l-.94 2.06-2.06.94zm10 10l.94 2.06.94-2.06 2.06-.94-2.06-.94-.94-2.06-.94 2.06-2.06.94z\"/><path d=\"M17.41 7.96l-1.37-1.37c-.4-.4-.92-.59-1.43-.59-.52 0-1.04.2-1.43.59L10.3 9.45l-7.72 7.72c-.78.78-.78 2.05 0 2.83L4 21.41c.39.39.9.59 1.41.59.51 0 1.02-.2 1.41-.59l7.78-7.78 2.81-2.81c.8-.78.8-2.07 0-2.86zM5.41 20L4 18.59l7.72-7.72 1.47 1.35L5.41 20z\"/>\n",
              "  </svg>\n",
              "      </button>\n",
              "      \n",
              "  <style>\n",
              "    .colab-df-container {\n",
              "      display:flex;\n",
              "      flex-wrap:wrap;\n",
              "      gap: 12px;\n",
              "    }\n",
              "\n",
              "    .colab-df-convert {\n",
              "      background-color: #E8F0FE;\n",
              "      border: none;\n",
              "      border-radius: 50%;\n",
              "      cursor: pointer;\n",
              "      display: none;\n",
              "      fill: #1967D2;\n",
              "      height: 32px;\n",
              "      padding: 0 0 0 0;\n",
              "      width: 32px;\n",
              "    }\n",
              "\n",
              "    .colab-df-convert:hover {\n",
              "      background-color: #E2EBFA;\n",
              "      box-shadow: 0px 1px 2px rgba(60, 64, 67, 0.3), 0px 1px 3px 1px rgba(60, 64, 67, 0.15);\n",
              "      fill: #174EA6;\n",
              "    }\n",
              "\n",
              "    [theme=dark] .colab-df-convert {\n",
              "      background-color: #3B4455;\n",
              "      fill: #D2E3FC;\n",
              "    }\n",
              "\n",
              "    [theme=dark] .colab-df-convert:hover {\n",
              "      background-color: #434B5C;\n",
              "      box-shadow: 0px 1px 3px 1px rgba(0, 0, 0, 0.15);\n",
              "      filter: drop-shadow(0px 1px 2px rgba(0, 0, 0, 0.3));\n",
              "      fill: #FFFFFF;\n",
              "    }\n",
              "  </style>\n",
              "\n",
              "      <script>\n",
              "        const buttonEl =\n",
              "          document.querySelector('#df-e0610d92-6069-4659-9496-579d3dba98e4 button.colab-df-convert');\n",
              "        buttonEl.style.display =\n",
              "          google.colab.kernel.accessAllowed ? 'block' : 'none';\n",
              "\n",
              "        async function convertToInteractive(key) {\n",
              "          const element = document.querySelector('#df-e0610d92-6069-4659-9496-579d3dba98e4');\n",
              "          const dataTable =\n",
              "            await google.colab.kernel.invokeFunction('convertToInteractive',\n",
              "                                                     [key], {});\n",
              "          if (!dataTable) return;\n",
              "\n",
              "          const docLinkHtml = 'Like what you see? Visit the ' +\n",
              "            '<a target=\"_blank\" href=https://colab.research.google.com/notebooks/data_table.ipynb>data table notebook</a>'\n",
              "            + ' to learn more about interactive tables.';\n",
              "          element.innerHTML = '';\n",
              "          dataTable['output_type'] = 'display_data';\n",
              "          await google.colab.output.renderOutput(dataTable, element);\n",
              "          const docLink = document.createElement('div');\n",
              "          docLink.innerHTML = docLinkHtml;\n",
              "          element.appendChild(docLink);\n",
              "        }\n",
              "      </script>\n",
              "    </div>\n",
              "  </div>\n",
              "  "
            ]
          },
          "metadata": {},
          "execution_count": 12
        }
      ]
    },
    {
      "cell_type": "code",
      "source": [
        "#Segment_challeng\n",
        "columnas = ['region-centroid-col','region-centroid-row','region-pixel-count','short-line-density-5','short-line-density-2','vedge-mean','vegde-sd','hedge-mean','hedge-sd','intensity-mean','rawred-mean','rawblue-mean','rawgreen-mean','exred-mean','exblue-mean','exgreen-mean','value-mean','saturation-mean','hue-mean','class']\n",
        "segment_features = ['region-centroid-col','region-centroid-row','region-pixel-count','short-line-density-5','short-line-density-2','vedge-mean','vegde-sd','hedge-mean','hedge-sd','intensity-mean','rawred-mean','rawblue-mean','rawgreen-mean','exred-mean','exblue-mean','exgreen-mean','value-mean','saturation-mean','hue-mean']\n",
        "segment = readDataset('https://raw.githubusercontent.com/victoriapl01/Mineria_De_Datos/main/Datasets/segment_challeng.data',columnas)\n",
        "segment_X = segment[segment_features]\n",
        "segment_y = segment['class']\n",
        "segment.head()"
      ],
      "metadata": {
        "colab": {
          "base_uri": "https://localhost:8080/",
          "height": 322
        },
        "id": "YsSHl7QmU4bV",
        "outputId": "a4d2de83-6fcb-4dfa-91e6-ce6101db9275"
      },
      "execution_count": null,
      "outputs": [
        {
          "output_type": "execute_result",
          "data": {
            "text/plain": [
              "   region-centroid-col  region-centroid-row  region-pixel-count  \\\n",
              "0                  144                   35                   9   \n",
              "1                  118                  180                   9   \n",
              "2                    6                  174                   9   \n",
              "3                  152                  220                   9   \n",
              "4                  189                  142                   9   \n",
              "\n",
              "   short-line-density-5  short-line-density-2  vedge-mean  vegde-sd  \\\n",
              "0                   0.0                   0.0    2.333330  2.033060   \n",
              "1                   0.0                   0.0    1.944440  1.481990   \n",
              "2                   0.0                   0.0    1.888890  1.007410   \n",
              "3                   0.0                   0.0    0.944445  0.685185   \n",
              "4                   0.0                   0.0    0.000000  0.000000   \n",
              "\n",
              "   hedge-mean  hedge-sd  intensity-mean  rawred-mean  rawblue-mean  \\\n",
              "0     2.05556   1.73098         37.5926      32.3333       47.4444   \n",
              "1     3.11111   1.08866         48.5556      44.1111       59.0000   \n",
              "2     2.88889   4.02963         19.0741      15.1111       17.7778   \n",
              "3     1.44444   2.16296         14.6296      11.5556       13.1111   \n",
              "4     0.00000   0.00000          0.0000       0.0000        0.0000   \n",
              "\n",
              "   rawgreen-mean  exred-mean  exblue-mean  exgreen-mean  value-mean  \\\n",
              "0        33.0000   -15.77780     29.55560      -13.7778     47.4444   \n",
              "1        42.5556   -13.33330     31.33330      -18.0000     59.0000   \n",
              "2        24.3333   -11.88890     -3.88889       15.7778     24.3333   \n",
              "3        19.2222    -9.22222     -4.55556       13.7778     19.2222   \n",
              "4         0.0000     0.00000      0.00000        0.0000      0.0000   \n",
              "\n",
              "   saturation-mean  hue-mean   class  \n",
              "0         0.319714  -2.13876  cement  \n",
              "1         0.278822  -1.99604    path  \n",
              "2         0.381867   2.39502   grass  \n",
              "3         0.416705   2.30688   grass  \n",
              "4         0.000000   0.00000  window  "
            ],
            "text/html": [
              "\n",
              "  <div id=\"df-57cb07c8-0298-47b6-8287-df4774f6ac46\">\n",
              "    <div class=\"colab-df-container\">\n",
              "      <div>\n",
              "<style scoped>\n",
              "    .dataframe tbody tr th:only-of-type {\n",
              "        vertical-align: middle;\n",
              "    }\n",
              "\n",
              "    .dataframe tbody tr th {\n",
              "        vertical-align: top;\n",
              "    }\n",
              "\n",
              "    .dataframe thead th {\n",
              "        text-align: right;\n",
              "    }\n",
              "</style>\n",
              "<table border=\"1\" class=\"dataframe\">\n",
              "  <thead>\n",
              "    <tr style=\"text-align: right;\">\n",
              "      <th></th>\n",
              "      <th>region-centroid-col</th>\n",
              "      <th>region-centroid-row</th>\n",
              "      <th>region-pixel-count</th>\n",
              "      <th>short-line-density-5</th>\n",
              "      <th>short-line-density-2</th>\n",
              "      <th>vedge-mean</th>\n",
              "      <th>vegde-sd</th>\n",
              "      <th>hedge-mean</th>\n",
              "      <th>hedge-sd</th>\n",
              "      <th>intensity-mean</th>\n",
              "      <th>rawred-mean</th>\n",
              "      <th>rawblue-mean</th>\n",
              "      <th>rawgreen-mean</th>\n",
              "      <th>exred-mean</th>\n",
              "      <th>exblue-mean</th>\n",
              "      <th>exgreen-mean</th>\n",
              "      <th>value-mean</th>\n",
              "      <th>saturation-mean</th>\n",
              "      <th>hue-mean</th>\n",
              "      <th>class</th>\n",
              "    </tr>\n",
              "  </thead>\n",
              "  <tbody>\n",
              "    <tr>\n",
              "      <th>0</th>\n",
              "      <td>144</td>\n",
              "      <td>35</td>\n",
              "      <td>9</td>\n",
              "      <td>0.0</td>\n",
              "      <td>0.0</td>\n",
              "      <td>2.333330</td>\n",
              "      <td>2.033060</td>\n",
              "      <td>2.05556</td>\n",
              "      <td>1.73098</td>\n",
              "      <td>37.5926</td>\n",
              "      <td>32.3333</td>\n",
              "      <td>47.4444</td>\n",
              "      <td>33.0000</td>\n",
              "      <td>-15.77780</td>\n",
              "      <td>29.55560</td>\n",
              "      <td>-13.7778</td>\n",
              "      <td>47.4444</td>\n",
              "      <td>0.319714</td>\n",
              "      <td>-2.13876</td>\n",
              "      <td>cement</td>\n",
              "    </tr>\n",
              "    <tr>\n",
              "      <th>1</th>\n",
              "      <td>118</td>\n",
              "      <td>180</td>\n",
              "      <td>9</td>\n",
              "      <td>0.0</td>\n",
              "      <td>0.0</td>\n",
              "      <td>1.944440</td>\n",
              "      <td>1.481990</td>\n",
              "      <td>3.11111</td>\n",
              "      <td>1.08866</td>\n",
              "      <td>48.5556</td>\n",
              "      <td>44.1111</td>\n",
              "      <td>59.0000</td>\n",
              "      <td>42.5556</td>\n",
              "      <td>-13.33330</td>\n",
              "      <td>31.33330</td>\n",
              "      <td>-18.0000</td>\n",
              "      <td>59.0000</td>\n",
              "      <td>0.278822</td>\n",
              "      <td>-1.99604</td>\n",
              "      <td>path</td>\n",
              "    </tr>\n",
              "    <tr>\n",
              "      <th>2</th>\n",
              "      <td>6</td>\n",
              "      <td>174</td>\n",
              "      <td>9</td>\n",
              "      <td>0.0</td>\n",
              "      <td>0.0</td>\n",
              "      <td>1.888890</td>\n",
              "      <td>1.007410</td>\n",
              "      <td>2.88889</td>\n",
              "      <td>4.02963</td>\n",
              "      <td>19.0741</td>\n",
              "      <td>15.1111</td>\n",
              "      <td>17.7778</td>\n",
              "      <td>24.3333</td>\n",
              "      <td>-11.88890</td>\n",
              "      <td>-3.88889</td>\n",
              "      <td>15.7778</td>\n",
              "      <td>24.3333</td>\n",
              "      <td>0.381867</td>\n",
              "      <td>2.39502</td>\n",
              "      <td>grass</td>\n",
              "    </tr>\n",
              "    <tr>\n",
              "      <th>3</th>\n",
              "      <td>152</td>\n",
              "      <td>220</td>\n",
              "      <td>9</td>\n",
              "      <td>0.0</td>\n",
              "      <td>0.0</td>\n",
              "      <td>0.944445</td>\n",
              "      <td>0.685185</td>\n",
              "      <td>1.44444</td>\n",
              "      <td>2.16296</td>\n",
              "      <td>14.6296</td>\n",
              "      <td>11.5556</td>\n",
              "      <td>13.1111</td>\n",
              "      <td>19.2222</td>\n",
              "      <td>-9.22222</td>\n",
              "      <td>-4.55556</td>\n",
              "      <td>13.7778</td>\n",
              "      <td>19.2222</td>\n",
              "      <td>0.416705</td>\n",
              "      <td>2.30688</td>\n",
              "      <td>grass</td>\n",
              "    </tr>\n",
              "    <tr>\n",
              "      <th>4</th>\n",
              "      <td>189</td>\n",
              "      <td>142</td>\n",
              "      <td>9</td>\n",
              "      <td>0.0</td>\n",
              "      <td>0.0</td>\n",
              "      <td>0.000000</td>\n",
              "      <td>0.000000</td>\n",
              "      <td>0.00000</td>\n",
              "      <td>0.00000</td>\n",
              "      <td>0.0000</td>\n",
              "      <td>0.0000</td>\n",
              "      <td>0.0000</td>\n",
              "      <td>0.0000</td>\n",
              "      <td>0.00000</td>\n",
              "      <td>0.00000</td>\n",
              "      <td>0.0000</td>\n",
              "      <td>0.0000</td>\n",
              "      <td>0.000000</td>\n",
              "      <td>0.00000</td>\n",
              "      <td>window</td>\n",
              "    </tr>\n",
              "  </tbody>\n",
              "</table>\n",
              "</div>\n",
              "      <button class=\"colab-df-convert\" onclick=\"convertToInteractive('df-57cb07c8-0298-47b6-8287-df4774f6ac46')\"\n",
              "              title=\"Convert this dataframe to an interactive table.\"\n",
              "              style=\"display:none;\">\n",
              "        \n",
              "  <svg xmlns=\"http://www.w3.org/2000/svg\" height=\"24px\"viewBox=\"0 0 24 24\"\n",
              "       width=\"24px\">\n",
              "    <path d=\"M0 0h24v24H0V0z\" fill=\"none\"/>\n",
              "    <path d=\"M18.56 5.44l.94 2.06.94-2.06 2.06-.94-2.06-.94-.94-2.06-.94 2.06-2.06.94zm-11 1L8.5 8.5l.94-2.06 2.06-.94-2.06-.94L8.5 2.5l-.94 2.06-2.06.94zm10 10l.94 2.06.94-2.06 2.06-.94-2.06-.94-.94-2.06-.94 2.06-2.06.94z\"/><path d=\"M17.41 7.96l-1.37-1.37c-.4-.4-.92-.59-1.43-.59-.52 0-1.04.2-1.43.59L10.3 9.45l-7.72 7.72c-.78.78-.78 2.05 0 2.83L4 21.41c.39.39.9.59 1.41.59.51 0 1.02-.2 1.41-.59l7.78-7.78 2.81-2.81c.8-.78.8-2.07 0-2.86zM5.41 20L4 18.59l7.72-7.72 1.47 1.35L5.41 20z\"/>\n",
              "  </svg>\n",
              "      </button>\n",
              "      \n",
              "  <style>\n",
              "    .colab-df-container {\n",
              "      display:flex;\n",
              "      flex-wrap:wrap;\n",
              "      gap: 12px;\n",
              "    }\n",
              "\n",
              "    .colab-df-convert {\n",
              "      background-color: #E8F0FE;\n",
              "      border: none;\n",
              "      border-radius: 50%;\n",
              "      cursor: pointer;\n",
              "      display: none;\n",
              "      fill: #1967D2;\n",
              "      height: 32px;\n",
              "      padding: 0 0 0 0;\n",
              "      width: 32px;\n",
              "    }\n",
              "\n",
              "    .colab-df-convert:hover {\n",
              "      background-color: #E2EBFA;\n",
              "      box-shadow: 0px 1px 2px rgba(60, 64, 67, 0.3), 0px 1px 3px 1px rgba(60, 64, 67, 0.15);\n",
              "      fill: #174EA6;\n",
              "    }\n",
              "\n",
              "    [theme=dark] .colab-df-convert {\n",
              "      background-color: #3B4455;\n",
              "      fill: #D2E3FC;\n",
              "    }\n",
              "\n",
              "    [theme=dark] .colab-df-convert:hover {\n",
              "      background-color: #434B5C;\n",
              "      box-shadow: 0px 1px 3px 1px rgba(0, 0, 0, 0.15);\n",
              "      filter: drop-shadow(0px 1px 2px rgba(0, 0, 0, 0.3));\n",
              "      fill: #FFFFFF;\n",
              "    }\n",
              "  </style>\n",
              "\n",
              "      <script>\n",
              "        const buttonEl =\n",
              "          document.querySelector('#df-57cb07c8-0298-47b6-8287-df4774f6ac46 button.colab-df-convert');\n",
              "        buttonEl.style.display =\n",
              "          google.colab.kernel.accessAllowed ? 'block' : 'none';\n",
              "\n",
              "        async function convertToInteractive(key) {\n",
              "          const element = document.querySelector('#df-57cb07c8-0298-47b6-8287-df4774f6ac46');\n",
              "          const dataTable =\n",
              "            await google.colab.kernel.invokeFunction('convertToInteractive',\n",
              "                                                     [key], {});\n",
              "          if (!dataTable) return;\n",
              "\n",
              "          const docLinkHtml = 'Like what you see? Visit the ' +\n",
              "            '<a target=\"_blank\" href=https://colab.research.google.com/notebooks/data_table.ipynb>data table notebook</a>'\n",
              "            + ' to learn more about interactive tables.';\n",
              "          element.innerHTML = '';\n",
              "          dataTable['output_type'] = 'display_data';\n",
              "          await google.colab.output.renderOutput(dataTable, element);\n",
              "          const docLink = document.createElement('div');\n",
              "          docLink.innerHTML = docLinkHtml;\n",
              "          element.appendChild(docLink);\n",
              "        }\n",
              "      </script>\n",
              "    </div>\n",
              "  </div>\n",
              "  "
            ]
          },
          "metadata": {},
          "execution_count": 13
        }
      ]
    },
    {
      "cell_type": "code",
      "source": [
        "#Zoo dataset\n",
        "columnas=['name', 'hair', 'feathers', 'eggs', 'milk', 'airborne', 'aquatic', 'predator', 'toothed', 'backbone','breathes', 'venomous', 'fins','legs', 'tail', 'domestic','catsize','type']\n",
        "zoo_features=['hair', 'feathers', 'eggs', 'milk', 'airborne', 'aquatic', 'predator', 'toothed', 'backbone','breathes', 'venomous', 'legs', 'tail', 'domestic','catsize']\n",
        "zoo=readDataset('https://raw.githubusercontent.com/victoriapl01/Mineria_De_Datos/main/Datasets/zoo.data',columnas)\n",
        "zoo_X = zoo[zoo_features]\n",
        "zoo_y = zoo['type']\n",
        "zoo.head()"
      ],
      "metadata": {
        "colab": {
          "base_uri": "https://localhost:8080/",
          "height": 270
        },
        "id": "znC_5_c-_czI",
        "outputId": "80a31cc9-89e9-453e-ab75-3995b9c984c2"
      },
      "execution_count": null,
      "outputs": [
        {
          "output_type": "execute_result",
          "data": {
            "text/plain": [
              "       name  hair  feathers  eggs  milk  airborne  aquatic  predator  toothed  \\\n",
              "0  aardvark     1         0     0     1         0        0         1        1   \n",
              "1  antelope     1         0     0     1         0        0         0        1   \n",
              "2      bass     0         0     1     0         0        1         1        1   \n",
              "3      bear     1         0     0     1         0        0         1        1   \n",
              "4      boar     1         0     0     1         0        0         1        1   \n",
              "\n",
              "   backbone  breathes  venomous  fins  legs  tail  domestic  catsize  type  \n",
              "0         1         1         0     0     4     0         0        1     1  \n",
              "1         1         1         0     0     4     1         0        1     1  \n",
              "2         1         0         0     1     0     1         0        0     4  \n",
              "3         1         1         0     0     4     0         0        1     1  \n",
              "4         1         1         0     0     4     1         0        1     1  "
            ],
            "text/html": [
              "\n",
              "  <div id=\"df-bb80d877-9108-4c01-a382-40f980a5fdec\">\n",
              "    <div class=\"colab-df-container\">\n",
              "      <div>\n",
              "<style scoped>\n",
              "    .dataframe tbody tr th:only-of-type {\n",
              "        vertical-align: middle;\n",
              "    }\n",
              "\n",
              "    .dataframe tbody tr th {\n",
              "        vertical-align: top;\n",
              "    }\n",
              "\n",
              "    .dataframe thead th {\n",
              "        text-align: right;\n",
              "    }\n",
              "</style>\n",
              "<table border=\"1\" class=\"dataframe\">\n",
              "  <thead>\n",
              "    <tr style=\"text-align: right;\">\n",
              "      <th></th>\n",
              "      <th>name</th>\n",
              "      <th>hair</th>\n",
              "      <th>feathers</th>\n",
              "      <th>eggs</th>\n",
              "      <th>milk</th>\n",
              "      <th>airborne</th>\n",
              "      <th>aquatic</th>\n",
              "      <th>predator</th>\n",
              "      <th>toothed</th>\n",
              "      <th>backbone</th>\n",
              "      <th>breathes</th>\n",
              "      <th>venomous</th>\n",
              "      <th>fins</th>\n",
              "      <th>legs</th>\n",
              "      <th>tail</th>\n",
              "      <th>domestic</th>\n",
              "      <th>catsize</th>\n",
              "      <th>type</th>\n",
              "    </tr>\n",
              "  </thead>\n",
              "  <tbody>\n",
              "    <tr>\n",
              "      <th>0</th>\n",
              "      <td>aardvark</td>\n",
              "      <td>1</td>\n",
              "      <td>0</td>\n",
              "      <td>0</td>\n",
              "      <td>1</td>\n",
              "      <td>0</td>\n",
              "      <td>0</td>\n",
              "      <td>1</td>\n",
              "      <td>1</td>\n",
              "      <td>1</td>\n",
              "      <td>1</td>\n",
              "      <td>0</td>\n",
              "      <td>0</td>\n",
              "      <td>4</td>\n",
              "      <td>0</td>\n",
              "      <td>0</td>\n",
              "      <td>1</td>\n",
              "      <td>1</td>\n",
              "    </tr>\n",
              "    <tr>\n",
              "      <th>1</th>\n",
              "      <td>antelope</td>\n",
              "      <td>1</td>\n",
              "      <td>0</td>\n",
              "      <td>0</td>\n",
              "      <td>1</td>\n",
              "      <td>0</td>\n",
              "      <td>0</td>\n",
              "      <td>0</td>\n",
              "      <td>1</td>\n",
              "      <td>1</td>\n",
              "      <td>1</td>\n",
              "      <td>0</td>\n",
              "      <td>0</td>\n",
              "      <td>4</td>\n",
              "      <td>1</td>\n",
              "      <td>0</td>\n",
              "      <td>1</td>\n",
              "      <td>1</td>\n",
              "    </tr>\n",
              "    <tr>\n",
              "      <th>2</th>\n",
              "      <td>bass</td>\n",
              "      <td>0</td>\n",
              "      <td>0</td>\n",
              "      <td>1</td>\n",
              "      <td>0</td>\n",
              "      <td>0</td>\n",
              "      <td>1</td>\n",
              "      <td>1</td>\n",
              "      <td>1</td>\n",
              "      <td>1</td>\n",
              "      <td>0</td>\n",
              "      <td>0</td>\n",
              "      <td>1</td>\n",
              "      <td>0</td>\n",
              "      <td>1</td>\n",
              "      <td>0</td>\n",
              "      <td>0</td>\n",
              "      <td>4</td>\n",
              "    </tr>\n",
              "    <tr>\n",
              "      <th>3</th>\n",
              "      <td>bear</td>\n",
              "      <td>1</td>\n",
              "      <td>0</td>\n",
              "      <td>0</td>\n",
              "      <td>1</td>\n",
              "      <td>0</td>\n",
              "      <td>0</td>\n",
              "      <td>1</td>\n",
              "      <td>1</td>\n",
              "      <td>1</td>\n",
              "      <td>1</td>\n",
              "      <td>0</td>\n",
              "      <td>0</td>\n",
              "      <td>4</td>\n",
              "      <td>0</td>\n",
              "      <td>0</td>\n",
              "      <td>1</td>\n",
              "      <td>1</td>\n",
              "    </tr>\n",
              "    <tr>\n",
              "      <th>4</th>\n",
              "      <td>boar</td>\n",
              "      <td>1</td>\n",
              "      <td>0</td>\n",
              "      <td>0</td>\n",
              "      <td>1</td>\n",
              "      <td>0</td>\n",
              "      <td>0</td>\n",
              "      <td>1</td>\n",
              "      <td>1</td>\n",
              "      <td>1</td>\n",
              "      <td>1</td>\n",
              "      <td>0</td>\n",
              "      <td>0</td>\n",
              "      <td>4</td>\n",
              "      <td>1</td>\n",
              "      <td>0</td>\n",
              "      <td>1</td>\n",
              "      <td>1</td>\n",
              "    </tr>\n",
              "  </tbody>\n",
              "</table>\n",
              "</div>\n",
              "      <button class=\"colab-df-convert\" onclick=\"convertToInteractive('df-bb80d877-9108-4c01-a382-40f980a5fdec')\"\n",
              "              title=\"Convert this dataframe to an interactive table.\"\n",
              "              style=\"display:none;\">\n",
              "        \n",
              "  <svg xmlns=\"http://www.w3.org/2000/svg\" height=\"24px\"viewBox=\"0 0 24 24\"\n",
              "       width=\"24px\">\n",
              "    <path d=\"M0 0h24v24H0V0z\" fill=\"none\"/>\n",
              "    <path d=\"M18.56 5.44l.94 2.06.94-2.06 2.06-.94-2.06-.94-.94-2.06-.94 2.06-2.06.94zm-11 1L8.5 8.5l.94-2.06 2.06-.94-2.06-.94L8.5 2.5l-.94 2.06-2.06.94zm10 10l.94 2.06.94-2.06 2.06-.94-2.06-.94-.94-2.06-.94 2.06-2.06.94z\"/><path d=\"M17.41 7.96l-1.37-1.37c-.4-.4-.92-.59-1.43-.59-.52 0-1.04.2-1.43.59L10.3 9.45l-7.72 7.72c-.78.78-.78 2.05 0 2.83L4 21.41c.39.39.9.59 1.41.59.51 0 1.02-.2 1.41-.59l7.78-7.78 2.81-2.81c.8-.78.8-2.07 0-2.86zM5.41 20L4 18.59l7.72-7.72 1.47 1.35L5.41 20z\"/>\n",
              "  </svg>\n",
              "      </button>\n",
              "      \n",
              "  <style>\n",
              "    .colab-df-container {\n",
              "      display:flex;\n",
              "      flex-wrap:wrap;\n",
              "      gap: 12px;\n",
              "    }\n",
              "\n",
              "    .colab-df-convert {\n",
              "      background-color: #E8F0FE;\n",
              "      border: none;\n",
              "      border-radius: 50%;\n",
              "      cursor: pointer;\n",
              "      display: none;\n",
              "      fill: #1967D2;\n",
              "      height: 32px;\n",
              "      padding: 0 0 0 0;\n",
              "      width: 32px;\n",
              "    }\n",
              "\n",
              "    .colab-df-convert:hover {\n",
              "      background-color: #E2EBFA;\n",
              "      box-shadow: 0px 1px 2px rgba(60, 64, 67, 0.3), 0px 1px 3px 1px rgba(60, 64, 67, 0.15);\n",
              "      fill: #174EA6;\n",
              "    }\n",
              "\n",
              "    [theme=dark] .colab-df-convert {\n",
              "      background-color: #3B4455;\n",
              "      fill: #D2E3FC;\n",
              "    }\n",
              "\n",
              "    [theme=dark] .colab-df-convert:hover {\n",
              "      background-color: #434B5C;\n",
              "      box-shadow: 0px 1px 3px 1px rgba(0, 0, 0, 0.15);\n",
              "      filter: drop-shadow(0px 1px 2px rgba(0, 0, 0, 0.3));\n",
              "      fill: #FFFFFF;\n",
              "    }\n",
              "  </style>\n",
              "\n",
              "      <script>\n",
              "        const buttonEl =\n",
              "          document.querySelector('#df-bb80d877-9108-4c01-a382-40f980a5fdec button.colab-df-convert');\n",
              "        buttonEl.style.display =\n",
              "          google.colab.kernel.accessAllowed ? 'block' : 'none';\n",
              "\n",
              "        async function convertToInteractive(key) {\n",
              "          const element = document.querySelector('#df-bb80d877-9108-4c01-a382-40f980a5fdec');\n",
              "          const dataTable =\n",
              "            await google.colab.kernel.invokeFunction('convertToInteractive',\n",
              "                                                     [key], {});\n",
              "          if (!dataTable) return;\n",
              "\n",
              "          const docLinkHtml = 'Like what you see? Visit the ' +\n",
              "            '<a target=\"_blank\" href=https://colab.research.google.com/notebooks/data_table.ipynb>data table notebook</a>'\n",
              "            + ' to learn more about interactive tables.';\n",
              "          element.innerHTML = '';\n",
              "          dataTable['output_type'] = 'display_data';\n",
              "          await google.colab.output.renderOutput(dataTable, element);\n",
              "          const docLink = document.createElement('div');\n",
              "          docLink.innerHTML = docLinkHtml;\n",
              "          element.appendChild(docLink);\n",
              "        }\n",
              "      </script>\n",
              "    </div>\n",
              "  </div>\n",
              "  "
            ]
          },
          "metadata": {},
          "execution_count": 14
        }
      ]
    },
    {
      "cell_type": "markdown",
      "source": [
        "###**2. Seleccione al menos 3 clasificadores dentro de los disponibles en Scikit. Se recomienda elegir tres de entre los siguientes: árboles de decisión, k vecinos más cercanos, máquinas de vectores soporte y clasificador Naïve de Bayes.**###"
      ],
      "metadata": {
        "id": "Ej6J0DLxcxRo"
      }
    },
    {
      "cell_type": "code",
      "source": [
        "from sklearn.model_selection import train_test_split\n",
        "#Metrics like accuracy_score or confusion matrix\n",
        "from sklearn import metrics\n",
        "from sklearn.svm import SVC\n",
        "from sklearn.model_selection import train_test_split"
      ],
      "metadata": {
        "id": "HTZO833yc78r"
      },
      "execution_count": null,
      "outputs": []
    },
    {
      "cell_type": "code",
      "source": [
        "#Modelos a utilizar en esta práctica\n",
        "tree=DecisionTreeClassifier()\n",
        "knn=KNeighborsClassifier(n_neighbors=5)\n",
        "svm=SVC(kernel='linear', C=1)"
      ],
      "metadata": {
        "id": "ZM9fG22uc92t"
      },
      "execution_count": null,
      "outputs": []
    },
    {
      "cell_type": "code",
      "source": [
        "#Compute accuracy of model\n",
        "def accuracyDataset(features, label, model): \n",
        "  accuracy=0\n",
        "  #Split into random train and test subsets\n",
        "  X_train, X_test, y_train, y_test = train_test_split(features, label, test_size=0.2, random_state=1)\n",
        "  #Entrenamiento de datos de entrenamiento\n",
        "  model.fit(X_train,y_train)\n",
        "  #Predice salidas de los datos test\n",
        "  y_pred = model.predict(X_test)\n",
        "  #Calcula precisión del modelo\n",
        "  accuracy = metrics.accuracy_score(y_test, y_pred)\n",
        "  return accuracy"
      ],
      "metadata": {
        "id": "HSlKWrekc2F4"
      },
      "execution_count": null,
      "outputs": []
    },
    {
      "cell_type": "markdown",
      "source": [
        "###**3. Para cada uno de los problemas seleccionados realice las siguientes tareas**###"
      ],
      "metadata": {
        "id": "sRAhosM6f-cL"
      }
    },
    {
      "cell_type": "markdown",
      "source": [
        "####**3.1. Seleccione como método para obtener el error la validación cruzada de 10 particiones o el método hold out. Seleccione dos métricas de las estudiadas en teoría.**####"
      ],
      "metadata": {
        "id": "OMjGpYqvgFSs"
      }
    },
    {
      "cell_type": "markdown",
      "source": [
        "####**3.2. Entrene cada clasificador seleccionado y anote el valor de las métricas estudiadas. Fije los hiperparámetros de forma razonable.**####"
      ],
      "metadata": {
        "id": "afjZXNzQgNzP"
      }
    },
    {
      "cell_type": "code",
      "source": [
        "from sklearn.model_selection import cross_val_score"
      ],
      "metadata": {
        "id": "IWC8KJZsgEYc"
      },
      "execution_count": null,
      "outputs": []
    },
    {
      "cell_type": "markdown",
      "source": [
        "La función cross_val_score en scikit-learn proporciona una forma fácil de realizar una validación cruzada para encontrar los mejores hiperparámetros para un modelo de aprendizaje automático dado.\n",
        "Cuando se pasa el parámetro scoring='accuracy' a la función cross_val_score, esto le indica a la función que utilice la precisión (accuracy) como la métrica para evaluar el rendimiento del modelo en los datos de prueba en cada iteración de la validación cruzada.\n",
        "La función cross_val_score devuelve un arreglo de las puntuaciones de precisión, una para cada iteración de la validación cruzada.\n",
        "El parámetro scoring se puede establecer para otros valores también para evaluar el modelo para otras métricas como precisión, recall, f1, roc_auc, etc.\n",
        "Esto permite comparar fácilmente el rendimiento de diferentes modelos o diferentes configuraciones de parámetros utilizando una métrica única y consistente en todos los modelos y todas las iteraciones de la validación cruzada."
      ],
      "metadata": {
        "id": "gAgpiViamBdV"
      }
    },
    {
      "cell_type": "code",
      "source": [
        "def cross_val (metod, data_X, data_y):\n",
        "  scores_tree_acc=cross_val_score(metod, data_X, data_y, cv=10, scoring='accuracy')\n",
        "  scores_tree_f1M=cross_val_score(metod, data_X, data_y, cv=10, scoring='f1_macro')\n",
        "  print(\"Mean score: \", scores_tree_acc.mean())\n",
        "\n",
        "  print(\"Mean score: \", scores_tree_f1M.mean())\n",
        "  return scores_tree_acc, scores_tree_f1M"
      ],
      "metadata": {
        "id": "9aEVqfQ9q9Fa"
      },
      "execution_count": null,
      "outputs": []
    },
    {
      "cell_type": "code",
      "source": [
        "from sklearn.model_selection import GridSearchCV\n",
        "def comp_principalesSVM(data_X, data_y):\n",
        "  accuracy_svm=[]\n",
        "  param_grid= {'kernel': ['linear','rbf','sigmoid'], 'C': [0.1, 1, 3]}\n",
        "  svm = SVC()\n",
        "  grid = GridSearchCV(svm, param_grid, cv=5)\n",
        "  grid_search = grid.fit(data_X, data_y)\n",
        "  print('Mejores componentes principales: ', grid_search.best_params_)\n",
        "  svm= SVC(kernel=grid_search.best_params_['kernel'], C=grid_search.best_params_['C'])\n",
        "  return svm"
      ],
      "metadata": {
        "id": "59WpJ93cejcr"
      },
      "execution_count": null,
      "outputs": []
    },
    {
      "cell_type": "code",
      "source": [
        "tree_score=[]\n",
        "knn_score=[]\n",
        "svm_score=[]"
      ],
      "metadata": {
        "id": "-LxoELoxyvAq"
      },
      "execution_count": null,
      "outputs": []
    },
    {
      "cell_type": "markdown",
      "source": [
        "**IRIS DATASET**"
      ],
      "metadata": {
        "id": "T2UQlRnnmM4L"
      }
    },
    {
      "cell_type": "code",
      "source": [
        "iris_tree_cross=cross_val(tree, iris_X, iris_y)"
      ],
      "metadata": {
        "colab": {
          "base_uri": "https://localhost:8080/"
        },
        "id": "4-X3so9prbjT",
        "outputId": "2bca74c0-c05b-4e6c-c1dd-f80ea57d1065"
      },
      "execution_count": null,
      "outputs": [
        {
          "output_type": "stream",
          "name": "stdout",
          "text": [
            "Mean score:  0.9533333333333334\n",
            "Mean score:  0.952996632996633\n"
          ]
        }
      ]
    },
    {
      "cell_type": "code",
      "source": [
        "tree_score.append(iris_tree_cross[0].mean())\n",
        "tree_score"
      ],
      "metadata": {
        "colab": {
          "base_uri": "https://localhost:8080/"
        },
        "id": "ObfUU0xYy9d_",
        "outputId": "dd5409be-9ebf-4462-a192-2a7796395307"
      },
      "execution_count": null,
      "outputs": [
        {
          "output_type": "execute_result",
          "data": {
            "text/plain": [
              "[0.9533333333333334]"
            ]
          },
          "metadata": {},
          "execution_count": 23
        }
      ]
    },
    {
      "cell_type": "code",
      "source": [
        "iris_knn_cross=cross_val(knn,iris_X,iris_y)"
      ],
      "metadata": {
        "colab": {
          "base_uri": "https://localhost:8080/"
        },
        "id": "Vo8_E4wZsVry",
        "outputId": "6d350d89-e723-49f5-c580-6c1b507a17f6"
      },
      "execution_count": null,
      "outputs": [
        {
          "output_type": "stream",
          "name": "stdout",
          "text": [
            "Mean score:  0.9666666666666668\n",
            "Mean score:  0.9659090909090908\n"
          ]
        }
      ]
    },
    {
      "cell_type": "code",
      "source": [
        "knn_score.append(iris_knn_cross[0].mean())\n",
        "knn_score"
      ],
      "metadata": {
        "colab": {
          "base_uri": "https://localhost:8080/"
        },
        "id": "cgdKTPHazkOy",
        "outputId": "82192afc-f308-4d9c-b64c-c7432d257e60"
      },
      "execution_count": null,
      "outputs": [
        {
          "output_type": "execute_result",
          "data": {
            "text/plain": [
              "[0.9666666666666668]"
            ]
          },
          "metadata": {},
          "execution_count": 25
        }
      ]
    },
    {
      "cell_type": "code",
      "source": [
        "svm_iris= comp_principalesSVM(iris_X, iris_y)\n",
        "iris_svm_cross=cross_val(svm_iris,iris_X,iris_y)"
      ],
      "metadata": {
        "colab": {
          "base_uri": "https://localhost:8080/"
        },
        "id": "1pF9ZMJWszuQ",
        "outputId": "7e17e2a7-8772-4d4a-a1eb-a8e1fee18691"
      },
      "execution_count": null,
      "outputs": [
        {
          "output_type": "stream",
          "name": "stdout",
          "text": [
            "Mejores componentes principales:  {'C': 1, 'kernel': 'linear'}\n",
            "Mean score:  0.9733333333333334\n",
            "Mean score:  0.9726430976430975\n"
          ]
        }
      ]
    },
    {
      "cell_type": "code",
      "source": [
        "svm_score.append(iris_svm_cross[0].mean())\n",
        "svm_score"
      ],
      "metadata": {
        "colab": {
          "base_uri": "https://localhost:8080/"
        },
        "id": "2SO4zRv50e4L",
        "outputId": "ec3ed14f-e3e0-4e49-dd5f-1319206043e7"
      },
      "execution_count": null,
      "outputs": [
        {
          "output_type": "execute_result",
          "data": {
            "text/plain": [
              "[0.9733333333333334]"
            ]
          },
          "metadata": {},
          "execution_count": 27
        }
      ]
    },
    {
      "cell_type": "code",
      "source": [
        "modelos = ['DTree Acc','DTree F1','KNN Acc', 'KNN F1', 'SVM Acc', 'SVM F1']\n",
        "accuracy = [iris_tree_cross[0].mean(), iris_tree_cross[1].mean(), iris_knn_cross[0].mean(),iris_knn_cross[1].mean(),iris_svm_cross[0].mean(),iris_svm_cross[1].mean() ]\n",
        "# Crear gráfico\n",
        "plt.bar(modelos, accuracy)\n",
        "\n",
        "# Agregar etiquetas eje x y eje y\n",
        "plt.xlabel('Modelo')\n",
        "plt.ylabel('Métricas')\n",
        "\n",
        "# Mostrar gráfico\n",
        "plt.show()"
      ],
      "metadata": {
        "colab": {
          "base_uri": "https://localhost:8080/",
          "height": 279
        },
        "id": "kIIzq6t46grK",
        "outputId": "f9d1a162-241c-4e03-ce90-e5896049d70d"
      },
      "execution_count": null,
      "outputs": [
        {
          "output_type": "display_data",
          "data": {
            "text/plain": [
              "<Figure size 432x288 with 1 Axes>"
            ],
            "image/png": "[encoded data removed]"
          },
          "metadata": {
            "needs_background": "light"
          }
        }
      ]
    },
    {
      "cell_type": "markdown",
      "source": [
        "**CAR DATASET**"
      ],
      "metadata": {
        "id": "KrpxHg32mQlv"
      }
    },
    {
      "cell_type": "code",
      "source": [
        "car_tree_cross = cross_val(tree, car_X, car_y)"
      ],
      "metadata": {
        "colab": {
          "base_uri": "https://localhost:8080/"
        },
        "id": "iiYRL_xutG-V",
        "outputId": "9564ceef-f9f7-400c-ce42-33aeab0f4e84"
      },
      "execution_count": null,
      "outputs": [
        {
          "output_type": "stream",
          "name": "stdout",
          "text": [
            "Mean score:  0.8796444414571851\n",
            "Mean score:  0.8122619663710007\n"
          ]
        }
      ]
    },
    {
      "cell_type": "code",
      "source": [
        "tree_score.append(car_tree_cross[0].mean())\n",
        "tree_score"
      ],
      "metadata": {
        "colab": {
          "base_uri": "https://localhost:8080/"
        },
        "id": "JXgY5D8yzMIA",
        "outputId": "5ed0ac76-411a-4115-a182-581a36b25542"
      },
      "execution_count": null,
      "outputs": [
        {
          "output_type": "execute_result",
          "data": {
            "text/plain": [
              "[0.9533333333333334, 0.8796444414571851]"
            ]
          },
          "metadata": {},
          "execution_count": 30
        }
      ]
    },
    {
      "cell_type": "code",
      "source": [
        "car_knn_cross = cross_val(knn,car_X, car_y)"
      ],
      "metadata": {
        "colab": {
          "base_uri": "https://localhost:8080/"
        },
        "id": "cqeICqCDtQM0",
        "outputId": "5e045a51-5d93-4961-9b9f-3f8638bba115"
      },
      "execution_count": null,
      "outputs": [
        {
          "output_type": "stream",
          "name": "stdout",
          "text": [
            "Mean score:  0.8380259443473586\n",
            "Mean score:  0.6416245420584059\n"
          ]
        }
      ]
    },
    {
      "cell_type": "code",
      "source": [
        "knn_score.append(car_knn_cross[0].mean())\n",
        "knn_score"
      ],
      "metadata": {
        "colab": {
          "base_uri": "https://localhost:8080/"
        },
        "id": "tLEd5OZvz5S1",
        "outputId": "adf0f67c-3d3d-4235-e260-63409b3f8ce3"
      },
      "execution_count": null,
      "outputs": [
        {
          "output_type": "execute_result",
          "data": {
            "text/plain": [
              "[0.9666666666666668, 0.8380259443473586]"
            ]
          },
          "metadata": {},
          "execution_count": 32
        }
      ]
    },
    {
      "cell_type": "code",
      "source": [
        "svm_car = comp_principalesSVM(car_X, car_y)\n",
        "car_svm_cross = cross_val(svm_car, car_X, car_y)\n"
      ],
      "metadata": {
        "colab": {
          "base_uri": "https://localhost:8080/"
        },
        "id": "up1tfCpktVB2",
        "outputId": "a2342e73-7f02-4538-9e2a-ab0d1348e93c"
      },
      "execution_count": null,
      "outputs": [
        {
          "output_type": "stream",
          "name": "stdout",
          "text": [
            "Mejores componentes principales:  {'C': 3, 'kernel': 'rbf'}\n",
            "Mean score:  0.8912017744320474\n",
            "Mean score:  0.7798876496143178\n"
          ]
        }
      ]
    },
    {
      "cell_type": "code",
      "source": [
        "svm_score.append(car_svm_cross[0].mean())\n",
        "svm_score"
      ],
      "metadata": {
        "colab": {
          "base_uri": "https://localhost:8080/"
        },
        "id": "U7JaKg7i0oi3",
        "outputId": "65acc64d-2d44-4763-effe-a73f501d5110"
      },
      "execution_count": null,
      "outputs": [
        {
          "output_type": "execute_result",
          "data": {
            "text/plain": [
              "[0.9733333333333334, 0.8912017744320474]"
            ]
          },
          "metadata": {},
          "execution_count": 34
        }
      ]
    },
    {
      "cell_type": "code",
      "source": [
        "modelos = ['DTree Acc','DTree F1','KNN Acc', 'KNN F1', 'SVM Acc', 'SVM F1']\n",
        "accuracy = [car_tree_cross[0].mean(), car_tree_cross[1].mean(), car_knn_cross[0].mean(),car_knn_cross[1].mean(),car_svm_cross[0].mean(),car_svm_cross[1].mean()]\n",
        "# Crear gráfico\n",
        "plt.bar(modelos,accuracy )\n",
        "# Agregar etiquetas eje x y eje y\n",
        "plt.xlabel('Modelo')\n",
        "plt.ylabel('Métricas')\n",
        "\n",
        "# Mostrar gráfico\n",
        "plt.show()"
      ],
      "metadata": {
        "colab": {
          "base_uri": "https://localhost:8080/",
          "height": 279
        },
        "id": "cYUYhgU87F4k",
        "outputId": "de4af0b8-b0da-44d5-bfb2-ac991c5310b4"
      },
      "execution_count": null,
      "outputs": [
        {
          "output_type": "display_data",
          "data": {
            "text/plain": [
              "<Figure size 432x288 with 1 Axes>"
            ],
            "image/png": "[encoded data removed]"
          },
          "metadata": {
            "needs_background": "light"
          }
        }
      ]
    },
    {
      "cell_type": "markdown",
      "source": [
        "**Wine Dataset**"
      ],
      "metadata": {
        "id": "PXqMG5Cwoctu"
      }
    },
    {
      "cell_type": "code",
      "source": [
        "wine_tree_cross=cross_val(tree,wine_X, wine_y)"
      ],
      "metadata": {
        "colab": {
          "base_uri": "https://localhost:8080/"
        },
        "id": "qU_7UaMetfHd",
        "outputId": "075d536f-d213-4171-d3fe-708e4920fc0e"
      },
      "execution_count": null,
      "outputs": [
        {
          "output_type": "stream",
          "name": "stdout",
          "text": [
            "Mean score:  0.865032679738562\n",
            "Mean score:  0.8482111407111408\n"
          ]
        }
      ]
    },
    {
      "cell_type": "code",
      "source": [
        "tree_score.append(wine_tree_cross[0].mean())\n",
        "tree_score"
      ],
      "metadata": {
        "colab": {
          "base_uri": "https://localhost:8080/"
        },
        "id": "-K8r4R19zPVk",
        "outputId": "1813180c-5320-46ce-b12e-d27831f72374"
      },
      "execution_count": null,
      "outputs": [
        {
          "output_type": "execute_result",
          "data": {
            "text/plain": [
              "[0.9533333333333334, 0.8796444414571851, 0.865032679738562]"
            ]
          },
          "metadata": {},
          "execution_count": 37
        }
      ]
    },
    {
      "cell_type": "code",
      "source": [
        "wine_knn_cross = cross_val(knn,wine_X, wine_y)"
      ],
      "metadata": {
        "colab": {
          "base_uri": "https://localhost:8080/"
        },
        "id": "AH8F106Ftp3J",
        "outputId": "60cf877b-05cd-4981-b4ca-c1e8a396e024"
      },
      "execution_count": null,
      "outputs": [
        {
          "output_type": "stream",
          "name": "stdout",
          "text": [
            "Mean score:  0.6754901960784313\n",
            "Mean score:  0.645921660039307\n"
          ]
        }
      ]
    },
    {
      "cell_type": "code",
      "source": [
        "knn_score.append(wine_knn_cross[0].mean())\n",
        "knn_score"
      ],
      "metadata": {
        "colab": {
          "base_uri": "https://localhost:8080/"
        },
        "id": "-24NXqqjz8SH",
        "outputId": "f5c14a63-f856-47b6-951e-b5f8d4119cb6"
      },
      "execution_count": null,
      "outputs": [
        {
          "output_type": "execute_result",
          "data": {
            "text/plain": [
              "[0.9666666666666668, 0.8380259443473586, 0.6754901960784313]"
            ]
          },
          "metadata": {},
          "execution_count": 39
        }
      ]
    },
    {
      "cell_type": "code",
      "source": [
        "svm_wine = comp_principalesSVM(wine_X, wine_y)\n",
        "wine_svm_cross = cross_val(svm_wine, wine_X, wine_y)"
      ],
      "metadata": {
        "colab": {
          "base_uri": "https://localhost:8080/"
        },
        "id": "I73w1Pc2tvJ3",
        "outputId": "fbcb1b21-896e-4002-e27e-45924e684cfc"
      },
      "execution_count": null,
      "outputs": [
        {
          "output_type": "stream",
          "name": "stdout",
          "text": [
            "Mejores componentes principales:  {'C': 0.1, 'kernel': 'linear'}\n",
            "Mean score:  0.9666666666666668\n",
            "Mean score:  0.9679349354349356\n"
          ]
        }
      ]
    },
    {
      "cell_type": "code",
      "source": [
        "svm_score.append(wine_svm_cross[0].mean())\n",
        "svm_score"
      ],
      "metadata": {
        "colab": {
          "base_uri": "https://localhost:8080/"
        },
        "id": "ZVWmpEW70raq",
        "outputId": "3485b759-7ef0-4c18-9ce6-74939a34796d"
      },
      "execution_count": null,
      "outputs": [
        {
          "output_type": "execute_result",
          "data": {
            "text/plain": [
              "[0.9733333333333334, 0.8912017744320474, 0.9666666666666668]"
            ]
          },
          "metadata": {},
          "execution_count": 41
        }
      ]
    },
    {
      "cell_type": "code",
      "source": [
        "modelos = ['DTree Acc','DTree F1','KNN Acc', 'KNN F1', 'SVM Acc', 'SVM F1']\n",
        "accuracy = [wine_tree_cross[0].mean(), wine_tree_cross[1].mean(), wine_knn_cross[0].mean(),wine_knn_cross[1].mean(),wine_svm_cross[0].mean(),wine_svm_cross[1].mean()]\n",
        "# Crear gráfico\n",
        "plt.bar(modelos,accuracy )\n",
        "# Agregar etiquetas eje x y eje y\n",
        "plt.xlabel('Modelo')\n",
        "plt.ylabel('Métricas')\n",
        "\n",
        "# Mostrar gráfico\n",
        "plt.show()"
      ],
      "metadata": {
        "colab": {
          "base_uri": "https://localhost:8080/",
          "height": 280
        },
        "id": "ynHLb4gY8GZF",
        "outputId": "6c374f6c-ea71-4083-d1d5-403d9454b394"
      },
      "execution_count": null,
      "outputs": [
        {
          "output_type": "display_data",
          "data": {
            "text/plain": [
              "<Figure size 432x288 with 1 Axes>"
            ],
            "image/png": "[encoded data removed]"
          },
          "metadata": {
            "needs_background": "light"
          }
        }
      ]
    },
    {
      "cell_type": "markdown",
      "source": [
        "**Diabetes Dataset**"
      ],
      "metadata": {
        "id": "8OVTPRTimzhm"
      }
    },
    {
      "cell_type": "code",
      "source": [
        "diabetes_tree_cross=cross_val(tree,diabetes_X, diabetes_y)"
      ],
      "metadata": {
        "colab": {
          "base_uri": "https://localhost:8080/"
        },
        "id": "ZONDHoRSt6Jz",
        "outputId": "35248d73-5a99-4048-a6cf-93decb449f48"
      },
      "execution_count": null,
      "outputs": [
        {
          "output_type": "stream",
          "name": "stdout",
          "text": [
            "Mean score:  0.7082365003417634\n",
            "Mean score:  0.6750535074948119\n"
          ]
        }
      ]
    },
    {
      "cell_type": "code",
      "source": [
        "tree_score.append(diabetes_tree_cross[0].mean())\n",
        "tree_score"
      ],
      "metadata": {
        "colab": {
          "base_uri": "https://localhost:8080/"
        },
        "id": "-2SlSdqrzSDG",
        "outputId": "be223374-3fe4-427d-98ce-e55f216a8ad1"
      },
      "execution_count": null,
      "outputs": [
        {
          "output_type": "execute_result",
          "data": {
            "text/plain": [
              "[0.9533333333333334, 0.8796444414571851, 0.865032679738562, 0.7082365003417634]"
            ]
          },
          "metadata": {},
          "execution_count": 44
        }
      ]
    },
    {
      "cell_type": "code",
      "source": [
        "diabetes_knn_cross=cross_val(knn,diabetes_X,diabetes_y)"
      ],
      "metadata": {
        "colab": {
          "base_uri": "https://localhost:8080/"
        },
        "id": "VpayzDdiuBDu",
        "outputId": "ef698e58-942e-467a-fdfe-0d36dbe6e0b1"
      },
      "execution_count": null,
      "outputs": [
        {
          "output_type": "stream",
          "name": "stdout",
          "text": [
            "Mean score:  0.7213773069036227\n",
            "Mean score:  0.6799338698223518\n"
          ]
        }
      ]
    },
    {
      "cell_type": "code",
      "source": [
        "knn_score.append(diabetes_knn_cross[0].mean())\n",
        "knn_score"
      ],
      "metadata": {
        "colab": {
          "base_uri": "https://localhost:8080/"
        },
        "id": "vjSRj_HY0BiP",
        "outputId": "3461fc7c-71b2-45ea-bd1a-aa114255b28b"
      },
      "execution_count": null,
      "outputs": [
        {
          "output_type": "execute_result",
          "data": {
            "text/plain": [
              "[0.9666666666666668,\n",
              " 0.8380259443473586,\n",
              " 0.6754901960784313,\n",
              " 0.7213773069036227]"
            ]
          },
          "metadata": {},
          "execution_count": 46
        }
      ]
    },
    {
      "cell_type": "code",
      "source": [
        "svm_diabetes= comp_principalesSVM(diabetes_X, diabetes_y)\n",
        "diabetes_svm_cross=cross_val(svm_diabetes, diabetes_X,diabetes_y)"
      ],
      "metadata": {
        "colab": {
          "base_uri": "https://localhost:8080/"
        },
        "id": "AlJvjZa0uJHq",
        "outputId": "236daf2d-913c-42df-e235-c289acae81c6"
      },
      "execution_count": null,
      "outputs": [
        {
          "output_type": "stream",
          "name": "stdout",
          "text": [
            "Mejores componentes principales:  {'C': 3, 'kernel': 'linear'}\n",
            "Mean score:  0.7682672590567328\n",
            "Mean score:  0.7295058149761875\n"
          ]
        }
      ]
    },
    {
      "cell_type": "code",
      "source": [
        "svm_score.append(diabetes_svm_cross[0].mean())\n",
        "svm_score"
      ],
      "metadata": {
        "colab": {
          "base_uri": "https://localhost:8080/"
        },
        "id": "mr7GyRGO0tu6",
        "outputId": "31b68391-ac10-4c31-828d-af08f169aa47"
      },
      "execution_count": null,
      "outputs": [
        {
          "output_type": "execute_result",
          "data": {
            "text/plain": [
              "[0.9733333333333334,\n",
              " 0.8912017744320474,\n",
              " 0.9666666666666668,\n",
              " 0.7682672590567328]"
            ]
          },
          "metadata": {},
          "execution_count": 48
        }
      ]
    },
    {
      "cell_type": "code",
      "source": [
        "modelos = ['DTree Acc','DTree F1','KNN Acc', 'KNN F1', 'SVM Acc', 'SVM F1']\n",
        "accuracy = [diabetes_tree_cross[0].mean(), diabetes_tree_cross[1].mean(),diabetes_knn_cross[0].mean(),diabetes_knn_cross[1].mean(),diabetes_svm_cross[0].mean(),diabetes_svm_cross[1].mean()]\n",
        "# Crear gráfico\n",
        "plt.bar(modelos,accuracy )\n",
        "# Agregar etiquetas eje x y eje y\n",
        "plt.xlabel('Modelo')\n",
        "plt.ylabel('Métricas')\n",
        "\n",
        "# Mostrar gráfico\n",
        "plt.show()"
      ],
      "metadata": {
        "colab": {
          "base_uri": "https://localhost:8080/",
          "height": 282
        },
        "id": "bVftD2qy8i78",
        "outputId": "e52da352-2354-4fb6-88d7-6fe0bf47c7d7"
      },
      "execution_count": null,
      "outputs": [
        {
          "output_type": "display_data",
          "data": {
            "text/plain": [
              "<Figure size 432x288 with 1 Axes>"
            ],
            "image/png": "[encoded data removed]"
          },
          "metadata": {
            "needs_background": "light"
          }
        }
      ]
    },
    {
      "cell_type": "markdown",
      "source": [
        "**Glass Dataset**"
      ],
      "metadata": {
        "id": "NcdKmh7rm48S"
      }
    },
    {
      "cell_type": "code",
      "source": [
        "glass_tree_cross=cross_val(tree,glass_X, glass_y)"
      ],
      "metadata": {
        "colab": {
          "base_uri": "https://localhost:8080/"
        },
        "id": "Dc_AjBQdu2M2",
        "outputId": "f9c33a45-f0cf-4ba9-be0c-0641801903c4"
      },
      "execution_count": null,
      "outputs": [
        {
          "output_type": "stream",
          "name": "stdout",
          "text": [
            "Mean score:  0.7058441558441558\n",
            "Mean score:  0.6083456076087655\n"
          ]
        },
        {
          "output_type": "stream",
          "name": "stderr",
          "text": [
            "/usr/local/lib/python3.8/dist-packages/sklearn/model_selection/_split.py:676: UserWarning: The least populated class in y has only 9 members, which is less than n_splits=10.\n",
            "  warnings.warn(\n",
            "/usr/local/lib/python3.8/dist-packages/sklearn/model_selection/_split.py:676: UserWarning: The least populated class in y has only 9 members, which is less than n_splits=10.\n",
            "  warnings.warn(\n"
          ]
        }
      ]
    },
    {
      "cell_type": "code",
      "source": [
        "tree_score.append(glass_tree_cross[0].mean())\n",
        "tree_score"
      ],
      "metadata": {
        "colab": {
          "base_uri": "https://localhost:8080/"
        },
        "id": "1HGQMxO2zUW1",
        "outputId": "c40d95c8-2390-440a-bdc1-345b1137927d"
      },
      "execution_count": null,
      "outputs": [
        {
          "output_type": "execute_result",
          "data": {
            "text/plain": [
              "[0.9533333333333334,\n",
              " 0.8796444414571851,\n",
              " 0.865032679738562,\n",
              " 0.7082365003417634,\n",
              " 0.7058441558441558]"
            ]
          },
          "metadata": {},
          "execution_count": 51
        }
      ]
    },
    {
      "cell_type": "code",
      "source": [
        "glass_knn_cross=cross_val(knn,glass_X, glass_y)"
      ],
      "metadata": {
        "colab": {
          "base_uri": "https://localhost:8080/"
        },
        "id": "QiK8DWuVu9Ou",
        "outputId": "964a4fa7-f99f-4fc4-f4fd-3785d167c3cd"
      },
      "execution_count": null,
      "outputs": [
        {
          "output_type": "stream",
          "name": "stderr",
          "text": [
            "/usr/local/lib/python3.8/dist-packages/sklearn/model_selection/_split.py:676: UserWarning: The least populated class in y has only 9 members, which is less than n_splits=10.\n",
            "  warnings.warn(\n",
            "/usr/local/lib/python3.8/dist-packages/sklearn/model_selection/_split.py:676: UserWarning: The least populated class in y has only 9 members, which is less than n_splits=10.\n",
            "  warnings.warn(\n"
          ]
        },
        {
          "output_type": "stream",
          "name": "stdout",
          "text": [
            "Mean score:  0.6491341991341991\n",
            "Mean score:  0.5128044872822097\n"
          ]
        }
      ]
    },
    {
      "cell_type": "code",
      "source": [
        "knn_score.append(glass_knn_cross[0].mean())\n",
        "knn_score"
      ],
      "metadata": {
        "colab": {
          "base_uri": "https://localhost:8080/"
        },
        "id": "CNS-rhgu0Etl",
        "outputId": "c04ae26b-3288-4290-a1cb-ef5c4eb40b54"
      },
      "execution_count": null,
      "outputs": [
        {
          "output_type": "execute_result",
          "data": {
            "text/plain": [
              "[0.9666666666666668,\n",
              " 0.8380259443473586,\n",
              " 0.6754901960784313,\n",
              " 0.7213773069036227,\n",
              " 0.6491341991341991]"
            ]
          },
          "metadata": {},
          "execution_count": 53
        }
      ]
    },
    {
      "cell_type": "code",
      "source": [
        "svm_glass = comp_principalesSVM(glass_X, glass_y)\n",
        "glass_svm_cross= cross_val(svm_glass, glass_X, glass_y)"
      ],
      "metadata": {
        "colab": {
          "base_uri": "https://localhost:8080/"
        },
        "id": "TpnB22Q3vBmj",
        "outputId": "278f78e4-1f10-4b2a-ec65-3f63d9048f76"
      },
      "execution_count": null,
      "outputs": [
        {
          "output_type": "stream",
          "name": "stdout",
          "text": [
            "Mejores componentes principales:  {'C': 3, 'kernel': 'linear'}\n",
            "Mean score:  0.6588744588744588\n",
            "Mean score:  0.5509421324289746\n"
          ]
        },
        {
          "output_type": "stream",
          "name": "stderr",
          "text": [
            "/usr/local/lib/python3.8/dist-packages/sklearn/model_selection/_split.py:676: UserWarning: The least populated class in y has only 9 members, which is less than n_splits=10.\n",
            "  warnings.warn(\n",
            "/usr/local/lib/python3.8/dist-packages/sklearn/model_selection/_split.py:676: UserWarning: The least populated class in y has only 9 members, which is less than n_splits=10.\n",
            "  warnings.warn(\n"
          ]
        }
      ]
    },
    {
      "cell_type": "code",
      "source": [
        "svm_score.append(glass_svm_cross[0].mean())\n",
        "svm_score"
      ],
      "metadata": {
        "colab": {
          "base_uri": "https://localhost:8080/"
        },
        "id": "PdnhPWzm0wFn",
        "outputId": "730bb6a1-279f-4222-855b-d5eea4aec742"
      },
      "execution_count": null,
      "outputs": [
        {
          "output_type": "execute_result",
          "data": {
            "text/plain": [
              "[0.9733333333333334,\n",
              " 0.8912017744320474,\n",
              " 0.9666666666666668,\n",
              " 0.7682672590567328,\n",
              " 0.6588744588744588]"
            ]
          },
          "metadata": {},
          "execution_count": 55
        }
      ]
    },
    {
      "cell_type": "code",
      "source": [
        "modelos = ['DTree Acc','DTree F1','KNN Acc', 'KNN F1', 'SVM Acc', 'SVM F1']\n",
        "accuracy = [glass_tree_cross[0].mean(), glass_tree_cross[1].mean(),glass_knn_cross[0].mean(),glass_knn_cross[1].mean(),glass_svm_cross[0].mean(),glass_svm_cross[1].mean()]\n",
        "# Crear gráfico\n",
        "plt.bar(modelos,accuracy )\n",
        "# Agregar etiquetas eje x y eje y\n",
        "plt.xlabel('Modelo')\n",
        "plt.ylabel('Métricas')\n",
        "\n",
        "# Mostrar gráfico\n",
        "plt.show()"
      ],
      "metadata": {
        "colab": {
          "base_uri": "https://localhost:8080/",
          "height": 279
        },
        "id": "l8_RnxT38sJW",
        "outputId": "a9db312d-e948-495f-a749-ef6e0caddd74"
      },
      "execution_count": null,
      "outputs": [
        {
          "output_type": "display_data",
          "data": {
            "text/plain": [
              "<Figure size 432x288 with 1 Axes>"
            ],
            "image/png": "[encoded data removed]"
          },
          "metadata": {
            "needs_background": "light"
          }
        }
      ]
    },
    {
      "cell_type": "markdown",
      "source": [
        "**Breast Cancer Wisconsin (Diagnostic) Data set**"
      ],
      "metadata": {
        "id": "zJRLPgWCoX-y"
      }
    },
    {
      "cell_type": "code",
      "source": [
        "cancer_tree_cross=cross_val(tree,cancer_X, cancer_y)"
      ],
      "metadata": {
        "colab": {
          "base_uri": "https://localhost:8080/"
        },
        "id": "mwxH1aq_vJSF",
        "outputId": "6adb5269-0a36-4422-ca39-00ea7db8a3c3"
      },
      "execution_count": null,
      "outputs": [
        {
          "output_type": "stream",
          "name": "stdout",
          "text": [
            "Mean score:  0.9546675191815858\n",
            "Mean score:  0.9434304029491342\n"
          ]
        }
      ]
    },
    {
      "cell_type": "code",
      "source": [
        "tree_score.append(cancer_tree_cross[0].mean())\n",
        "tree_score"
      ],
      "metadata": {
        "colab": {
          "base_uri": "https://localhost:8080/"
        },
        "id": "wk8w-CALzW49",
        "outputId": "d451bc6d-99e0-45d2-8463-760e4b5319fd"
      },
      "execution_count": null,
      "outputs": [
        {
          "output_type": "execute_result",
          "data": {
            "text/plain": [
              "[0.9533333333333334,\n",
              " 0.8796444414571851,\n",
              " 0.865032679738562,\n",
              " 0.7082365003417634,\n",
              " 0.7058441558441558,\n",
              " 0.9546675191815858]"
            ]
          },
          "metadata": {},
          "execution_count": 58
        }
      ]
    },
    {
      "cell_type": "code",
      "source": [
        "cancer_knn_cross=cross_val(knn,cancer_X, cancer_y)"
      ],
      "metadata": {
        "colab": {
          "base_uri": "https://localhost:8080/"
        },
        "id": "J9KUkYTavXuN",
        "outputId": "bccb0a59-a6c6-4857-9afe-fa0542aa780d"
      },
      "execution_count": null,
      "outputs": [
        {
          "output_type": "stream",
          "name": "stdout",
          "text": [
            "Mean score:  0.9722719522591646\n",
            "Mean score:  0.9694597293088432\n"
          ]
        }
      ]
    },
    {
      "cell_type": "code",
      "source": [
        "knn_score.append(cancer_knn_cross[0].mean())\n",
        "knn_score"
      ],
      "metadata": {
        "colab": {
          "base_uri": "https://localhost:8080/"
        },
        "id": "SA1SqSoB0H0a",
        "outputId": "ff7fc7d7-e755-4025-9b57-a292839a4eee"
      },
      "execution_count": null,
      "outputs": [
        {
          "output_type": "execute_result",
          "data": {
            "text/plain": [
              "[0.9666666666666668,\n",
              " 0.8380259443473586,\n",
              " 0.6754901960784313,\n",
              " 0.7213773069036227,\n",
              " 0.6491341991341991,\n",
              " 0.9722719522591646]"
            ]
          },
          "metadata": {},
          "execution_count": 60
        }
      ]
    },
    {
      "cell_type": "code",
      "source": [
        "svm_cancer = comp_principalesSVM(cancer_X, cancer_y)\n",
        "cancer_svm_cross=cross_val(svm_cancer,cancer_X, cancer_y)"
      ],
      "metadata": {
        "colab": {
          "base_uri": "https://localhost:8080/"
        },
        "id": "xhvxvyIEvbeH",
        "outputId": "51677a05-30d3-49fb-a6d2-ce2d5e934e69"
      },
      "execution_count": null,
      "outputs": [
        {
          "output_type": "stream",
          "name": "stdout",
          "text": [
            "Mejores componentes principales:  {'C': 0.1, 'kernel': 'rbf'}\n",
            "Mean score:  0.9693307757885762\n",
            "Mean score:  0.9665345545408435\n"
          ]
        }
      ]
    },
    {
      "cell_type": "code",
      "source": [
        "svm_score.append(cancer_svm_cross[0].mean())\n",
        "svm_score"
      ],
      "metadata": {
        "colab": {
          "base_uri": "https://localhost:8080/"
        },
        "id": "boFEplkE0yIC",
        "outputId": "e12b2fb7-a3a3-4eb3-9091-b217ef27ca2f"
      },
      "execution_count": null,
      "outputs": [
        {
          "output_type": "execute_result",
          "data": {
            "text/plain": [
              "[0.9733333333333334,\n",
              " 0.8912017744320474,\n",
              " 0.9666666666666668,\n",
              " 0.7682672590567328,\n",
              " 0.6588744588744588,\n",
              " 0.9693307757885762]"
            ]
          },
          "metadata": {},
          "execution_count": 62
        }
      ]
    },
    {
      "cell_type": "code",
      "source": [
        "modelos = ['DTree Acc','DTree F1','KNN Acc', 'KNN F1', 'SVM Acc', 'SVM F1']\n",
        "accuracy = [cancer_tree_cross[0].mean(), cancer_tree_cross[1].mean(),cancer_knn_cross[0].mean(),cancer_knn_cross[1].mean(),cancer_svm_cross[0].mean(),cancer_svm_cross[1].mean()]\n",
        "# Crear gráfico\n",
        "plt.bar(modelos,accuracy )\n",
        "# Agregar etiquetas eje x y eje y\n",
        "plt.xlabel('Modelo')\n",
        "plt.ylabel('Métricas')\n",
        "\n",
        "# Mostrar gráfico\n",
        "plt.show()"
      ],
      "metadata": {
        "colab": {
          "base_uri": "https://localhost:8080/",
          "height": 279
        },
        "id": "uibMUmdA84Wu",
        "outputId": "4f1069a5-0e02-46fa-f9b4-12a81ce9feed"
      },
      "execution_count": null,
      "outputs": [
        {
          "output_type": "display_data",
          "data": {
            "text/plain": [
              "<Figure size 432x288 with 1 Axes>"
            ],
            "image/png": "[encoded data removed]"
          },
          "metadata": {
            "needs_background": "light"
          }
        }
      ]
    },
    {
      "cell_type": "markdown",
      "source": [
        "**TITANIC DATASET**"
      ],
      "metadata": {
        "id": "zow_TgYdpHdV"
      }
    },
    {
      "cell_type": "code",
      "source": [
        "titanic_tree_cross = cross_val(tree,titanic_X, titanic_y)"
      ],
      "metadata": {
        "colab": {
          "base_uri": "https://localhost:8080/"
        },
        "id": "ZpUpaZjev6uQ",
        "outputId": "01c77ad7-11ea-4509-e243-ad2b7e28987b"
      },
      "execution_count": null,
      "outputs": [
        {
          "output_type": "stream",
          "name": "stdout",
          "text": [
            "Mean score:  0.7732589984350547\n",
            "Mean score:  0.7739835808813933\n"
          ]
        }
      ]
    },
    {
      "cell_type": "code",
      "source": [
        "tree_score.append(titanic_tree_cross[0].mean())\n",
        "tree_score"
      ],
      "metadata": {
        "colab": {
          "base_uri": "https://localhost:8080/"
        },
        "id": "OGQva1wUzZbm",
        "outputId": "06ac3741-b2c4-4afc-f956-6aa83bbfa5eb"
      },
      "execution_count": null,
      "outputs": [
        {
          "output_type": "execute_result",
          "data": {
            "text/plain": [
              "[0.9533333333333334,\n",
              " 0.8796444414571851,\n",
              " 0.865032679738562,\n",
              " 0.7082365003417634,\n",
              " 0.7058441558441558,\n",
              " 0.9546675191815858,\n",
              " 0.7732589984350547]"
            ]
          },
          "metadata": {},
          "execution_count": 65
        }
      ]
    },
    {
      "cell_type": "code",
      "source": [
        "titanic_knn_cross= cross_val(knn, titanic_X, titanic_y)"
      ],
      "metadata": {
        "colab": {
          "base_uri": "https://localhost:8080/"
        },
        "id": "2Qg4JvGiv_5U",
        "outputId": "54b8ba2e-4c2b-42a3-b82a-4abf4518786d"
      },
      "execution_count": null,
      "outputs": [
        {
          "output_type": "stream",
          "name": "stdout",
          "text": [
            "Mean score:  0.7004694835680751\n",
            "Mean score:  0.6812889037319028\n"
          ]
        }
      ]
    },
    {
      "cell_type": "code",
      "source": [
        "knn_score.append(titanic_knn_cross[0].mean())\n",
        "knn_score"
      ],
      "metadata": {
        "colab": {
          "base_uri": "https://localhost:8080/"
        },
        "id": "vADCfp1b0KKx",
        "outputId": "fbe0e2b8-e048-4a10-ae4d-6b6a4715d320"
      },
      "execution_count": null,
      "outputs": [
        {
          "output_type": "execute_result",
          "data": {
            "text/plain": [
              "[0.9666666666666668,\n",
              " 0.8380259443473586,\n",
              " 0.6754901960784313,\n",
              " 0.7213773069036227,\n",
              " 0.6491341991341991,\n",
              " 0.9722719522591646,\n",
              " 0.7004694835680751]"
            ]
          },
          "metadata": {},
          "execution_count": 67
        }
      ]
    },
    {
      "cell_type": "code",
      "source": [
        "svm_titanic = comp_principalesSVM(titanic_X, titanic_y)\n",
        "titanic_svm_cross = cross_val(svm_titanic, titanic_X, titanic_y)"
      ],
      "metadata": {
        "colab": {
          "base_uri": "https://localhost:8080/"
        },
        "id": "yhVpIFhlwG-v",
        "outputId": "77bccc54-0b9c-4d12-c9b9-a9dd30c09d9a"
      },
      "execution_count": null,
      "outputs": [
        {
          "output_type": "stream",
          "name": "stdout",
          "text": [
            "Mejores componentes principales:  {'C': 1, 'kernel': 'linear'}\n",
            "Mean score:  0.7799882629107981\n",
            "Mean score:  0.766474595243395\n"
          ]
        }
      ]
    },
    {
      "cell_type": "code",
      "source": [
        "svm_score.append(titanic_svm_cross[0].mean())\n",
        "svm_score"
      ],
      "metadata": {
        "colab": {
          "base_uri": "https://localhost:8080/"
        },
        "id": "IjEZv4_j00RE",
        "outputId": "f9643d36-a7ed-4d3e-d09e-e74e33b41e3f"
      },
      "execution_count": null,
      "outputs": [
        {
          "output_type": "execute_result",
          "data": {
            "text/plain": [
              "[0.9733333333333334,\n",
              " 0.8912017744320474,\n",
              " 0.9666666666666668,\n",
              " 0.7682672590567328,\n",
              " 0.6588744588744588,\n",
              " 0.9693307757885762,\n",
              " 0.7799882629107981]"
            ]
          },
          "metadata": {},
          "execution_count": 69
        }
      ]
    },
    {
      "cell_type": "code",
      "source": [
        "modelos = ['DTree Acc','DTree F1','KNN Acc', 'KNN F1', 'SVM Acc', 'SVM F1']\n",
        "accuracy = [titanic_tree_cross[0].mean(), titanic_tree_cross[1].mean(),titanic_knn_cross[0].mean(),titanic_knn_cross[1].mean(),titanic_svm_cross[0].mean(),titanic_svm_cross[1].mean()]\n",
        "# Crear gráfico\n",
        "plt.bar(modelos,accuracy )\n",
        "# Agregar etiquetas eje x y eje y\n",
        "plt.xlabel('Modelo')\n",
        "plt.ylabel('Métricas')\n",
        "\n",
        "# Mostrar gráfico\n",
        "plt.show()"
      ],
      "metadata": {
        "colab": {
          "base_uri": "https://localhost:8080/",
          "height": 279
        },
        "id": "T9sfYmyK9I29",
        "outputId": "d32631a8-aa8a-435c-fe85-eb15bbc0cfa1"
      },
      "execution_count": null,
      "outputs": [
        {
          "output_type": "display_data",
          "data": {
            "text/plain": [
              "<Figure size 432x288 with 1 Axes>"
            ],
            "image/png": "[encoded data removed]"
          },
          "metadata": {
            "needs_background": "light"
          }
        }
      ]
    },
    {
      "cell_type": "markdown",
      "source": [
        "**VOTE DATASET**\n"
      ],
      "metadata": {
        "id": "EAAGYscmpzZV"
      }
    },
    {
      "cell_type": "code",
      "source": [
        "vote_tree_cross = cross_val(tree, vote_X, vote_y)"
      ],
      "metadata": {
        "colab": {
          "base_uri": "https://localhost:8080/"
        },
        "id": "IzuEosPbw5LQ",
        "outputId": "caa5f110-2016-43e7-ec04-1aea3d9cf6d0"
      },
      "execution_count": null,
      "outputs": [
        {
          "output_type": "stream",
          "name": "stdout",
          "text": [
            "Mean score:  0.953752642706131\n",
            "Mean score:  0.944164964860026\n"
          ]
        }
      ]
    },
    {
      "cell_type": "code",
      "source": [
        "tree_score.append(vote_tree_cross[0].mean())\n",
        "tree_score"
      ],
      "metadata": {
        "colab": {
          "base_uri": "https://localhost:8080/"
        },
        "id": "NYJeXlzQzb6t",
        "outputId": "4ae187e4-f143-4b04-d9a2-0b0807850377"
      },
      "execution_count": null,
      "outputs": [
        {
          "output_type": "execute_result",
          "data": {
            "text/plain": [
              "[0.9533333333333334,\n",
              " 0.8796444414571851,\n",
              " 0.865032679738562,\n",
              " 0.7082365003417634,\n",
              " 0.7058441558441558,\n",
              " 0.9546675191815858,\n",
              " 0.7732589984350547,\n",
              " 0.953752642706131]"
            ]
          },
          "metadata": {},
          "execution_count": 72
        }
      ]
    },
    {
      "cell_type": "code",
      "source": [
        "vote_knn_cross = cross_val(knn, vote_X, vote_y)"
      ],
      "metadata": {
        "colab": {
          "base_uri": "https://localhost:8080/"
        },
        "id": "K6-HHX_rw9d4",
        "outputId": "5a13c5b2-ce93-4c84-985d-ef20ca4d2752"
      },
      "execution_count": null,
      "outputs": [
        {
          "output_type": "stream",
          "name": "stdout",
          "text": [
            "Mean score:  0.9057082452431289\n",
            "Mean score:  0.9026033830890308\n"
          ]
        }
      ]
    },
    {
      "cell_type": "code",
      "source": [
        "knn_score.append(vote_knn_cross[0].mean())\n",
        "knn_score"
      ],
      "metadata": {
        "colab": {
          "base_uri": "https://localhost:8080/"
        },
        "id": "VReeZ1go0M1x",
        "outputId": "881094d6-7c74-4956-b715-df1a6257d99b"
      },
      "execution_count": null,
      "outputs": [
        {
          "output_type": "execute_result",
          "data": {
            "text/plain": [
              "[0.9666666666666668,\n",
              " 0.8380259443473586,\n",
              " 0.6754901960784313,\n",
              " 0.7213773069036227,\n",
              " 0.6491341991341991,\n",
              " 0.9722719522591646,\n",
              " 0.7004694835680751,\n",
              " 0.9057082452431289]"
            ]
          },
          "metadata": {},
          "execution_count": 74
        }
      ]
    },
    {
      "cell_type": "code",
      "source": [
        "svm_vote = comp_principalesSVM(vote_X, vote_y)\n",
        "vote_svm_cross = cross_val(svm_vote, vote_X, vote_y)"
      ],
      "metadata": {
        "colab": {
          "base_uri": "https://localhost:8080/"
        },
        "id": "dBLta1IZxB7x",
        "outputId": "4b3cae4a-cfc9-40f1-c219-ddb6c4c9d8c4"
      },
      "execution_count": null,
      "outputs": [
        {
          "output_type": "stream",
          "name": "stdout",
          "text": [
            "Mejores componentes principales:  {'C': 0.1, 'kernel': 'linear'}\n",
            "Mean score:  0.9561310782241014\n",
            "Mean score:  0.9542418265029251\n"
          ]
        }
      ]
    },
    {
      "cell_type": "code",
      "source": [
        "svm_score.append(vote_svm_cross[0].mean())\n",
        "svm_score"
      ],
      "metadata": {
        "colab": {
          "base_uri": "https://localhost:8080/"
        },
        "id": "DZbxuHDT08Kt",
        "outputId": "8d77a6c1-f003-43fa-c9b3-cade655cb436"
      },
      "execution_count": null,
      "outputs": [
        {
          "output_type": "execute_result",
          "data": {
            "text/plain": [
              "[0.9733333333333334,\n",
              " 0.8912017744320474,\n",
              " 0.9666666666666668,\n",
              " 0.7682672590567328,\n",
              " 0.6588744588744588,\n",
              " 0.9693307757885762,\n",
              " 0.7799882629107981,\n",
              " 0.9561310782241014]"
            ]
          },
          "metadata": {},
          "execution_count": 76
        }
      ]
    },
    {
      "cell_type": "code",
      "source": [
        "modelos = ['DTree Acc','DTree F1','KNN Acc', 'KNN F1', 'SVM Acc', 'SVM F1']\n",
        "accuracy = [vote_tree_cross[0].mean(), vote_tree_cross[1].mean(),vote_knn_cross[0].mean(),vote_knn_cross[1].mean(),vote_svm_cross[0].mean(),vote_svm_cross[1].mean()]\n",
        "# Crear gráfico\n",
        "plt.bar(modelos,accuracy )\n",
        "# Agregar etiquetas eje x y eje y\n",
        "plt.xlabel('Modelo')\n",
        "plt.ylabel('Métricas')\n",
        "\n",
        "# Mostrar gráfico\n",
        "plt.show()"
      ],
      "metadata": {
        "colab": {
          "base_uri": "https://localhost:8080/",
          "height": 282
        },
        "id": "hNPiVUzX9UOL",
        "outputId": "f9b8acc2-1a84-4bde-cd35-489818b2ed63"
      },
      "execution_count": null,
      "outputs": [
        {
          "output_type": "display_data",
          "data": {
            "text/plain": [
              "<Figure size 432x288 with 1 Axes>"
            ],
            "image/png": "[encoded data removed]"
          },
          "metadata": {
            "needs_background": "light"
          }
        }
      ]
    },
    {
      "cell_type": "markdown",
      "source": [
        "**SEGMENT CHALLENG DATASET**"
      ],
      "metadata": {
        "id": "U7Ga7tzuqClb"
      }
    },
    {
      "cell_type": "code",
      "source": [
        "segment_tree_cross = cross_val(tree,segment_X, segment_y)"
      ],
      "metadata": {
        "colab": {
          "base_uri": "https://localhost:8080/"
        },
        "id": "e_SncVBUxIop",
        "outputId": "cb5c131c-7ba3-491e-dc95-dc4e10c06cc0"
      },
      "execution_count": null,
      "outputs": [
        {
          "output_type": "stream",
          "name": "stdout",
          "text": [
            "Mean score:  0.9382716049382717\n",
            "Mean score:  0.9488732660044509\n"
          ]
        }
      ]
    },
    {
      "cell_type": "code",
      "source": [
        "tree_score.append(segment_tree_cross[0].mean())\n",
        "tree_score"
      ],
      "metadata": {
        "colab": {
          "base_uri": "https://localhost:8080/"
        },
        "id": "H0I0Ek6rzeEy",
        "outputId": "d4b64eb4-f9aa-410d-9a1d-04f15fecdacc"
      },
      "execution_count": null,
      "outputs": [
        {
          "output_type": "execute_result",
          "data": {
            "text/plain": [
              "[0.9533333333333334,\n",
              " 0.8796444414571851,\n",
              " 0.865032679738562,\n",
              " 0.7082365003417634,\n",
              " 0.7058441558441558,\n",
              " 0.9546675191815858,\n",
              " 0.7732589984350547,\n",
              " 0.953752642706131,\n",
              " 0.9382716049382717]"
            ]
          },
          "metadata": {},
          "execution_count": 79
        }
      ]
    },
    {
      "cell_type": "code",
      "source": [
        "segment_knn_cross = cross_val(knn, segment_X, segment_y)"
      ],
      "metadata": {
        "colab": {
          "base_uri": "https://localhost:8080/"
        },
        "id": "wbRjlKujxPXx",
        "outputId": "7b4b494c-ffa1-4ab5-c989-f82a70eea40c"
      },
      "execution_count": null,
      "outputs": [
        {
          "output_type": "stream",
          "name": "stdout",
          "text": [
            "Mean score:  0.906172839506173\n",
            "Mean score:  0.9076964039586322\n"
          ]
        }
      ]
    },
    {
      "cell_type": "code",
      "source": [
        "knn_score.append(segment_knn_cross[0].mean())\n",
        "knn_score"
      ],
      "metadata": {
        "colab": {
          "base_uri": "https://localhost:8080/"
        },
        "id": "PAt8PpdV0POX",
        "outputId": "675db876-b313-411e-de13-518a22ac95c5"
      },
      "execution_count": null,
      "outputs": [
        {
          "output_type": "execute_result",
          "data": {
            "text/plain": [
              "[0.9666666666666668,\n",
              " 0.8380259443473586,\n",
              " 0.6754901960784313,\n",
              " 0.7213773069036227,\n",
              " 0.6491341991341991,\n",
              " 0.9722719522591646,\n",
              " 0.7004694835680751,\n",
              " 0.9057082452431289,\n",
              " 0.906172839506173]"
            ]
          },
          "metadata": {},
          "execution_count": 81
        }
      ]
    },
    {
      "cell_type": "code",
      "source": [
        "svm_segment = comp_principalesSVM(segment_X, segment_y)\n",
        "segment_svm_cross = cross_val(svm_segment, segment_X, segment_y)"
      ],
      "metadata": {
        "colab": {
          "base_uri": "https://localhost:8080/"
        },
        "id": "OAx9xzFoxVE0",
        "outputId": "adbb52ac-4de8-45ef-9974-4f186288128e"
      },
      "execution_count": null,
      "outputs": [
        {
          "output_type": "stream",
          "name": "stdout",
          "text": [
            "Mejores componentes principales:  {'C': 1, 'kernel': 'linear'}\n",
            "Mean score:  0.9530864197530866\n",
            "Mean score:  0.954758578435597\n"
          ]
        }
      ]
    },
    {
      "cell_type": "code",
      "source": [
        "svm_score.append(segment_svm_cross[0].mean())\n",
        "svm_score"
      ],
      "metadata": {
        "colab": {
          "base_uri": "https://localhost:8080/"
        },
        "id": "FCvV8s-31Amj",
        "outputId": "035cdbe7-96f6-49af-e6c5-e38f8f0f255b"
      },
      "execution_count": null,
      "outputs": [
        {
          "output_type": "execute_result",
          "data": {
            "text/plain": [
              "[0.9733333333333334,\n",
              " 0.8912017744320474,\n",
              " 0.9666666666666668,\n",
              " 0.7682672590567328,\n",
              " 0.6588744588744588,\n",
              " 0.9693307757885762,\n",
              " 0.7799882629107981,\n",
              " 0.9561310782241014,\n",
              " 0.9530864197530866]"
            ]
          },
          "metadata": {},
          "execution_count": 83
        }
      ]
    },
    {
      "cell_type": "code",
      "source": [
        "modelos = ['DTree Acc','DTree F1','KNN Acc', 'KNN F1', 'SVM Acc', 'SVM F1']\n",
        "accuracy = [segment_tree_cross[0].mean(), segment_tree_cross[1].mean(),segment_knn_cross[0].mean(),segment_knn_cross[1].mean(),segment_svm_cross[0].mean(),segment_svm_cross[1].mean()]\n",
        "# Crear gráfico\n",
        "plt.bar(modelos,accuracy )\n",
        "# Agregar etiquetas eje x y eje y\n",
        "plt.xlabel('Modelo')\n",
        "plt.ylabel('Métricas')\n",
        "\n",
        "# Mostrar gráfico\n",
        "plt.show()"
      ],
      "metadata": {
        "colab": {
          "base_uri": "https://localhost:8080/",
          "height": 283
        },
        "id": "6Z8X6Wfk9gnK",
        "outputId": "042514fc-7e57-4e3d-8ef7-a8c077e84278"
      },
      "execution_count": null,
      "outputs": [
        {
          "output_type": "display_data",
          "data": {
            "text/plain": [
              "<Figure size 432x288 with 1 Axes>"
            ],
            "image/png": "[encoded data removed]"
          },
          "metadata": {
            "needs_background": "light"
          }
        }
      ]
    },
    {
      "cell_type": "markdown",
      "source": [
        "**ZOO Data set**"
      ],
      "metadata": {
        "id": "oYydKze6piDq"
      }
    },
    {
      "cell_type": "code",
      "source": [
        "zoo_tree_cross = cross_val(tree,zoo_X, zoo_y)"
      ],
      "metadata": {
        "colab": {
          "base_uri": "https://localhost:8080/"
        },
        "outputId": "61a9eaf8-51b6-4318-9cd8-4135a1b4d268",
        "id": "yXPdhh_sAJXj"
      },
      "execution_count": null,
      "outputs": [
        {
          "output_type": "stream",
          "name": "stdout",
          "text": [
            "Mean score:  0.95\n",
            "Mean score:  0.9111111111111111\n"
          ]
        },
        {
          "output_type": "stream",
          "name": "stderr",
          "text": [
            "/usr/local/lib/python3.8/dist-packages/sklearn/model_selection/_split.py:676: UserWarning: The least populated class in y has only 4 members, which is less than n_splits=10.\n",
            "  warnings.warn(\n",
            "/usr/local/lib/python3.8/dist-packages/sklearn/model_selection/_split.py:676: UserWarning: The least populated class in y has only 4 members, which is less than n_splits=10.\n",
            "  warnings.warn(\n"
          ]
        }
      ]
    },
    {
      "cell_type": "code",
      "source": [
        "tree_score.append(zoo_tree_cross[0].mean())\n",
        "tree_score"
      ],
      "metadata": {
        "colab": {
          "base_uri": "https://localhost:8080/"
        },
        "outputId": "e103c727-b0cb-4841-b81e-f2fbf34dca34",
        "id": "y69q2JDFAJXk"
      },
      "execution_count": null,
      "outputs": [
        {
          "output_type": "execute_result",
          "data": {
            "text/plain": [
              "[0.9533333333333334,\n",
              " 0.8796444414571851,\n",
              " 0.865032679738562,\n",
              " 0.7082365003417634,\n",
              " 0.7058441558441558,\n",
              " 0.9546675191815858,\n",
              " 0.7732589984350547,\n",
              " 0.953752642706131,\n",
              " 0.9382716049382717,\n",
              " 0.95]"
            ]
          },
          "metadata": {},
          "execution_count": 86
        }
      ]
    },
    {
      "cell_type": "code",
      "source": [
        "zoo_knn_cross = cross_val(knn, zoo_X, zoo_y)"
      ],
      "metadata": {
        "colab": {
          "base_uri": "https://localhost:8080/"
        },
        "outputId": "4a66dbb5-d7c0-4c2d-fd42-d1be235de41a",
        "id": "Fcxb5Hc5AJXk"
      },
      "execution_count": null,
      "outputs": [
        {
          "output_type": "stream",
          "name": "stdout",
          "text": [
            "Mean score:  0.8709090909090909\n",
            "Mean score:  0.7258333333333333\n"
          ]
        },
        {
          "output_type": "stream",
          "name": "stderr",
          "text": [
            "/usr/local/lib/python3.8/dist-packages/sklearn/model_selection/_split.py:676: UserWarning: The least populated class in y has only 4 members, which is less than n_splits=10.\n",
            "  warnings.warn(\n",
            "/usr/local/lib/python3.8/dist-packages/sklearn/model_selection/_split.py:676: UserWarning: The least populated class in y has only 4 members, which is less than n_splits=10.\n",
            "  warnings.warn(\n"
          ]
        }
      ]
    },
    {
      "cell_type": "code",
      "source": [
        "knn_score.append(zoo_knn_cross[0].mean())\n",
        "knn_score"
      ],
      "metadata": {
        "colab": {
          "base_uri": "https://localhost:8080/"
        },
        "outputId": "e875f97f-255a-4ceb-86fa-273f23d46bb4",
        "id": "yaRxeuq5AJXk"
      },
      "execution_count": null,
      "outputs": [
        {
          "output_type": "execute_result",
          "data": {
            "text/plain": [
              "[0.9666666666666668,\n",
              " 0.8380259443473586,\n",
              " 0.6754901960784313,\n",
              " 0.7213773069036227,\n",
              " 0.6491341991341991,\n",
              " 0.9722719522591646,\n",
              " 0.7004694835680751,\n",
              " 0.9057082452431289,\n",
              " 0.906172839506173,\n",
              " 0.8709090909090909]"
            ]
          },
          "metadata": {},
          "execution_count": 88
        }
      ]
    },
    {
      "cell_type": "code",
      "source": [
        "svm_zoo = comp_principalesSVM(zoo_X, zoo_y)\n",
        "zoo_svm_cross = cross_val(svm_zoo, zoo_X, zoo_y)"
      ],
      "metadata": {
        "colab": {
          "base_uri": "https://localhost:8080/"
        },
        "outputId": "dba8dee5-d3fb-4eaa-d30a-f8bc7d25198d",
        "id": "1UUAq-N_AJXk"
      },
      "execution_count": null,
      "outputs": [
        {
          "output_type": "stream",
          "name": "stderr",
          "text": [
            "/usr/local/lib/python3.8/dist-packages/sklearn/model_selection/_split.py:676: UserWarning: The least populated class in y has only 4 members, which is less than n_splits=5.\n",
            "  warnings.warn(\n"
          ]
        },
        {
          "output_type": "stream",
          "name": "stdout",
          "text": [
            "Mejores componentes principales:  {'C': 3, 'kernel': 'rbf'}\n"
          ]
        },
        {
          "output_type": "stream",
          "name": "stderr",
          "text": [
            "/usr/local/lib/python3.8/dist-packages/sklearn/model_selection/_split.py:676: UserWarning: The least populated class in y has only 4 members, which is less than n_splits=10.\n",
            "  warnings.warn(\n"
          ]
        },
        {
          "output_type": "stream",
          "name": "stdout",
          "text": [
            "Mean score:  0.95\n",
            "Mean score:  0.8862433862433863\n"
          ]
        },
        {
          "output_type": "stream",
          "name": "stderr",
          "text": [
            "/usr/local/lib/python3.8/dist-packages/sklearn/model_selection/_split.py:676: UserWarning: The least populated class in y has only 4 members, which is less than n_splits=10.\n",
            "  warnings.warn(\n"
          ]
        }
      ]
    },
    {
      "cell_type": "code",
      "source": [
        "svm_score.append(zoo_svm_cross[0].mean())\n",
        "svm_score"
      ],
      "metadata": {
        "colab": {
          "base_uri": "https://localhost:8080/"
        },
        "outputId": "d27cfbd4-fbc0-4b4c-b9d7-7538676232e2",
        "id": "ermmVje-AJXk"
      },
      "execution_count": null,
      "outputs": [
        {
          "output_type": "execute_result",
          "data": {
            "text/plain": [
              "[0.9733333333333334,\n",
              " 0.8912017744320474,\n",
              " 0.9666666666666668,\n",
              " 0.7682672590567328,\n",
              " 0.6588744588744588,\n",
              " 0.9693307757885762,\n",
              " 0.7799882629107981,\n",
              " 0.9561310782241014,\n",
              " 0.9530864197530866,\n",
              " 0.95]"
            ]
          },
          "metadata": {},
          "execution_count": 90
        }
      ]
    },
    {
      "cell_type": "code",
      "source": [
        "modelos = ['DTree Acc','DTree F1','KNN Acc', 'KNN F1', 'SVM Acc', 'SVM F1']\n",
        "accuracy = [zoo_tree_cross[0].mean(), zoo_tree_cross[1].mean(),zoo_knn_cross[0].mean(),zoo_knn_cross[1].mean(),zoo_svm_cross[0].mean(),zoo_svm_cross[1].mean()]\n",
        "# Crear gráfico\n",
        "plt.bar(modelos,accuracy )\n",
        "# Agregar etiquetas eje x y eje y\n",
        "plt.xlabel('Modelo')\n",
        "plt.ylabel('Métricas')\n",
        "\n",
        "# Mostrar gráfico\n",
        "plt.show()"
      ],
      "metadata": {
        "colab": {
          "base_uri": "https://localhost:8080/",
          "height": 279
        },
        "outputId": "c641269a-7060-4c71-c78f-893dd258aa3b",
        "id": "f4FlyOCCAJXk"
      },
      "execution_count": null,
      "outputs": [
        {
          "output_type": "display_data",
          "data": {
            "text/plain": [
              "<Figure size 432x288 with 1 Axes>"
            ],
            "image/png": "[encoded data removed]"
          },
          "metadata": {
            "needs_background": "light"
          }
        }
      ]
    },
    {
      "cell_type": "code",
      "source": [
        "dataset=['Iris', 'Car', 'Wine', 'Diabets', 'Glass','Cancer', 'Titanic','Vote', 'Segment', 'Zoo']"
      ],
      "metadata": {
        "id": "QPcBC0GJ-Och"
      },
      "execution_count": null,
      "outputs": []
    },
    {
      "cell_type": "code",
      "source": [
        "accuracyGraphic(dataset, tree_score, knn_score, svm_score, \"Arbol de Decisión\", \" KNN\", \"SVM\")"
      ],
      "metadata": {
        "colab": {
          "base_uri": "https://localhost:8080/",
          "height": 295
        },
        "id": "9TTmnwKQ9xWC",
        "outputId": "e28a19c8-ac2e-4cec-d456-0bfd89c30fa7"
      },
      "execution_count": null,
      "outputs": [
        {
          "output_type": "display_data",
          "data": {
            "text/plain": [
              "<Figure size 432x288 with 1 Axes>"
            ],
            "image/png": "[encoded data removed]"
          },
          "metadata": {
            "needs_background": "light"
          }
        }
      ]
    },
    {
      "cell_type": "markdown",
      "source": [
        "###**4. Use el test de Wilcoxon de comparación de dos algoritmos sobre N problemas y aplíquelo a dos de los algoritmos anteriores. Obtenga el rango de Friedman para cada clasificador y configuración y represente gráficamente los resultados. Aplique el test de Iman-Davenport sobre los tres clasificadores1**###"
      ],
      "metadata": {
        "id": "B-tGUdIDx60S"
      }
    },
    {
      "cell_type": "code",
      "source": [
        "!pip install statsmodels"
      ],
      "metadata": {
        "colab": {
          "base_uri": "https://localhost:8080/"
        },
        "id": "0f9_j-nG3vAo",
        "outputId": "c017692f-47d1-4f08-e875-d8428ac329f7"
      },
      "execution_count": null,
      "outputs": [
        {
          "output_type": "stream",
          "name": "stdout",
          "text": [
            "Looking in indexes: https://pypi.org/simple, https://us-python.pkg.dev/colab-wheels/public/simple/\n",
            "Requirement already satisfied: statsmodels in /usr/local/lib/python3.8/dist-packages (0.12.2)\n",
            "Requirement already satisfied: scipy>=1.1 in /usr/local/lib/python3.8/dist-packages (from statsmodels) (1.7.3)\n",
            "Requirement already satisfied: numpy>=1.15 in /usr/local/lib/python3.8/dist-packages (from statsmodels) (1.21.6)\n",
            "Requirement already satisfied: patsy>=0.5 in /usr/local/lib/python3.8/dist-packages (from statsmodels) (0.5.3)\n",
            "Requirement already satisfied: pandas>=0.21 in /usr/local/lib/python3.8/dist-packages (from statsmodels) (1.3.5)\n",
            "Requirement already satisfied: pytz>=2017.3 in /usr/local/lib/python3.8/dist-packages (from pandas>=0.21->statsmodels) (2022.7)\n",
            "Requirement already satisfied: python-dateutil>=2.7.3 in /usr/local/lib/python3.8/dist-packages (from pandas>=0.21->statsmodels) (2.8.2)\n",
            "Requirement already satisfied: six in /usr/local/lib/python3.8/dist-packages (from patsy>=0.5->statsmodels) (1.15.0)\n"
          ]
        }
      ]
    },
    {
      "cell_type": "code",
      "source": [
        "from scipy.stats import wilcoxon\n",
        "from scipy.stats import friedmanchisquare"
      ],
      "metadata": {
        "id": "whCQvo8Bx-yI"
      },
      "execution_count": null,
      "outputs": []
    },
    {
      "cell_type": "code",
      "source": [
        "stat_wilcoxon, p_value_wilcoxon = wilcoxon(tree_score, knn_score)\n",
        "print(\"Statistic: %.3f, p-value: %.3f\" % (stat_wilcoxon, p_value_wilcoxon))"
      ],
      "metadata": {
        "colab": {
          "base_uri": "https://localhost:8080/"
        },
        "id": "EO9MP--p1-k7",
        "outputId": "ce44401b-1d9a-47c8-94af-45e15fceaaff"
      },
      "execution_count": null,
      "outputs": [
        {
          "output_type": "stream",
          "name": "stdout",
          "text": [
            "Statistic: 6.000, p-value: 0.027\n"
          ]
        }
      ]
    },
    {
      "cell_type": "markdown",
      "source": [
        "El resultado del test de Wilcoxon te indicará si existe una diferencia significativa entre los dos grupos de datos, y te dará un valor de \"p-value\" para indicar la probabilidad de que los datos sean iguales. Un valor de \"p-value\" menor a 0.05 indica que la diferencia entre los grupos es estadísticamente significativa."
      ],
      "metadata": {
        "id": "mTodQw8o2MG6"
      }
    },
    {
      "cell_type": "markdown",
      "source": [
        "El test de Wilcoxon te proporciona dos valores como resultado: la estadística de prueba y el valor de \"p-value\".\n",
        "\n",
        "La estadística de prueba es un valor numérico que representa la diferencia entre los dos grupos de datos. El valor exacto de la estadística de prueba no es tan importante como la probabilidad asociada a ese valor, que es el valor de \"p-value\".\n",
        "\n",
        "El valor de \"p-value\" indica la probabilidad de obtener los resultados actuales si los dos grupos de datos son realmente iguales. Un valor de \"p-value\" menor a 0.05 indica que es poco probable que los datos sean iguales por casualidad, por lo que se concluye que existe una diferencia significativa entre los dos grupos de datos. Por otro lado, si el valor de \"p-value\" es mayor a 0.05, entonces no hay evidencia suficiente para afirmar que existe una diferencia significativa entre los dos grupos de datos.\n",
        "\n",
        "Es importante tener en cuenta que el test de Wilcoxon no te indica la dirección de la diferencia, es decir, no te dice si un grupo es mayor o menor que el otro, solo te indica si existe una diferencia significativa entre los dos grupos de datos."
      ],
      "metadata": {
        "id": "YnykDNKj2SW_"
      }
    },
    {
      "cell_type": "code",
      "source": [
        "stat_friedman, p_value_friedman = friedmanchisquare(tree_score, knn_score, svm_score)\n",
        "print(\"Statistic: %.3f, p-value: %.3f\" % (stat_friedman, p_value_friedman))"
      ],
      "metadata": {
        "colab": {
          "base_uri": "https://localhost:8080/"
        },
        "id": "A9P3iGK825Wb",
        "outputId": "d38c5b88-6636-4831-a367-ae9fcf1f11f3"
      },
      "execution_count": null,
      "outputs": [
        {
          "output_type": "stream",
          "name": "stdout",
          "text": [
            "Statistic: 9.692, p-value: 0.008\n"
          ]
        }
      ]
    },
    {
      "cell_type": "markdown",
      "source": [
        "En este caso, igual que en el caso de Wilcoxon, el resultado del test de Friedman te indicará si existe una diferencia significativa entre los grupos de datos, y te dará un valor de \"p-value\" para indicar la probabilidad de que los datos sean iguales. Un valor de \"p-value\" menor a 0.05 indica que la diferencia entre los grupos es estadísticamente significativa."
      ],
      "metadata": {
        "id": "5aNW35Vp4Mb2"
      }
    },
    {
      "cell_type": "code",
      "source": [
        "import matplotlib.pyplot as plt\n",
        "\n",
        "data = [tree_score, knn_score, svm_score]\n",
        "stat_friedman, p = friedmanchisquare(tree_score, knn_score, svm_score)\n",
        "\n",
        "group_labels = [\"tree_score\", \"knn_score\", \"svm_score\"]\n",
        "x_pos = np.arange(len(group_labels))\n",
        "\n",
        "plt.bar(x_pos, p, align='center')\n",
        "plt.xticks(x_pos, group_labels)\n",
        "plt.ylabel(\"p-value\")\n",
        "plt.ylim(0,0.05) # limite al eje y en 0 y 1\n",
        "plt.show()"
      ],
      "metadata": {
        "colab": {
          "base_uri": "https://localhost:8080/",
          "height": 270
        },
        "id": "ROm0-Znl4NPA",
        "outputId": "d4a3953f-c7e8-477f-dc45-aefe90e11ce9"
      },
      "execution_count": null,
      "outputs": [
        {
          "output_type": "display_data",
          "data": {
            "text/plain": [
              "<Figure size 432x288 with 1 Axes>"
            ],
            "image/png": "[encoded data removed]"
          },
          "metadata": {
            "needs_background": "light"
          }
        }
      ]
    },
    {
      "cell_type": "code",
      "source": [
        "from scipy.stats import friedmanchisquare, wilcoxon, rankdata\n",
        "# Calcular el rango medio para cada método\n",
        "tree_rank = rankdata(tree_score, method='average')\n",
        "knn_rank = rankdata(knn_score, method='average')\n",
        "svm_rank = rankdata(svm_score, method='average')\n",
        "print(tree_rank, knn_rank, svm_rank)\n",
        "# Aplicar el test de Friedman\n",
        "stat, p = friedmanchisquare(tree_rank, knn_rank, svm_rank)\n",
        "print(p)"
      ],
      "metadata": {
        "id": "2QGoIEokYuDr",
        "outputId": "34cb3b4f-0388-4605-8f11-69d29a75976b",
        "colab": {
          "base_uri": "https://localhost:8080/"
        }
      },
      "execution_count": null,
      "outputs": [
        {
          "output_type": "stream",
          "name": "stdout",
          "text": [
            "[ 8.  5.  4.  2.  1. 10.  3.  9.  6.  7.] [ 9.  5.  2.  4.  1. 10.  3.  7.  8.  6.] [10.  4.  8.  2.  1.  9.  3.  7.  6.  5.]\n",
            "0.4947495006964525\n"
          ]
        }
      ]
    },
    {
      "cell_type": "markdown",
      "source": [
        "En este ejemplo, se crea un gráfico de barras en donde el eje y representa el valor de p-value obtenido en el test de Friedman y el eje x representa los diferentes grupos de datos. Se establece el limite del eje y entre 0 y 1, ya que el valor de p-value siempre esta en ese rango. Así se puede apreciar mejor los valores.\n",
        "\n",
        "Es importante tener en cuenta que el valor de p-value se refiere a la probabilidad de obtener los resultados actuales si los grupos de datos son realmente iguales, por lo que un valor de p-value menor a 0.05 indica que es poco probable que los datos sean iguales por casualidad, por lo que se concluye que existe una diferencia significativa entre los grupos de datos."
      ],
      "metadata": {
        "id": "s3QlJ9p95YJX"
      }
    },
    {
      "cell_type": "markdown",
      "source": [
        "###**5. Compare el mejor método según el rango medio de Friedman con el resto de métodos usando el procedimiento de Holm.**###"
      ],
      "metadata": {
        "id": "HHydPg0v9bdk"
      }
    },
    {
      "cell_type": "markdown",
      "source": [
        "Para comparar el mejor método según el rango medio de Friedman con el resto de métodos utilizando el procedimiento de Holm, se deben seguir los siguientes pasos:\n",
        "\n",
        "Calcular el rango medio para cada método: se asigna un rango a cada valor de rendimiento (en este caso, la exactitud) y se suman los rangos para cada método. El rango medio para cada método se calcula dividiendo la suma de los rangos por el número de datos.\n",
        "\n",
        "Aplicar el test de Friedman: se aplica el test de Friedman sobre los rangos medios de los métodos para determinar si existe alguna diferencia significativa entre los métodos. Si el valor p obtenido es menor que el nivel de significancia (por ejemplo, 0.05), se concluye que existen diferencias significativas entre los métodos.\n",
        "\n",
        "Aplicar el procedimiento de Holm: se ordenan los métodos de acuerdo a su rango medio y se aplica el procedimiento de Holm para determinar qué método es el mejor y cuáles son significativamente diferentes del mejor. El procedimiento de Holm consiste en comparar cada método con el mejor método y calcular el valor p correspondiente. Si el valor p es menor que el nivel de significancia dividido por el número de comparaciones (por ejemplo, 0.05/3=0.0167), se concluye que el método es significativamente diferente del mejor."
      ],
      "metadata": {
        "id": "WOHpMZDG9rEB"
      }
    },
    {
      "cell_type": "code",
      "source": [
        "stat_friedman, p_value_friedman = friedmanchisquare(tree_score, knn_score, svm_score)\n",
        "print(\"Statistic: %.3f, p-value: %.3f\" % (stat_friedman, p_value_friedman))"
      ],
      "metadata": {
        "colab": {
          "base_uri": "https://localhost:8080/"
        },
        "id": "aQSo-jMn9fq3",
        "outputId": "14617e55-4c1e-4762-a7c9-f22b9988b629"
      },
      "execution_count": null,
      "outputs": [
        {
          "output_type": "stream",
          "name": "stdout",
          "text": [
            "Statistic: 9.692, p-value: 0.008\n"
          ]
        }
      ]
    },
    {
      "cell_type": "markdown",
      "source": [
        "Para comparar el mejor método según el rango medio de Friedman con el resto de métodos usando el procedimiento de Holm, se deben seguir los siguientes pasos:\n",
        "\n",
        "Calcular el rango medio para cada método: se asigna un rango a cada valor de rendimiento (en este caso, la exactitud) y se suman los rangos para cada método. El rango medio para cada método se calcula dividiendo la suma de los rangos por el número de datos.\n",
        "\n",
        "Aplicar el test de Friedman: se aplica el test de Friedman sobre los rangos medios de los métodos para determinar si existe alguna diferencia significativa entre los métodos. Si el valor p obtenido es menor que el nivel de significancia (por ejemplo, 0.05), se concluye que existen diferencias significativas entre los métodos.\n",
        "\n",
        "Ordenar los métodos según su rango medio: se ordenan los métodos de acuerdo a su rango medio y se determina cuál es el mejor método.\n",
        "\n",
        "Comparar cada método con el mejor método: se aplica un test de Wilcoxon para comparar cada método con el mejor método y se calcula el valor p correspondiente.\n",
        "\n",
        "Aplicar la corrección de p-value: se divide el nivel de significancia por el número de comparaciones (en este caso, 2 comparaciones) y se compara con el valor p obtenido para cada método. Si el valor p es menor que el nivel de significancia corregido, se concluye que el método es significativamente diferente del mejor método.\n",
        "\n",
        "\n",
        "\n"
      ],
      "metadata": {
        "id": "JHKVbBztBNWW"
      }
    },
    {
      "cell_type": "code",
      "source": [
        "from scipy.stats import friedmanchisquare, wilcoxon, rankdata\n",
        "# Calcular el rango medio para cada método\n",
        "tree_rank = rankdata(tree_score, method='average')\n",
        "knn_rank = rankdata(knn_score, method='average')\n",
        "svm_rank = rankdata(svm_score, method='average')\n",
        "print(tree_rank, knn_rank, svm_rank)\n",
        "# Aplicar el test de Friedman\n",
        "stat, p = friedmanchisquare(tree_rank, knn_rank, svm_rank)\n",
        "print(p)\n",
        "if p < 0.05:\n",
        "    # Ordenar los métodos según su rango medio\n",
        "    methods = [tree_rank.mean(), knn_rank.mean(), svm_rank.mean()]\n",
        "    methods_name = ['tree', 'knn', 'svm']\n",
        "    methods_ordered = [x for _, x in sorted(zip(methods, methods_name), reverse=True)]\n",
        "    print(methods_ordered[0], methods_ordered[1], methods_ordered[2])\n",
        "\n",
        "    # Aplicar el procedimiento de Holm\n",
        "    best_method = methods_ordered[0]\n",
        "    print(best_method)\n",
        "    for method in methods_name:\n",
        "      if method != best_method:\n",
        "          if method == 'tree':\n",
        "              stat, p = wilcoxon(tree_score, knn_score)\n",
        "          elif method == 'knn':\n",
        "              stat, p = wilcoxon(knn_score, svm_score)\n",
        "          elif method == 'svm':\n",
        "              stat, p = wilcoxon(svm_score, tree_score)\n",
        "          # Aplicar la corrección de p-value\n",
        "          alpha = 0.05 / 2\n",
        "          if p < alpha:\n",
        "              print(f\"El método {method} es significativamente diferente del mejor método {best_method}\")\n"
      ],
      "metadata": {
        "id": "AoPogSBmBQej",
        "colab": {
          "base_uri": "https://localhost:8080/"
        },
        "outputId": "ebedf3df-9baa-4b1f-af5a-5ed8b276b6a9"
      },
      "execution_count": null,
      "outputs": [
        {
          "output_type": "stream",
          "name": "stdout",
          "text": [
            "[ 8.  5.  4.  2.  1. 10.  3.  9.  6.  7.] [ 9.  5.  2.  4.  1. 10.  3.  7.  8.  6.] [10.  4.  8.  2.  1.  9.  3.  7.  6.  5.]\n",
            "0.4947495006964525\n"
          ]
        }
      ]
    },
    {
      "cell_type": "markdown",
      "source": [
        "###**6. Compare los métodos por parejas usando el procedimiento de Bonferroni-Dunn.**###"
      ],
      "metadata": {
        "id": "tsM9FmsWDmVC"
      }
    },
    {
      "cell_type": "code",
      "source": [
        "!pip install scikit-posthocs\n",
        "import scikit_posthocs as sp"
      ],
      "metadata": {
        "colab": {
          "base_uri": "https://localhost:8080/"
        },
        "id": "hppGjjzCDoxe",
        "outputId": "b3f285f8-8221-49dd-ae8d-0b23908ed922"
      },
      "execution_count": null,
      "outputs": [
        {
          "output_type": "stream",
          "name": "stdout",
          "text": [
            "Looking in indexes: https://pypi.org/simple, https://us-python.pkg.dev/colab-wheels/public/simple/\n",
            "Collecting scikit-posthocs\n",
            "  Downloading scikit_posthocs-0.7.0-py3-none-any.whl (38 kB)\n",
            "Requirement already satisfied: numpy in /usr/local/lib/python3.8/dist-packages (from scikit-posthocs) (1.21.6)\n",
            "Requirement already satisfied: statsmodels in /usr/local/lib/python3.8/dist-packages (from scikit-posthocs) (0.12.2)\n",
            "Requirement already satisfied: scipy in /usr/local/lib/python3.8/dist-packages (from scikit-posthocs) (1.7.3)\n",
            "Requirement already satisfied: matplotlib in /usr/local/lib/python3.8/dist-packages (from scikit-posthocs) (3.2.2)\n",
            "Requirement already satisfied: seaborn in /usr/local/lib/python3.8/dist-packages (from scikit-posthocs) (0.11.2)\n",
            "Requirement already satisfied: pandas>=0.20.0 in /usr/local/lib/python3.8/dist-packages (from scikit-posthocs) (1.3.5)\n",
            "Requirement already satisfied: python-dateutil>=2.7.3 in /usr/local/lib/python3.8/dist-packages (from pandas>=0.20.0->scikit-posthocs) (2.8.2)\n",
            "Requirement already satisfied: pytz>=2017.3 in /usr/local/lib/python3.8/dist-packages (from pandas>=0.20.0->scikit-posthocs) (2022.7)\n",
            "Requirement already satisfied: pyparsing!=2.0.4,!=2.1.2,!=2.1.6,>=2.0.1 in /usr/local/lib/python3.8/dist-packages (from matplotlib->scikit-posthocs) (3.0.9)\n",
            "Requirement already satisfied: kiwisolver>=1.0.1 in /usr/local/lib/python3.8/dist-packages (from matplotlib->scikit-posthocs) (1.4.4)\n",
            "Requirement already satisfied: cycler>=0.10 in /usr/local/lib/python3.8/dist-packages (from matplotlib->scikit-posthocs) (0.11.0)\n",
            "Requirement already satisfied: patsy>=0.5 in /usr/local/lib/python3.8/dist-packages (from statsmodels->scikit-posthocs) (0.5.3)\n",
            "Requirement already satisfied: six in /usr/local/lib/python3.8/dist-packages (from patsy>=0.5->statsmodels->scikit-posthocs) (1.15.0)\n",
            "Installing collected packages: scikit-posthocs\n",
            "Successfully installed scikit-posthocs-0.7.0\n"
          ]
        }
      ]
    },
    {
      "cell_type": "code",
      "source": [
        "import scikit_posthocs as sp"
      ],
      "metadata": {
        "id": "eEslL871Eod_"
      },
      "execution_count": null,
      "outputs": []
    },
    {
      "cell_type": "code",
      "source": [
        "methods = [tree_score, knn_score]\n",
        "sp.posthoc_dunn(methods, p_adjust='bonferroni')\n"
      ],
      "metadata": {
        "colab": {
          "base_uri": "https://localhost:8080/",
          "height": 112
        },
        "id": "TG0sP_uxEGjC",
        "outputId": "024580b2-b4f4-4712-f298-d6e81b213faf"
      },
      "execution_count": null,
      "outputs": [
        {
          "output_type": "execute_result",
          "data": {
            "text/plain": [
              "          1         2\n",
              "1  1.000000  0.405679\n",
              "2  0.405679  1.000000"
            ],
            "text/html": [
              "\n",
              "  <div id=\"df-31966578-ff41-46ae-8b38-1b4dacc02bfc\">\n",
              "    <div class=\"colab-df-container\">\n",
              "      <div>\n",
              "<style scoped>\n",
              "    .dataframe tbody tr th:only-of-type {\n",
              "        vertical-align: middle;\n",
              "    }\n",
              "\n",
              "    .dataframe tbody tr th {\n",
              "        vertical-align: top;\n",
              "    }\n",
              "\n",
              "    .dataframe thead th {\n",
              "        text-align: right;\n",
              "    }\n",
              "</style>\n",
              "<table border=\"1\" class=\"dataframe\">\n",
              "  <thead>\n",
              "    <tr style=\"text-align: right;\">\n",
              "      <th></th>\n",
              "      <th>1</th>\n",
              "      <th>2</th>\n",
              "    </tr>\n",
              "  </thead>\n",
              "  <tbody>\n",
              "    <tr>\n",
              "      <th>1</th>\n",
              "      <td>1.000000</td>\n",
              "      <td>0.405679</td>\n",
              "    </tr>\n",
              "    <tr>\n",
              "      <th>2</th>\n",
              "      <td>0.405679</td>\n",
              "      <td>1.000000</td>\n",
              "    </tr>\n",
              "  </tbody>\n",
              "</table>\n",
              "</div>\n",
              "      <button class=\"colab-df-convert\" onclick=\"convertToInteractive('df-31966578-ff41-46ae-8b38-1b4dacc02bfc')\"\n",
              "              title=\"Convert this dataframe to an interactive table.\"\n",
              "              style=\"display:none;\">\n",
              "        \n",
              "  <svg xmlns=\"http://www.w3.org/2000/svg\" height=\"24px\"viewBox=\"0 0 24 24\"\n",
              "       width=\"24px\">\n",
              "    <path d=\"M0 0h24v24H0V0z\" fill=\"none\"/>\n",
              "    <path d=\"M18.56 5.44l.94 2.06.94-2.06 2.06-.94-2.06-.94-.94-2.06-.94 2.06-2.06.94zm-11 1L8.5 8.5l.94-2.06 2.06-.94-2.06-.94L8.5 2.5l-.94 2.06-2.06.94zm10 10l.94 2.06.94-2.06 2.06-.94-2.06-.94-.94-2.06-.94 2.06-2.06.94z\"/><path d=\"M17.41 7.96l-1.37-1.37c-.4-.4-.92-.59-1.43-.59-.52 0-1.04.2-1.43.59L10.3 9.45l-7.72 7.72c-.78.78-.78 2.05 0 2.83L4 21.41c.39.39.9.59 1.41.59.51 0 1.02-.2 1.41-.59l7.78-7.78 2.81-2.81c.8-.78.8-2.07 0-2.86zM5.41 20L4 18.59l7.72-7.72 1.47 1.35L5.41 20z\"/>\n",
              "  </svg>\n",
              "      </button>\n",
              "      \n",
              "  <style>\n",
              "    .colab-df-container {\n",
              "      display:flex;\n",
              "      flex-wrap:wrap;\n",
              "      gap: 12px;\n",
              "    }\n",
              "\n",
              "    .colab-df-convert {\n",
              "      background-color: #E8F0FE;\n",
              "      border: none;\n",
              "      border-radius: 50%;\n",
              "      cursor: pointer;\n",
              "      display: none;\n",
              "      fill: #1967D2;\n",
              "      height: 32px;\n",
              "      padding: 0 0 0 0;\n",
              "      width: 32px;\n",
              "    }\n",
              "\n",
              "    .colab-df-convert:hover {\n",
              "      background-color: #E2EBFA;\n",
              "      box-shadow: 0px 1px 2px rgba(60, 64, 67, 0.3), 0px 1px 3px 1px rgba(60, 64, 67, 0.15);\n",
              "      fill: #174EA6;\n",
              "    }\n",
              "\n",
              "    [theme=dark] .colab-df-convert {\n",
              "      background-color: #3B4455;\n",
              "      fill: #D2E3FC;\n",
              "    }\n",
              "\n",
              "    [theme=dark] .colab-df-convert:hover {\n",
              "      background-color: #434B5C;\n",
              "      box-shadow: 0px 1px 3px 1px rgba(0, 0, 0, 0.15);\n",
              "      filter: drop-shadow(0px 1px 2px rgba(0, 0, 0, 0.3));\n",
              "      fill: #FFFFFF;\n",
              "    }\n",
              "  </style>\n",
              "\n",
              "      <script>\n",
              "        const buttonEl =\n",
              "          document.querySelector('#df-31966578-ff41-46ae-8b38-1b4dacc02bfc button.colab-df-convert');\n",
              "        buttonEl.style.display =\n",
              "          google.colab.kernel.accessAllowed ? 'block' : 'none';\n",
              "\n",
              "        async function convertToInteractive(key) {\n",
              "          const element = document.querySelector('#df-31966578-ff41-46ae-8b38-1b4dacc02bfc');\n",
              "          const dataTable =\n",
              "            await google.colab.kernel.invokeFunction('convertToInteractive',\n",
              "                                                     [key], {});\n",
              "          if (!dataTable) return;\n",
              "\n",
              "          const docLinkHtml = 'Like what you see? Visit the ' +\n",
              "            '<a target=\"_blank\" href=https://colab.research.google.com/notebooks/data_table.ipynb>data table notebook</a>'\n",
              "            + ' to learn more about interactive tables.';\n",
              "          element.innerHTML = '';\n",
              "          dataTable['output_type'] = 'display_data';\n",
              "          await google.colab.output.renderOutput(dataTable, element);\n",
              "          const docLink = document.createElement('div');\n",
              "          docLink.innerHTML = docLinkHtml;\n",
              "          element.appendChild(docLink);\n",
              "        }\n",
              "      </script>\n",
              "    </div>\n",
              "  </div>\n",
              "  "
            ]
          },
          "metadata": {},
          "execution_count": 105
        }
      ]
    },
    {
      "cell_type": "code",
      "source": [
        "methods = [tree_score, svm_score]\n",
        "sp.posthoc_dunn(methods, p_adjust='bonferroni')"
      ],
      "metadata": {
        "colab": {
          "base_uri": "https://localhost:8080/",
          "height": 112
        },
        "id": "JAoyMTcUEq_x",
        "outputId": "122a7478-bd52-4a53-f13e-cc5484d66bb6"
      },
      "execution_count": null,
      "outputs": [
        {
          "output_type": "execute_result",
          "data": {
            "text/plain": [
              "          1         2\n",
              "1  1.000000  0.307308\n",
              "2  0.307308  1.000000"
            ],
            "text/html": [
              "\n",
              "  <div id=\"df-71d44eb5-dbe8-4996-8e33-d14f1b7f2bea\">\n",
              "    <div class=\"colab-df-container\">\n",
              "      <div>\n",
              "<style scoped>\n",
              "    .dataframe tbody tr th:only-of-type {\n",
              "        vertical-align: middle;\n",
              "    }\n",
              "\n",
              "    .dataframe tbody tr th {\n",
              "        vertical-align: top;\n",
              "    }\n",
              "\n",
              "    .dataframe thead th {\n",
              "        text-align: right;\n",
              "    }\n",
              "</style>\n",
              "<table border=\"1\" class=\"dataframe\">\n",
              "  <thead>\n",
              "    <tr style=\"text-align: right;\">\n",
              "      <th></th>\n",
              "      <th>1</th>\n",
              "      <th>2</th>\n",
              "    </tr>\n",
              "  </thead>\n",
              "  <tbody>\n",
              "    <tr>\n",
              "      <th>1</th>\n",
              "      <td>1.000000</td>\n",
              "      <td>0.307308</td>\n",
              "    </tr>\n",
              "    <tr>\n",
              "      <th>2</th>\n",
              "      <td>0.307308</td>\n",
              "      <td>1.000000</td>\n",
              "    </tr>\n",
              "  </tbody>\n",
              "</table>\n",
              "</div>\n",
              "      <button class=\"colab-df-convert\" onclick=\"convertToInteractive('df-71d44eb5-dbe8-4996-8e33-d14f1b7f2bea')\"\n",
              "              title=\"Convert this dataframe to an interactive table.\"\n",
              "              style=\"display:none;\">\n",
              "        \n",
              "  <svg xmlns=\"http://www.w3.org/2000/svg\" height=\"24px\"viewBox=\"0 0 24 24\"\n",
              "       width=\"24px\">\n",
              "    <path d=\"M0 0h24v24H0V0z\" fill=\"none\"/>\n",
              "    <path d=\"M18.56 5.44l.94 2.06.94-2.06 2.06-.94-2.06-.94-.94-2.06-.94 2.06-2.06.94zm-11 1L8.5 8.5l.94-2.06 2.06-.94-2.06-.94L8.5 2.5l-.94 2.06-2.06.94zm10 10l.94 2.06.94-2.06 2.06-.94-2.06-.94-.94-2.06-.94 2.06-2.06.94z\"/><path d=\"M17.41 7.96l-1.37-1.37c-.4-.4-.92-.59-1.43-.59-.52 0-1.04.2-1.43.59L10.3 9.45l-7.72 7.72c-.78.78-.78 2.05 0 2.83L4 21.41c.39.39.9.59 1.41.59.51 0 1.02-.2 1.41-.59l7.78-7.78 2.81-2.81c.8-.78.8-2.07 0-2.86zM5.41 20L4 18.59l7.72-7.72 1.47 1.35L5.41 20z\"/>\n",
              "  </svg>\n",
              "      </button>\n",
              "      \n",
              "  <style>\n",
              "    .colab-df-container {\n",
              "      display:flex;\n",
              "      flex-wrap:wrap;\n",
              "      gap: 12px;\n",
              "    }\n",
              "\n",
              "    .colab-df-convert {\n",
              "      background-color: #E8F0FE;\n",
              "      border: none;\n",
              "      border-radius: 50%;\n",
              "      cursor: pointer;\n",
              "      display: none;\n",
              "      fill: #1967D2;\n",
              "      height: 32px;\n",
              "      padding: 0 0 0 0;\n",
              "      width: 32px;\n",
              "    }\n",
              "\n",
              "    .colab-df-convert:hover {\n",
              "      background-color: #E2EBFA;\n",
              "      box-shadow: 0px 1px 2px rgba(60, 64, 67, 0.3), 0px 1px 3px 1px rgba(60, 64, 67, 0.15);\n",
              "      fill: #174EA6;\n",
              "    }\n",
              "\n",
              "    [theme=dark] .colab-df-convert {\n",
              "      background-color: #3B4455;\n",
              "      fill: #D2E3FC;\n",
              "    }\n",
              "\n",
              "    [theme=dark] .colab-df-convert:hover {\n",
              "      background-color: #434B5C;\n",
              "      box-shadow: 0px 1px 3px 1px rgba(0, 0, 0, 0.15);\n",
              "      filter: drop-shadow(0px 1px 2px rgba(0, 0, 0, 0.3));\n",
              "      fill: #FFFFFF;\n",
              "    }\n",
              "  </style>\n",
              "\n",
              "      <script>\n",
              "        const buttonEl =\n",
              "          document.querySelector('#df-71d44eb5-dbe8-4996-8e33-d14f1b7f2bea button.colab-df-convert');\n",
              "        buttonEl.style.display =\n",
              "          google.colab.kernel.accessAllowed ? 'block' : 'none';\n",
              "\n",
              "        async function convertToInteractive(key) {\n",
              "          const element = document.querySelector('#df-71d44eb5-dbe8-4996-8e33-d14f1b7f2bea');\n",
              "          const dataTable =\n",
              "            await google.colab.kernel.invokeFunction('convertToInteractive',\n",
              "                                                     [key], {});\n",
              "          if (!dataTable) return;\n",
              "\n",
              "          const docLinkHtml = 'Like what you see? Visit the ' +\n",
              "            '<a target=\"_blank\" href=https://colab.research.google.com/notebooks/data_table.ipynb>data table notebook</a>'\n",
              "            + ' to learn more about interactive tables.';\n",
              "          element.innerHTML = '';\n",
              "          dataTable['output_type'] = 'display_data';\n",
              "          await google.colab.output.renderOutput(dataTable, element);\n",
              "          const docLink = document.createElement('div');\n",
              "          docLink.innerHTML = docLinkHtml;\n",
              "          element.appendChild(docLink);\n",
              "        }\n",
              "      </script>\n",
              "    </div>\n",
              "  </div>\n",
              "  "
            ]
          },
          "metadata": {},
          "execution_count": 106
        }
      ]
    },
    {
      "cell_type": "code",
      "source": [
        "methods = [knn_score, svm_score]\n",
        "methodds = [svm_score, knn_score]\n",
        "sp.posthoc_dunn(methods, p_adjust='bonferroni')"
      ],
      "metadata": {
        "colab": {
          "base_uri": "https://localhost:8080/",
          "height": 112
        },
        "id": "snLSlvenEtZU",
        "outputId": "dcfc90a9-cbbf-413e-9e41-92dd29254b62"
      },
      "execution_count": null,
      "outputs": [
        {
          "output_type": "execute_result",
          "data": {
            "text/plain": [
              "          1         2\n",
              "1  1.000000  0.212122\n",
              "2  0.212122  1.000000"
            ],
            "text/html": [
              "\n",
              "  <div id=\"df-85b7fb5c-d6c6-493f-a25c-ecf6c1489840\">\n",
              "    <div class=\"colab-df-container\">\n",
              "      <div>\n",
              "<style scoped>\n",
              "    .dataframe tbody tr th:only-of-type {\n",
              "        vertical-align: middle;\n",
              "    }\n",
              "\n",
              "    .dataframe tbody tr th {\n",
              "        vertical-align: top;\n",
              "    }\n",
              "\n",
              "    .dataframe thead th {\n",
              "        text-align: right;\n",
              "    }\n",
              "</style>\n",
              "<table border=\"1\" class=\"dataframe\">\n",
              "  <thead>\n",
              "    <tr style=\"text-align: right;\">\n",
              "      <th></th>\n",
              "      <th>1</th>\n",
              "      <th>2</th>\n",
              "    </tr>\n",
              "  </thead>\n",
              "  <tbody>\n",
              "    <tr>\n",
              "      <th>1</th>\n",
              "      <td>1.000000</td>\n",
              "      <td>0.212122</td>\n",
              "    </tr>\n",
              "    <tr>\n",
              "      <th>2</th>\n",
              "      <td>0.212122</td>\n",
              "      <td>1.000000</td>\n",
              "    </tr>\n",
              "  </tbody>\n",
              "</table>\n",
              "</div>\n",
              "      <button class=\"colab-df-convert\" onclick=\"convertToInteractive('df-85b7fb5c-d6c6-493f-a25c-ecf6c1489840')\"\n",
              "              title=\"Convert this dataframe to an interactive table.\"\n",
              "              style=\"display:none;\">\n",
              "        \n",
              "  <svg xmlns=\"http://www.w3.org/2000/svg\" height=\"24px\"viewBox=\"0 0 24 24\"\n",
              "       width=\"24px\">\n",
              "    <path d=\"M0 0h24v24H0V0z\" fill=\"none\"/>\n",
              "    <path d=\"M18.56 5.44l.94 2.06.94-2.06 2.06-.94-2.06-.94-.94-2.06-.94 2.06-2.06.94zm-11 1L8.5 8.5l.94-2.06 2.06-.94-2.06-.94L8.5 2.5l-.94 2.06-2.06.94zm10 10l.94 2.06.94-2.06 2.06-.94-2.06-.94-.94-2.06-.94 2.06-2.06.94z\"/><path d=\"M17.41 7.96l-1.37-1.37c-.4-.4-.92-.59-1.43-.59-.52 0-1.04.2-1.43.59L10.3 9.45l-7.72 7.72c-.78.78-.78 2.05 0 2.83L4 21.41c.39.39.9.59 1.41.59.51 0 1.02-.2 1.41-.59l7.78-7.78 2.81-2.81c.8-.78.8-2.07 0-2.86zM5.41 20L4 18.59l7.72-7.72 1.47 1.35L5.41 20z\"/>\n",
              "  </svg>\n",
              "      </button>\n",
              "      \n",
              "  <style>\n",
              "    .colab-df-container {\n",
              "      display:flex;\n",
              "      flex-wrap:wrap;\n",
              "      gap: 12px;\n",
              "    }\n",
              "\n",
              "    .colab-df-convert {\n",
              "      background-color: #E8F0FE;\n",
              "      border: none;\n",
              "      border-radius: 50%;\n",
              "      cursor: pointer;\n",
              "      display: none;\n",
              "      fill: #1967D2;\n",
              "      height: 32px;\n",
              "      padding: 0 0 0 0;\n",
              "      width: 32px;\n",
              "    }\n",
              "\n",
              "    .colab-df-convert:hover {\n",
              "      background-color: #E2EBFA;\n",
              "      box-shadow: 0px 1px 2px rgba(60, 64, 67, 0.3), 0px 1px 3px 1px rgba(60, 64, 67, 0.15);\n",
              "      fill: #174EA6;\n",
              "    }\n",
              "\n",
              "    [theme=dark] .colab-df-convert {\n",
              "      background-color: #3B4455;\n",
              "      fill: #D2E3FC;\n",
              "    }\n",
              "\n",
              "    [theme=dark] .colab-df-convert:hover {\n",
              "      background-color: #434B5C;\n",
              "      box-shadow: 0px 1px 3px 1px rgba(0, 0, 0, 0.15);\n",
              "      filter: drop-shadow(0px 1px 2px rgba(0, 0, 0, 0.3));\n",
              "      fill: #FFFFFF;\n",
              "    }\n",
              "  </style>\n",
              "\n",
              "      <script>\n",
              "        const buttonEl =\n",
              "          document.querySelector('#df-85b7fb5c-d6c6-493f-a25c-ecf6c1489840 button.colab-df-convert');\n",
              "        buttonEl.style.display =\n",
              "          google.colab.kernel.accessAllowed ? 'block' : 'none';\n",
              "\n",
              "        async function convertToInteractive(key) {\n",
              "          const element = document.querySelector('#df-85b7fb5c-d6c6-493f-a25c-ecf6c1489840');\n",
              "          const dataTable =\n",
              "            await google.colab.kernel.invokeFunction('convertToInteractive',\n",
              "                                                     [key], {});\n",
              "          if (!dataTable) return;\n",
              "\n",
              "          const docLinkHtml = 'Like what you see? Visit the ' +\n",
              "            '<a target=\"_blank\" href=https://colab.research.google.com/notebooks/data_table.ipynb>data table notebook</a>'\n",
              "            + ' to learn more about interactive tables.';\n",
              "          element.innerHTML = '';\n",
              "          dataTable['output_type'] = 'display_data';\n",
              "          await google.colab.output.renderOutput(dataTable, element);\n",
              "          const docLink = document.createElement('div');\n",
              "          docLink.innerHTML = docLinkHtml;\n",
              "          element.appendChild(docLink);\n",
              "        }\n",
              "      </script>\n",
              "    </div>\n",
              "  </div>\n",
              "  "
            ]
          },
          "metadata": {},
          "execution_count": 107
        }
      ]
    },
    {
      "cell_type": "markdown",
      "source": [
        "###**7. Para uno de los clasificadores elegidos utilice una validación de los hiperparámetros con grid search y compare su rendimiento con el método con hiperparámetros fijados a priori.**###"
      ],
      "metadata": {
        "id": "vq3NVxdKE6rg"
      }
    },
    {
      "cell_type": "markdown",
      "source": [
        "En el caso de SVM ya se ha realizado anteriormente usando grid_search"
      ],
      "metadata": {
        "id": "WGj9jZ27FBEt"
      }
    }
  ]
}